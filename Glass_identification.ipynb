{
 "cells": [
  {
   "cell_type": "code",
   "execution_count": 1,
   "id": "b00ed63f",
   "metadata": {},
   "outputs": [],
   "source": [
    "import numpy as np\n",
    "import pandas as pd\n",
    "import matplotlib.pyplot as plt\n",
    "import seaborn as sns\n",
    "\n",
    "import warnings\n",
    "warnings.filterwarnings('ignore')"
   ]
  },
  {
   "cell_type": "code",
   "execution_count": 2,
   "id": "b0c4edb9",
   "metadata": {},
   "outputs": [],
   "source": [
    "df=pd.read_csv('https://raw.githubusercontent.com/dsrscientist/dataset3/main/glass.csv',\n",
    "               names=['Id number','RI: refractive index','Na: Sodium','Mg: Magnesium','Al: Aluminum','Si: Silicon','K: Potassium','Ca: Calcium','Ba: Barium','Fe: Iron','Type of glass'])\n"
   ]
  },
  {
   "cell_type": "code",
   "execution_count": 3,
   "id": "0ba1b2d5",
   "metadata": {},
   "outputs": [
    {
     "data": {
      "text/html": [
       "<div>\n",
       "<style scoped>\n",
       "    .dataframe tbody tr th:only-of-type {\n",
       "        vertical-align: middle;\n",
       "    }\n",
       "\n",
       "    .dataframe tbody tr th {\n",
       "        vertical-align: top;\n",
       "    }\n",
       "\n",
       "    .dataframe thead th {\n",
       "        text-align: right;\n",
       "    }\n",
       "</style>\n",
       "<table border=\"1\" class=\"dataframe\">\n",
       "  <thead>\n",
       "    <tr style=\"text-align: right;\">\n",
       "      <th></th>\n",
       "      <th>Id number</th>\n",
       "      <th>RI: refractive index</th>\n",
       "      <th>Na: Sodium</th>\n",
       "      <th>Mg: Magnesium</th>\n",
       "      <th>Al: Aluminum</th>\n",
       "      <th>Si: Silicon</th>\n",
       "      <th>K: Potassium</th>\n",
       "      <th>Ca: Calcium</th>\n",
       "      <th>Ba: Barium</th>\n",
       "      <th>Fe: Iron</th>\n",
       "      <th>Type of glass</th>\n",
       "    </tr>\n",
       "  </thead>\n",
       "  <tbody>\n",
       "    <tr>\n",
       "      <th>0</th>\n",
       "      <td>1</td>\n",
       "      <td>1.52101</td>\n",
       "      <td>13.64</td>\n",
       "      <td>4.49</td>\n",
       "      <td>1.10</td>\n",
       "      <td>71.78</td>\n",
       "      <td>0.06</td>\n",
       "      <td>8.75</td>\n",
       "      <td>0.0</td>\n",
       "      <td>0.0</td>\n",
       "      <td>1</td>\n",
       "    </tr>\n",
       "    <tr>\n",
       "      <th>1</th>\n",
       "      <td>2</td>\n",
       "      <td>1.51761</td>\n",
       "      <td>13.89</td>\n",
       "      <td>3.60</td>\n",
       "      <td>1.36</td>\n",
       "      <td>72.73</td>\n",
       "      <td>0.48</td>\n",
       "      <td>7.83</td>\n",
       "      <td>0.0</td>\n",
       "      <td>0.0</td>\n",
       "      <td>1</td>\n",
       "    </tr>\n",
       "    <tr>\n",
       "      <th>2</th>\n",
       "      <td>3</td>\n",
       "      <td>1.51618</td>\n",
       "      <td>13.53</td>\n",
       "      <td>3.55</td>\n",
       "      <td>1.54</td>\n",
       "      <td>72.99</td>\n",
       "      <td>0.39</td>\n",
       "      <td>7.78</td>\n",
       "      <td>0.0</td>\n",
       "      <td>0.0</td>\n",
       "      <td>1</td>\n",
       "    </tr>\n",
       "    <tr>\n",
       "      <th>3</th>\n",
       "      <td>4</td>\n",
       "      <td>1.51766</td>\n",
       "      <td>13.21</td>\n",
       "      <td>3.69</td>\n",
       "      <td>1.29</td>\n",
       "      <td>72.61</td>\n",
       "      <td>0.57</td>\n",
       "      <td>8.22</td>\n",
       "      <td>0.0</td>\n",
       "      <td>0.0</td>\n",
       "      <td>1</td>\n",
       "    </tr>\n",
       "    <tr>\n",
       "      <th>4</th>\n",
       "      <td>5</td>\n",
       "      <td>1.51742</td>\n",
       "      <td>13.27</td>\n",
       "      <td>3.62</td>\n",
       "      <td>1.24</td>\n",
       "      <td>73.08</td>\n",
       "      <td>0.55</td>\n",
       "      <td>8.07</td>\n",
       "      <td>0.0</td>\n",
       "      <td>0.0</td>\n",
       "      <td>1</td>\n",
       "    </tr>\n",
       "  </tbody>\n",
       "</table>\n",
       "</div>"
      ],
      "text/plain": [
       "   Id number  RI: refractive index  Na: Sodium  Mg: Magnesium  Al: Aluminum  \\\n",
       "0          1               1.52101       13.64           4.49          1.10   \n",
       "1          2               1.51761       13.89           3.60          1.36   \n",
       "2          3               1.51618       13.53           3.55          1.54   \n",
       "3          4               1.51766       13.21           3.69          1.29   \n",
       "4          5               1.51742       13.27           3.62          1.24   \n",
       "\n",
       "   Si: Silicon  K: Potassium  Ca: Calcium  Ba: Barium  Fe: Iron  Type of glass  \n",
       "0        71.78          0.06         8.75         0.0       0.0              1  \n",
       "1        72.73          0.48         7.83         0.0       0.0              1  \n",
       "2        72.99          0.39         7.78         0.0       0.0              1  \n",
       "3        72.61          0.57         8.22         0.0       0.0              1  \n",
       "4        73.08          0.55         8.07         0.0       0.0              1  "
      ]
     },
     "execution_count": 3,
     "metadata": {},
     "output_type": "execute_result"
    }
   ],
   "source": [
    "df.head()"
   ]
  },
  {
   "cell_type": "code",
   "execution_count": 4,
   "id": "2e15ce08",
   "metadata": {},
   "outputs": [
    {
     "data": {
      "text/plain": [
       "(214, 11)"
      ]
     },
     "execution_count": 4,
     "metadata": {},
     "output_type": "execute_result"
    }
   ],
   "source": [
    "df.shape"
   ]
  },
  {
   "cell_type": "markdown",
   "id": "65f165ce",
   "metadata": {},
   "source": [
    "This dataset contains 214 rows and 11 columns"
   ]
  },
  {
   "cell_type": "markdown",
   "id": "13368960",
   "metadata": {},
   "source": [
    "Let's check for nulls in the dataset"
   ]
  },
  {
   "cell_type": "code",
   "execution_count": 5,
   "id": "5cdbbea6",
   "metadata": {},
   "outputs": [
    {
     "data": {
      "text/plain": [
       "Id number               0\n",
       "RI: refractive index    0\n",
       "Na: Sodium              0\n",
       "Mg: Magnesium           0\n",
       "Al: Aluminum            0\n",
       "Si: Silicon             0\n",
       "K: Potassium            0\n",
       "Ca: Calcium             0\n",
       "Ba: Barium              0\n",
       "Fe: Iron                0\n",
       "Type of glass           0\n",
       "dtype: int64"
      ]
     },
     "execution_count": 5,
     "metadata": {},
     "output_type": "execute_result"
    }
   ],
   "source": [
    "df.isnull().sum()"
   ]
  },
  {
   "cell_type": "markdown",
   "id": "ebd60377",
   "metadata": {},
   "source": [
    "From, the above we can confirm there are no nulls in the dataset"
   ]
  },
  {
   "cell_type": "markdown",
   "id": "4c7c39a7",
   "metadata": {},
   "source": [
    "Let's check for duplicates in the dataset"
   ]
  },
  {
   "cell_type": "code",
   "execution_count": 6,
   "id": "ad8ae57f",
   "metadata": {},
   "outputs": [
    {
     "data": {
      "text/plain": [
       "0"
      ]
     },
     "execution_count": 6,
     "metadata": {},
     "output_type": "execute_result"
    }
   ],
   "source": [
    "df.duplicated().sum()"
   ]
  },
  {
   "cell_type": "markdown",
   "id": "b4ba9cf9",
   "metadata": {},
   "source": [
    "This dataset doesn't contain duplicate records"
   ]
  },
  {
   "cell_type": "markdown",
   "id": "ea0affcc",
   "metadata": {},
   "source": [
    "Let's check for statistical information of the dataset"
   ]
  },
  {
   "cell_type": "code",
   "execution_count": 7,
   "id": "7e2f87ae",
   "metadata": {},
   "outputs": [
    {
     "name": "stdout",
     "output_type": "stream",
     "text": [
      "<class 'pandas.core.frame.DataFrame'>\n",
      "RangeIndex: 214 entries, 0 to 213\n",
      "Data columns (total 11 columns):\n",
      " #   Column                Non-Null Count  Dtype  \n",
      "---  ------                --------------  -----  \n",
      " 0   Id number             214 non-null    int64  \n",
      " 1   RI: refractive index  214 non-null    float64\n",
      " 2   Na: Sodium            214 non-null    float64\n",
      " 3   Mg: Magnesium         214 non-null    float64\n",
      " 4   Al: Aluminum          214 non-null    float64\n",
      " 5   Si: Silicon           214 non-null    float64\n",
      " 6   K: Potassium          214 non-null    float64\n",
      " 7   Ca: Calcium           214 non-null    float64\n",
      " 8   Ba: Barium            214 non-null    float64\n",
      " 9   Fe: Iron              214 non-null    float64\n",
      " 10  Type of glass         214 non-null    int64  \n",
      "dtypes: float64(9), int64(2)\n",
      "memory usage: 18.5 KB\n"
     ]
    }
   ],
   "source": [
    "df.info()"
   ]
  },
  {
   "cell_type": "markdown",
   "id": "45114cd3",
   "metadata": {},
   "source": [
    "Let's check the statistical information of the data."
   ]
  },
  {
   "cell_type": "code",
   "execution_count": 8,
   "id": "747227af",
   "metadata": {},
   "outputs": [
    {
     "data": {
      "text/html": [
       "<div>\n",
       "<style scoped>\n",
       "    .dataframe tbody tr th:only-of-type {\n",
       "        vertical-align: middle;\n",
       "    }\n",
       "\n",
       "    .dataframe tbody tr th {\n",
       "        vertical-align: top;\n",
       "    }\n",
       "\n",
       "    .dataframe thead th {\n",
       "        text-align: right;\n",
       "    }\n",
       "</style>\n",
       "<table border=\"1\" class=\"dataframe\">\n",
       "  <thead>\n",
       "    <tr style=\"text-align: right;\">\n",
       "      <th></th>\n",
       "      <th>Id number</th>\n",
       "      <th>RI: refractive index</th>\n",
       "      <th>Na: Sodium</th>\n",
       "      <th>Mg: Magnesium</th>\n",
       "      <th>Al: Aluminum</th>\n",
       "      <th>Si: Silicon</th>\n",
       "      <th>K: Potassium</th>\n",
       "      <th>Ca: Calcium</th>\n",
       "      <th>Ba: Barium</th>\n",
       "      <th>Fe: Iron</th>\n",
       "      <th>Type of glass</th>\n",
       "    </tr>\n",
       "  </thead>\n",
       "  <tbody>\n",
       "    <tr>\n",
       "      <th>count</th>\n",
       "      <td>214.000000</td>\n",
       "      <td>214.000000</td>\n",
       "      <td>214.000000</td>\n",
       "      <td>214.000000</td>\n",
       "      <td>214.000000</td>\n",
       "      <td>214.000000</td>\n",
       "      <td>214.000000</td>\n",
       "      <td>214.000000</td>\n",
       "      <td>214.000000</td>\n",
       "      <td>214.000000</td>\n",
       "      <td>214.000000</td>\n",
       "    </tr>\n",
       "    <tr>\n",
       "      <th>mean</th>\n",
       "      <td>107.500000</td>\n",
       "      <td>1.518365</td>\n",
       "      <td>13.407850</td>\n",
       "      <td>2.684533</td>\n",
       "      <td>1.444907</td>\n",
       "      <td>72.650935</td>\n",
       "      <td>0.497056</td>\n",
       "      <td>8.956963</td>\n",
       "      <td>0.175047</td>\n",
       "      <td>0.057009</td>\n",
       "      <td>2.780374</td>\n",
       "    </tr>\n",
       "    <tr>\n",
       "      <th>std</th>\n",
       "      <td>61.920648</td>\n",
       "      <td>0.003037</td>\n",
       "      <td>0.816604</td>\n",
       "      <td>1.442408</td>\n",
       "      <td>0.499270</td>\n",
       "      <td>0.774546</td>\n",
       "      <td>0.652192</td>\n",
       "      <td>1.423153</td>\n",
       "      <td>0.497219</td>\n",
       "      <td>0.097439</td>\n",
       "      <td>2.103739</td>\n",
       "    </tr>\n",
       "    <tr>\n",
       "      <th>min</th>\n",
       "      <td>1.000000</td>\n",
       "      <td>1.511150</td>\n",
       "      <td>10.730000</td>\n",
       "      <td>0.000000</td>\n",
       "      <td>0.290000</td>\n",
       "      <td>69.810000</td>\n",
       "      <td>0.000000</td>\n",
       "      <td>5.430000</td>\n",
       "      <td>0.000000</td>\n",
       "      <td>0.000000</td>\n",
       "      <td>1.000000</td>\n",
       "    </tr>\n",
       "    <tr>\n",
       "      <th>25%</th>\n",
       "      <td>54.250000</td>\n",
       "      <td>1.516522</td>\n",
       "      <td>12.907500</td>\n",
       "      <td>2.115000</td>\n",
       "      <td>1.190000</td>\n",
       "      <td>72.280000</td>\n",
       "      <td>0.122500</td>\n",
       "      <td>8.240000</td>\n",
       "      <td>0.000000</td>\n",
       "      <td>0.000000</td>\n",
       "      <td>1.000000</td>\n",
       "    </tr>\n",
       "    <tr>\n",
       "      <th>50%</th>\n",
       "      <td>107.500000</td>\n",
       "      <td>1.517680</td>\n",
       "      <td>13.300000</td>\n",
       "      <td>3.480000</td>\n",
       "      <td>1.360000</td>\n",
       "      <td>72.790000</td>\n",
       "      <td>0.555000</td>\n",
       "      <td>8.600000</td>\n",
       "      <td>0.000000</td>\n",
       "      <td>0.000000</td>\n",
       "      <td>2.000000</td>\n",
       "    </tr>\n",
       "    <tr>\n",
       "      <th>75%</th>\n",
       "      <td>160.750000</td>\n",
       "      <td>1.519157</td>\n",
       "      <td>13.825000</td>\n",
       "      <td>3.600000</td>\n",
       "      <td>1.630000</td>\n",
       "      <td>73.087500</td>\n",
       "      <td>0.610000</td>\n",
       "      <td>9.172500</td>\n",
       "      <td>0.000000</td>\n",
       "      <td>0.100000</td>\n",
       "      <td>3.000000</td>\n",
       "    </tr>\n",
       "    <tr>\n",
       "      <th>max</th>\n",
       "      <td>214.000000</td>\n",
       "      <td>1.533930</td>\n",
       "      <td>17.380000</td>\n",
       "      <td>4.490000</td>\n",
       "      <td>3.500000</td>\n",
       "      <td>75.410000</td>\n",
       "      <td>6.210000</td>\n",
       "      <td>16.190000</td>\n",
       "      <td>3.150000</td>\n",
       "      <td>0.510000</td>\n",
       "      <td>7.000000</td>\n",
       "    </tr>\n",
       "  </tbody>\n",
       "</table>\n",
       "</div>"
      ],
      "text/plain": [
       "        Id number  RI: refractive index  Na: Sodium  Mg: Magnesium  \\\n",
       "count  214.000000            214.000000  214.000000     214.000000   \n",
       "mean   107.500000              1.518365   13.407850       2.684533   \n",
       "std     61.920648              0.003037    0.816604       1.442408   \n",
       "min      1.000000              1.511150   10.730000       0.000000   \n",
       "25%     54.250000              1.516522   12.907500       2.115000   \n",
       "50%    107.500000              1.517680   13.300000       3.480000   \n",
       "75%    160.750000              1.519157   13.825000       3.600000   \n",
       "max    214.000000              1.533930   17.380000       4.490000   \n",
       "\n",
       "       Al: Aluminum  Si: Silicon  K: Potassium  Ca: Calcium  Ba: Barium  \\\n",
       "count    214.000000   214.000000    214.000000   214.000000  214.000000   \n",
       "mean       1.444907    72.650935      0.497056     8.956963    0.175047   \n",
       "std        0.499270     0.774546      0.652192     1.423153    0.497219   \n",
       "min        0.290000    69.810000      0.000000     5.430000    0.000000   \n",
       "25%        1.190000    72.280000      0.122500     8.240000    0.000000   \n",
       "50%        1.360000    72.790000      0.555000     8.600000    0.000000   \n",
       "75%        1.630000    73.087500      0.610000     9.172500    0.000000   \n",
       "max        3.500000    75.410000      6.210000    16.190000    3.150000   \n",
       "\n",
       "         Fe: Iron  Type of glass  \n",
       "count  214.000000     214.000000  \n",
       "mean     0.057009       2.780374  \n",
       "std      0.097439       2.103739  \n",
       "min      0.000000       1.000000  \n",
       "25%      0.000000       1.000000  \n",
       "50%      0.000000       2.000000  \n",
       "75%      0.100000       3.000000  \n",
       "max      0.510000       7.000000  "
      ]
     },
     "execution_count": 8,
     "metadata": {},
     "output_type": "execute_result"
    }
   ],
   "source": [
    "df.describe()"
   ]
  },
  {
   "cell_type": "markdown",
   "id": "5e4293fc",
   "metadata": {},
   "source": [
    "As, per my observation there may not be skeweness present in the dataset. Outliers are present in the dataset."
   ]
  },
  {
   "cell_type": "markdown",
   "id": "e7a67903",
   "metadata": {},
   "source": [
    "Let's categorize feature Type of Glass by assigning Window glass for class between 1 to 4 and Non-window glass for 5 to 7"
   ]
  },
  {
   "cell_type": "code",
   "execution_count": 9,
   "id": "7d86f07e",
   "metadata": {},
   "outputs": [
    {
     "data": {
      "text/plain": [
       "2    76\n",
       "1    70\n",
       "7    29\n",
       "3    17\n",
       "5    13\n",
       "6     9\n",
       "Name: Type of glass, dtype: int64"
      ]
     },
     "execution_count": 9,
     "metadata": {},
     "output_type": "execute_result"
    }
   ],
   "source": [
    "df['Type of glass'].value_counts()"
   ]
  },
  {
   "cell_type": "code",
   "execution_count": 10,
   "id": "89d6365a",
   "metadata": {},
   "outputs": [
    {
     "data": {
      "text/html": [
       "<div>\n",
       "<style scoped>\n",
       "    .dataframe tbody tr th:only-of-type {\n",
       "        vertical-align: middle;\n",
       "    }\n",
       "\n",
       "    .dataframe tbody tr th {\n",
       "        vertical-align: top;\n",
       "    }\n",
       "\n",
       "    .dataframe thead th {\n",
       "        text-align: right;\n",
       "    }\n",
       "</style>\n",
       "<table border=\"1\" class=\"dataframe\">\n",
       "  <thead>\n",
       "    <tr style=\"text-align: right;\">\n",
       "      <th></th>\n",
       "      <th>Id number</th>\n",
       "      <th>RI: refractive index</th>\n",
       "      <th>Na: Sodium</th>\n",
       "      <th>Mg: Magnesium</th>\n",
       "      <th>Al: Aluminum</th>\n",
       "      <th>Si: Silicon</th>\n",
       "      <th>K: Potassium</th>\n",
       "      <th>Ca: Calcium</th>\n",
       "      <th>Ba: Barium</th>\n",
       "      <th>Fe: Iron</th>\n",
       "      <th>Type of glass</th>\n",
       "    </tr>\n",
       "  </thead>\n",
       "  <tbody>\n",
       "    <tr>\n",
       "      <th>0</th>\n",
       "      <td>1</td>\n",
       "      <td>1.52101</td>\n",
       "      <td>13.64</td>\n",
       "      <td>4.49</td>\n",
       "      <td>1.10</td>\n",
       "      <td>71.78</td>\n",
       "      <td>0.06</td>\n",
       "      <td>8.75</td>\n",
       "      <td>0.0</td>\n",
       "      <td>0.0</td>\n",
       "      <td>1</td>\n",
       "    </tr>\n",
       "    <tr>\n",
       "      <th>1</th>\n",
       "      <td>2</td>\n",
       "      <td>1.51761</td>\n",
       "      <td>13.89</td>\n",
       "      <td>3.60</td>\n",
       "      <td>1.36</td>\n",
       "      <td>72.73</td>\n",
       "      <td>0.48</td>\n",
       "      <td>7.83</td>\n",
       "      <td>0.0</td>\n",
       "      <td>0.0</td>\n",
       "      <td>1</td>\n",
       "    </tr>\n",
       "    <tr>\n",
       "      <th>2</th>\n",
       "      <td>3</td>\n",
       "      <td>1.51618</td>\n",
       "      <td>13.53</td>\n",
       "      <td>3.55</td>\n",
       "      <td>1.54</td>\n",
       "      <td>72.99</td>\n",
       "      <td>0.39</td>\n",
       "      <td>7.78</td>\n",
       "      <td>0.0</td>\n",
       "      <td>0.0</td>\n",
       "      <td>1</td>\n",
       "    </tr>\n",
       "    <tr>\n",
       "      <th>3</th>\n",
       "      <td>4</td>\n",
       "      <td>1.51766</td>\n",
       "      <td>13.21</td>\n",
       "      <td>3.69</td>\n",
       "      <td>1.29</td>\n",
       "      <td>72.61</td>\n",
       "      <td>0.57</td>\n",
       "      <td>8.22</td>\n",
       "      <td>0.0</td>\n",
       "      <td>0.0</td>\n",
       "      <td>1</td>\n",
       "    </tr>\n",
       "    <tr>\n",
       "      <th>4</th>\n",
       "      <td>5</td>\n",
       "      <td>1.51742</td>\n",
       "      <td>13.27</td>\n",
       "      <td>3.62</td>\n",
       "      <td>1.24</td>\n",
       "      <td>73.08</td>\n",
       "      <td>0.55</td>\n",
       "      <td>8.07</td>\n",
       "      <td>0.0</td>\n",
       "      <td>0.0</td>\n",
       "      <td>1</td>\n",
       "    </tr>\n",
       "  </tbody>\n",
       "</table>\n",
       "</div>"
      ],
      "text/plain": [
       "   Id number  RI: refractive index  Na: Sodium  Mg: Magnesium  Al: Aluminum  \\\n",
       "0          1               1.52101       13.64           4.49          1.10   \n",
       "1          2               1.51761       13.89           3.60          1.36   \n",
       "2          3               1.51618       13.53           3.55          1.54   \n",
       "3          4               1.51766       13.21           3.69          1.29   \n",
       "4          5               1.51742       13.27           3.62          1.24   \n",
       "\n",
       "   Si: Silicon  K: Potassium  Ca: Calcium  Ba: Barium  Fe: Iron  Type of glass  \n",
       "0        71.78          0.06         8.75         0.0       0.0              1  \n",
       "1        72.73          0.48         7.83         0.0       0.0              1  \n",
       "2        72.99          0.39         7.78         0.0       0.0              1  \n",
       "3        72.61          0.57         8.22         0.0       0.0              1  \n",
       "4        73.08          0.55         8.07         0.0       0.0              1  "
      ]
     },
     "execution_count": 10,
     "metadata": {},
     "output_type": "execute_result"
    }
   ],
   "source": [
    "df.head()"
   ]
  },
  {
   "cell_type": "code",
   "execution_count": 11,
   "id": "35f5c815",
   "metadata": {},
   "outputs": [],
   "source": [
    "n=0\n",
    "for value in df['Type of glass']:\n",
    "    if value in range(1,5):\n",
    "        df['Type of glass'].iloc[n]='Window glass'\n",
    "        n+=1\n",
    "        continue\n",
    "    if value in range(5,8) : \n",
    "        df['Type of glass'].iloc[n]='Non Window glass'\n",
    "        n+=1\n",
    "        continue"
   ]
  },
  {
   "cell_type": "code",
   "execution_count": 12,
   "id": "61b21997",
   "metadata": {},
   "outputs": [
    {
     "data": {
      "text/plain": [
       "Window glass        163\n",
       "Non Window glass     51\n",
       "Name: Type of glass, dtype: int64"
      ]
     },
     "execution_count": 12,
     "metadata": {},
     "output_type": "execute_result"
    }
   ],
   "source": [
    "df['Type of glass'].value_counts()"
   ]
  },
  {
   "cell_type": "markdown",
   "id": "cef1feba",
   "metadata": {},
   "source": [
    "Let's understand the data with the help of plotting techniques"
   ]
  },
  {
   "cell_type": "code",
   "execution_count": 13,
   "id": "c791e0f0",
   "metadata": {},
   "outputs": [
    {
     "data": {
      "image/png": "[encoded data removed]",
      "text/plain": [
       "<Figure size 432x288 with 1 Axes>"
      ]
     },
     "metadata": {
      "needs_background": "light"
     },
     "output_type": "display_data"
    }
   ],
   "source": [
    "sns.stripplot(x='Type of glass',y='RI: refractive index',data=df)\n",
    "plt.ylabel('RI: refractive index')\n",
    "plt.xlabel('Type of Glass')\n",
    "plt.show()"
   ]
  },
  {
   "cell_type": "markdown",
   "id": "ba3f0f9e",
   "metadata": {},
   "source": [
    "From the above we can observe Refractive index is high for Window glass and low for Non window glass"
   ]
  },
  {
   "cell_type": "code",
   "execution_count": 14,
   "id": "9a5c7958",
   "metadata": {},
   "outputs": [
    {
     "data": {
      "image/png": "[encoded data removed]",
      "text/plain": [
       "<Figure size 432x288 with 1 Axes>"
      ]
     },
     "metadata": {
      "needs_background": "light"
     },
     "output_type": "display_data"
    }
   ],
   "source": [
    "sns.stripplot(x='Type of glass',y='Na: Sodium',data=df)\n",
    "plt.ylabel('Na: Sodium')\n",
    "plt.xlabel('Type of Glass')\n",
    "plt.show()"
   ]
  },
  {
   "cell_type": "markdown",
   "id": "b5ff4ee2",
   "metadata": {},
   "source": [
    "From the above we can observe Sodium is low for Window glass and high for Non window glass"
   ]
  },
  {
   "cell_type": "code",
   "execution_count": 15,
   "id": "f1bac4da",
   "metadata": {},
   "outputs": [
    {
     "data": {
      "image/png": "[encoded data removed]",
      "text/plain": [
       "<Figure size 432x288 with 1 Axes>"
      ]
     },
     "metadata": {
      "needs_background": "light"
     },
     "output_type": "display_data"
    }
   ],
   "source": [
    "sns.stripplot(x='Type of glass',y='Mg: Magnesium',data=df)\n",
    "plt.ylabel('Mg: Magnesium')\n",
    "plt.xlabel('Type of Glass')\n",
    "plt.show()"
   ]
  },
  {
   "cell_type": "markdown",
   "id": "95441465",
   "metadata": {},
   "source": [
    "From the above we can observe Mg: Magnesium is high for Window glass and low for Non window glass and there are records with 0 Magnesium for both Window glass and Non Window glass."
   ]
  },
  {
   "cell_type": "code",
   "execution_count": 16,
   "id": "cc01b38a",
   "metadata": {},
   "outputs": [
    {
     "data": {
      "image/png": "[encoded data removed]",
      "text/plain": [
       "<Figure size 432x288 with 1 Axes>"
      ]
     },
     "metadata": {
      "needs_background": "light"
     },
     "output_type": "display_data"
    }
   ],
   "source": [
    "sns.stripplot(x='Type of glass',y='Al: Aluminum',data=df)\n",
    "plt.ylabel('Al: Aluminum')\n",
    "plt.xlabel('Type of Glass')\n",
    "plt.show()"
   ]
  },
  {
   "cell_type": "markdown",
   "id": "b941e646",
   "metadata": {},
   "source": [
    "Aluminium is low for Window glass and high for Non window glass"
   ]
  },
  {
   "cell_type": "code",
   "execution_count": 17,
   "id": "55383948",
   "metadata": {},
   "outputs": [
    {
     "data": {
      "image/png": "[encoded data removed]",
      "text/plain": [
       "<Figure size 432x288 with 1 Axes>"
      ]
     },
     "metadata": {
      "needs_background": "light"
     },
     "output_type": "display_data"
    }
   ],
   "source": [
    "sns.stripplot(x='Type of glass',y='Si: Silicon',data=df)\n",
    "plt.ylabel('Si: Silicon')\n",
    "plt.xlabel('Type of Glass')\n",
    "plt.show()"
   ]
  },
  {
   "cell_type": "markdown",
   "id": "c73c464e",
   "metadata": {},
   "source": [
    "Silicon is low for Window glass and high for Non window glass"
   ]
  },
  {
   "cell_type": "code",
   "execution_count": 18,
   "id": "ce34c71e",
   "metadata": {},
   "outputs": [
    {
     "data": {
      "image/png": "[encoded data removed]",
      "text/plain": [
       "<Figure size 432x288 with 1 Axes>"
      ]
     },
     "metadata": {
      "needs_background": "light"
     },
     "output_type": "display_data"
    }
   ],
   "source": [
    "sns.stripplot(x='Type of glass',y='K: Potassium',data=df)\n",
    "plt.ylabel('K: Potassium')\n",
    "plt.xlabel('Type of Glass')\n",
    "plt.show()"
   ]
  },
  {
   "cell_type": "markdown",
   "id": "f77f45dc",
   "metadata": {},
   "source": [
    "Potassium levels are low for for Window glass and Non window glass"
   ]
  },
  {
   "cell_type": "code",
   "execution_count": 19,
   "id": "b2b80527",
   "metadata": {},
   "outputs": [
    {
     "data": {
      "image/png": "[encoded data removed]",
      "text/plain": [
       "<Figure size 432x288 with 1 Axes>"
      ]
     },
     "metadata": {
      "needs_background": "light"
     },
     "output_type": "display_data"
    }
   ],
   "source": [
    "sns.stripplot(x='Type of glass',y='Ca: Calcium',data=df)\n",
    "plt.ylabel('Ca: Calcium')\n",
    "plt.xlabel('Type of Glass')\n",
    "plt.show()"
   ]
  },
  {
   "cell_type": "markdown",
   "id": "dadc7c9e",
   "metadata": {},
   "source": [
    "From the above we can observe, for Window glass, calcium is in the range of 8 to 16 and for Non window glass Calcium is the range of 5 to 13"
   ]
  },
  {
   "cell_type": "code",
   "execution_count": 20,
   "id": "d75c141b",
   "metadata": {},
   "outputs": [
    {
     "data": {
      "image/png": "[encoded data removed]",
      "text/plain": [
       "<Figure size 432x288 with 1 Axes>"
      ]
     },
     "metadata": {
      "needs_background": "light"
     },
     "output_type": "display_data"
    }
   ],
   "source": [
    "sns.stripplot(x='Type of glass',y='Ba: Barium',data=df)\n",
    "plt.ylabel('Ba: Barium')\n",
    "plt.xlabel('Type of Glass')\n",
    "plt.show()"
   ]
  },
  {
   "cell_type": "markdown",
   "id": "fbd5c0d3",
   "metadata": {},
   "source": [
    "From the above we an observe, Barium is in the range of 0 to 1 and for Non window glass, Barium is in the range of 0 to 3"
   ]
  },
  {
   "cell_type": "code",
   "execution_count": 21,
   "id": "09c68eed",
   "metadata": {},
   "outputs": [
    {
     "data": {
      "image/png": "[encoded data removed]",
      "text/plain": [
       "<Figure size 432x288 with 1 Axes>"
      ]
     },
     "metadata": {
      "needs_background": "light"
     },
     "output_type": "display_data"
    }
   ],
   "source": [
    "sns.stripplot(x='Type of glass',y='Fe: Iron',data=df)\n",
    "plt.ylabel('Fe: Iron')\n",
    "plt.xlabel('Type of Glass')\n",
    "plt.show()"
   ]
  },
  {
   "cell_type": "markdown",
   "id": "93d81cc6",
   "metadata": {},
   "source": [
    "From the above we can observe, Iron levels are in the range of 0 to 4 for Window glass and for Non Window glass there are more number of records in between 0 to 1."
   ]
  },
  {
   "cell_type": "markdown",
   "id": "88544069",
   "metadata": {},
   "source": [
    "Let's check how the data is distributed with the help of dist plot"
   ]
  },
  {
   "cell_type": "code",
   "execution_count": 22,
   "id": "c5b3b435",
   "metadata": {},
   "outputs": [
    {
     "data": {
      "image/png": "[encoded data removed]",
      "text/plain": [
       "<Figure size 1080x1080 with 10 Axes>"
      ]
     },
     "metadata": {
      "needs_background": "light"
     },
     "output_type": "display_data"
    }
   ],
   "source": [
    "n=1\n",
    "plt.figure(figsize=(15,15))\n",
    "for i in df.columns[0:10]:\n",
    "    ax=plt.subplot(4,3,n)\n",
    "    sns.distplot(x=df[i])\n",
    "    plt.xlabel(i)\n",
    "    n+=1\n",
    "    \n",
    "plt.show()    "
   ]
  },
  {
   "cell_type": "markdown",
   "id": "cf35d2fa",
   "metadata": {},
   "source": [
    "From the above graph we can observe skeweness in features Potassium,Barium,Iron. Let's remove the skeweness with the help of power transformation techniques."
   ]
  },
  {
   "cell_type": "code",
   "execution_count": 23,
   "id": "1617083a",
   "metadata": {},
   "outputs": [],
   "source": [
    "df['K: Potassium']=np.cbrt(df['K: Potassium'])\n",
    "df['Ba: Barium']=np.cbrt(df['Ba: Barium'])\n",
    "df['Fe: Iron']=np.cbrt(df['Fe: Iron'])\n",
    "df['RI: refractive index']=np.cbrt(df['RI: refractive index'])\n",
    "df['Mg: Magnesium']=np.cbrt(df['Mg: Magnesium'])\n",
    "df['Al: Aluminum']=np.cbrt(df['Al: Aluminum'])\n",
    "df['Si: Silicon']=np.cbrt(df['Si: Silicon'])\n"
   ]
  },
  {
   "cell_type": "code",
   "execution_count": 24,
   "id": "4e611010",
   "metadata": {},
   "outputs": [
    {
     "data": {
      "text/plain": [
       "Id number               0.000000\n",
       "RI: refractive index    1.617049\n",
       "Na: Sodium              0.454181\n",
       "Mg: Magnesium          -1.440196\n",
       "Al: Aluminum           -0.204132\n",
       "Si: Silicon            -0.776908\n",
       "K: Potassium           -0.591896\n",
       "Ca: Calcium             2.047054\n",
       "Ba: Barium              2.073007\n",
       "Fe: Iron                0.894683\n",
       "dtype: float64"
      ]
     },
     "execution_count": 24,
     "metadata": {},
     "output_type": "execute_result"
    }
   ],
   "source": [
    "df.skew()"
   ]
  },
  {
   "cell_type": "markdown",
   "id": "c9fdb150",
   "metadata": {},
   "source": [
    "Since, skeweness values are high let's again perform power transformation techniques and try to reduce the value."
   ]
  },
  {
   "cell_type": "code",
   "execution_count": 25,
   "id": "abcfded8",
   "metadata": {},
   "outputs": [
    {
     "data": {
      "text/plain": [
       "Id number               0.000000\n",
       "RI: refractive index    1.614260\n",
       "Na: Sodium              0.454181\n",
       "Mg: Magnesium          -1.523837\n",
       "Al: Aluminum           -0.204132\n",
       "Si: Silicon             0.130526\n",
       "K: Potassium           -0.591896\n",
       "Ca: Calcium             1.407358\n",
       "Ba: Barium              1.756306\n",
       "Fe: Iron                0.762576\n",
       "dtype: float64"
      ]
     },
     "execution_count": 25,
     "metadata": {},
     "output_type": "execute_result"
    }
   ],
   "source": [
    "from scipy.stats import boxcox\n",
    "df['Mg: Magnesium']=np.cbrt(df['Mg: Magnesium'])\n",
    "df['RI: refractive index']=np.cbrt(df['RI: refractive index'])\n",
    "df['Si: Silicon']=boxcox(df['Si: Silicon'])[0]\n",
    "df['Ca: Calcium']=np.cbrt(df['Ca: Calcium'])\n",
    "df['Ba: Barium']=np.cbrt(df['Ba: Barium'])\n",
    "df['Fe: Iron']=np.cbrt(df['Fe: Iron'])\n",
    "df.skew()"
   ]
  },
  {
   "cell_type": "markdown",
   "id": "ddb325e7",
   "metadata": {},
   "source": [
    "Even after applying powertransformation techniques, skeweness value for few features are not changed. Let's continue further"
   ]
  },
  {
   "cell_type": "markdown",
   "id": "f63da0e5",
   "metadata": {},
   "source": [
    "Now, the skeweness is removed and the data is almost normally distributed."
   ]
  },
  {
   "cell_type": "markdown",
   "id": "54ef9cee",
   "metadata": {},
   "source": [
    "Let's check for outliers present in the dataset"
   ]
  },
  {
   "cell_type": "code",
   "execution_count": 26,
   "id": "6ac894a5",
   "metadata": {},
   "outputs": [
    {
     "data": {
      "image/png": "[encoded data removed]",
      "text/plain": [
       "<Figure size 1080x1080 with 9 Axes>"
      ]
     },
     "metadata": {
      "needs_background": "light"
     },
     "output_type": "display_data"
    }
   ],
   "source": [
    "n=1\n",
    "plt.figure(figsize=(15,15))\n",
    "for i in df.columns[1:10]:\n",
    "    ax=plt.subplot(4,3,n)\n",
    "    sns.boxplot(y=df[i])\n",
    "    plt.xlabel(i)\n",
    "    n+=1\n",
    "    \n",
    "plt.show()    "
   ]
  },
  {
   "cell_type": "markdown",
   "id": "2493a93a",
   "metadata": {},
   "source": [
    "Ouliers are present in Refractive Index, Sodium, Magnesium,Aluminium,Silicon,potassium,calcium,Barium features. Let's remove outliers."
   ]
  },
  {
   "cell_type": "code",
   "execution_count": 27,
   "id": "9f1c402b",
   "metadata": {},
   "outputs": [
    {
     "data": {
      "text/plain": [
       "Index(['Id number', 'RI: refractive index', 'Na: Sodium', 'Mg: Magnesium',\n",
       "       'Al: Aluminum', 'Si: Silicon', 'K: Potassium', 'Ca: Calcium',\n",
       "       'Ba: Barium', 'Fe: Iron', 'Type of glass'],\n",
       "      dtype='object')"
      ]
     },
     "execution_count": 27,
     "metadata": {},
     "output_type": "execute_result"
    }
   ],
   "source": [
    "df.columns"
   ]
  },
  {
   "cell_type": "code",
   "execution_count": 28,
   "id": "f7dd1e3d",
   "metadata": {},
   "outputs": [],
   "source": [
    "from scipy.stats import zscore\n",
    "value=zscore(df[['RI: refractive index','Na: Sodium','Mg: Magnesium','Al: Aluminum', 'Si: Silicon', 'K: Potassium', 'Ca: Calcium',\n",
    "       'Ba: Barium']])\n",
    "zvalue=np.abs(value)"
   ]
  },
  {
   "cell_type": "code",
   "execution_count": 29,
   "id": "08748189",
   "metadata": {},
   "outputs": [
    {
     "data": {
      "text/plain": [
       "(array([ 21, 106, 106, 106, 107, 107, 110, 111, 112, 112, 163, 163, 171,\n",
       "        172, 184, 184, 184, 185, 201], dtype=int64),\n",
       " array([3, 0, 1, 4, 0, 6, 6, 6, 0, 6, 3, 4, 5, 5, 1, 3, 4, 6, 4],\n",
       "       dtype=int64))"
      ]
     },
     "execution_count": 29,
     "metadata": {},
     "output_type": "execute_result"
    }
   ],
   "source": [
    "np.where(zvalue>3)"
   ]
  },
  {
   "cell_type": "code",
   "execution_count": 30,
   "id": "a04a45b8",
   "metadata": {},
   "outputs": [],
   "source": [
    "df1=df[(zvalue<3).all(axis=1)]"
   ]
  },
  {
   "cell_type": "code",
   "execution_count": 31,
   "id": "a77bcb9e",
   "metadata": {},
   "outputs": [
    {
     "data": {
      "text/plain": [
       "(202, 11)"
      ]
     },
     "execution_count": 31,
     "metadata": {},
     "output_type": "execute_result"
    }
   ],
   "source": [
    "df1.shape"
   ]
  },
  {
   "cell_type": "markdown",
   "id": "f0d73a41",
   "metadata": {},
   "source": [
    "Let's encode the Type of Glass feature"
   ]
  },
  {
   "cell_type": "code",
   "execution_count": 32,
   "id": "e55dfce8",
   "metadata": {},
   "outputs": [
    {
     "data": {
      "text/plain": [
       "Window glass        157\n",
       "Non Window glass     45\n",
       "Name: Type of glass, dtype: int64"
      ]
     },
     "execution_count": 32,
     "metadata": {},
     "output_type": "execute_result"
    }
   ],
   "source": [
    "df1['Type of glass'].value_counts()"
   ]
  },
  {
   "cell_type": "code",
   "execution_count": 33,
   "id": "5859597c",
   "metadata": {},
   "outputs": [],
   "source": [
    "df1['Type of glass']=df1['Type of glass'].replace('Window glass',0)"
   ]
  },
  {
   "cell_type": "code",
   "execution_count": 34,
   "id": "7ae01176",
   "metadata": {},
   "outputs": [],
   "source": [
    "df1['Type of glass']=df1['Type of glass'].replace('Non Window glass',1)"
   ]
  },
  {
   "cell_type": "code",
   "execution_count": 35,
   "id": "d927787c",
   "metadata": {},
   "outputs": [
    {
     "data": {
      "text/plain": [
       "0    157\n",
       "1     45\n",
       "Name: Type of glass, dtype: int64"
      ]
     },
     "execution_count": 35,
     "metadata": {},
     "output_type": "execute_result"
    }
   ],
   "source": [
    "df1['Type of glass'].value_counts()"
   ]
  },
  {
   "cell_type": "markdown",
   "id": "61b940e9",
   "metadata": {},
   "source": [
    "As, per my observation Id number filed does not contribute in predicting target variable. Let's drop this feature"
   ]
  },
  {
   "cell_type": "code",
   "execution_count": 36,
   "id": "e22b58bf",
   "metadata": {},
   "outputs": [],
   "source": [
    "df1.drop('Id number',axis=1,inplace=True)"
   ]
  },
  {
   "cell_type": "markdown",
   "id": "ac2eb9fe",
   "metadata": {},
   "source": [
    "Let's check the correlation between the features and with target variable"
   ]
  },
  {
   "cell_type": "code",
   "execution_count": 37,
   "id": "ab0f3164",
   "metadata": {},
   "outputs": [
    {
     "data": {
      "image/png": "[encoded data removed]",
      "text/plain": [
       "<Figure size 1080x1080 with 2 Axes>"
      ]
     },
     "metadata": {
      "needs_background": "light"
     },
     "output_type": "display_data"
    }
   ],
   "source": [
    "plt.figure(figsize=(15,15))\n",
    "sns.heatmap(df1.corr(),annot=True,fmt='.2f')\n",
    "plt.show()"
   ]
  },
  {
   "cell_type": "markdown",
   "id": "caee34ea",
   "metadata": {},
   "source": [
    "All the features are positively and negatively correlated with target variable"
   ]
  },
  {
   "cell_type": "markdown",
   "id": "567009a0",
   "metadata": {},
   "source": [
    "Let's check if there is multi collinearity problem exists."
   ]
  },
  {
   "cell_type": "code",
   "execution_count": 38,
   "id": "f1925400",
   "metadata": {},
   "outputs": [],
   "source": [
    "from statsmodels.stats.outliers_influence import variance_inflation_factor"
   ]
  },
  {
   "cell_type": "code",
   "execution_count": 39,
   "id": "f06e1eb8",
   "metadata": {},
   "outputs": [],
   "source": [
    "x=df1.drop('Type of glass',axis=1)\n",
    "y=df1['Type of glass']"
   ]
  },
  {
   "cell_type": "code",
   "execution_count": 40,
   "id": "51588f29",
   "metadata": {},
   "outputs": [
    {
     "data": {
      "text/html": [
       "<div>\n",
       "<style scoped>\n",
       "    .dataframe tbody tr th:only-of-type {\n",
       "        vertical-align: middle;\n",
       "    }\n",
       "\n",
       "    .dataframe tbody tr th {\n",
       "        vertical-align: top;\n",
       "    }\n",
       "\n",
       "    .dataframe thead th {\n",
       "        text-align: right;\n",
       "    }\n",
       "</style>\n",
       "<table border=\"1\" class=\"dataframe\">\n",
       "  <thead>\n",
       "    <tr style=\"text-align: right;\">\n",
       "      <th></th>\n",
       "      <th>Features</th>\n",
       "      <th>vif value</th>\n",
       "    </tr>\n",
       "  </thead>\n",
       "  <tbody>\n",
       "    <tr>\n",
       "      <th>0</th>\n",
       "      <td>RI: refractive index</td>\n",
       "      <td>0.000003</td>\n",
       "    </tr>\n",
       "    <tr>\n",
       "      <th>1</th>\n",
       "      <td>Na: Sodium</td>\n",
       "      <td>0.169261</td>\n",
       "    </tr>\n",
       "    <tr>\n",
       "      <th>2</th>\n",
       "      <td>Mg: Magnesium</td>\n",
       "      <td>0.832292</td>\n",
       "    </tr>\n",
       "    <tr>\n",
       "      <th>3</th>\n",
       "      <td>Al: Aluminum</td>\n",
       "      <td>0.691583</td>\n",
       "    </tr>\n",
       "    <tr>\n",
       "      <th>4</th>\n",
       "      <td>Si: Silicon</td>\n",
       "      <td>269.113214</td>\n",
       "    </tr>\n",
       "    <tr>\n",
       "      <th>5</th>\n",
       "      <td>K: Potassium</td>\n",
       "      <td>0.910123</td>\n",
       "    </tr>\n",
       "    <tr>\n",
       "      <th>6</th>\n",
       "      <td>Ca: Calcium</td>\n",
       "      <td>0.102309</td>\n",
       "    </tr>\n",
       "    <tr>\n",
       "      <th>7</th>\n",
       "      <td>Ba: Barium</td>\n",
       "      <td>1.012672</td>\n",
       "    </tr>\n",
       "    <tr>\n",
       "      <th>8</th>\n",
       "      <td>Fe: Iron</td>\n",
       "      <td>0.988630</td>\n",
       "    </tr>\n",
       "  </tbody>\n",
       "</table>\n",
       "</div>"
      ],
      "text/plain": [
       "               Features   vif value\n",
       "0  RI: refractive index    0.000003\n",
       "1            Na: Sodium    0.169261\n",
       "2         Mg: Magnesium    0.832292\n",
       "3          Al: Aluminum    0.691583\n",
       "4           Si: Silicon  269.113214\n",
       "5          K: Potassium    0.910123\n",
       "6           Ca: Calcium    0.102309\n",
       "7            Ba: Barium    1.012672\n",
       "8              Fe: Iron    0.988630"
      ]
     },
     "execution_count": 40,
     "metadata": {},
     "output_type": "execute_result"
    }
   ],
   "source": [
    "Vif=pd.DataFrame()\n",
    "Vif['Features']=x.columns\n",
    "Vif['vif value']=[variance_inflation_factor(x,i) for i in range(x.shape[1])]\n",
    "Vif"
   ]
  },
  {
   "cell_type": "markdown",
   "id": "3f0d7060",
   "metadata": {},
   "source": [
    "Variance Inflation Factor value for Silicon is very high.\n",
    "\n",
    "As per my observation, if Silicon feature is dropped Vif values for other features are highly increasing. Let's continue further without dropping."
   ]
  },
  {
   "cell_type": "code",
   "execution_count": 41,
   "id": "57de610a",
   "metadata": {},
   "outputs": [
    {
     "data": {
      "text/plain": [
       "0    157\n",
       "1     45\n",
       "Name: Type of glass, dtype: int64"
      ]
     },
     "execution_count": 41,
     "metadata": {},
     "output_type": "execute_result"
    }
   ],
   "source": [
    "df1['Type of glass'].value_counts()"
   ]
  },
  {
   "cell_type": "markdown",
   "id": "3eb1c552",
   "metadata": {},
   "source": [
    "From the above we can observe there is class imbalance problem."
   ]
  },
  {
   "cell_type": "code",
   "execution_count": 42,
   "id": "cb273f1f",
   "metadata": {},
   "outputs": [
    {
     "data": {
      "text/plain": [
       "0    157\n",
       "1    157\n",
       "Name: Type of glass, dtype: int64"
      ]
     },
     "execution_count": 42,
     "metadata": {},
     "output_type": "execute_result"
    }
   ],
   "source": [
    "from imblearn.over_sampling import SMOTE\n",
    "SM=SMOTE()\n",
    "x,y=SM.fit_resample(x,y)\n",
    "y.value_counts()"
   ]
  },
  {
   "cell_type": "markdown",
   "id": "d8810697",
   "metadata": {},
   "source": [
    "Let's findout best Random state and train the model with the dataset."
   ]
  },
  {
   "cell_type": "code",
   "execution_count": 43,
   "id": "58914706",
   "metadata": {},
   "outputs": [],
   "source": [
    "from sklearn.ensemble import RandomForestClassifier\n",
    "from sklearn.metrics import accuracy_score\n",
    "from sklearn.preprocessing import StandardScaler\n",
    "from sklearn.model_selection import train_test_split"
   ]
  },
  {
   "cell_type": "code",
   "execution_count": 44,
   "id": "c534e9d9",
   "metadata": {},
   "outputs": [],
   "source": [
    "scaler=StandardScaler()\n",
    "x_scaled=scaler.fit_transform(x)"
   ]
  },
  {
   "cell_type": "code",
   "execution_count": 45,
   "id": "8f5cf058",
   "metadata": {},
   "outputs": [
    {
     "name": "stdout",
     "output_type": "stream",
     "text": [
      "Best Random State -  18  Accuracy score -  1.0\n"
     ]
    }
   ],
   "source": [
    "max_acc=0\n",
    "max_rand_state=0\n",
    "for i in range(1,300):\n",
    "    x_train,x_test,y_train,y_test=train_test_split(x_scaled,y,test_size=0.30,random_state=i)\n",
    "    RFC=RandomForestClassifier()\n",
    "    RFC.fit(x_train,y_train)\n",
    "    y_predict=RFC.predict(x_test)\n",
    "    acc_score=accuracy_score(y_test,y_predict)\n",
    "    if(acc_score>max_acc):\n",
    "        max_acc=acc_score\n",
    "        max_rand_state=i\n",
    "        \n",
    "print(\"Best Random State - \",max_rand_state,\" Accuracy score - \",max_acc)        "
   ]
  },
  {
   "cell_type": "markdown",
   "id": "1e1156d0",
   "metadata": {},
   "source": [
    "Best random state is 8 and Accuracy score is 100%"
   ]
  },
  {
   "cell_type": "code",
   "execution_count": 65,
   "id": "b72cc034",
   "metadata": {},
   "outputs": [],
   "source": [
    "x_train,x_test,y_train,y_test=train_test_split(x_scaled,y,test_size=0.30,random_state=18)"
   ]
  },
  {
   "cell_type": "code",
   "execution_count": null,
   "id": "3ec39375",
   "metadata": {},
   "outputs": [],
   "source": []
  },
  {
   "cell_type": "code",
   "execution_count": null,
   "id": "c05a1ec1",
   "metadata": {},
   "outputs": [],
   "source": []
  },
  {
   "cell_type": "code",
   "execution_count": null,
   "id": "496ffc77",
   "metadata": {},
   "outputs": [],
   "source": []
  },
  {
   "cell_type": "code",
   "execution_count": null,
   "id": "5e36c243",
   "metadata": {},
   "outputs": [],
   "source": []
  },
  {
   "cell_type": "code",
   "execution_count": null,
   "id": "568ea27f",
   "metadata": {},
   "outputs": [],
   "source": []
  },
  {
   "cell_type": "code",
   "execution_count": 47,
   "id": "19d2b7bb",
   "metadata": {},
   "outputs": [],
   "source": [
    "from sklearn.linear_model import LogisticRegression\n",
    "from sklearn.tree import DecisionTreeClassifier\n",
    "from sklearn.neighbors import KNeighborsClassifier\n",
    "from sklearn.ensemble import AdaBoostClassifier,GradientBoostingClassifier,BaggingClassifier,RandomForestClassifier,ExtraTreesClassifier"
   ]
  },
  {
   "cell_type": "code",
   "execution_count": 66,
   "id": "05b48478",
   "metadata": {},
   "outputs": [
    {
     "name": "stdout",
     "output_type": "stream",
     "text": [
      "Accuracy Score  0.9894736842105263\n"
     ]
    }
   ],
   "source": [
    "LR=LogisticRegression()\n",
    "LR.fit(x_train,y_train)\n",
    "y_predict_LR=LR.predict(x_test)\n",
    "acc_score_LR=accuracy_score(y_test,y_predict_LR)\n",
    "print(\"Accuracy Score \",acc_score_LR)"
   ]
  },
  {
   "cell_type": "code",
   "execution_count": 67,
   "id": "1dc28e0e",
   "metadata": {},
   "outputs": [
    {
     "name": "stdout",
     "output_type": "stream",
     "text": [
      "Accuracy Score  0.9789473684210527\n"
     ]
    }
   ],
   "source": [
    "DTC=DecisionTreeClassifier()\n",
    "DTC.fit(x_train,y_train)\n",
    "y_predict_DTC=DTC.predict(x_test)\n",
    "acc_score_DTC=accuracy_score(y_test,y_predict_DTC)\n",
    "print(\"Accuracy Score \",acc_score_DTC)"
   ]
  },
  {
   "cell_type": "code",
   "execution_count": 68,
   "id": "597b2f48",
   "metadata": {},
   "outputs": [
    {
     "name": "stdout",
     "output_type": "stream",
     "text": [
      "Accuracy Score  0.9894736842105263\n"
     ]
    }
   ],
   "source": [
    "Knn=KNeighborsClassifier()\n",
    "Knn.fit(x_train,y_train)\n",
    "y_predict_Knn=Knn.predict(x_test)\n",
    "acc_score_Knn=accuracy_score(y_test,y_predict_Knn)\n",
    "print(\"Accuracy Score \",acc_score_Knn)"
   ]
  },
  {
   "cell_type": "code",
   "execution_count": 69,
   "id": "b2078598",
   "metadata": {},
   "outputs": [
    {
     "name": "stdout",
     "output_type": "stream",
     "text": [
      "Accuracy Score  0.9894736842105263\n"
     ]
    }
   ],
   "source": [
    "ABC=AdaBoostClassifier()\n",
    "ABC.fit(x_train,y_train)\n",
    "y_predict_ABC=ABC.predict(x_test)\n",
    "acc_score_ABC=accuracy_score(y_test,y_predict_ABC)\n",
    "print(\"Accuracy Score \",acc_score_ABC)"
   ]
  },
  {
   "cell_type": "code",
   "execution_count": 70,
   "id": "cc032ace",
   "metadata": {},
   "outputs": [
    {
     "name": "stdout",
     "output_type": "stream",
     "text": [
      "Accuracy Score  0.9789473684210527\n"
     ]
    }
   ],
   "source": [
    "GDT=GradientBoostingClassifier()\n",
    "GDT.fit(x_train,y_train)\n",
    "y_predict_GDT=GDT.predict(x_test)\n",
    "acc_score_GDT=accuracy_score(y_test,y_predict_GDT)\n",
    "print(\"Accuracy Score \",acc_score_GDT)"
   ]
  },
  {
   "cell_type": "code",
   "execution_count": 71,
   "id": "da035440",
   "metadata": {},
   "outputs": [
    {
     "name": "stdout",
     "output_type": "stream",
     "text": [
      "Accuracy Score  0.9789473684210527\n"
     ]
    }
   ],
   "source": [
    "BC=BaggingClassifier()\n",
    "BC.fit(x_train,y_train)\n",
    "y_predict_BC=BC.predict(x_test)\n",
    "acc_score_BC=accuracy_score(y_test,y_predict_BC)\n",
    "print('Accuracy Score ',acc_score_BC)"
   ]
  },
  {
   "cell_type": "code",
   "execution_count": 72,
   "id": "35db7572",
   "metadata": {},
   "outputs": [
    {
     "name": "stdout",
     "output_type": "stream",
     "text": [
      "accuracy score : 1.0\n"
     ]
    }
   ],
   "source": [
    "RFC=RandomForestClassifier()\n",
    "RFC.fit(x_train,y_train)\n",
    "y_predict_RFC=RFC.predict(x_test)\n",
    "acc_score_RFC=accuracy_score(y_test,y_predict_RFC)\n",
    "print(\"accuracy score :\",acc_score_RFC)"
   ]
  },
  {
   "cell_type": "code",
   "execution_count": 73,
   "id": "370be842",
   "metadata": {},
   "outputs": [
    {
     "name": "stdout",
     "output_type": "stream",
     "text": [
      "Accuracy Score  0.9894736842105263\n"
     ]
    }
   ],
   "source": [
    "ETC=ExtraTreesClassifier()\n",
    "ETC.fit(x_train,y_train)\n",
    "y_predict_ETC=ETC.predict(x_test)\n",
    "acc_score_ETC=accuracy_score(y_test,y_predict_ETC)\n",
    "print(\"Accuracy Score \",acc_score_ETC)"
   ]
  },
  {
   "cell_type": "markdown",
   "id": "7e8949fa",
   "metadata": {},
   "source": [
    "From the above we can observe RandomForestClassifier provides highest accuracy of 100%.\n",
    "Let's check accuracy score provided by these models are due to overfitting of the model.\n"
   ]
  },
  {
   "cell_type": "code",
   "execution_count": 56,
   "id": "619e4a83",
   "metadata": {},
   "outputs": [],
   "source": [
    "from sklearn.model_selection import cross_val_score\n",
    "from sklearn.metrics import confusion_matrix,classification_report"
   ]
  },
  {
   "cell_type": "code",
   "execution_count": 74,
   "id": "c4a4cb18",
   "metadata": {},
   "outputs": [
    {
     "name": "stdout",
     "output_type": "stream",
     "text": [
      "Difference is  0.03809523809523796\n"
     ]
    }
   ],
   "source": [
    "score=cross_val_score(RFC,x,y)\n",
    "mean=score.mean()\n",
    "print(\"Difference is \",acc_score_RFC-mean)"
   ]
  },
  {
   "cell_type": "code",
   "execution_count": 75,
   "id": "0fbe5770",
   "metadata": {},
   "outputs": [
    {
     "name": "stdout",
     "output_type": "stream",
     "text": [
      "Difference is  0.4894736842105263\n"
     ]
    }
   ],
   "source": [
    "score=cross_val_score(LR,x,y)\n",
    "mean=score.mean()\n",
    "print(\"Difference is \",acc_score_LR-mean)"
   ]
  },
  {
   "cell_type": "code",
   "execution_count": 76,
   "id": "823223db",
   "metadata": {},
   "outputs": [
    {
     "name": "stdout",
     "output_type": "stream",
     "text": [
      "Difference is  0.2505591936831325\n"
     ]
    }
   ],
   "source": [
    "score=cross_val_score(Knn,x,y)\n",
    "mean=score.mean()\n",
    "print(\"Difference is \",acc_score_Knn-mean)"
   ]
  },
  {
   "cell_type": "code",
   "execution_count": 77,
   "id": "98ac7c40",
   "metadata": {},
   "outputs": [
    {
     "name": "stdout",
     "output_type": "stream",
     "text": [
      "Difference is  0.03301802894332606\n"
     ]
    }
   ],
   "source": [
    "score=cross_val_score(DTC,x,y)\n",
    "mean=score.mean()\n",
    "print(\"Difference is \",acc_score_DTC-mean)"
   ]
  },
  {
   "cell_type": "code",
   "execution_count": 78,
   "id": "2088a246",
   "metadata": {},
   "outputs": [
    {
     "name": "stdout",
     "output_type": "stream",
     "text": [
      "Difference is  0.027568922305764243\n"
     ]
    }
   ],
   "source": [
    "score=cross_val_score(ETC,x,y)\n",
    "mean=score.mean()\n",
    "print(\"Difference is \",acc_score_ETC-mean)"
   ]
  },
  {
   "cell_type": "code",
   "execution_count": 79,
   "id": "8a609894",
   "metadata": {},
   "outputs": [
    {
     "name": "stdout",
     "output_type": "stream",
     "text": [
      "Difference is  0.029741019214703512\n"
     ]
    }
   ],
   "source": [
    "score=cross_val_score(GDT,x,y)\n",
    "mean=score.mean()\n",
    "print(\"Difference is \",acc_score_GDT-mean)"
   ]
  },
  {
   "cell_type": "code",
   "execution_count": 80,
   "id": "4eb923ec",
   "metadata": {},
   "outputs": [
    {
     "name": "stdout",
     "output_type": "stream",
     "text": [
      "Difference is  0.046616541353383556\n"
     ]
    }
   ],
   "source": [
    "score=cross_val_score(ABC,x,y)\n",
    "mean=score.mean()\n",
    "print(\"Difference is \",acc_score_ABC-mean)"
   ]
  },
  {
   "cell_type": "code",
   "execution_count": 81,
   "id": "9875c93f",
   "metadata": {},
   "outputs": [
    {
     "name": "stdout",
     "output_type": "stream",
     "text": [
      "Difference is  0.020217209690894022\n"
     ]
    }
   ],
   "source": [
    "score=cross_val_score(BC,x,y)\n",
    "mean=score.mean()\n",
    "print(\"Difference is \",acc_score_BC-mean)"
   ]
  },
  {
   "cell_type": "markdown",
   "id": "4b2ba326",
   "metadata": {},
   "source": [
    "By, calculating cross validation we can justify that accuracy score provided by RandomForestClassifier is due to overfitting of the model.\n",
    "Bagging classiifer is providing least cross validation score when compared with other models."
   ]
  },
  {
   "cell_type": "markdown",
   "id": "2c21a2a3",
   "metadata": {},
   "source": [
    "Let's generate confusion matrix and classification report"
   ]
  },
  {
   "cell_type": "code",
   "execution_count": 82,
   "id": "2eb50477",
   "metadata": {},
   "outputs": [
    {
     "name": "stdout",
     "output_type": "stream",
     "text": [
      "Confusion Matrix \n",
      " [[46  0]\n",
      " [ 2 47]]\n"
     ]
    }
   ],
   "source": [
    "print(\"Confusion Matrix \\n\",confusion_matrix(y_test,y_predict_BC))"
   ]
  },
  {
   "cell_type": "code",
   "execution_count": 83,
   "id": "9ae0251b",
   "metadata": {},
   "outputs": [
    {
     "name": "stdout",
     "output_type": "stream",
     "text": [
      "Classification Report \n",
      "               precision    recall  f1-score   support\n",
      "\n",
      "           0       0.96      1.00      0.98        46\n",
      "           1       1.00      0.96      0.98        49\n",
      "\n",
      "    accuracy                           0.98        95\n",
      "   macro avg       0.98      0.98      0.98        95\n",
      "weighted avg       0.98      0.98      0.98        95\n",
      "\n"
     ]
    }
   ],
   "source": [
    "print(\"Classification Report \\n\",classification_report(y_test,y_predict_BC))"
   ]
  },
  {
   "cell_type": "markdown",
   "id": "64a6f7dc",
   "metadata": {},
   "source": [
    "Let's tune the parameters and try to increase accuracy score of the model"
   ]
  },
  {
   "cell_type": "code",
   "execution_count": 84,
   "id": "ed9e0ee2",
   "metadata": {},
   "outputs": [],
   "source": [
    "from sklearn.model_selection import GridSearchCV"
   ]
  },
  {
   "cell_type": "code",
   "execution_count": 85,
   "id": "fb3210a7",
   "metadata": {},
   "outputs": [],
   "source": [
    "param={'max_features':[6,7,8],\n",
    "      'n_estimators':[11,12,13]}"
   ]
  },
  {
   "cell_type": "code",
   "execution_count": 86,
   "id": "d8fdaa6e",
   "metadata": {},
   "outputs": [
    {
     "data": {
      "text/plain": [
       "GridSearchCV(estimator=BaggingClassifier(), n_jobs=-1,\n",
       "             param_grid={'max_features': [6, 7, 8],\n",
       "                         'n_estimators': [11, 12, 13]})"
      ]
     },
     "execution_count": 86,
     "metadata": {},
     "output_type": "execute_result"
    }
   ],
   "source": [
    "GSV=GridSearchCV(BC,param_grid=param,n_jobs=-1)\n",
    "GSV.fit(x_train,y_train)"
   ]
  },
  {
   "cell_type": "code",
   "execution_count": 87,
   "id": "95c496e1",
   "metadata": {},
   "outputs": [
    {
     "data": {
      "text/plain": [
       "{'max_features': 7, 'n_estimators': 11}"
      ]
     },
     "execution_count": 87,
     "metadata": {},
     "output_type": "execute_result"
    }
   ],
   "source": [
    "GSV.best_params_"
   ]
  },
  {
   "cell_type": "code",
   "execution_count": 88,
   "id": "a11542ce",
   "metadata": {},
   "outputs": [
    {
     "name": "stdout",
     "output_type": "stream",
     "text": [
      "Accuracy score -  0.9894736842105263\n"
     ]
    }
   ],
   "source": [
    "Best_model=BaggingClassifier(max_features=7,n_estimators=11)\n",
    "Best_model.fit(x_train,y_train)\n",
    "y_predict=Best_model.predict(x_test)\n",
    "print(\"Accuracy score - \",accuracy_score(y_test,y_predict))"
   ]
  },
  {
   "cell_type": "markdown",
   "id": "3e28446c",
   "metadata": {},
   "source": [
    "After tuning parameters, accuracy score increased to 99%."
   ]
  },
  {
   "cell_type": "code",
   "execution_count": 89,
   "id": "18e4d716",
   "metadata": {},
   "outputs": [
    {
     "name": "stdout",
     "output_type": "stream",
     "text": [
      "confusion matrix\n",
      " [[46  0]\n",
      " [ 1 48]]\n",
      "\n",
      " Classificatio report\n",
      "               precision    recall  f1-score   support\n",
      "\n",
      "           0       0.98      1.00      0.99        46\n",
      "           1       1.00      0.98      0.99        49\n",
      "\n",
      "    accuracy                           0.99        95\n",
      "   macro avg       0.99      0.99      0.99        95\n",
      "weighted avg       0.99      0.99      0.99        95\n",
      "\n"
     ]
    }
   ],
   "source": [
    "print(\"confusion matrix\\n\",confusion_matrix(y_test,y_predict))\n",
    "print(\"\\n Classificatio report\\n\",classification_report(y_test,y_predict))"
   ]
  },
  {
   "cell_type": "markdown",
   "id": "8d95320c",
   "metadata": {},
   "source": [
    "Let's generate ROC curve"
   ]
  },
  {
   "cell_type": "code",
   "execution_count": 90,
   "id": "3acf9793",
   "metadata": {},
   "outputs": [],
   "source": [
    "from sklearn.metrics import roc_auc_score,roc_curve"
   ]
  },
  {
   "cell_type": "code",
   "execution_count": 91,
   "id": "c70fe78d",
   "metadata": {},
   "outputs": [],
   "source": [
    "fpr,tpr,treshold=roc_curve(y_test,y_predict)"
   ]
  },
  {
   "cell_type": "code",
   "execution_count": 92,
   "id": "4f1f57cd",
   "metadata": {},
   "outputs": [
    {
     "name": "stdout",
     "output_type": "stream",
     "text": [
      "fpr  [0. 0. 1.]\n",
      "tpr  [0.         0.97959184 1.        ]\n",
      "treshold  [2 1 0]\n"
     ]
    }
   ],
   "source": [
    "print('fpr ',fpr)\n",
    "print('tpr ',tpr)\n",
    "print('treshold ',treshold)"
   ]
  },
  {
   "cell_type": "code",
   "execution_count": 93,
   "id": "99611093",
   "metadata": {},
   "outputs": [
    {
     "data": {
      "image/png": "[encoded data removed]",
      "text/plain": [
       "<Figure size 432x288 with 1 Axes>"
      ]
     },
     "metadata": {
      "needs_background": "light"
     },
     "output_type": "display_data"
    }
   ],
   "source": [
    "plt.plot(fpr,tpr,color='darkblue')\n",
    "plt.plot([0,1],[0,1],color='red',linestyle='--')\n",
    "plt.xlabel('fpr')\n",
    "plt.ylabel('tpr')\n",
    "plt.title('ROC Curve')\n",
    "plt.show()\n"
   ]
  },
  {
   "cell_type": "code",
   "execution_count": 95,
   "id": "b19b6551",
   "metadata": {},
   "outputs": [
    {
     "name": "stdout",
     "output_type": "stream",
     "text": [
      "Area under the curve is  0.9897959183673469\n"
     ]
    }
   ],
   "source": [
    "roc_auc=roc_auc_score(y_test,y_predict)\n",
    "print('Area under the curve is ',roc_auc)"
   ]
  },
  {
   "cell_type": "code",
   "execution_count": null,
   "id": "8a0a17f3",
   "metadata": {},
   "outputs": [],
   "source": []
  }
 ],
 "metadata": {
  "kernelspec": {
   "display_name": "Python 3 (ipykernel)",
   "language": "python",
   "name": "python3"
  },
  "language_info": {
   "codemirror_mode": {
    "name": "ipython",
    "version": 3
   },
   "file_extension": ".py",
   "mimetype": "text/x-python",
   "name": "python",
   "nbconvert_exporter": "python",
   "pygments_lexer": "ipython3",
   "version": "3.9.12"
  }
 },
 "nbformat": 4,
 "nbformat_minor": 5
}
