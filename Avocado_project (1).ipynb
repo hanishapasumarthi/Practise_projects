{
 "cells": [
  {
   "cell_type": "code",
   "execution_count": 3,
   "id": "d96f8749",
   "metadata": {},
   "outputs": [],
   "source": [
    "import numpy as np\n",
    "import pandas as pd\n",
    "import seaborn as sns\n",
    "import matplotlib.pyplot as plt\n",
    "\n",
    "import warnings\n",
    "warnings.filterwarnings('ignore')"
   ]
  },
  {
   "cell_type": "code",
   "execution_count": 4,
   "id": "32f8bf61",
   "metadata": {},
   "outputs": [
    {
     "data": {
      "text/html": [
       "<div>\n",
       "<style scoped>\n",
       "    .dataframe tbody tr th:only-of-type {\n",
       "        vertical-align: middle;\n",
       "    }\n",
       "\n",
       "    .dataframe tbody tr th {\n",
       "        vertical-align: top;\n",
       "    }\n",
       "\n",
       "    .dataframe thead th {\n",
       "        text-align: right;\n",
       "    }\n",
       "</style>\n",
       "<table border=\"1\" class=\"dataframe\">\n",
       "  <thead>\n",
       "    <tr style=\"text-align: right;\">\n",
       "      <th></th>\n",
       "      <th>Unnamed: 0</th>\n",
       "      <th>Date</th>\n",
       "      <th>AveragePrice</th>\n",
       "      <th>Total Volume</th>\n",
       "      <th>4046</th>\n",
       "      <th>4225</th>\n",
       "      <th>4770</th>\n",
       "      <th>Total Bags</th>\n",
       "      <th>Small Bags</th>\n",
       "      <th>Large Bags</th>\n",
       "      <th>XLarge Bags</th>\n",
       "      <th>type</th>\n",
       "      <th>year</th>\n",
       "      <th>region</th>\n",
       "    </tr>\n",
       "  </thead>\n",
       "  <tbody>\n",
       "    <tr>\n",
       "      <th>0</th>\n",
       "      <td>0.0</td>\n",
       "      <td>27-12-2015</td>\n",
       "      <td>1.33</td>\n",
       "      <td>64236.62</td>\n",
       "      <td>1036.74</td>\n",
       "      <td>54454.85</td>\n",
       "      <td>48.16</td>\n",
       "      <td>8696.87</td>\n",
       "      <td>8603.62</td>\n",
       "      <td>93.25</td>\n",
       "      <td>0.0</td>\n",
       "      <td>conventional</td>\n",
       "      <td>2015.0</td>\n",
       "      <td>Albany</td>\n",
       "    </tr>\n",
       "    <tr>\n",
       "      <th>1</th>\n",
       "      <td>1.0</td>\n",
       "      <td>20-12-2015</td>\n",
       "      <td>1.35</td>\n",
       "      <td>54876.98</td>\n",
       "      <td>674.28</td>\n",
       "      <td>44638.81</td>\n",
       "      <td>58.33</td>\n",
       "      <td>9505.56</td>\n",
       "      <td>9408.07</td>\n",
       "      <td>97.49</td>\n",
       "      <td>0.0</td>\n",
       "      <td>conventional</td>\n",
       "      <td>2015.0</td>\n",
       "      <td>Albany</td>\n",
       "    </tr>\n",
       "    <tr>\n",
       "      <th>2</th>\n",
       "      <td>2.0</td>\n",
       "      <td>13-12-2015</td>\n",
       "      <td>0.93</td>\n",
       "      <td>118220.22</td>\n",
       "      <td>794.70</td>\n",
       "      <td>109149.67</td>\n",
       "      <td>130.50</td>\n",
       "      <td>8145.35</td>\n",
       "      <td>8042.21</td>\n",
       "      <td>103.14</td>\n",
       "      <td>0.0</td>\n",
       "      <td>conventional</td>\n",
       "      <td>2015.0</td>\n",
       "      <td>Albany</td>\n",
       "    </tr>\n",
       "    <tr>\n",
       "      <th>3</th>\n",
       "      <td>3.0</td>\n",
       "      <td>06-12-2015</td>\n",
       "      <td>1.08</td>\n",
       "      <td>78992.15</td>\n",
       "      <td>1132.00</td>\n",
       "      <td>71976.41</td>\n",
       "      <td>72.58</td>\n",
       "      <td>5811.16</td>\n",
       "      <td>5677.40</td>\n",
       "      <td>133.76</td>\n",
       "      <td>0.0</td>\n",
       "      <td>conventional</td>\n",
       "      <td>2015.0</td>\n",
       "      <td>Albany</td>\n",
       "    </tr>\n",
       "    <tr>\n",
       "      <th>4</th>\n",
       "      <td>4.0</td>\n",
       "      <td>29-11-2015</td>\n",
       "      <td>1.28</td>\n",
       "      <td>51039.60</td>\n",
       "      <td>941.48</td>\n",
       "      <td>43838.39</td>\n",
       "      <td>75.78</td>\n",
       "      <td>6183.95</td>\n",
       "      <td>5986.26</td>\n",
       "      <td>197.69</td>\n",
       "      <td>0.0</td>\n",
       "      <td>conventional</td>\n",
       "      <td>2015.0</td>\n",
       "      <td>Albany</td>\n",
       "    </tr>\n",
       "  </tbody>\n",
       "</table>\n",
       "</div>"
      ],
      "text/plain": [
       "   Unnamed: 0        Date  AveragePrice  Total Volume     4046       4225  \\\n",
       "0         0.0  27-12-2015          1.33      64236.62  1036.74   54454.85   \n",
       "1         1.0  20-12-2015          1.35      54876.98   674.28   44638.81   \n",
       "2         2.0  13-12-2015          0.93     118220.22   794.70  109149.67   \n",
       "3         3.0  06-12-2015          1.08      78992.15  1132.00   71976.41   \n",
       "4         4.0  29-11-2015          1.28      51039.60   941.48   43838.39   \n",
       "\n",
       "     4770  Total Bags  Small Bags  Large Bags  XLarge Bags          type  \\\n",
       "0   48.16     8696.87     8603.62       93.25          0.0  conventional   \n",
       "1   58.33     9505.56     9408.07       97.49          0.0  conventional   \n",
       "2  130.50     8145.35     8042.21      103.14          0.0  conventional   \n",
       "3   72.58     5811.16     5677.40      133.76          0.0  conventional   \n",
       "4   75.78     6183.95     5986.26      197.69          0.0  conventional   \n",
       "\n",
       "     year  region  \n",
       "0  2015.0  Albany  \n",
       "1  2015.0  Albany  \n",
       "2  2015.0  Albany  \n",
       "3  2015.0  Albany  \n",
       "4  2015.0  Albany  "
      ]
     },
     "execution_count": 4,
     "metadata": {},
     "output_type": "execute_result"
    }
   ],
   "source": [
    "df=pd.read_csv('https://raw.githubusercontent.com/dsrscientist/Data-Science-ML-Capstone-Projects/master/avocado.csv')\n",
    "df.head()"
   ]
  },
  {
   "cell_type": "code",
   "execution_count": 5,
   "id": "8a2aff41",
   "metadata": {},
   "outputs": [
    {
     "data": {
      "text/plain": [
       "(16468, 14)"
      ]
     },
     "execution_count": 5,
     "metadata": {},
     "output_type": "execute_result"
    }
   ],
   "source": [
    "df.shape"
   ]
  },
  {
   "cell_type": "markdown",
   "id": "6f65ae04",
   "metadata": {},
   "source": [
    "This dataset contains 16,468 records and 14 features."
   ]
  },
  {
   "cell_type": "markdown",
   "id": "489477d5",
   "metadata": {},
   "source": [
    "As, per my observation 'Unnamed: 0' is not useful for predicting target variable. Let's drop this feature."
   ]
  },
  {
   "cell_type": "code",
   "execution_count": 6,
   "id": "c1cd7f24",
   "metadata": {},
   "outputs": [
    {
     "data": {
      "text/plain": [
       "(16468, 13)"
      ]
     },
     "execution_count": 6,
     "metadata": {},
     "output_type": "execute_result"
    }
   ],
   "source": [
    "df.drop(columns=['Unnamed: 0'],axis=1,inplace=True)\n",
    "df.shape"
   ]
  },
  {
   "cell_type": "markdown",
   "id": "16863e6b",
   "metadata": {},
   "source": [
    "Now after dropping one feature, dataset contains 13 features."
   ]
  },
  {
   "cell_type": "markdown",
   "id": "f55a4045",
   "metadata": {},
   "source": [
    "Let's check for null values in the dataset."
   ]
  },
  {
   "cell_type": "code",
   "execution_count": 7,
   "id": "d164ccb3",
   "metadata": {},
   "outputs": [
    {
     "data": {
      "text/plain": [
       "Date            14951\n",
       "AveragePrice    14951\n",
       "Total Volume    14951\n",
       "4046            14951\n",
       "4225            14951\n",
       "4770            14951\n",
       "Total Bags      14951\n",
       "Small Bags      14951\n",
       "Large Bags      14951\n",
       "XLarge Bags     14951\n",
       "type            14951\n",
       "year            14951\n",
       "region          14951\n",
       "dtype: int64"
      ]
     },
     "execution_count": 7,
     "metadata": {},
     "output_type": "execute_result"
    }
   ],
   "source": [
    "df.isnull().sum()"
   ]
  },
  {
   "cell_type": "markdown",
   "id": "a2a42d75",
   "metadata": {},
   "source": [
    "This dataset contains 14,951 records with null values. Lets drop those records"
   ]
  },
  {
   "cell_type": "code",
   "execution_count": 8,
   "id": "346d1d3f",
   "metadata": {},
   "outputs": [
    {
     "data": {
      "text/plain": [
       "conventional    1517\n",
       "Name: type, dtype: int64"
      ]
     },
     "execution_count": 8,
     "metadata": {},
     "output_type": "execute_result"
    }
   ],
   "source": [
    "df.type.value_counts()"
   ]
  },
  {
   "cell_type": "code",
   "execution_count": 9,
   "id": "324dd432",
   "metadata": {},
   "outputs": [
    {
     "data": {
      "text/plain": [
       "(1517, 13)"
      ]
     },
     "execution_count": 9,
     "metadata": {},
     "output_type": "execute_result"
    }
   ],
   "source": [
    "df.dropna(axis=0,inplace=True)\n",
    "df.shape"
   ]
  },
  {
   "cell_type": "markdown",
   "id": "e3ebc714",
   "metadata": {},
   "source": [
    "After dropping records with null values dataset contains 1517 records and 13 features."
   ]
  },
  {
   "cell_type": "markdown",
   "id": "0e461284",
   "metadata": {},
   "source": [
    "Let's check the information about the features of the Avocado data."
   ]
  },
  {
   "cell_type": "code",
   "execution_count": 10,
   "id": "aef7fdc5",
   "metadata": {},
   "outputs": [
    {
     "name": "stdout",
     "output_type": "stream",
     "text": [
      "<class 'pandas.core.frame.DataFrame'>\n",
      "Int64Index: 1517 entries, 0 to 1516\n",
      "Data columns (total 13 columns):\n",
      " #   Column        Non-Null Count  Dtype  \n",
      "---  ------        --------------  -----  \n",
      " 0   Date          1517 non-null   object \n",
      " 1   AveragePrice  1517 non-null   float64\n",
      " 2   Total Volume  1517 non-null   float64\n",
      " 3   4046          1517 non-null   float64\n",
      " 4   4225          1517 non-null   float64\n",
      " 5   4770          1517 non-null   float64\n",
      " 6   Total Bags    1517 non-null   float64\n",
      " 7   Small Bags    1517 non-null   float64\n",
      " 8   Large Bags    1517 non-null   float64\n",
      " 9   XLarge Bags   1517 non-null   float64\n",
      " 10  type          1517 non-null   object \n",
      " 11  year          1517 non-null   float64\n",
      " 12  region        1517 non-null   object \n",
      "dtypes: float64(10), object(3)\n",
      "memory usage: 165.9+ KB\n"
     ]
    }
   ],
   "source": [
    "df.info()"
   ]
  },
  {
   "cell_type": "markdown",
   "id": "cfca8669",
   "metadata": {},
   "source": [
    "Let's check statistical informtion of the data."
   ]
  },
  {
   "cell_type": "code",
   "execution_count": 11,
   "id": "cb42e48c",
   "metadata": {},
   "outputs": [
    {
     "data": {
      "text/html": [
       "<div>\n",
       "<style scoped>\n",
       "    .dataframe tbody tr th:only-of-type {\n",
       "        vertical-align: middle;\n",
       "    }\n",
       "\n",
       "    .dataframe tbody tr th {\n",
       "        vertical-align: top;\n",
       "    }\n",
       "\n",
       "    .dataframe thead th {\n",
       "        text-align: right;\n",
       "    }\n",
       "</style>\n",
       "<table border=\"1\" class=\"dataframe\">\n",
       "  <thead>\n",
       "    <tr style=\"text-align: right;\">\n",
       "      <th></th>\n",
       "      <th>AveragePrice</th>\n",
       "      <th>Total Volume</th>\n",
       "      <th>4046</th>\n",
       "      <th>4225</th>\n",
       "      <th>4770</th>\n",
       "      <th>Total Bags</th>\n",
       "      <th>Small Bags</th>\n",
       "      <th>Large Bags</th>\n",
       "      <th>XLarge Bags</th>\n",
       "      <th>year</th>\n",
       "    </tr>\n",
       "  </thead>\n",
       "  <tbody>\n",
       "    <tr>\n",
       "      <th>count</th>\n",
       "      <td>1517.000000</td>\n",
       "      <td>1.517000e+03</td>\n",
       "      <td>1.517000e+03</td>\n",
       "      <td>1.517000e+03</td>\n",
       "      <td>1.517000e+03</td>\n",
       "      <td>1.517000e+03</td>\n",
       "      <td>1.517000e+03</td>\n",
       "      <td>1.517000e+03</td>\n",
       "      <td>1517.000000</td>\n",
       "      <td>1517.000000</td>\n",
       "    </tr>\n",
       "    <tr>\n",
       "      <th>mean</th>\n",
       "      <td>1.074990</td>\n",
       "      <td>1.601879e+06</td>\n",
       "      <td>6.464387e+05</td>\n",
       "      <td>6.114375e+05</td>\n",
       "      <td>5.040550e+04</td>\n",
       "      <td>2.935974e+05</td>\n",
       "      <td>2.487736e+05</td>\n",
       "      <td>4.264205e+04</td>\n",
       "      <td>2181.771074</td>\n",
       "      <td>2015.162821</td>\n",
       "    </tr>\n",
       "    <tr>\n",
       "      <th>std</th>\n",
       "      <td>0.188891</td>\n",
       "      <td>4.433143e+06</td>\n",
       "      <td>1.947614e+06</td>\n",
       "      <td>1.672906e+06</td>\n",
       "      <td>1.377812e+05</td>\n",
       "      <td>7.579765e+05</td>\n",
       "      <td>6.474765e+05</td>\n",
       "      <td>1.182157e+05</td>\n",
       "      <td>7455.712144</td>\n",
       "      <td>0.369324</td>\n",
       "    </tr>\n",
       "    <tr>\n",
       "      <th>min</th>\n",
       "      <td>0.490000</td>\n",
       "      <td>3.875074e+04</td>\n",
       "      <td>4.677200e+02</td>\n",
       "      <td>1.783770e+03</td>\n",
       "      <td>0.000000e+00</td>\n",
       "      <td>3.311770e+03</td>\n",
       "      <td>3.311770e+03</td>\n",
       "      <td>0.000000e+00</td>\n",
       "      <td>0.000000</td>\n",
       "      <td>2015.000000</td>\n",
       "    </tr>\n",
       "    <tr>\n",
       "      <th>25%</th>\n",
       "      <td>0.980000</td>\n",
       "      <td>1.474700e+05</td>\n",
       "      <td>2.040034e+04</td>\n",
       "      <td>4.147606e+04</td>\n",
       "      <td>9.112500e+02</td>\n",
       "      <td>3.620689e+04</td>\n",
       "      <td>2.972722e+04</td>\n",
       "      <td>5.407400e+02</td>\n",
       "      <td>0.000000</td>\n",
       "      <td>2015.000000</td>\n",
       "    </tr>\n",
       "    <tr>\n",
       "      <th>50%</th>\n",
       "      <td>1.080000</td>\n",
       "      <td>4.027919e+05</td>\n",
       "      <td>8.175117e+04</td>\n",
       "      <td>1.186649e+05</td>\n",
       "      <td>7.688170e+03</td>\n",
       "      <td>7.397906e+04</td>\n",
       "      <td>6.237569e+04</td>\n",
       "      <td>5.044350e+03</td>\n",
       "      <td>0.000000</td>\n",
       "      <td>2015.000000</td>\n",
       "    </tr>\n",
       "    <tr>\n",
       "      <th>75%</th>\n",
       "      <td>1.190000</td>\n",
       "      <td>9.819751e+05</td>\n",
       "      <td>3.775785e+05</td>\n",
       "      <td>4.851503e+05</td>\n",
       "      <td>2.916730e+04</td>\n",
       "      <td>1.576097e+05</td>\n",
       "      <td>1.461994e+05</td>\n",
       "      <td>2.926767e+04</td>\n",
       "      <td>401.480000</td>\n",
       "      <td>2015.000000</td>\n",
       "    </tr>\n",
       "    <tr>\n",
       "      <th>max</th>\n",
       "      <td>1.680000</td>\n",
       "      <td>4.465546e+07</td>\n",
       "      <td>1.893304e+07</td>\n",
       "      <td>1.895648e+07</td>\n",
       "      <td>1.381516e+06</td>\n",
       "      <td>6.736304e+06</td>\n",
       "      <td>5.893642e+06</td>\n",
       "      <td>1.121076e+06</td>\n",
       "      <td>108072.790000</td>\n",
       "      <td>2016.000000</td>\n",
       "    </tr>\n",
       "  </tbody>\n",
       "</table>\n",
       "</div>"
      ],
      "text/plain": [
       "       AveragePrice  Total Volume          4046          4225          4770  \\\n",
       "count   1517.000000  1.517000e+03  1.517000e+03  1.517000e+03  1.517000e+03   \n",
       "mean       1.074990  1.601879e+06  6.464387e+05  6.114375e+05  5.040550e+04   \n",
       "std        0.188891  4.433143e+06  1.947614e+06  1.672906e+06  1.377812e+05   \n",
       "min        0.490000  3.875074e+04  4.677200e+02  1.783770e+03  0.000000e+00   \n",
       "25%        0.980000  1.474700e+05  2.040034e+04  4.147606e+04  9.112500e+02   \n",
       "50%        1.080000  4.027919e+05  8.175117e+04  1.186649e+05  7.688170e+03   \n",
       "75%        1.190000  9.819751e+05  3.775785e+05  4.851503e+05  2.916730e+04   \n",
       "max        1.680000  4.465546e+07  1.893304e+07  1.895648e+07  1.381516e+06   \n",
       "\n",
       "         Total Bags    Small Bags    Large Bags    XLarge Bags         year  \n",
       "count  1.517000e+03  1.517000e+03  1.517000e+03    1517.000000  1517.000000  \n",
       "mean   2.935974e+05  2.487736e+05  4.264205e+04    2181.771074  2015.162821  \n",
       "std    7.579765e+05  6.474765e+05  1.182157e+05    7455.712144     0.369324  \n",
       "min    3.311770e+03  3.311770e+03  0.000000e+00       0.000000  2015.000000  \n",
       "25%    3.620689e+04  2.972722e+04  5.407400e+02       0.000000  2015.000000  \n",
       "50%    7.397906e+04  6.237569e+04  5.044350e+03       0.000000  2015.000000  \n",
       "75%    1.576097e+05  1.461994e+05  2.926767e+04     401.480000  2015.000000  \n",
       "max    6.736304e+06  5.893642e+06  1.121076e+06  108072.790000  2016.000000  "
      ]
     },
     "execution_count": 11,
     "metadata": {},
     "output_type": "execute_result"
    }
   ],
   "source": [
    "df.describe()"
   ]
  },
  {
   "cell_type": "markdown",
   "id": "8ed83352",
   "metadata": {},
   "source": [
    "From the above information, it is not clear to understand the statistical information of the data."
   ]
  },
  {
   "cell_type": "code",
   "execution_count": 12,
   "id": "110b6078",
   "metadata": {},
   "outputs": [
    {
     "data": {
      "text/html": [
       "<div>\n",
       "<style scoped>\n",
       "    .dataframe tbody tr th:only-of-type {\n",
       "        vertical-align: middle;\n",
       "    }\n",
       "\n",
       "    .dataframe tbody tr th {\n",
       "        vertical-align: top;\n",
       "    }\n",
       "\n",
       "    .dataframe thead th {\n",
       "        text-align: right;\n",
       "    }\n",
       "</style>\n",
       "<table border=\"1\" class=\"dataframe\">\n",
       "  <thead>\n",
       "    <tr style=\"text-align: right;\">\n",
       "      <th></th>\n",
       "      <th>Date</th>\n",
       "      <th>AveragePrice</th>\n",
       "      <th>Total Volume</th>\n",
       "      <th>4046</th>\n",
       "      <th>4225</th>\n",
       "      <th>4770</th>\n",
       "      <th>Total Bags</th>\n",
       "      <th>Small Bags</th>\n",
       "      <th>Large Bags</th>\n",
       "      <th>XLarge Bags</th>\n",
       "      <th>type</th>\n",
       "      <th>year</th>\n",
       "      <th>region</th>\n",
       "    </tr>\n",
       "  </thead>\n",
       "  <tbody>\n",
       "    <tr>\n",
       "      <th>0</th>\n",
       "      <td>27-12-2015</td>\n",
       "      <td>1.33</td>\n",
       "      <td>64236.62</td>\n",
       "      <td>1036.74</td>\n",
       "      <td>54454.85</td>\n",
       "      <td>48.16</td>\n",
       "      <td>8696.87</td>\n",
       "      <td>8603.62</td>\n",
       "      <td>93.25</td>\n",
       "      <td>0.0</td>\n",
       "      <td>conventional</td>\n",
       "      <td>2015.0</td>\n",
       "      <td>Albany</td>\n",
       "    </tr>\n",
       "    <tr>\n",
       "      <th>1</th>\n",
       "      <td>20-12-2015</td>\n",
       "      <td>1.35</td>\n",
       "      <td>54876.98</td>\n",
       "      <td>674.28</td>\n",
       "      <td>44638.81</td>\n",
       "      <td>58.33</td>\n",
       "      <td>9505.56</td>\n",
       "      <td>9408.07</td>\n",
       "      <td>97.49</td>\n",
       "      <td>0.0</td>\n",
       "      <td>conventional</td>\n",
       "      <td>2015.0</td>\n",
       "      <td>Albany</td>\n",
       "    </tr>\n",
       "    <tr>\n",
       "      <th>2</th>\n",
       "      <td>13-12-2015</td>\n",
       "      <td>0.93</td>\n",
       "      <td>118220.22</td>\n",
       "      <td>794.70</td>\n",
       "      <td>109149.67</td>\n",
       "      <td>130.50</td>\n",
       "      <td>8145.35</td>\n",
       "      <td>8042.21</td>\n",
       "      <td>103.14</td>\n",
       "      <td>0.0</td>\n",
       "      <td>conventional</td>\n",
       "      <td>2015.0</td>\n",
       "      <td>Albany</td>\n",
       "    </tr>\n",
       "    <tr>\n",
       "      <th>3</th>\n",
       "      <td>06-12-2015</td>\n",
       "      <td>1.08</td>\n",
       "      <td>78992.15</td>\n",
       "      <td>1132.00</td>\n",
       "      <td>71976.41</td>\n",
       "      <td>72.58</td>\n",
       "      <td>5811.16</td>\n",
       "      <td>5677.40</td>\n",
       "      <td>133.76</td>\n",
       "      <td>0.0</td>\n",
       "      <td>conventional</td>\n",
       "      <td>2015.0</td>\n",
       "      <td>Albany</td>\n",
       "    </tr>\n",
       "    <tr>\n",
       "      <th>4</th>\n",
       "      <td>29-11-2015</td>\n",
       "      <td>1.28</td>\n",
       "      <td>51039.60</td>\n",
       "      <td>941.48</td>\n",
       "      <td>43838.39</td>\n",
       "      <td>75.78</td>\n",
       "      <td>6183.95</td>\n",
       "      <td>5986.26</td>\n",
       "      <td>197.69</td>\n",
       "      <td>0.0</td>\n",
       "      <td>conventional</td>\n",
       "      <td>2015.0</td>\n",
       "      <td>Albany</td>\n",
       "    </tr>\n",
       "  </tbody>\n",
       "</table>\n",
       "</div>"
      ],
      "text/plain": [
       "         Date  AveragePrice  Total Volume     4046       4225    4770  \\\n",
       "0  27-12-2015          1.33      64236.62  1036.74   54454.85   48.16   \n",
       "1  20-12-2015          1.35      54876.98   674.28   44638.81   58.33   \n",
       "2  13-12-2015          0.93     118220.22   794.70  109149.67  130.50   \n",
       "3  06-12-2015          1.08      78992.15  1132.00   71976.41   72.58   \n",
       "4  29-11-2015          1.28      51039.60   941.48   43838.39   75.78   \n",
       "\n",
       "   Total Bags  Small Bags  Large Bags  XLarge Bags          type    year  \\\n",
       "0     8696.87     8603.62       93.25          0.0  conventional  2015.0   \n",
       "1     9505.56     9408.07       97.49          0.0  conventional  2015.0   \n",
       "2     8145.35     8042.21      103.14          0.0  conventional  2015.0   \n",
       "3     5811.16     5677.40      133.76          0.0  conventional  2015.0   \n",
       "4     6183.95     5986.26      197.69          0.0  conventional  2015.0   \n",
       "\n",
       "   region  \n",
       "0  Albany  \n",
       "1  Albany  \n",
       "2  Albany  \n",
       "3  Albany  \n",
       "4  Albany  "
      ]
     },
     "execution_count": 12,
     "metadata": {},
     "output_type": "execute_result"
    }
   ],
   "source": [
    "df.head()"
   ]
  },
  {
   "cell_type": "code",
   "execution_count": 13,
   "id": "16acf12f",
   "metadata": {},
   "outputs": [
    {
     "data": {
      "text/plain": [
       "0"
      ]
     },
     "execution_count": 13,
     "metadata": {},
     "output_type": "execute_result"
    }
   ],
   "source": [
    "df.duplicated().sum()"
   ]
  },
  {
   "cell_type": "markdown",
   "id": "46a23774",
   "metadata": {},
   "source": [
    "Duplicates are not present in this dataset."
   ]
  },
  {
   "cell_type": "markdown",
   "id": "ad69195b",
   "metadata": {},
   "source": [
    "Let's divide 'Date' feature into seperate columns for date,month,year."
   ]
  },
  {
   "cell_type": "code",
   "execution_count": 14,
   "id": "540e1b2f",
   "metadata": {},
   "outputs": [
    {
     "data": {
      "text/html": [
       "<div>\n",
       "<style scoped>\n",
       "    .dataframe tbody tr th:only-of-type {\n",
       "        vertical-align: middle;\n",
       "    }\n",
       "\n",
       "    .dataframe tbody tr th {\n",
       "        vertical-align: top;\n",
       "    }\n",
       "\n",
       "    .dataframe thead th {\n",
       "        text-align: right;\n",
       "    }\n",
       "</style>\n",
       "<table border=\"1\" class=\"dataframe\">\n",
       "  <thead>\n",
       "    <tr style=\"text-align: right;\">\n",
       "      <th></th>\n",
       "      <th>AveragePrice</th>\n",
       "      <th>Total Volume</th>\n",
       "      <th>4046</th>\n",
       "      <th>4225</th>\n",
       "      <th>4770</th>\n",
       "      <th>Total Bags</th>\n",
       "      <th>Small Bags</th>\n",
       "      <th>Large Bags</th>\n",
       "      <th>XLarge Bags</th>\n",
       "      <th>type</th>\n",
       "      <th>year</th>\n",
       "      <th>region</th>\n",
       "      <th>Day</th>\n",
       "      <th>Month</th>\n",
       "    </tr>\n",
       "  </thead>\n",
       "  <tbody>\n",
       "    <tr>\n",
       "      <th>0</th>\n",
       "      <td>1.33</td>\n",
       "      <td>64236.62</td>\n",
       "      <td>1036.74</td>\n",
       "      <td>54454.85</td>\n",
       "      <td>48.16</td>\n",
       "      <td>8696.87</td>\n",
       "      <td>8603.62</td>\n",
       "      <td>93.25</td>\n",
       "      <td>0.0</td>\n",
       "      <td>conventional</td>\n",
       "      <td>2015.0</td>\n",
       "      <td>Albany</td>\n",
       "      <td>27</td>\n",
       "      <td>12</td>\n",
       "    </tr>\n",
       "    <tr>\n",
       "      <th>1</th>\n",
       "      <td>1.35</td>\n",
       "      <td>54876.98</td>\n",
       "      <td>674.28</td>\n",
       "      <td>44638.81</td>\n",
       "      <td>58.33</td>\n",
       "      <td>9505.56</td>\n",
       "      <td>9408.07</td>\n",
       "      <td>97.49</td>\n",
       "      <td>0.0</td>\n",
       "      <td>conventional</td>\n",
       "      <td>2015.0</td>\n",
       "      <td>Albany</td>\n",
       "      <td>20</td>\n",
       "      <td>12</td>\n",
       "    </tr>\n",
       "    <tr>\n",
       "      <th>2</th>\n",
       "      <td>0.93</td>\n",
       "      <td>118220.22</td>\n",
       "      <td>794.70</td>\n",
       "      <td>109149.67</td>\n",
       "      <td>130.50</td>\n",
       "      <td>8145.35</td>\n",
       "      <td>8042.21</td>\n",
       "      <td>103.14</td>\n",
       "      <td>0.0</td>\n",
       "      <td>conventional</td>\n",
       "      <td>2015.0</td>\n",
       "      <td>Albany</td>\n",
       "      <td>13</td>\n",
       "      <td>12</td>\n",
       "    </tr>\n",
       "    <tr>\n",
       "      <th>3</th>\n",
       "      <td>1.08</td>\n",
       "      <td>78992.15</td>\n",
       "      <td>1132.00</td>\n",
       "      <td>71976.41</td>\n",
       "      <td>72.58</td>\n",
       "      <td>5811.16</td>\n",
       "      <td>5677.40</td>\n",
       "      <td>133.76</td>\n",
       "      <td>0.0</td>\n",
       "      <td>conventional</td>\n",
       "      <td>2015.0</td>\n",
       "      <td>Albany</td>\n",
       "      <td>12</td>\n",
       "      <td>6</td>\n",
       "    </tr>\n",
       "    <tr>\n",
       "      <th>4</th>\n",
       "      <td>1.28</td>\n",
       "      <td>51039.60</td>\n",
       "      <td>941.48</td>\n",
       "      <td>43838.39</td>\n",
       "      <td>75.78</td>\n",
       "      <td>6183.95</td>\n",
       "      <td>5986.26</td>\n",
       "      <td>197.69</td>\n",
       "      <td>0.0</td>\n",
       "      <td>conventional</td>\n",
       "      <td>2015.0</td>\n",
       "      <td>Albany</td>\n",
       "      <td>29</td>\n",
       "      <td>11</td>\n",
       "    </tr>\n",
       "  </tbody>\n",
       "</table>\n",
       "</div>"
      ],
      "text/plain": [
       "   AveragePrice  Total Volume     4046       4225    4770  Total Bags  \\\n",
       "0          1.33      64236.62  1036.74   54454.85   48.16     8696.87   \n",
       "1          1.35      54876.98   674.28   44638.81   58.33     9505.56   \n",
       "2          0.93     118220.22   794.70  109149.67  130.50     8145.35   \n",
       "3          1.08      78992.15  1132.00   71976.41   72.58     5811.16   \n",
       "4          1.28      51039.60   941.48   43838.39   75.78     6183.95   \n",
       "\n",
       "   Small Bags  Large Bags  XLarge Bags          type    year  region  Day  \\\n",
       "0     8603.62       93.25          0.0  conventional  2015.0  Albany   27   \n",
       "1     9408.07       97.49          0.0  conventional  2015.0  Albany   20   \n",
       "2     8042.21      103.14          0.0  conventional  2015.0  Albany   13   \n",
       "3     5677.40      133.76          0.0  conventional  2015.0  Albany   12   \n",
       "4     5986.26      197.69          0.0  conventional  2015.0  Albany   29   \n",
       "\n",
       "   Month  \n",
       "0     12  \n",
       "1     12  \n",
       "2     12  \n",
       "3      6  \n",
       "4     11  "
      ]
     },
     "execution_count": 14,
     "metadata": {},
     "output_type": "execute_result"
    }
   ],
   "source": [
    "df['Date']=pd.to_datetime(df['Date'])\n",
    "df['Day']=df['Date'].dt.day\n",
    "df['Month']=df['Date'].dt.month\n",
    "df.drop('Date',axis=1,inplace=True)\n",
    "df.head()"
   ]
  },
  {
   "cell_type": "markdown",
   "id": "a49638d0",
   "metadata": {},
   "source": [
    "'Type', 'Region' features are of categorical features. Let's encode these features with encoding techniques."
   ]
  },
  {
   "cell_type": "code",
   "execution_count": 15,
   "id": "d0cf40c8",
   "metadata": {},
   "outputs": [],
   "source": [
    "from sklearn.preprocessing import LabelEncoder"
   ]
  },
  {
   "cell_type": "code",
   "execution_count": 16,
   "id": "b971b527",
   "metadata": {},
   "outputs": [
    {
     "data": {
      "text/plain": [
       "array(['Albany', 'Atlanta', 'BaltimoreWashington', 'Boise', 'Boston',\n",
       "       'BuffaloRochester', 'California', 'Charlotte', 'Chicago',\n",
       "       'Columbus', 'DallasFtWorth', 'Denver', 'Detroit', 'GrandRapids',\n",
       "       'GreatLakes', 'HarrisburgScranton', 'HartfordSpringfield',\n",
       "       'Houston', 'Indianapolis', 'Jacksonville', 'LasVegas',\n",
       "       'LosAngeles', 'Louisville', 'MiamiFtLauderdale', 'Midsouth',\n",
       "       'Nashville', 'NewYork', 'Northeast', 'NorthernNewEngland',\n",
       "       'Orlando', 'Philadelphia', 'PhoenixTucson', 'Pittsburgh', 'Plains',\n",
       "       'Portland', 'RaleighGreensboro', 'RichmondNorfolk', 'Roanoke',\n",
       "       'SanDiego', 'SanFrancisco', 'Seattle', 'SouthCarolina',\n",
       "       'SouthCentral', 'Southeast', 'Spokane', 'StLouis', 'Syracuse',\n",
       "       'Tampa', 'TotalUS', 'West', 'WestTexNewMexico'], dtype=object)"
      ]
     },
     "execution_count": 16,
     "metadata": {},
     "output_type": "execute_result"
    }
   ],
   "source": [
    "df['region'].unique()"
   ]
  },
  {
   "cell_type": "code",
   "execution_count": 17,
   "id": "899681c0",
   "metadata": {},
   "outputs": [
    {
     "data": {
      "text/plain": [
       "California             76\n",
       "Albany                 67\n",
       "BaltimoreWashington    65\n",
       "Boise                  65\n",
       "Boston                 62\n",
       "Atlanta                54\n",
       "PhoenixTucson          52\n",
       "BuffaloRochester       51\n",
       "Spokane                49\n",
       "Columbus               47\n",
       "NewYork                44\n",
       "Jacksonville           41\n",
       "Detroit                40\n",
       "SouthCentral           39\n",
       "SanDiego               38\n",
       "West                   36\n",
       "Tampa                  34\n",
       "Louisville             34\n",
       "Charlotte              31\n",
       "Portland               30\n",
       "Houston                29\n",
       "NorthernNewEngland     29\n",
       "WestTexNewMexico       27\n",
       "Nashville              25\n",
       "TotalUS                25\n",
       "Denver                 24\n",
       "SouthCarolina          24\n",
       "Chicago                23\n",
       "GrandRapids            23\n",
       "Pittsburgh             22\n",
       "Orlando                21\n",
       "RichmondNorfolk        21\n",
       "Syracuse               19\n",
       "HarrisburgScranton     19\n",
       "Midsouth               18\n",
       "GreatLakes             18\n",
       "DallasFtWorth          17\n",
       "MiamiFtLauderdale      17\n",
       "Roanoke                17\n",
       "RaleighGreensboro      16\n",
       "StLouis                16\n",
       "Indianapolis           16\n",
       "SanFrancisco           15\n",
       "HartfordSpringfield    13\n",
       "Philadelphia           13\n",
       "Plains                 12\n",
       "Northeast              12\n",
       "LasVegas               10\n",
       "Seattle                 9\n",
       "Southeast               9\n",
       "LosAngeles              3\n",
       "Name: region, dtype: int64"
      ]
     },
     "execution_count": 17,
     "metadata": {},
     "output_type": "execute_result"
    }
   ],
   "source": [
    "df['region'].value_counts()"
   ]
  },
  {
   "cell_type": "code",
   "execution_count": 18,
   "id": "8ffdbfa2",
   "metadata": {},
   "outputs": [
    {
     "data": {
      "text/plain": [
       "array([ 0,  1,  2,  3,  4,  5,  6,  7,  8,  9, 10, 11, 12, 13, 14, 15, 16,\n",
       "       17, 18, 19, 20, 21, 22, 23, 24, 25, 26, 27, 28, 29, 30, 31, 32, 33,\n",
       "       34, 35, 36, 37, 38, 39, 40, 41, 42, 43, 44, 45, 46, 47, 48, 49, 50])"
      ]
     },
     "execution_count": 18,
     "metadata": {},
     "output_type": "execute_result"
    }
   ],
   "source": [
    "LE=LabelEncoder()\n",
    "df['region']=LE.fit_transform(df['region'])\n",
    "df['region'].unique()"
   ]
  },
  {
   "cell_type": "code",
   "execution_count": 19,
   "id": "76709426",
   "metadata": {},
   "outputs": [
    {
     "data": {
      "text/plain": [
       "array(['conventional'], dtype=object)"
      ]
     },
     "execution_count": 19,
     "metadata": {},
     "output_type": "execute_result"
    }
   ],
   "source": [
    "df['type'].unique()"
   ]
  },
  {
   "cell_type": "code",
   "execution_count": 20,
   "id": "066e5379",
   "metadata": {},
   "outputs": [
    {
     "data": {
      "text/plain": [
       "array([0])"
      ]
     },
     "execution_count": 20,
     "metadata": {},
     "output_type": "execute_result"
    }
   ],
   "source": [
    "df['type']=LE.fit_transform(df['type'])\n",
    "df['type'].unique()"
   ]
  },
  {
   "cell_type": "markdown",
   "id": "eb2a8a88",
   "metadata": {},
   "source": [
    "We have encoded categorical features 'type','region' using LabelEncoder. \n",
    "\n",
    "Let's understand how the data is distributed with the help of plotting techniques."
   ]
  },
  {
   "cell_type": "code",
   "execution_count": 21,
   "id": "a7d5af2d",
   "metadata": {},
   "outputs": [
    {
     "data": {
      "text/plain": [
       "(1517, 14)"
      ]
     },
     "execution_count": 21,
     "metadata": {},
     "output_type": "execute_result"
    }
   ],
   "source": [
    "df.shape"
   ]
  },
  {
   "cell_type": "code",
   "execution_count": 22,
   "id": "739a7374",
   "metadata": {},
   "outputs": [
    {
     "data": {
      "text/plain": [
       "Index(['AveragePrice', 'Total Volume', '4046', '4225', '4770', 'Total Bags',\n",
       "       'Small Bags', 'Large Bags', 'XLarge Bags', 'type', 'year', 'region',\n",
       "       'Day', 'Month'],\n",
       "      dtype='object')"
      ]
     },
     "execution_count": 22,
     "metadata": {},
     "output_type": "execute_result"
    }
   ],
   "source": [
    "df.columns"
   ]
  },
  {
   "cell_type": "code",
   "execution_count": 23,
   "id": "689b3d73",
   "metadata": {},
   "outputs": [
    {
     "data": {
      "image/png": "[encoded data removed]",
      "text/plain": [
       "<Figure size 432x288 with 1 Axes>"
      ]
     },
     "metadata": {
      "needs_background": "light"
     },
     "output_type": "display_data"
    }
   ],
   "source": [
    "sns.barplot(x='year',y='AveragePrice',data=df)\n",
    "plt.show()"
   ]
  },
  {
   "cell_type": "markdown",
   "id": "1dc1a121",
   "metadata": {},
   "source": [
    "From the above graph we can observe Avocado price is higher in 2016 than 2015."
   ]
  },
  {
   "cell_type": "code",
   "execution_count": 24,
   "id": "0499e7a8",
   "metadata": {},
   "outputs": [
    {
     "data": {
      "image/png": "[encoded data removed]",
      "text/plain": [
       "<Figure size 1080x432 with 1 Axes>"
      ]
     },
     "metadata": {
      "needs_background": "light"
     },
     "output_type": "display_data"
    }
   ],
   "source": [
    "plt.figure(figsize=(15,6))\n",
    "sns.countplot(x=df['region'])\n",
    "plt.show()"
   ]
  },
  {
   "cell_type": "code",
   "execution_count": 25,
   "id": "2f1f3449",
   "metadata": {},
   "outputs": [
    {
     "data": {
      "image/png": "[encoded data removed]",
      "text/plain": [
       "<Figure size 1440x1440 with 14 Axes>"
      ]
     },
     "metadata": {
      "needs_background": "light"
     },
     "output_type": "display_data"
    }
   ],
   "source": [
    "n=1\n",
    "cols=['AveragePrice', 'Total Volume', '4046', '4225', '4770',\n",
    "       'Total Bags', 'Small Bags', 'Large Bags', 'XLarge Bags', 'type', 'year',\n",
    "       'region','Day','Month']\n",
    "plt.figure(figsize=(20,20))\n",
    "for i in cols:\n",
    "    ax=plt.subplot(5,4,n)\n",
    "    sns.distplot(x=df[i])\n",
    "    plt.xlabel(i)\n",
    "    n+=1\n",
    "    \n",
    "plt.show()    "
   ]
  },
  {
   "cell_type": "markdown",
   "id": "a7a4ccf6",
   "metadata": {},
   "source": [
    "From the above graph, we can observe skeweness in features, 'Total volume','4046','4225','4770','Total Bags','small bags','Large Bags',\n",
    "'XLarge Bags','year'."
   ]
  },
  {
   "cell_type": "markdown",
   "id": "48b50f44",
   "metadata": {},
   "source": [
    "Let's check skeweness values for these features"
   ]
  },
  {
   "cell_type": "code",
   "execution_count": 26,
   "id": "756ffc23",
   "metadata": {},
   "outputs": [
    {
     "data": {
      "text/plain": [
       "AveragePrice   -0.109444\n",
       "Total Volume    6.200138\n",
       "4046            6.051830\n",
       "4225            6.394926\n",
       "4770            5.405164\n",
       "Total Bags      5.366378\n",
       "Small Bags      5.355185\n",
       "Large Bags      5.144495\n",
       "XLarge Bags     5.775077\n",
       "type            0.000000\n",
       "year            1.828332\n",
       "region          0.288146\n",
       "Day             0.041303\n",
       "Month           0.101439\n",
       "dtype: float64"
      ]
     },
     "execution_count": 26,
     "metadata": {},
     "output_type": "execute_result"
    }
   ],
   "source": [
    "df.skew()"
   ]
  },
  {
   "cell_type": "markdown",
   "id": "d06586e4",
   "metadata": {},
   "source": [
    "From the above we can observe skeweness value for features 'Total Volume','4046','4225','4770','Total Bags','Small Bags','Large Bags','XLarge Bags','year'."
   ]
  },
  {
   "cell_type": "code",
   "execution_count": 27,
   "id": "e5111802",
   "metadata": {},
   "outputs": [
    {
     "data": {
      "text/plain": [
       "AveragePrice   -0.109444\n",
       "Total Volume    0.071157\n",
       "4046           -0.012074\n",
       "4225            0.008443\n",
       "4770            1.526943\n",
       "Total Bags      0.005197\n",
       "Small Bags      0.027623\n",
       "Large Bags      1.431704\n",
       "XLarge Bags     2.000670\n",
       "type            0.000000\n",
       "year            1.828332\n",
       "region          0.288146\n",
       "Day             0.041303\n",
       "Month           0.101439\n",
       "dtype: float64"
      ]
     },
     "execution_count": 27,
     "metadata": {},
     "output_type": "execute_result"
    }
   ],
   "source": [
    "from scipy.stats import boxcox\n",
    "df['Total Volume']=boxcox(df['Total Volume'])[0]\n",
    "df['4046']=boxcox(df['4046'])[0]\n",
    "df['4225']=boxcox(df['4225'])[0]\n",
    "df['4770']=np.cbrt(df['4770'])\n",
    "df['Total Bags']=boxcox(df['Total Bags'])[0]\n",
    "df['Small Bags']=boxcox(df['Small Bags'])[0]\n",
    "df['Large Bags']=np.cbrt(df['Large Bags'])\n",
    "df['XLarge Bags']=np.cbrt(df['XLarge Bags'])\n",
    "df.skew()"
   ]
  },
  {
   "cell_type": "code",
   "execution_count": 28,
   "id": "22460efe",
   "metadata": {},
   "outputs": [
    {
     "data": {
      "text/plain": [
       "AveragePrice   -0.109444\n",
       "Total Volume    0.071157\n",
       "4046           -0.012074\n",
       "4225            0.008443\n",
       "4770            0.210989\n",
       "Total Bags      0.005197\n",
       "Small Bags      0.027623\n",
       "Large Bags     -0.008198\n",
       "XLarge Bags     0.524549\n",
       "type            0.000000\n",
       "year            1.828332\n",
       "region          0.288146\n",
       "Day             0.041303\n",
       "Month           0.101439\n",
       "dtype: float64"
      ]
     },
     "execution_count": 28,
     "metadata": {},
     "output_type": "execute_result"
    }
   ],
   "source": [
    "df['4770']=np.cbrt(df['4770'])\n",
    "df['Large Bags']=np.sqrt(df['Large Bags'])\n",
    "df['XLarge Bags']=np.cbrt(df['XLarge Bags'])\n",
    "df.skew()"
   ]
  },
  {
   "cell_type": "markdown",
   "id": "08453966",
   "metadata": {},
   "source": [
    "By using transformation techniques, skeweness is reduced.\n",
    "\n",
    "Let's check for outliers in the dataset."
   ]
  },
  {
   "cell_type": "code",
   "execution_count": 29,
   "id": "b51cb572",
   "metadata": {},
   "outputs": [
    {
     "data": {
      "image/png": "[encoded data removed]",
      "text/plain": [
       "<Figure size 1440x1440 with 14 Axes>"
      ]
     },
     "metadata": {
      "needs_background": "light"
     },
     "output_type": "display_data"
    }
   ],
   "source": [
    "n=1\n",
    "cols=['AveragePrice', 'Total Volume', '4046', '4225', '4770',\n",
    "       'Total Bags', 'Small Bags', 'Large Bags', 'XLarge Bags', 'type', 'year',\n",
    "       'region','Day','Month']\n",
    "plt.figure(figsize=(20,20))\n",
    "for i in cols:\n",
    "    ax=plt.subplot(5,4,n)\n",
    "    sns.boxplot(y=df[i])\n",
    "    plt.xlabel(i)\n",
    "    n+=1\n",
    "    \n",
    "plt.show()    "
   ]
  },
  {
   "cell_type": "markdown",
   "id": "94d68f32",
   "metadata": {},
   "source": [
    "From the above we can observe outliers are present in the dataset. Let's use zscore technique to remove outliers."
   ]
  },
  {
   "cell_type": "code",
   "execution_count": 30,
   "id": "4a35c8bb",
   "metadata": {},
   "outputs": [
    {
     "data": {
      "text/plain": [
       "(1511, 14)"
      ]
     },
     "execution_count": 30,
     "metadata": {},
     "output_type": "execute_result"
    }
   ],
   "source": [
    "from scipy.stats import zscore\n",
    "zscore=np.abs(zscore(df[['AveragePrice', '4770',\n",
    "       'Total Bags', 'Small Bags','Large Bags']]))\n",
    "df1=df[(zscore<3).all(axis=1)]\n",
    "df1.shape"
   ]
  },
  {
   "cell_type": "markdown",
   "id": "40b96ff7",
   "metadata": {},
   "source": [
    "We have removed outliers from the dataset.\n",
    "\n",
    "Now, let's check the correlation among the features and label."
   ]
  },
  {
   "cell_type": "code",
   "execution_count": 31,
   "id": "c9229e0b",
   "metadata": {},
   "outputs": [
    {
     "data": {
      "image/png": "[encoded data removed]",
      "text/plain": [
       "<Figure size 1440x1440 with 2 Axes>"
      ]
     },
     "metadata": {
      "needs_background": "light"
     },
     "output_type": "display_data"
    }
   ],
   "source": [
    "plt.figure(figsize=(20,20))\n",
    "sns.heatmap(df1.corr(),annot=True,fmt='.2f')\n",
    "plt.show()"
   ]
  },
  {
   "cell_type": "markdown",
   "id": "bee5ec6c",
   "metadata": {},
   "source": [
    "From the above heatmap, we can observe 'type' feature is highly correlated with all the features. Let's drop this fearure."
   ]
  },
  {
   "cell_type": "code",
   "execution_count": 32,
   "id": "c4cdcc14",
   "metadata": {},
   "outputs": [],
   "source": [
    "df1.drop(columns='type',axis=1,inplace=True)"
   ]
  },
  {
   "cell_type": "code",
   "execution_count": 33,
   "id": "070ecfb6",
   "metadata": {},
   "outputs": [
    {
     "data": {
      "image/png": "[encoded data removed]",
      "text/plain": [
       "<Figure size 1440x1440 with 2 Axes>"
      ]
     },
     "metadata": {
      "needs_background": "light"
     },
     "output_type": "display_data"
    }
   ],
   "source": [
    "plt.figure(figsize=(20,20))\n",
    "sns.heatmap(df1.corr(),annot=True,fmt='.2f')\n",
    "plt.show()"
   ]
  },
  {
   "cell_type": "markdown",
   "id": "8512b04d",
   "metadata": {},
   "source": [
    "As per my analysis from heatmap, 'total bags','small bags' features are higly correlated with each other."
   ]
  },
  {
   "cell_type": "markdown",
   "id": "e4eb353b",
   "metadata": {},
   "source": [
    "Let's check for the Multi collieanrity problem in the data."
   ]
  },
  {
   "cell_type": "markdown",
   "id": "13e8c531",
   "metadata": {},
   "source": [
    "TASK - 1 : CLASSIFICATION PROBELM\n",
    "FINDING \"REGION\""
   ]
  },
  {
   "cell_type": "code",
   "execution_count": 34,
   "id": "2da33889",
   "metadata": {},
   "outputs": [],
   "source": [
    "from sklearn.preprocessing import StandardScaler\n",
    "x=df1.drop(columns='region',axis=1)\n",
    "y=df1['region']\n",
    "scaler=StandardScaler()\n",
    "x_scaled=scaler.fit_transform(x)"
   ]
  },
  {
   "cell_type": "code",
   "execution_count": 35,
   "id": "f46188c7",
   "metadata": {},
   "outputs": [],
   "source": [
    "from statsmodels.stats.outliers_influence import variance_inflation_factor\n"
   ]
  },
  {
   "cell_type": "code",
   "execution_count": 36,
   "id": "ddee4ec0",
   "metadata": {},
   "outputs": [
    {
     "data": {
      "text/html": [
       "<div>\n",
       "<style scoped>\n",
       "    .dataframe tbody tr th:only-of-type {\n",
       "        vertical-align: middle;\n",
       "    }\n",
       "\n",
       "    .dataframe tbody tr th {\n",
       "        vertical-align: top;\n",
       "    }\n",
       "\n",
       "    .dataframe thead th {\n",
       "        text-align: right;\n",
       "    }\n",
       "</style>\n",
       "<table border=\"1\" class=\"dataframe\">\n",
       "  <thead>\n",
       "    <tr style=\"text-align: right;\">\n",
       "      <th></th>\n",
       "      <th>vif</th>\n",
       "      <th>features</th>\n",
       "    </tr>\n",
       "  </thead>\n",
       "  <tbody>\n",
       "    <tr>\n",
       "      <th>0</th>\n",
       "      <td>1.584606</td>\n",
       "      <td>AveragePrice</td>\n",
       "    </tr>\n",
       "    <tr>\n",
       "      <th>1</th>\n",
       "      <td>25.928859</td>\n",
       "      <td>Total Volume</td>\n",
       "    </tr>\n",
       "    <tr>\n",
       "      <th>2</th>\n",
       "      <td>5.978876</td>\n",
       "      <td>4046</td>\n",
       "    </tr>\n",
       "    <tr>\n",
       "      <th>3</th>\n",
       "      <td>8.596194</td>\n",
       "      <td>4225</td>\n",
       "    </tr>\n",
       "    <tr>\n",
       "      <th>4</th>\n",
       "      <td>2.809992</td>\n",
       "      <td>4770</td>\n",
       "    </tr>\n",
       "    <tr>\n",
       "      <th>5</th>\n",
       "      <td>67.436113</td>\n",
       "      <td>Total Bags</td>\n",
       "    </tr>\n",
       "    <tr>\n",
       "      <th>6</th>\n",
       "      <td>54.132735</td>\n",
       "      <td>Small Bags</td>\n",
       "    </tr>\n",
       "    <tr>\n",
       "      <th>7</th>\n",
       "      <td>3.742863</td>\n",
       "      <td>Large Bags</td>\n",
       "    </tr>\n",
       "    <tr>\n",
       "      <th>8</th>\n",
       "      <td>1.839372</td>\n",
       "      <td>XLarge Bags</td>\n",
       "    </tr>\n",
       "    <tr>\n",
       "      <th>9</th>\n",
       "      <td>1.263161</td>\n",
       "      <td>year</td>\n",
       "    </tr>\n",
       "    <tr>\n",
       "      <th>10</th>\n",
       "      <td>1.016239</td>\n",
       "      <td>Day</td>\n",
       "    </tr>\n",
       "    <tr>\n",
       "      <th>11</th>\n",
       "      <td>1.025285</td>\n",
       "      <td>Month</td>\n",
       "    </tr>\n",
       "  </tbody>\n",
       "</table>\n",
       "</div>"
      ],
      "text/plain": [
       "          vif      features\n",
       "0    1.584606  AveragePrice\n",
       "1   25.928859  Total Volume\n",
       "2    5.978876          4046\n",
       "3    8.596194          4225\n",
       "4    2.809992          4770\n",
       "5   67.436113    Total Bags\n",
       "6   54.132735    Small Bags\n",
       "7    3.742863    Large Bags\n",
       "8    1.839372   XLarge Bags\n",
       "9    1.263161          year\n",
       "10   1.016239           Day\n",
       "11   1.025285         Month"
      ]
     },
     "execution_count": 36,
     "metadata": {},
     "output_type": "execute_result"
    }
   ],
   "source": [
    "VIF=pd.DataFrame()\n",
    "VIF['vif']=[variance_inflation_factor(x_scaled,i) for i in range(x.shape[1])]\n",
    "VIF['features']=x.columns\n",
    "VIF"
   ]
  },
  {
   "cell_type": "markdown",
   "id": "01cfcf2c",
   "metadata": {},
   "source": [
    "As, per my analysis from heatmap and VIF value, 'total bags','small bags' are correlated with each other. \n",
    "\n",
    "Let's drop 'small bags' feature since its correlation value for predicting target is less than 'total bags' feature."
   ]
  },
  {
   "cell_type": "code",
   "execution_count": 37,
   "id": "74d23220",
   "metadata": {},
   "outputs": [],
   "source": [
    "df1.drop(['Small Bags','Total Volume'],axis=1,inplace=True)\n",
    "x.drop(['Small Bags','Total Volume'],axis=1,inplace=True)\n",
    "x_scaled=scaler.fit_transform(x)"
   ]
  },
  {
   "cell_type": "code",
   "execution_count": 38,
   "id": "1958a6d3",
   "metadata": {},
   "outputs": [
    {
     "data": {
      "text/html": [
       "<div>\n",
       "<style scoped>\n",
       "    .dataframe tbody tr th:only-of-type {\n",
       "        vertical-align: middle;\n",
       "    }\n",
       "\n",
       "    .dataframe tbody tr th {\n",
       "        vertical-align: top;\n",
       "    }\n",
       "\n",
       "    .dataframe thead th {\n",
       "        text-align: right;\n",
       "    }\n",
       "</style>\n",
       "<table border=\"1\" class=\"dataframe\">\n",
       "  <thead>\n",
       "    <tr style=\"text-align: right;\">\n",
       "      <th></th>\n",
       "      <th>vif</th>\n",
       "      <th>features</th>\n",
       "    </tr>\n",
       "  </thead>\n",
       "  <tbody>\n",
       "    <tr>\n",
       "      <th>0</th>\n",
       "      <td>1.457723</td>\n",
       "      <td>AveragePrice</td>\n",
       "    </tr>\n",
       "    <tr>\n",
       "      <th>1</th>\n",
       "      <td>3.164036</td>\n",
       "      <td>4046</td>\n",
       "    </tr>\n",
       "    <tr>\n",
       "      <th>2</th>\n",
       "      <td>3.562925</td>\n",
       "      <td>4225</td>\n",
       "    </tr>\n",
       "    <tr>\n",
       "      <th>3</th>\n",
       "      <td>2.638264</td>\n",
       "      <td>4770</td>\n",
       "    </tr>\n",
       "    <tr>\n",
       "      <th>4</th>\n",
       "      <td>5.588324</td>\n",
       "      <td>Total Bags</td>\n",
       "    </tr>\n",
       "    <tr>\n",
       "      <th>5</th>\n",
       "      <td>2.116489</td>\n",
       "      <td>Large Bags</td>\n",
       "    </tr>\n",
       "    <tr>\n",
       "      <th>6</th>\n",
       "      <td>1.712868</td>\n",
       "      <td>XLarge Bags</td>\n",
       "    </tr>\n",
       "    <tr>\n",
       "      <th>7</th>\n",
       "      <td>1.252471</td>\n",
       "      <td>year</td>\n",
       "    </tr>\n",
       "    <tr>\n",
       "      <th>8</th>\n",
       "      <td>1.016163</td>\n",
       "      <td>Day</td>\n",
       "    </tr>\n",
       "    <tr>\n",
       "      <th>9</th>\n",
       "      <td>1.021970</td>\n",
       "      <td>Month</td>\n",
       "    </tr>\n",
       "  </tbody>\n",
       "</table>\n",
       "</div>"
      ],
      "text/plain": [
       "        vif      features\n",
       "0  1.457723  AveragePrice\n",
       "1  3.164036          4046\n",
       "2  3.562925          4225\n",
       "3  2.638264          4770\n",
       "4  5.588324    Total Bags\n",
       "5  2.116489    Large Bags\n",
       "6  1.712868   XLarge Bags\n",
       "7  1.252471          year\n",
       "8  1.016163           Day\n",
       "9  1.021970         Month"
      ]
     },
     "execution_count": 38,
     "metadata": {},
     "output_type": "execute_result"
    }
   ],
   "source": [
    "VIF=pd.DataFrame()\n",
    "VIF['vif']=[variance_inflation_factor(x_scaled,i) for i in range(x.shape[1])]\n",
    "VIF['features']=x.columns\n",
    "VIF"
   ]
  },
  {
   "cell_type": "code",
   "execution_count": 39,
   "id": "085a97aa",
   "metadata": {},
   "outputs": [
    {
     "data": {
      "text/plain": [
       "6     74\n",
       "0     67\n",
       "2     65\n",
       "3     63\n",
       "4     62\n",
       "1     54\n",
       "31    51\n",
       "5     50\n",
       "44    49\n",
       "9     47\n",
       "26    44\n",
       "19    41\n",
       "12    40\n",
       "42    39\n",
       "38    38\n",
       "49    36\n",
       "47    34\n",
       "22    34\n",
       "7     31\n",
       "34    30\n",
       "17    29\n",
       "28    29\n",
       "50    27\n",
       "25    25\n",
       "48    25\n",
       "11    24\n",
       "41    24\n",
       "8     23\n",
       "13    23\n",
       "32    22\n",
       "29    21\n",
       "36    21\n",
       "46    19\n",
       "15    19\n",
       "24    18\n",
       "14    18\n",
       "10    17\n",
       "23    17\n",
       "37    17\n",
       "35    16\n",
       "45    16\n",
       "18    16\n",
       "39    15\n",
       "16    13\n",
       "30    13\n",
       "33    12\n",
       "27    12\n",
       "20    10\n",
       "40     9\n",
       "43     9\n",
       "21     3\n",
       "Name: region, dtype: int64"
      ]
     },
     "execution_count": 39,
     "metadata": {},
     "output_type": "execute_result"
    }
   ],
   "source": [
    "y.value_counts()"
   ]
  },
  {
   "cell_type": "code",
   "execution_count": 188,
   "id": "d9d7bdf4",
   "metadata": {},
   "outputs": [
    {
     "data": {
      "text/plain": [
       "1    553\n",
       "5    278\n",
       "2    233\n",
       "4    231\n",
       "3    216\n",
       "Name: region, dtype: int64"
      ]
     },
     "execution_count": 188,
     "metadata": {},
     "output_type": "execute_result"
    }
   ],
   "source": [
    "y=df1['region']\n",
    "y.value_counts()"
   ]
  },
  {
   "cell_type": "code",
   "execution_count": null,
   "id": "d4eea5ae",
   "metadata": {},
   "outputs": [],
   "source": []
  },
  {
   "cell_type": "markdown",
   "id": "766e08ff",
   "metadata": {},
   "source": [
    "Let's find the best RandomState"
   ]
  },
  {
   "cell_type": "markdown",
   "id": "a3fba2d8",
   "metadata": {},
   "source": [
    "TASK-1 Classification Problem"
   ]
  },
  {
   "cell_type": "code",
   "execution_count": 40,
   "id": "407a3b7b",
   "metadata": {},
   "outputs": [],
   "source": [
    "from sklearn.ensemble import RandomForestClassifier\n",
    "from sklearn.metrics import accuracy_score\n",
    "from sklearn.model_selection import train_test_split"
   ]
  },
  {
   "cell_type": "code",
   "execution_count": 41,
   "id": "2e96e7d8",
   "metadata": {},
   "outputs": [
    {
     "name": "stdout",
     "output_type": "stream",
     "text": [
      "Best Random State -  56  Accuracy score -  0.986784140969163\n"
     ]
    }
   ],
   "source": [
    "max_acc=0\n",
    "max_rand_state=0\n",
    "for i in range(1,200):\n",
    "    x_train,x_test,y_train,y_test=train_test_split(x_scaled,y,test_size=0.30,random_state=i)\n",
    "    RFC=RandomForestClassifier()\n",
    "    RFC.fit(x_train,y_train)\n",
    "    y_predict=RFC.predict(x_test)\n",
    "    acc_score=accuracy_score(y_test,y_predict)\n",
    "    if(acc_score>max_acc):\n",
    "        max_acc=acc_score\n",
    "        max_rand_state=i\n",
    "        \n",
    "print(\"Best Random State - \",max_rand_state,\" Accuracy score - \",max_acc)        "
   ]
  },
  {
   "cell_type": "markdown",
   "id": "6b78570a",
   "metadata": {},
   "source": [
    "Best Random State is 56 and Accuracy score is 99%"
   ]
  },
  {
   "cell_type": "code",
   "execution_count": 42,
   "id": "095e6ca5",
   "metadata": {},
   "outputs": [],
   "source": [
    "x_train,x_test,y_train,y_test=train_test_split(x_scaled,y,test_size=0.30,random_state=56)"
   ]
  },
  {
   "cell_type": "code",
   "execution_count": 43,
   "id": "a2b98273",
   "metadata": {},
   "outputs": [],
   "source": [
    "from sklearn.tree import DecisionTreeClassifier\n",
    "from sklearn.neighbors import KNeighborsClassifier\n",
    "from sklearn.ensemble import AdaBoostClassifier,GradientBoostingClassifier,BaggingClassifier,RandomForestClassifier,ExtraTreesClassifier\n",
    "from sklearn.svm import SVC"
   ]
  },
  {
   "cell_type": "code",
   "execution_count": 44,
   "id": "ea836a62",
   "metadata": {},
   "outputs": [
    {
     "name": "stdout",
     "output_type": "stream",
     "text": [
      "Accuracy score  0.8678414096916299\n"
     ]
    }
   ],
   "source": [
    "svc=SVC()\n",
    "svc.fit(x_train,y_train)\n",
    "y_predict_svc=svc.predict(x_test)\n",
    "acc_score_svc=accuracy_score(y_test,y_predict_svc)\n",
    "print(\"Accuracy score \",acc_score_svc)"
   ]
  },
  {
   "cell_type": "code",
   "execution_count": 45,
   "id": "bf9eab70",
   "metadata": {},
   "outputs": [
    {
     "name": "stdout",
     "output_type": "stream",
     "text": [
      "Accuracy Score  0.9074889867841409\n"
     ]
    }
   ],
   "source": [
    "DTC=DecisionTreeClassifier()\n",
    "DTC.fit(x_train,y_train)\n",
    "y_predict_DTC=DTC.predict(x_test)\n",
    "acc_score_DTC=accuracy_score(y_test,y_predict_DTC)\n",
    "print(\"Accuracy Score \",acc_score_DTC)"
   ]
  },
  {
   "cell_type": "code",
   "execution_count": 46,
   "id": "401601a5",
   "metadata": {},
   "outputs": [
    {
     "name": "stdout",
     "output_type": "stream",
     "text": [
      "Accuracy Score  0.788546255506608\n"
     ]
    }
   ],
   "source": [
    "Knn=KNeighborsClassifier()\n",
    "Knn.fit(x_train,y_train)\n",
    "y_predict_Knn=Knn.predict(x_test)\n",
    "acc_score_Knn=accuracy_score(y_test,y_predict_Knn)\n",
    "print(\"Accuracy Score \",acc_score_Knn)"
   ]
  },
  {
   "cell_type": "code",
   "execution_count": 47,
   "id": "9993f4e3",
   "metadata": {},
   "outputs": [
    {
     "name": "stdout",
     "output_type": "stream",
     "text": [
      "Accuracy Score  0.10572687224669604\n"
     ]
    }
   ],
   "source": [
    "ABC=AdaBoostClassifier()\n",
    "ABC.fit(x_train,y_train)\n",
    "y_predict_ABC=ABC.predict(x_test)\n",
    "acc_score_ABC=accuracy_score(y_test,y_predict_ABC)\n",
    "print(\"Accuracy Score \",acc_score_ABC)"
   ]
  },
  {
   "cell_type": "code",
   "execution_count": 48,
   "id": "0efc0674",
   "metadata": {},
   "outputs": [
    {
     "name": "stdout",
     "output_type": "stream",
     "text": [
      "Accuracy Score  0.8832599118942731\n"
     ]
    }
   ],
   "source": [
    "GDT=GradientBoostingClassifier()\n",
    "GDT.fit(x_train,y_train)\n",
    "y_predict_GDT=GDT.predict(x_test)\n",
    "acc_score_GDT=accuracy_score(y_test,y_predict_GDT)\n",
    "print(\"Accuracy Score \",acc_score_GDT)"
   ]
  },
  {
   "cell_type": "code",
   "execution_count": 49,
   "id": "c2bc020a",
   "metadata": {},
   "outputs": [
    {
     "name": "stdout",
     "output_type": "stream",
     "text": [
      "Accuracy Score  0.9515418502202643\n"
     ]
    }
   ],
   "source": [
    "BC=BaggingClassifier()\n",
    "BC.fit(x_train,y_train)\n",
    "y_predict_BC=BC.predict(x_test)\n",
    "acc_score_BC=accuracy_score(y_test,y_predict_BC)\n",
    "print('Accuracy Score ',acc_score_BC)"
   ]
  },
  {
   "cell_type": "code",
   "execution_count": 50,
   "id": "f2c5adcd",
   "metadata": {},
   "outputs": [
    {
     "name": "stdout",
     "output_type": "stream",
     "text": [
      "accuracy score : 0.9845814977973568\n"
     ]
    }
   ],
   "source": [
    "RFC=RandomForestClassifier()\n",
    "RFC.fit(x_train,y_train)\n",
    "y_predict_RFC=RFC.predict(x_test)\n",
    "acc_score_RFC=accuracy_score(y_test,y_predict_RFC)\n",
    "print(\"accuracy score :\",acc_score_RFC)"
   ]
  },
  {
   "cell_type": "code",
   "execution_count": 51,
   "id": "7635041a",
   "metadata": {},
   "outputs": [
    {
     "name": "stdout",
     "output_type": "stream",
     "text": [
      "Accuracy Score  0.973568281938326\n"
     ]
    }
   ],
   "source": [
    "ETC=ExtraTreesClassifier()\n",
    "ETC.fit(x_train,y_train)\n",
    "y_predict_ETC=ETC.predict(x_test)\n",
    "acc_score_ETC=accuracy_score(y_test,y_predict_ETC)\n",
    "print(\"Accuracy Score \",acc_score_ETC)"
   ]
  },
  {
   "cell_type": "markdown",
   "id": "d34233c8",
   "metadata": {},
   "source": [
    "From the above we can observe RandomForestClassifier exhibits highest accuracy score of 98.4%. \n",
    "\n",
    "Let's check whether accuracy score provided by the model is due to overfitting of the model. "
   ]
  },
  {
   "cell_type": "code",
   "execution_count": 52,
   "id": "f0ccc5eb",
   "metadata": {},
   "outputs": [],
   "source": [
    "from sklearn.model_selection import cross_val_score\n",
    "from sklearn.metrics import confusion_matrix,classification_report"
   ]
  },
  {
   "cell_type": "code",
   "execution_count": 53,
   "id": "25272ab4",
   "metadata": {},
   "outputs": [
    {
     "name": "stdout",
     "output_type": "stream",
     "text": [
      "Difference is  0.04608347580972749\n"
     ]
    }
   ],
   "source": [
    "score=cross_val_score(RFC,x,y)\n",
    "mean=score.mean()\n",
    "print(\"Difference is \",acc_score_RFC-mean)"
   ]
  },
  {
   "cell_type": "code",
   "execution_count": 54,
   "id": "6a00aaa4",
   "metadata": {},
   "outputs": [
    {
     "name": "stdout",
     "output_type": "stream",
     "text": [
      "Difference is  0.8188653862614723\n"
     ]
    }
   ],
   "source": [
    "score=cross_val_score(svc,x,y)\n",
    "mean=score.mean()\n",
    "print(\"Difference is \",acc_score_svc-mean)"
   ]
  },
  {
   "cell_type": "code",
   "execution_count": 55,
   "id": "b82fdc7e",
   "metadata": {},
   "outputs": [
    {
     "name": "stdout",
     "output_type": "stream",
     "text": [
      "Difference is  0.47483786479998763\n"
     ]
    }
   ],
   "source": [
    "score=cross_val_score(Knn,x,y)\n",
    "mean=score.mean()\n",
    "print(\"Difference is \",acc_score_Knn-mean)"
   ]
  },
  {
   "cell_type": "code",
   "execution_count": 56,
   "id": "50a4ad82",
   "metadata": {},
   "outputs": [
    {
     "name": "stdout",
     "output_type": "stream",
     "text": [
      "Difference is  0.08880824453773084\n"
     ]
    }
   ],
   "source": [
    "score=cross_val_score(DTC,x,y)\n",
    "mean=score.mean()\n",
    "print(\"Difference is \",acc_score_DTC-mean)"
   ]
  },
  {
   "cell_type": "code",
   "execution_count": 57,
   "id": "303e6ff3",
   "metadata": {},
   "outputs": [
    {
     "name": "stdout",
     "output_type": "stream",
     "text": [
      "Difference is  0.021831783785199455\n"
     ]
    }
   ],
   "source": [
    "score=cross_val_score(ETC,x,y)\n",
    "mean=score.mean()\n",
    "print(\"Difference is \",acc_score_ETC-mean)"
   ]
  },
  {
   "cell_type": "code",
   "execution_count": 58,
   "id": "6dc94c78",
   "metadata": {},
   "outputs": [
    {
     "name": "stdout",
     "output_type": "stream",
     "text": [
      "Difference is  0.052625855111111286\n"
     ]
    }
   ],
   "source": [
    "score=cross_val_score(GDT,x,y)\n",
    "mean=score.mean()\n",
    "print(\"Difference is \",acc_score_GDT-mean)"
   ]
  },
  {
   "cell_type": "code",
   "execution_count": 59,
   "id": "e7b64363",
   "metadata": {},
   "outputs": [
    {
     "name": "stdout",
     "output_type": "stream",
     "text": [
      "Difference is  -0.02134020532198798\n"
     ]
    }
   ],
   "source": [
    "score=cross_val_score(ABC,x,y)\n",
    "mean=score.mean()\n",
    "print(\"Difference is \",acc_score_ABC-mean)"
   ]
  },
  {
   "cell_type": "code",
   "execution_count": 60,
   "id": "c9eb9cd6",
   "metadata": {},
   "outputs": [
    {
     "name": "stdout",
     "output_type": "stream",
     "text": [
      "Difference is  0.07261150685480189\n"
     ]
    }
   ],
   "source": [
    "score=cross_val_score(BC,x,y)\n",
    "mean=score.mean()\n",
    "print(\"Difference is \",acc_score_BC-mean)"
   ]
  },
  {
   "cell_type": "markdown",
   "id": "98ace87c",
   "metadata": {},
   "source": [
    "From the above we can observe ExtraTreesClassifier has less value. Let's consider this model as the best model for the dataset."
   ]
  },
  {
   "cell_type": "markdown",
   "id": "467fcb59",
   "metadata": {},
   "source": [
    "Let's generate classification report and confusion matrix"
   ]
  },
  {
   "cell_type": "code",
   "execution_count": 61,
   "id": "aeb9633e",
   "metadata": {},
   "outputs": [
    {
     "name": "stdout",
     "output_type": "stream",
     "text": [
      "confusion matrix \n",
      " [[22  0  0 ...  0  0  0]\n",
      " [ 0 19  0 ...  0  0  0]\n",
      " [ 0  0 23 ...  0  0  0]\n",
      " ...\n",
      " [ 0  0  0 ...  8  0  0]\n",
      " [ 0  0  0 ...  0 14  0]\n",
      " [ 0  0  0 ...  0  0 10]]\n",
      "classification report \n",
      "               precision    recall  f1-score   support\n",
      "\n",
      "           0       1.00      1.00      1.00        22\n",
      "           1       0.95      1.00      0.97        19\n",
      "           2       1.00      1.00      1.00        23\n",
      "           3       1.00      1.00      1.00        18\n",
      "           4       1.00      1.00      1.00        17\n",
      "           5       1.00      1.00      1.00        21\n",
      "           6       1.00      1.00      1.00        22\n",
      "           7       1.00      1.00      1.00         8\n",
      "           8       1.00      1.00      1.00        10\n",
      "           9       0.92      1.00      0.96        11\n",
      "          10       1.00      1.00      1.00         6\n",
      "          11       0.90      1.00      0.95         9\n",
      "          12       1.00      1.00      1.00        14\n",
      "          13       1.00      1.00      1.00         7\n",
      "          14       1.00      1.00      1.00         5\n",
      "          15       1.00      1.00      1.00         5\n",
      "          16       1.00      0.83      0.91         6\n",
      "          17       0.89      0.89      0.89         9\n",
      "          18       0.75      0.75      0.75         4\n",
      "          19       1.00      0.94      0.97        17\n",
      "          20       1.00      1.00      1.00         4\n",
      "          21       1.00      1.00      1.00         2\n",
      "          22       1.00      0.94      0.97        17\n",
      "          23       1.00      0.75      0.86         4\n",
      "          24       1.00      1.00      1.00         6\n",
      "          25       1.00      0.86      0.92         7\n",
      "          26       1.00      1.00      1.00        11\n",
      "          27       1.00      1.00      1.00         3\n",
      "          28       0.83      1.00      0.91         5\n",
      "          29       0.83      1.00      0.91         5\n",
      "          30       1.00      1.00      1.00         5\n",
      "          31       0.88      0.78      0.82         9\n",
      "          32       0.80      1.00      0.89         4\n",
      "          33       1.00      1.00      1.00         4\n",
      "          34       1.00      0.78      0.88         9\n",
      "          35       1.00      1.00      1.00         4\n",
      "          36       1.00      1.00      1.00         6\n",
      "          37       1.00      1.00      1.00         4\n",
      "          38       0.80      1.00      0.89         8\n",
      "          39       1.00      0.83      0.91         6\n",
      "          40       1.00      1.00      1.00         2\n",
      "          41       1.00      1.00      1.00         6\n",
      "          42       1.00      1.00      1.00        10\n",
      "          43       1.00      1.00      1.00         2\n",
      "          44       1.00      1.00      1.00        11\n",
      "          45       1.00      1.00      1.00         4\n",
      "          46       1.00      1.00      1.00         4\n",
      "          47       1.00      1.00      1.00         7\n",
      "          48       1.00      1.00      1.00         8\n",
      "          49       1.00      1.00      1.00        14\n",
      "          50       0.91      1.00      0.95        10\n",
      "\n",
      "    accuracy                           0.97       454\n",
      "   macro avg       0.97      0.97      0.97       454\n",
      "weighted avg       0.98      0.97      0.97       454\n",
      "\n"
     ]
    }
   ],
   "source": [
    "print('confusion matrix \\n',confusion_matrix(y_test,y_predict_ETC))\n",
    "print('classification report \\n',classification_report(y_test,y_predict_ETC))"
   ]
  },
  {
   "cell_type": "markdown",
   "id": "e019f22b",
   "metadata": {},
   "source": [
    "Let's tune the paramters and try to increase the accuracy score of the model"
   ]
  },
  {
   "cell_type": "code",
   "execution_count": 62,
   "id": "b2be2f59",
   "metadata": {},
   "outputs": [],
   "source": [
    "from sklearn.model_selection import GridSearchCV"
   ]
  },
  {
   "cell_type": "code",
   "execution_count": 63,
   "id": "ede07db6",
   "metadata": {},
   "outputs": [
    {
     "data": {
      "text/plain": [
       "GridSearchCV(estimator=ExtraTreesClassifier(), n_jobs=-1,\n",
       "             param_grid={'criterion': ['gini', 'entropy'],\n",
       "                         'max_depth': [17, 18, 19, 20, 21, 22],\n",
       "                         'min_samples_leaf': [2, 3, 4],\n",
       "                         'min_samples_split': [6, 7, 8]})"
      ]
     },
     "execution_count": 63,
     "metadata": {},
     "output_type": "execute_result"
    }
   ],
   "source": [
    "param={'criterion':['gini','entropy'],\n",
    "      'max_depth':[17,18,19,20,21,22],\n",
    "      'min_samples_leaf':[2,3,4],\n",
    "      'min_samples_split':[6,7,8]}\n",
    "GSV=GridSearchCV(ETC,param_grid=param,n_jobs=-1)\n",
    "GSV.fit(x_train,y_train)"
   ]
  },
  {
   "cell_type": "code",
   "execution_count": 64,
   "id": "1167fa2b",
   "metadata": {},
   "outputs": [
    {
     "data": {
      "text/plain": [
       "{'criterion': 'gini',\n",
       " 'max_depth': 21,\n",
       " 'min_samples_leaf': 2,\n",
       " 'min_samples_split': 6}"
      ]
     },
     "execution_count": 64,
     "metadata": {},
     "output_type": "execute_result"
    }
   ],
   "source": [
    "GSV.best_params_"
   ]
  },
  {
   "cell_type": "code",
   "execution_count": 71,
   "id": "5c7dd658",
   "metadata": {},
   "outputs": [
    {
     "name": "stdout",
     "output_type": "stream",
     "text": [
      "Accuracy score -  0.9779735682819384\n"
     ]
    }
   ],
   "source": [
    "Best_model=ExtraTreesClassifier(criterion='gini',max_depth=19,min_samples_leaf=2,min_samples_split=5)\n",
    "Best_model.fit(x_train,y_train)\n",
    "y_predict=Best_model.predict(x_test)\n",
    "acc=accuracy_score(y_test,y_predict)\n",
    "print(\"Accuracy score - \",acc)"
   ]
  },
  {
   "cell_type": "code",
   "execution_count": 72,
   "id": "416d810f",
   "metadata": {},
   "outputs": [
    {
     "name": "stdout",
     "output_type": "stream",
     "text": [
      "confusion_matrix\n",
      " [[22  0  0 ...  0  0  0]\n",
      " [ 0 19  0 ...  0  0  0]\n",
      " [ 0  0 23 ...  0  0  0]\n",
      " ...\n",
      " [ 0  0  0 ...  8  0  0]\n",
      " [ 0  0  0 ...  0 14  0]\n",
      " [ 0  0  0 ...  0  0 10]]\n"
     ]
    }
   ],
   "source": [
    "print(\"confusion_matrix\\n\",confusion_matrix(y_test,y_predict))"
   ]
  },
  {
   "cell_type": "code",
   "execution_count": 73,
   "id": "4fc54706",
   "metadata": {},
   "outputs": [
    {
     "name": "stdout",
     "output_type": "stream",
     "text": [
      "classification report \n",
      "               precision    recall  f1-score   support\n",
      "\n",
      "           0       1.00      1.00      1.00        22\n",
      "           1       0.95      1.00      0.97        19\n",
      "           2       1.00      1.00      1.00        23\n",
      "           3       1.00      1.00      1.00        18\n",
      "           4       1.00      1.00      1.00        17\n",
      "           5       1.00      1.00      1.00        21\n",
      "           6       1.00      1.00      1.00        22\n",
      "           7       1.00      1.00      1.00         8\n",
      "           8       1.00      1.00      1.00        10\n",
      "           9       1.00      1.00      1.00        11\n",
      "          10       1.00      1.00      1.00         6\n",
      "          11       1.00      1.00      1.00         9\n",
      "          12       1.00      1.00      1.00        14\n",
      "          13       1.00      1.00      1.00         7\n",
      "          14       1.00      1.00      1.00         5\n",
      "          15       1.00      1.00      1.00         5\n",
      "          16       1.00      0.83      0.91         6\n",
      "          17       0.80      0.89      0.84         9\n",
      "          18       0.75      0.75      0.75         4\n",
      "          19       1.00      0.94      0.97        17\n",
      "          20       1.00      0.75      0.86         4\n",
      "          21       1.00      0.50      0.67         2\n",
      "          22       1.00      0.94      0.97        17\n",
      "          23       1.00      1.00      1.00         4\n",
      "          24       1.00      1.00      1.00         6\n",
      "          25       1.00      1.00      1.00         7\n",
      "          26       1.00      1.00      1.00        11\n",
      "          27       1.00      1.00      1.00         3\n",
      "          28       0.83      1.00      0.91         5\n",
      "          29       1.00      1.00      1.00         5\n",
      "          30       1.00      1.00      1.00         5\n",
      "          31       0.88      0.78      0.82         9\n",
      "          32       0.80      1.00      0.89         4\n",
      "          33       1.00      1.00      1.00         4\n",
      "          34       1.00      0.89      0.94         9\n",
      "          35       1.00      1.00      1.00         4\n",
      "          36       0.86      1.00      0.92         6\n",
      "          37       1.00      1.00      1.00         4\n",
      "          38       0.89      1.00      0.94         8\n",
      "          39       1.00      1.00      1.00         6\n",
      "          40       1.00      1.00      1.00         2\n",
      "          41       1.00      1.00      1.00         6\n",
      "          42       0.91      1.00      0.95        10\n",
      "          43       1.00      1.00      1.00         2\n",
      "          44       1.00      1.00      1.00        11\n",
      "          45       1.00      1.00      1.00         4\n",
      "          46       1.00      1.00      1.00         4\n",
      "          47       1.00      1.00      1.00         7\n",
      "          48       1.00      1.00      1.00         8\n",
      "          49       1.00      1.00      1.00        14\n",
      "          50       1.00      1.00      1.00        10\n",
      "\n",
      "    accuracy                           0.98       454\n",
      "   macro avg       0.97      0.97      0.97       454\n",
      "weighted avg       0.98      0.98      0.98       454\n",
      "\n"
     ]
    }
   ],
   "source": [
    "print(\"classification report \\n\",classification_report(y_test,y_predict))"
   ]
  },
  {
   "cell_type": "code",
   "execution_count": 74,
   "id": "7c95c8b9",
   "metadata": {},
   "outputs": [],
   "source": [
    "import pickle\n",
    "pickle.dump('Best_model',open(\"Avocado_classification\",\"wb\"))"
   ]
  },
  {
   "cell_type": "markdown",
   "id": "a7216de0",
   "metadata": {},
   "source": [
    "TASK-2 Regression problem"
   ]
  },
  {
   "cell_type": "code",
   "execution_count": 75,
   "id": "5ba2d10a",
   "metadata": {},
   "outputs": [],
   "source": [
    "from sklearn.linear_model import LinearRegression\n",
    "from sklearn.model_selection import train_test_split\n",
    "from sklearn.metrics import r2_score"
   ]
  },
  {
   "cell_type": "code",
   "execution_count": 76,
   "id": "a8c26202",
   "metadata": {},
   "outputs": [],
   "source": [
    "x=df1.drop(columns='AveragePrice',axis=1)\n",
    "y=df1['AveragePrice']\n",
    "x_scaled=scaler.fit_transform(x)"
   ]
  },
  {
   "cell_type": "code",
   "execution_count": 77,
   "id": "d92b0c88",
   "metadata": {},
   "outputs": [
    {
     "data": {
      "text/html": [
       "<div>\n",
       "<style scoped>\n",
       "    .dataframe tbody tr th:only-of-type {\n",
       "        vertical-align: middle;\n",
       "    }\n",
       "\n",
       "    .dataframe tbody tr th {\n",
       "        vertical-align: top;\n",
       "    }\n",
       "\n",
       "    .dataframe thead th {\n",
       "        text-align: right;\n",
       "    }\n",
       "</style>\n",
       "<table border=\"1\" class=\"dataframe\">\n",
       "  <thead>\n",
       "    <tr style=\"text-align: right;\">\n",
       "      <th></th>\n",
       "      <th>vif</th>\n",
       "      <th>features</th>\n",
       "    </tr>\n",
       "  </thead>\n",
       "  <tbody>\n",
       "    <tr>\n",
       "      <th>0</th>\n",
       "      <td>2.728127</td>\n",
       "      <td>4046</td>\n",
       "    </tr>\n",
       "    <tr>\n",
       "      <th>1</th>\n",
       "      <td>3.564503</td>\n",
       "      <td>4225</td>\n",
       "    </tr>\n",
       "    <tr>\n",
       "      <th>2</th>\n",
       "      <td>2.650233</td>\n",
       "      <td>4770</td>\n",
       "    </tr>\n",
       "    <tr>\n",
       "      <th>3</th>\n",
       "      <td>5.618826</td>\n",
       "      <td>Total Bags</td>\n",
       "    </tr>\n",
       "    <tr>\n",
       "      <th>4</th>\n",
       "      <td>2.141155</td>\n",
       "      <td>Large Bags</td>\n",
       "    </tr>\n",
       "    <tr>\n",
       "      <th>5</th>\n",
       "      <td>1.765239</td>\n",
       "      <td>XLarge Bags</td>\n",
       "    </tr>\n",
       "    <tr>\n",
       "      <th>6</th>\n",
       "      <td>1.542683</td>\n",
       "      <td>year</td>\n",
       "    </tr>\n",
       "    <tr>\n",
       "      <th>7</th>\n",
       "      <td>1.535854</td>\n",
       "      <td>region</td>\n",
       "    </tr>\n",
       "    <tr>\n",
       "      <th>8</th>\n",
       "      <td>1.008537</td>\n",
       "      <td>Day</td>\n",
       "    </tr>\n",
       "    <tr>\n",
       "      <th>9</th>\n",
       "      <td>1.022653</td>\n",
       "      <td>Month</td>\n",
       "    </tr>\n",
       "  </tbody>\n",
       "</table>\n",
       "</div>"
      ],
      "text/plain": [
       "        vif     features\n",
       "0  2.728127         4046\n",
       "1  3.564503         4225\n",
       "2  2.650233         4770\n",
       "3  5.618826   Total Bags\n",
       "4  2.141155   Large Bags\n",
       "5  1.765239  XLarge Bags\n",
       "6  1.542683         year\n",
       "7  1.535854       region\n",
       "8  1.008537          Day\n",
       "9  1.022653        Month"
      ]
     },
     "execution_count": 77,
     "metadata": {},
     "output_type": "execute_result"
    }
   ],
   "source": [
    "VIF=pd.DataFrame()\n",
    "VIF['vif']=[variance_inflation_factor(x_scaled,i) for i in range(x.shape[1])]\n",
    "VIF['features']=x.columns\n",
    "VIF"
   ]
  },
  {
   "cell_type": "markdown",
   "id": "b7c6e39f",
   "metadata": {},
   "source": [
    "Let's find best Random State"
   ]
  },
  {
   "cell_type": "code",
   "execution_count": 78,
   "id": "430e4ef4",
   "metadata": {},
   "outputs": [
    {
     "name": "stdout",
     "output_type": "stream",
     "text": [
      "Best random state :  79\n",
      "r2 score : 0.3896376462277227\n"
     ]
    }
   ],
   "source": [
    "max_rvalue=0\n",
    "max_randstate=0\n",
    "for i in range(1,300):\n",
    "    x_train,x_test,y_train,y_test=train_test_split(x_scaled,y,test_size=0.25,random_state=i)\n",
    "    LR=LinearRegression()\n",
    "    LR.fit(x_train,y_train)\n",
    "    y_predict=LR.predict(x_test)\n",
    "    r_value=r2_score(y_test,y_predict)\n",
    "    if(r_value>max_rvalue):\n",
    "        max_rvalue=r_value\n",
    "        max_randstate=i\n",
    "        \n",
    "    \n",
    "print('Best random state : ',max_randstate) \n",
    "print('r2 score :',max_rvalue)"
   ]
  },
  {
   "cell_type": "markdown",
   "id": "2349d0f1",
   "metadata": {},
   "source": [
    "Best Random State is 79 and R2score is 39%."
   ]
  },
  {
   "cell_type": "code",
   "execution_count": 79,
   "id": "745f4b30",
   "metadata": {},
   "outputs": [],
   "source": [
    "x_train,x_test,y_train,y_test=train_test_split(x_scaled,y,test_size=0.25,random_state=79)"
   ]
  },
  {
   "cell_type": "code",
   "execution_count": 80,
   "id": "e7bbcaca",
   "metadata": {},
   "outputs": [],
   "source": [
    "from sklearn.linear_model import LinearRegression,Lasso,Ridge\n",
    "from sklearn.tree import DecisionTreeRegressor,ExtraTreeRegressor\n",
    "from sklearn.neighbors import KNeighborsRegressor\n",
    "from sklearn.ensemble import RandomForestRegressor\n",
    "from sklearn.svm import SVC"
   ]
  },
  {
   "cell_type": "code",
   "execution_count": 81,
   "id": "a2f927c7",
   "metadata": {},
   "outputs": [
    {
     "name": "stdout",
     "output_type": "stream",
     "text": [
      "R2 score  0.3896376462277227\n"
     ]
    }
   ],
   "source": [
    "LR=LinearRegression()\n",
    "LR.fit(x_train,y_train)\n",
    "y_predict_LR=LR.predict(x_test)\n",
    "r_value_LR=r2_score(y_test,y_predict_LR)\n",
    "print(\"R2 score \",r_value_LR)"
   ]
  },
  {
   "cell_type": "code",
   "execution_count": 82,
   "id": "b34dea37",
   "metadata": {},
   "outputs": [
    {
     "name": "stdout",
     "output_type": "stream",
     "text": [
      "R2 score  -0.0003748096990663363\n"
     ]
    }
   ],
   "source": [
    "L=Lasso()\n",
    "L.fit(x_train,y_train)\n",
    "y_predict_L=L.predict(x_test)\n",
    "r_value_L=r2_score(y_test,y_predict_L)\n",
    "print(\"R2 score \",r_value_L)"
   ]
  },
  {
   "cell_type": "code",
   "execution_count": 83,
   "id": "b6bc65a2",
   "metadata": {},
   "outputs": [
    {
     "name": "stdout",
     "output_type": "stream",
     "text": [
      "R2 score  0.38948024605143095\n"
     ]
    }
   ],
   "source": [
    "R=Ridge()\n",
    "R.fit(x_train,y_train)\n",
    "y_predict_R=R.predict(x_test)\n",
    "r_value_R=r2_score(y_test,y_predict_R)\n",
    "print('R2 score ',r_value_R)"
   ]
  },
  {
   "cell_type": "code",
   "execution_count": 84,
   "id": "4be09aaf",
   "metadata": {},
   "outputs": [
    {
     "name": "stdout",
     "output_type": "stream",
     "text": [
      "R2 score  0.7193933448073371\n"
     ]
    }
   ],
   "source": [
    "DTR=DecisionTreeRegressor()\n",
    "DTR.fit(x_train,y_train)\n",
    "y_predict_DTR=DTR.predict(x_test)\n",
    "r_value_DTR=r2_score(y_test,y_predict_DTR)\n",
    "print('R2 score ',r_value_DTR)"
   ]
  },
  {
   "cell_type": "code",
   "execution_count": 85,
   "id": "ae928d69",
   "metadata": {},
   "outputs": [
    {
     "name": "stdout",
     "output_type": "stream",
     "text": [
      "R2 score   0.690775980610026\n"
     ]
    }
   ],
   "source": [
    "KNR=KNeighborsRegressor()\n",
    "KNR.fit(x_train,y_train)\n",
    "y_predict_KNR=KNR.predict(x_test)\n",
    "r_value_KNR=r2_score(y_test,y_predict_KNR)\n",
    "print('R2 score  ',r_value_KNR)"
   ]
  },
  {
   "cell_type": "code",
   "execution_count": 86,
   "id": "737e2500",
   "metadata": {},
   "outputs": [
    {
     "name": "stdout",
     "output_type": "stream",
     "text": [
      "R2 score  0.8317570665916472\n"
     ]
    }
   ],
   "source": [
    "RFR=RandomForestRegressor()\n",
    "RFR.fit(x_train,y_train)\n",
    "y_predict_RFR=RFR.predict(x_test)\n",
    "r_value_RFR=r2_score(y_test,y_predict_RFR)\n",
    "print('R2 score ',r_value_RFR)"
   ]
  },
  {
   "cell_type": "code",
   "execution_count": 87,
   "id": "3937d030",
   "metadata": {},
   "outputs": [
    {
     "name": "stdout",
     "output_type": "stream",
     "text": [
      "R2 score  0.6858753789975858\n"
     ]
    }
   ],
   "source": [
    "ETR=ExtraTreeRegressor()\n",
    "ETR.fit(x_train,y_train)\n",
    "y_predict_ETR=ETR.predict(x_test)\n",
    "r_value_ETR=r2_score(y_test,y_predict_ETR)\n",
    "print('R2 score ',r_value_ETR)"
   ]
  },
  {
   "cell_type": "markdown",
   "id": "5c505d22",
   "metadata": {},
   "source": [
    "From the above we can observe R2 score provided by RandomForestRegressor is highest among the other models. \n",
    "\n",
    "Now, let's check R2 score provided by the models are due to overfitting or not.\n",
    "\n",
    "This can be checked with cross validation score value."
   ]
  },
  {
   "cell_type": "code",
   "execution_count": 88,
   "id": "05b8b98c",
   "metadata": {},
   "outputs": [],
   "source": [
    "from sklearn.model_selection import cross_val_score"
   ]
  },
  {
   "cell_type": "code",
   "execution_count": 89,
   "id": "f890dee1",
   "metadata": {},
   "outputs": [
    {
     "name": "stdout",
     "output_type": "stream",
     "text": [
      "cross validation score is  0.4714669696116547\n"
     ]
    }
   ],
   "source": [
    "score=cross_val_score(LR,x,y)\n",
    "print(\"cross validation score is \", r_value_LR-score.mean())"
   ]
  },
  {
   "cell_type": "code",
   "execution_count": 90,
   "id": "9771acfb",
   "metadata": {},
   "outputs": [
    {
     "name": "stdout",
     "output_type": "stream",
     "text": [
      "Difference is  1.0862523012017626\n"
     ]
    }
   ],
   "source": [
    "score=cross_val_score(DTR,x,y)\n",
    "print(\"Difference is \",r_value_DTR-score.mean())"
   ]
  },
  {
   "cell_type": "code",
   "execution_count": 91,
   "id": "91a2d752",
   "metadata": {},
   "outputs": [
    {
     "name": "stdout",
     "output_type": "stream",
     "text": [
      "Difference is  1.0636526179178762\n"
     ]
    }
   ],
   "source": [
    "score=cross_val_score(KNR,x,y)\n",
    "print(\"Difference is \",r_value_KNR-score.mean())"
   ]
  },
  {
   "cell_type": "code",
   "execution_count": 92,
   "id": "46e1d05c",
   "metadata": {},
   "outputs": [
    {
     "name": "stdout",
     "output_type": "stream",
     "text": [
      "Difference is  0.03339702371686633\n"
     ]
    }
   ],
   "source": [
    "score=cross_val_score(L,x,y)\n",
    "print(\"Difference is \",r_value_L-score.mean())"
   ]
  },
  {
   "cell_type": "code",
   "execution_count": 93,
   "id": "972d4982",
   "metadata": {},
   "outputs": [
    {
     "name": "stdout",
     "output_type": "stream",
     "text": [
      "Difference is  0.462324061044673\n"
     ]
    }
   ],
   "source": [
    "score=cross_val_score(R,x,y)\n",
    "print(\"Difference is \",r_value_R-score.mean())"
   ]
  },
  {
   "cell_type": "code",
   "execution_count": 94,
   "id": "6174437a",
   "metadata": {},
   "outputs": [
    {
     "name": "stdout",
     "output_type": "stream",
     "text": [
      "Difference is  0.6571847541947325\n"
     ]
    }
   ],
   "source": [
    "score=cross_val_score(RFR,x,y)\n",
    "print(\"Difference is \",r_value_RFR-score.mean())"
   ]
  },
  {
   "cell_type": "code",
   "execution_count": 95,
   "id": "aebbeb65",
   "metadata": {},
   "outputs": [
    {
     "name": "stdout",
     "output_type": "stream",
     "text": [
      "Difference is  1.3195393237847097\n"
     ]
    }
   ],
   "source": [
    "score=cross_val_score(ETR,x,y)\n",
    "print(\"Difference is \",r_value_ETR-score.mean())"
   ]
  },
  {
   "cell_type": "markdown",
   "id": "c5868a1f",
   "metadata": {},
   "source": [
    "As per my observation from R2 score and cross validation score, RandomForestRegressor is best model for this dataset."
   ]
  },
  {
   "cell_type": "markdown",
   "id": "774f955d",
   "metadata": {},
   "source": [
    "Let's tune the parameters."
   ]
  },
  {
   "cell_type": "code",
   "execution_count": 96,
   "id": "63488125",
   "metadata": {},
   "outputs": [],
   "source": [
    "from sklearn.model_selection import GridSearchCV"
   ]
  },
  {
   "cell_type": "code",
   "execution_count": 98,
   "id": "2886c8d8",
   "metadata": {},
   "outputs": [
    {
     "data": {
      "text/plain": [
       "{'max_depth': 17, 'min_samples_leaf': 2, 'min_samples_split': 7}"
      ]
     },
     "execution_count": 98,
     "metadata": {},
     "output_type": "execute_result"
    }
   ],
   "source": [
    "param={'max_depth':[17,18,19,20,21,22],\n",
    "      'min_samples_leaf':[2,3,4],\n",
    "      'min_samples_split':[6,7,8]}\n",
    "GSV=GridSearchCV(RFR,param_grid=param,n_jobs=-1)\n",
    "GSV.fit(x_train,y_train)\n",
    "GSV.best_params_"
   ]
  },
  {
   "cell_type": "code",
   "execution_count": 104,
   "id": "7942cba4",
   "metadata": {},
   "outputs": [
    {
     "name": "stdout",
     "output_type": "stream",
     "text": [
      "R2 score :  0.8178232675009345\n"
     ]
    }
   ],
   "source": [
    "Best_model=RandomForestRegressor(max_depth=20, min_samples_leaf=2, min_samples_split=5)\n",
    "Best_model.fit(x_train,y_train)\n",
    "y_predict=Best_model.predict(x_test)\n",
    "r_value=r2_score(y_test,y_predict)\n",
    "print(\"R2 score : \",r_value)"
   ]
  },
  {
   "cell_type": "markdown",
   "id": "189a49b8",
   "metadata": {},
   "source": [
    "After tuning parameters R2 score is not increased. Let's consider default parameters only.\n",
    "\n",
    "Let's generate Mean Absolute Error, Mean Squared Error."
   ]
  },
  {
   "cell_type": "code",
   "execution_count": 105,
   "id": "e055d372",
   "metadata": {},
   "outputs": [
    {
     "name": "stdout",
     "output_type": "stream",
     "text": [
      "Mean Absolute Error  0.054482275132275076\n",
      "Mean Squared Error  0.005599780185185181\n",
      "Root mean squared error  0.07483167902155598\n"
     ]
    }
   ],
   "source": [
    "from sklearn.metrics import mean_absolute_error,mean_squared_error\n",
    "print(\"Mean Absolute Error \",mean_absolute_error(y_test,y_predict_RFR))\n",
    "print(\"Mean Squared Error \",mean_squared_error(y_test,y_predict_RFR))\n",
    "print(\"Root mean squared error \",np.sqrt(mean_squared_error(y_test,y_predict_RFR)))"
   ]
  },
  {
   "cell_type": "code",
   "execution_count": 106,
   "id": "6700074a",
   "metadata": {},
   "outputs": [],
   "source": [
    "import pickle\n",
    "pickle.dump('RFR',open(\"Avocado_Regression\",\"wb\"))"
   ]
  },
  {
   "cell_type": "code",
   "execution_count": null,
   "id": "d8e5da26",
   "metadata": {},
   "outputs": [],
   "source": []
  }
 ],
 "metadata": {
  "kernelspec": {
   "display_name": "Python 3 (ipykernel)",
   "language": "python",
   "name": "python3"
  },
  "language_info": {
   "codemirror_mode": {
    "name": "ipython",
    "version": 3
   },
   "file_extension": ".py",
   "mimetype": "text/x-python",
   "name": "python",
   "nbconvert_exporter": "python",
   "pygments_lexer": "ipython3",
   "version": "3.9.12"
  }
 },
 "nbformat": 4,
 "nbformat_minor": 5
}
