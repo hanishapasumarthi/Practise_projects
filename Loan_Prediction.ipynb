{
 "cells": [
  {
   "cell_type": "code",
   "execution_count": 2,
   "id": "53d92977",
   "metadata": {},
   "outputs": [],
   "source": [
    "import numpy as np\n",
    "import pandas as pd\n",
    "import matplotlib.pyplot as plt\n",
    "import seaborn as sns\n",
    "\n",
    "import warnings\n",
    "warnings.filterwarnings('ignore')"
   ]
  },
  {
   "cell_type": "code",
   "execution_count": 3,
   "id": "513e5b31",
   "metadata": {},
   "outputs": [
    {
     "data": {
      "text/html": [
       "<div>\n",
       "<style scoped>\n",
       "    .dataframe tbody tr th:only-of-type {\n",
       "        vertical-align: middle;\n",
       "    }\n",
       "\n",
       "    .dataframe tbody tr th {\n",
       "        vertical-align: top;\n",
       "    }\n",
       "\n",
       "    .dataframe thead th {\n",
       "        text-align: right;\n",
       "    }\n",
       "</style>\n",
       "<table border=\"1\" class=\"dataframe\">\n",
       "  <thead>\n",
       "    <tr style=\"text-align: right;\">\n",
       "      <th></th>\n",
       "      <th>Loan_ID</th>\n",
       "      <th>Gender</th>\n",
       "      <th>Married</th>\n",
       "      <th>Dependents</th>\n",
       "      <th>Education</th>\n",
       "      <th>Self_Employed</th>\n",
       "      <th>ApplicantIncome</th>\n",
       "      <th>CoapplicantIncome</th>\n",
       "      <th>LoanAmount</th>\n",
       "      <th>Loan_Amount_Term</th>\n",
       "      <th>Credit_History</th>\n",
       "      <th>Property_Area</th>\n",
       "      <th>Loan_Status</th>\n",
       "    </tr>\n",
       "  </thead>\n",
       "  <tbody>\n",
       "    <tr>\n",
       "      <th>0</th>\n",
       "      <td>LP001002</td>\n",
       "      <td>Male</td>\n",
       "      <td>No</td>\n",
       "      <td>0</td>\n",
       "      <td>Graduate</td>\n",
       "      <td>No</td>\n",
       "      <td>5849</td>\n",
       "      <td>0.0</td>\n",
       "      <td>NaN</td>\n",
       "      <td>360.0</td>\n",
       "      <td>1.0</td>\n",
       "      <td>Urban</td>\n",
       "      <td>Y</td>\n",
       "    </tr>\n",
       "    <tr>\n",
       "      <th>1</th>\n",
       "      <td>LP001003</td>\n",
       "      <td>Male</td>\n",
       "      <td>Yes</td>\n",
       "      <td>1</td>\n",
       "      <td>Graduate</td>\n",
       "      <td>No</td>\n",
       "      <td>4583</td>\n",
       "      <td>1508.0</td>\n",
       "      <td>128.0</td>\n",
       "      <td>360.0</td>\n",
       "      <td>1.0</td>\n",
       "      <td>Rural</td>\n",
       "      <td>N</td>\n",
       "    </tr>\n",
       "    <tr>\n",
       "      <th>2</th>\n",
       "      <td>LP001005</td>\n",
       "      <td>Male</td>\n",
       "      <td>Yes</td>\n",
       "      <td>0</td>\n",
       "      <td>Graduate</td>\n",
       "      <td>Yes</td>\n",
       "      <td>3000</td>\n",
       "      <td>0.0</td>\n",
       "      <td>66.0</td>\n",
       "      <td>360.0</td>\n",
       "      <td>1.0</td>\n",
       "      <td>Urban</td>\n",
       "      <td>Y</td>\n",
       "    </tr>\n",
       "    <tr>\n",
       "      <th>3</th>\n",
       "      <td>LP001006</td>\n",
       "      <td>Male</td>\n",
       "      <td>Yes</td>\n",
       "      <td>0</td>\n",
       "      <td>Not Graduate</td>\n",
       "      <td>No</td>\n",
       "      <td>2583</td>\n",
       "      <td>2358.0</td>\n",
       "      <td>120.0</td>\n",
       "      <td>360.0</td>\n",
       "      <td>1.0</td>\n",
       "      <td>Urban</td>\n",
       "      <td>Y</td>\n",
       "    </tr>\n",
       "    <tr>\n",
       "      <th>4</th>\n",
       "      <td>LP001008</td>\n",
       "      <td>Male</td>\n",
       "      <td>No</td>\n",
       "      <td>0</td>\n",
       "      <td>Graduate</td>\n",
       "      <td>No</td>\n",
       "      <td>6000</td>\n",
       "      <td>0.0</td>\n",
       "      <td>141.0</td>\n",
       "      <td>360.0</td>\n",
       "      <td>1.0</td>\n",
       "      <td>Urban</td>\n",
       "      <td>Y</td>\n",
       "    </tr>\n",
       "  </tbody>\n",
       "</table>\n",
       "</div>"
      ],
      "text/plain": [
       "    Loan_ID Gender Married Dependents     Education Self_Employed  \\\n",
       "0  LP001002   Male      No          0      Graduate            No   \n",
       "1  LP001003   Male     Yes          1      Graduate            No   \n",
       "2  LP001005   Male     Yes          0      Graduate           Yes   \n",
       "3  LP001006   Male     Yes          0  Not Graduate            No   \n",
       "4  LP001008   Male      No          0      Graduate            No   \n",
       "\n",
       "   ApplicantIncome  CoapplicantIncome  LoanAmount  Loan_Amount_Term  \\\n",
       "0             5849                0.0         NaN             360.0   \n",
       "1             4583             1508.0       128.0             360.0   \n",
       "2             3000                0.0        66.0             360.0   \n",
       "3             2583             2358.0       120.0             360.0   \n",
       "4             6000                0.0       141.0             360.0   \n",
       "\n",
       "   Credit_History Property_Area Loan_Status  \n",
       "0             1.0         Urban           Y  \n",
       "1             1.0         Rural           N  \n",
       "2             1.0         Urban           Y  \n",
       "3             1.0         Urban           Y  \n",
       "4             1.0         Urban           Y  "
      ]
     },
     "execution_count": 3,
     "metadata": {},
     "output_type": "execute_result"
    }
   ],
   "source": [
    "df=pd.read_csv('https://raw.githubusercontent.com/dsrscientist/DSData/master/loan_prediction.csv')\n",
    "df.head()"
   ]
  },
  {
   "cell_type": "code",
   "execution_count": 5,
   "id": "ecbb0ca9",
   "metadata": {},
   "outputs": [
    {
     "data": {
      "text/plain": [
       "(614, 13)"
      ]
     },
     "execution_count": 5,
     "metadata": {},
     "output_type": "execute_result"
    }
   ],
   "source": [
    "df.shape"
   ]
  },
  {
   "cell_type": "markdown",
   "id": "0ce031ac",
   "metadata": {},
   "source": [
    "This dataset contains 613 records and 13 features."
   ]
  },
  {
   "cell_type": "markdown",
   "id": "6a291f84",
   "metadata": {},
   "source": [
    "Let's check for duplicates in the dataset."
   ]
  },
  {
   "cell_type": "code",
   "execution_count": 6,
   "id": "70815c43",
   "metadata": {},
   "outputs": [
    {
     "data": {
      "text/plain": [
       "0"
      ]
     },
     "execution_count": 6,
     "metadata": {},
     "output_type": "execute_result"
    }
   ],
   "source": [
    "df.duplicated().sum()"
   ]
  },
  {
   "cell_type": "markdown",
   "id": "a62cb8ce",
   "metadata": {},
   "source": [
    "Duplicates are not present in the dataset."
   ]
  },
  {
   "cell_type": "markdown",
   "id": "0a9456d3",
   "metadata": {},
   "source": [
    "Let's check for nulls in the dataset."
   ]
  },
  {
   "cell_type": "code",
   "execution_count": 7,
   "id": "29765b1a",
   "metadata": {},
   "outputs": [
    {
     "data": {
      "text/plain": [
       "Loan_ID               0\n",
       "Gender               13\n",
       "Married               3\n",
       "Dependents           15\n",
       "Education             0\n",
       "Self_Employed        32\n",
       "ApplicantIncome       0\n",
       "CoapplicantIncome     0\n",
       "LoanAmount           22\n",
       "Loan_Amount_Term     14\n",
       "Credit_History       50\n",
       "Property_Area         0\n",
       "Loan_Status           0\n",
       "dtype: int64"
      ]
     },
     "execution_count": 7,
     "metadata": {},
     "output_type": "execute_result"
    }
   ],
   "source": [
    "df.isnull().sum()"
   ]
  },
  {
   "cell_type": "markdown",
   "id": "0c58db0f",
   "metadata": {},
   "source": [
    "Nulls are present in the features. Let's replace those null values with appropriate data."
   ]
  },
  {
   "cell_type": "code",
   "execution_count": 8,
   "id": "0b98d4da",
   "metadata": {},
   "outputs": [
    {
     "data": {
      "text/plain": [
       "array(['Male', 'Female', nan], dtype=object)"
      ]
     },
     "execution_count": 8,
     "metadata": {},
     "output_type": "execute_result"
    }
   ],
   "source": [
    "df['Gender'].unique()"
   ]
  },
  {
   "cell_type": "code",
   "execution_count": 9,
   "id": "b9cfa613",
   "metadata": {},
   "outputs": [
    {
     "data": {
      "text/plain": [
       "0    Male\n",
       "Name: Gender, dtype: object"
      ]
     },
     "execution_count": 9,
     "metadata": {},
     "output_type": "execute_result"
    }
   ],
   "source": [
    "df['Gender'].mode()"
   ]
  },
  {
   "cell_type": "code",
   "execution_count": 10,
   "id": "729beb41",
   "metadata": {},
   "outputs": [
    {
     "data": {
      "text/plain": [
       "array(['Male', 'Female'], dtype=object)"
      ]
     },
     "execution_count": 10,
     "metadata": {},
     "output_type": "execute_result"
    }
   ],
   "source": [
    "df['Gender']=df['Gender'].fillna(df['Gender'].mode()[0])\n",
    "df['Gender'].unique()"
   ]
  },
  {
   "cell_type": "code",
   "execution_count": 11,
   "id": "f674dafb",
   "metadata": {},
   "outputs": [
    {
     "data": {
      "text/plain": [
       "array(['No', 'Yes', nan], dtype=object)"
      ]
     },
     "execution_count": 11,
     "metadata": {},
     "output_type": "execute_result"
    }
   ],
   "source": [
    "df['Married'].unique()"
   ]
  },
  {
   "cell_type": "code",
   "execution_count": 12,
   "id": "a3982ff3",
   "metadata": {},
   "outputs": [
    {
     "data": {
      "text/plain": [
       "array(['No', 'Yes'], dtype=object)"
      ]
     },
     "execution_count": 12,
     "metadata": {},
     "output_type": "execute_result"
    }
   ],
   "source": [
    "df['Married']=df['Married'].fillna(df['Married'].mode()[0])\n",
    "df['Married'].unique()"
   ]
  },
  {
   "cell_type": "code",
   "execution_count": 13,
   "id": "b1111685",
   "metadata": {},
   "outputs": [
    {
     "data": {
      "text/plain": [
       "array(['0', '1', '2', '3+', nan], dtype=object)"
      ]
     },
     "execution_count": 13,
     "metadata": {},
     "output_type": "execute_result"
    }
   ],
   "source": [
    "df['Dependents'].unique()"
   ]
  },
  {
   "cell_type": "code",
   "execution_count": 14,
   "id": "b3e1a7d4",
   "metadata": {},
   "outputs": [
    {
     "data": {
      "text/plain": [
       "0    0\n",
       "Name: Dependents, dtype: object"
      ]
     },
     "execution_count": 14,
     "metadata": {},
     "output_type": "execute_result"
    }
   ],
   "source": [
    "df['Dependents'].mode()"
   ]
  },
  {
   "cell_type": "code",
   "execution_count": 15,
   "id": "74762da7",
   "metadata": {},
   "outputs": [
    {
     "data": {
      "text/plain": [
       "array(['0', '1', '2', '3+'], dtype=object)"
      ]
     },
     "execution_count": 15,
     "metadata": {},
     "output_type": "execute_result"
    }
   ],
   "source": [
    "df['Dependents']=df['Dependents'].fillna(df['Dependents'].mode()[0])\n",
    "df['Dependents'].unique()"
   ]
  },
  {
   "cell_type": "code",
   "execution_count": 16,
   "id": "ab47302b",
   "metadata": {},
   "outputs": [
    {
     "data": {
      "text/plain": [
       "array(['No', 'Yes', nan], dtype=object)"
      ]
     },
     "execution_count": 16,
     "metadata": {},
     "output_type": "execute_result"
    }
   ],
   "source": [
    "df['Self_Employed'].unique()"
   ]
  },
  {
   "cell_type": "code",
   "execution_count": 17,
   "id": "a0bc957c",
   "metadata": {},
   "outputs": [
    {
     "data": {
      "text/plain": [
       "array(['No', 'Yes'], dtype=object)"
      ]
     },
     "execution_count": 17,
     "metadata": {},
     "output_type": "execute_result"
    }
   ],
   "source": [
    "df['Self_Employed']=df['Self_Employed'].fillna(df['Self_Employed'].mode()[0])\n",
    "df['Self_Employed'].unique()"
   ]
  },
  {
   "cell_type": "code",
   "execution_count": 19,
   "id": "943c4cd3",
   "metadata": {},
   "outputs": [
    {
     "data": {
      "text/plain": [
       "120.0    20\n",
       "110.0    17\n",
       "100.0    15\n",
       "160.0    12\n",
       "187.0    12\n",
       "         ..\n",
       "240.0     1\n",
       "214.0     1\n",
       "59.0      1\n",
       "166.0     1\n",
       "253.0     1\n",
       "Name: LoanAmount, Length: 203, dtype: int64"
      ]
     },
     "execution_count": 19,
     "metadata": {},
     "output_type": "execute_result"
    }
   ],
   "source": [
    "df['LoanAmount'].value_counts()"
   ]
  },
  {
   "cell_type": "code",
   "execution_count": 20,
   "id": "52b5d010",
   "metadata": {},
   "outputs": [
    {
     "data": {
      "text/plain": [
       "146.41216216216216"
      ]
     },
     "execution_count": 20,
     "metadata": {},
     "output_type": "execute_result"
    }
   ],
   "source": [
    "df['LoanAmount'].mean()"
   ]
  },
  {
   "cell_type": "code",
   "execution_count": 21,
   "id": "c05e408d",
   "metadata": {},
   "outputs": [],
   "source": [
    "df['LoanAmount']=df['LoanAmount'].fillna(df['LoanAmount'].mean())"
   ]
  },
  {
   "cell_type": "code",
   "execution_count": null,
   "id": "3bf162b3",
   "metadata": {},
   "outputs": [],
   "source": [
    "df['Loan_Amount_Term'].value_counts()"
   ]
  },
  {
   "cell_type": "code",
   "execution_count": null,
   "id": "47ce030d",
   "metadata": {},
   "outputs": [],
   "source": []
  },
  {
   "cell_type": "code",
   "execution_count": null,
   "id": "61c99395",
   "metadata": {},
   "outputs": [],
   "source": []
  },
  {
   "cell_type": "code",
   "execution_count": 22,
   "id": "07b26f19",
   "metadata": {},
   "outputs": [
    {
     "data": {
      "text/plain": [
       "342.0"
      ]
     },
     "execution_count": 22,
     "metadata": {},
     "output_type": "execute_result"
    }
   ],
   "source": [
    "df['Loan_Amount_Term'].mean()"
   ]
  },
  {
   "cell_type": "code",
   "execution_count": 23,
   "id": "834326d9",
   "metadata": {},
   "outputs": [],
   "source": [
    "df['Loan_Amount_Term']=df['Loan_Amount_Term'].fillna(df['Loan_Amount_Term'].mean())"
   ]
  },
  {
   "cell_type": "code",
   "execution_count": 25,
   "id": "cb3e3645",
   "metadata": {},
   "outputs": [
    {
     "data": {
      "text/plain": [
       "1.0    475\n",
       "0.0     89\n",
       "Name: Credit_History, dtype: int64"
      ]
     },
     "execution_count": 25,
     "metadata": {},
     "output_type": "execute_result"
    }
   ],
   "source": [
    "df['Credit_History'].value_counts()"
   ]
  },
  {
   "cell_type": "code",
   "execution_count": 26,
   "id": "3020f293",
   "metadata": {},
   "outputs": [
    {
     "data": {
      "text/plain": [
       "array([1., 0.])"
      ]
     },
     "execution_count": 26,
     "metadata": {},
     "output_type": "execute_result"
    }
   ],
   "source": [
    "df['Credit_History']=df['Credit_History'].fillna(df['Credit_History'].mode()[0])\n",
    "df['Credit_History'].unique()"
   ]
  },
  {
   "cell_type": "code",
   "execution_count": 27,
   "id": "0d08ed99",
   "metadata": {},
   "outputs": [
    {
     "data": {
      "text/html": [
       "<div>\n",
       "<style scoped>\n",
       "    .dataframe tbody tr th:only-of-type {\n",
       "        vertical-align: middle;\n",
       "    }\n",
       "\n",
       "    .dataframe tbody tr th {\n",
       "        vertical-align: top;\n",
       "    }\n",
       "\n",
       "    .dataframe thead th {\n",
       "        text-align: right;\n",
       "    }\n",
       "</style>\n",
       "<table border=\"1\" class=\"dataframe\">\n",
       "  <thead>\n",
       "    <tr style=\"text-align: right;\">\n",
       "      <th></th>\n",
       "      <th>Loan_ID</th>\n",
       "      <th>Gender</th>\n",
       "      <th>Married</th>\n",
       "      <th>Dependents</th>\n",
       "      <th>Education</th>\n",
       "      <th>Self_Employed</th>\n",
       "      <th>ApplicantIncome</th>\n",
       "      <th>CoapplicantIncome</th>\n",
       "      <th>LoanAmount</th>\n",
       "      <th>Loan_Amount_Term</th>\n",
       "      <th>Credit_History</th>\n",
       "      <th>Property_Area</th>\n",
       "      <th>Loan_Status</th>\n",
       "    </tr>\n",
       "  </thead>\n",
       "  <tbody>\n",
       "    <tr>\n",
       "      <th>609</th>\n",
       "      <td>LP002978</td>\n",
       "      <td>Female</td>\n",
       "      <td>No</td>\n",
       "      <td>0</td>\n",
       "      <td>Graduate</td>\n",
       "      <td>No</td>\n",
       "      <td>2900</td>\n",
       "      <td>0.0</td>\n",
       "      <td>71.0</td>\n",
       "      <td>360.0</td>\n",
       "      <td>1.0</td>\n",
       "      <td>Rural</td>\n",
       "      <td>Y</td>\n",
       "    </tr>\n",
       "    <tr>\n",
       "      <th>610</th>\n",
       "      <td>LP002979</td>\n",
       "      <td>Male</td>\n",
       "      <td>Yes</td>\n",
       "      <td>3+</td>\n",
       "      <td>Graduate</td>\n",
       "      <td>No</td>\n",
       "      <td>4106</td>\n",
       "      <td>0.0</td>\n",
       "      <td>40.0</td>\n",
       "      <td>180.0</td>\n",
       "      <td>1.0</td>\n",
       "      <td>Rural</td>\n",
       "      <td>Y</td>\n",
       "    </tr>\n",
       "    <tr>\n",
       "      <th>611</th>\n",
       "      <td>LP002983</td>\n",
       "      <td>Male</td>\n",
       "      <td>Yes</td>\n",
       "      <td>1</td>\n",
       "      <td>Graduate</td>\n",
       "      <td>No</td>\n",
       "      <td>8072</td>\n",
       "      <td>240.0</td>\n",
       "      <td>253.0</td>\n",
       "      <td>360.0</td>\n",
       "      <td>1.0</td>\n",
       "      <td>Urban</td>\n",
       "      <td>Y</td>\n",
       "    </tr>\n",
       "    <tr>\n",
       "      <th>612</th>\n",
       "      <td>LP002984</td>\n",
       "      <td>Male</td>\n",
       "      <td>Yes</td>\n",
       "      <td>2</td>\n",
       "      <td>Graduate</td>\n",
       "      <td>No</td>\n",
       "      <td>7583</td>\n",
       "      <td>0.0</td>\n",
       "      <td>187.0</td>\n",
       "      <td>360.0</td>\n",
       "      <td>1.0</td>\n",
       "      <td>Urban</td>\n",
       "      <td>Y</td>\n",
       "    </tr>\n",
       "    <tr>\n",
       "      <th>613</th>\n",
       "      <td>LP002990</td>\n",
       "      <td>Female</td>\n",
       "      <td>No</td>\n",
       "      <td>0</td>\n",
       "      <td>Graduate</td>\n",
       "      <td>Yes</td>\n",
       "      <td>4583</td>\n",
       "      <td>0.0</td>\n",
       "      <td>133.0</td>\n",
       "      <td>360.0</td>\n",
       "      <td>0.0</td>\n",
       "      <td>Semiurban</td>\n",
       "      <td>N</td>\n",
       "    </tr>\n",
       "  </tbody>\n",
       "</table>\n",
       "</div>"
      ],
      "text/plain": [
       "      Loan_ID  Gender Married Dependents Education Self_Employed  \\\n",
       "609  LP002978  Female      No          0  Graduate            No   \n",
       "610  LP002979    Male     Yes         3+  Graduate            No   \n",
       "611  LP002983    Male     Yes          1  Graduate            No   \n",
       "612  LP002984    Male     Yes          2  Graduate            No   \n",
       "613  LP002990  Female      No          0  Graduate           Yes   \n",
       "\n",
       "     ApplicantIncome  CoapplicantIncome  LoanAmount  Loan_Amount_Term  \\\n",
       "609             2900                0.0        71.0             360.0   \n",
       "610             4106                0.0        40.0             180.0   \n",
       "611             8072              240.0       253.0             360.0   \n",
       "612             7583                0.0       187.0             360.0   \n",
       "613             4583                0.0       133.0             360.0   \n",
       "\n",
       "     Credit_History Property_Area Loan_Status  \n",
       "609             1.0         Rural           Y  \n",
       "610             1.0         Rural           Y  \n",
       "611             1.0         Urban           Y  \n",
       "612             1.0         Urban           Y  \n",
       "613             0.0     Semiurban           N  "
      ]
     },
     "execution_count": 27,
     "metadata": {},
     "output_type": "execute_result"
    }
   ],
   "source": [
    "df.tail()"
   ]
  },
  {
   "cell_type": "code",
   "execution_count": 28,
   "id": "6b3d4f48",
   "metadata": {},
   "outputs": [
    {
     "data": {
      "text/html": [
       "<div>\n",
       "<style scoped>\n",
       "    .dataframe tbody tr th:only-of-type {\n",
       "        vertical-align: middle;\n",
       "    }\n",
       "\n",
       "    .dataframe tbody tr th {\n",
       "        vertical-align: top;\n",
       "    }\n",
       "\n",
       "    .dataframe thead th {\n",
       "        text-align: right;\n",
       "    }\n",
       "</style>\n",
       "<table border=\"1\" class=\"dataframe\">\n",
       "  <thead>\n",
       "    <tr style=\"text-align: right;\">\n",
       "      <th></th>\n",
       "      <th>ApplicantIncome</th>\n",
       "      <th>CoapplicantIncome</th>\n",
       "      <th>LoanAmount</th>\n",
       "      <th>Loan_Amount_Term</th>\n",
       "      <th>Credit_History</th>\n",
       "    </tr>\n",
       "  </thead>\n",
       "  <tbody>\n",
       "    <tr>\n",
       "      <th>count</th>\n",
       "      <td>614.000000</td>\n",
       "      <td>614.000000</td>\n",
       "      <td>614.000000</td>\n",
       "      <td>614.000000</td>\n",
       "      <td>614.000000</td>\n",
       "    </tr>\n",
       "    <tr>\n",
       "      <th>mean</th>\n",
       "      <td>5403.459283</td>\n",
       "      <td>1621.245798</td>\n",
       "      <td>146.412162</td>\n",
       "      <td>342.000000</td>\n",
       "      <td>0.855049</td>\n",
       "    </tr>\n",
       "    <tr>\n",
       "      <th>std</th>\n",
       "      <td>6109.041673</td>\n",
       "      <td>2926.248369</td>\n",
       "      <td>84.037468</td>\n",
       "      <td>64.372489</td>\n",
       "      <td>0.352339</td>\n",
       "    </tr>\n",
       "    <tr>\n",
       "      <th>min</th>\n",
       "      <td>150.000000</td>\n",
       "      <td>0.000000</td>\n",
       "      <td>9.000000</td>\n",
       "      <td>12.000000</td>\n",
       "      <td>0.000000</td>\n",
       "    </tr>\n",
       "    <tr>\n",
       "      <th>25%</th>\n",
       "      <td>2877.500000</td>\n",
       "      <td>0.000000</td>\n",
       "      <td>100.250000</td>\n",
       "      <td>360.000000</td>\n",
       "      <td>1.000000</td>\n",
       "    </tr>\n",
       "    <tr>\n",
       "      <th>50%</th>\n",
       "      <td>3812.500000</td>\n",
       "      <td>1188.500000</td>\n",
       "      <td>129.000000</td>\n",
       "      <td>360.000000</td>\n",
       "      <td>1.000000</td>\n",
       "    </tr>\n",
       "    <tr>\n",
       "      <th>75%</th>\n",
       "      <td>5795.000000</td>\n",
       "      <td>2297.250000</td>\n",
       "      <td>164.750000</td>\n",
       "      <td>360.000000</td>\n",
       "      <td>1.000000</td>\n",
       "    </tr>\n",
       "    <tr>\n",
       "      <th>max</th>\n",
       "      <td>81000.000000</td>\n",
       "      <td>41667.000000</td>\n",
       "      <td>700.000000</td>\n",
       "      <td>480.000000</td>\n",
       "      <td>1.000000</td>\n",
       "    </tr>\n",
       "  </tbody>\n",
       "</table>\n",
       "</div>"
      ],
      "text/plain": [
       "       ApplicantIncome  CoapplicantIncome  LoanAmount  Loan_Amount_Term  \\\n",
       "count       614.000000         614.000000  614.000000        614.000000   \n",
       "mean       5403.459283        1621.245798  146.412162        342.000000   \n",
       "std        6109.041673        2926.248369   84.037468         64.372489   \n",
       "min         150.000000           0.000000    9.000000         12.000000   \n",
       "25%        2877.500000           0.000000  100.250000        360.000000   \n",
       "50%        3812.500000        1188.500000  129.000000        360.000000   \n",
       "75%        5795.000000        2297.250000  164.750000        360.000000   \n",
       "max       81000.000000       41667.000000  700.000000        480.000000   \n",
       "\n",
       "       Credit_History  \n",
       "count      614.000000  \n",
       "mean         0.855049  \n",
       "std          0.352339  \n",
       "min          0.000000  \n",
       "25%          1.000000  \n",
       "50%          1.000000  \n",
       "75%          1.000000  \n",
       "max          1.000000  "
      ]
     },
     "execution_count": 28,
     "metadata": {},
     "output_type": "execute_result"
    }
   ],
   "source": [
    "df.describe()"
   ]
  },
  {
   "cell_type": "markdown",
   "id": "d0f61e06",
   "metadata": {},
   "source": [
    "Below are the observations from the above data,\n",
    "\n",
    "For feature 'ApplicationIncome' mean is greater than 50% data. So, data is right skewed. There is huge difference between 75% data and max data, so there can be outliers present in this feature.\n",
    "\n",
    "For feature 'Coapplicationincome' mean is greater than 50% data so, data may be right skewed. There is huge difference between 75% data and max data, so there can be outliers present in this feature.\n",
    "\n",
    "For feature 'LoanAmount' mean is greater than 50% data so, data may be right skewed. There is huge difference between 75% data and max data, so there can be outliers present in this feature.\n",
    "\n",
    "For feature 'Loan_Amount_Term' mean is less then 50% data. So, data is left skewed.\n",
    "\n"
   ]
  },
  {
   "cell_type": "code",
   "execution_count": 29,
   "id": "ce502120",
   "metadata": {},
   "outputs": [
    {
     "name": "stdout",
     "output_type": "stream",
     "text": [
      "<class 'pandas.core.frame.DataFrame'>\n",
      "RangeIndex: 614 entries, 0 to 613\n",
      "Data columns (total 13 columns):\n",
      " #   Column             Non-Null Count  Dtype  \n",
      "---  ------             --------------  -----  \n",
      " 0   Loan_ID            614 non-null    object \n",
      " 1   Gender             614 non-null    object \n",
      " 2   Married            614 non-null    object \n",
      " 3   Dependents         614 non-null    object \n",
      " 4   Education          614 non-null    object \n",
      " 5   Self_Employed      614 non-null    object \n",
      " 6   ApplicantIncome    614 non-null    int64  \n",
      " 7   CoapplicantIncome  614 non-null    float64\n",
      " 8   LoanAmount         614 non-null    float64\n",
      " 9   Loan_Amount_Term   614 non-null    float64\n",
      " 10  Credit_History     614 non-null    float64\n",
      " 11  Property_Area      614 non-null    object \n",
      " 12  Loan_Status        614 non-null    object \n",
      "dtypes: float64(4), int64(1), object(8)\n",
      "memory usage: 62.5+ KB\n"
     ]
    }
   ],
   "source": [
    "df.info()"
   ]
  },
  {
   "cell_type": "code",
   "execution_count": 30,
   "id": "7462fee4",
   "metadata": {},
   "outputs": [],
   "source": [
    "numerical_column=[]\n",
    "categorical_column=[]\n",
    "\n",
    "for i in df.columns:\n",
    "    if(df[i].dtypes=='object'):\n",
    "        categorical_column.append(i)\n",
    "        \n",
    "    else:\n",
    "        numerical_column.append(i)"
   ]
  },
  {
   "cell_type": "code",
   "execution_count": 31,
   "id": "b169b6cc",
   "metadata": {},
   "outputs": [
    {
     "data": {
      "text/plain": [
       "['ApplicantIncome',\n",
       " 'CoapplicantIncome',\n",
       " 'LoanAmount',\n",
       " 'Loan_Amount_Term',\n",
       " 'Credit_History']"
      ]
     },
     "execution_count": 31,
     "metadata": {},
     "output_type": "execute_result"
    }
   ],
   "source": [
    "numerical_column"
   ]
  },
  {
   "cell_type": "markdown",
   "id": "f6d3ef8e",
   "metadata": {},
   "source": [
    "Let's plot graphs and understand the data."
   ]
  },
  {
   "cell_type": "code",
   "execution_count": 32,
   "id": "f3582a43",
   "metadata": {},
   "outputs": [
    {
     "data": {
      "text/plain": [
       "Index(['Loan_ID', 'Gender', 'Married', 'Dependents', 'Education',\n",
       "       'Self_Employed', 'ApplicantIncome', 'CoapplicantIncome', 'LoanAmount',\n",
       "       'Loan_Amount_Term', 'Credit_History', 'Property_Area', 'Loan_Status'],\n",
       "      dtype='object')"
      ]
     },
     "execution_count": 32,
     "metadata": {},
     "output_type": "execute_result"
    }
   ],
   "source": [
    "df.columns"
   ]
  },
  {
   "cell_type": "code",
   "execution_count": 33,
   "id": "3dd8c1a3",
   "metadata": {},
   "outputs": [
    {
     "data": {
      "image/png": "[encoded data removed]",
      "text/plain": [
       "<Figure size 432x288 with 1 Axes>"
      ]
     },
     "metadata": {
      "needs_background": "light"
     },
     "output_type": "display_data"
    }
   ],
   "source": [
    "sns.countplot(x='Gender',data=df)\n",
    "plt.show()"
   ]
  },
  {
   "cell_type": "code",
   "execution_count": 34,
   "id": "5fe66347",
   "metadata": {},
   "outputs": [
    {
     "data": {
      "image/png": "[encoded data removed]",
      "text/plain": [
       "<Figure size 432x288 with 1 Axes>"
      ]
     },
     "metadata": {
      "needs_background": "light"
     },
     "output_type": "display_data"
    }
   ],
   "source": [
    "sns.countplot(x='Married',data=df)\n",
    "plt.show()"
   ]
  },
  {
   "cell_type": "code",
   "execution_count": 35,
   "id": "ef41aef3",
   "metadata": {},
   "outputs": [
    {
     "data": {
      "image/png": "[encoded data removed]",
      "text/plain": [
       "<Figure size 432x288 with 1 Axes>"
      ]
     },
     "metadata": {
      "needs_background": "light"
     },
     "output_type": "display_data"
    }
   ],
   "source": [
    "sns.stripplot(x='Gender',y='LoanAmount',hue='Married',data=df)\n",
    "plt.show()"
   ]
  },
  {
   "cell_type": "code",
   "execution_count": 38,
   "id": "4c91369b",
   "metadata": {},
   "outputs": [
    {
     "data": {
      "image/png": "[encoded data removed]",
      "text/plain": [
       "<Figure size 432x288 with 1 Axes>"
      ]
     },
     "metadata": {
      "needs_background": "light"
     },
     "output_type": "display_data"
    }
   ],
   "source": [
    "sns.stripplot(x='Gender',y='Loan_Amount_Term',hue='Married',data=df)\n",
    "plt.show()"
   ]
  },
  {
   "cell_type": "code",
   "execution_count": 42,
   "id": "e0138de1",
   "metadata": {},
   "outputs": [
    {
     "data": {
      "image/png": "[encoded data removed]",
      "text/plain": [
       "<Figure size 432x288 with 1 Axes>"
      ]
     },
     "metadata": {
      "needs_background": "light"
     },
     "output_type": "display_data"
    }
   ],
   "source": [
    "sns.stripplot(x='Gender',y='CoapplicantIncome',hue='Married',data=df)\n",
    "plt.ylim([0,10000])\n",
    "plt.show()"
   ]
  },
  {
   "cell_type": "code",
   "execution_count": 43,
   "id": "3026046e",
   "metadata": {},
   "outputs": [
    {
     "data": {
      "image/png": "[encoded data removed]",
      "text/plain": [
       "<Figure size 432x288 with 1 Axes>"
      ]
     },
     "metadata": {
      "needs_background": "light"
     },
     "output_type": "display_data"
    }
   ],
   "source": [
    "sns.stripplot(x='Gender',y='ApplicantIncome',hue='Married',data=df)\n",
    "\n",
    "plt.show()"
   ]
  },
  {
   "cell_type": "code",
   "execution_count": 44,
   "id": "79860f55",
   "metadata": {},
   "outputs": [
    {
     "data": {
      "image/png": "[encoded data removed]",
      "text/plain": [
       "<Figure size 1080x1368 with 5 Axes>"
      ]
     },
     "metadata": {
      "needs_background": "light"
     },
     "output_type": "display_data"
    }
   ],
   "source": [
    "\n",
    "plt.figure(figsize=(15,19))\n",
    "n=1\n",
    "for i in numerical_column:\n",
    "    ax=plt.subplot(5,4,n)\n",
    "    sns.distplot(x=df[i])\n",
    "    plt.xlabel(i)\n",
    "    n+=1\n",
    "    \n",
    "    \n",
    "plt.show()    "
   ]
  },
  {
   "cell_type": "markdown",
   "id": "0b8d17c5",
   "metadata": {},
   "source": [
    "Skewness present in th features. Let's use techniques reduce skeweness."
   ]
  },
  {
   "cell_type": "code",
   "execution_count": 45,
   "id": "93a01efb",
   "metadata": {},
   "outputs": [
    {
     "data": {
      "text/plain": [
       "ApplicantIncome      6.539513\n",
       "CoapplicantIncome    7.491531\n",
       "LoanAmount           2.726601\n",
       "Loan_Amount_Term    -2.389680\n",
       "Credit_History      -2.021971\n",
       "dtype: float64"
      ]
     },
     "execution_count": 45,
     "metadata": {},
     "output_type": "execute_result"
    }
   ],
   "source": [
    "df.skew()"
   ]
  },
  {
   "cell_type": "code",
   "execution_count": 56,
   "id": "cd71e073",
   "metadata": {},
   "outputs": [
    {
     "data": {
      "text/plain": [
       "ApplicantIncome     -0.092513\n",
       "CoapplicantIncome    0.196726\n",
       "LoanAmount           0.151313\n",
       "Loan_Amount_Term     0.385840\n",
       "Credit_History      -2.021971\n",
       "dtype: float64"
      ]
     },
     "execution_count": 56,
     "metadata": {},
     "output_type": "execute_result"
    }
   ],
   "source": [
    "from scipy.stats import boxcox\n",
    "df['ApplicantIncome']=boxcox(df['ApplicantIncome'])[0]\n",
    "df['CoapplicantIncome']=np.cbrt(df['CoapplicantIncome'])\n",
    "df['LoanAmount']=np.cbrt(df['LoanAmount'])\n",
    "df['LoanAmount']=np.cbrt(df['LoanAmount'])\n",
    "df['Loan_Amount_Term']=boxcox(df['Loan_Amount_Term'])[0]\n",
    "df.skew()"
   ]
  },
  {
   "cell_type": "markdown",
   "id": "131832ad",
   "metadata": {},
   "source": [
    "Since 'Credit_History' feature does not contain continuous data let's not reduce skeweness in this feature. "
   ]
  },
  {
   "cell_type": "markdown",
   "id": "5fc3322f",
   "metadata": {},
   "source": [
    "Let's check for outliers present in the dataset."
   ]
  },
  {
   "cell_type": "code",
   "execution_count": 58,
   "id": "35448e43",
   "metadata": {},
   "outputs": [
    {
     "data": {
      "image/png": "[encoded data removed]",
      "text/plain": [
       "<Figure size 1080x1368 with 5 Axes>"
      ]
     },
     "metadata": {
      "needs_background": "light"
     },
     "output_type": "display_data"
    }
   ],
   "source": [
    "\n",
    "plt.figure(figsize=(15,19))\n",
    "n=1\n",
    "for i in numerical_column:\n",
    "    ax=plt.subplot(5,4,n)\n",
    "    sns.boxplot(y=df[i])\n",
    "    plt.xlabel(i)\n",
    "    n+=1\n",
    "    \n",
    "    \n",
    "plt.show()    "
   ]
  },
  {
   "cell_type": "markdown",
   "id": "5b548045",
   "metadata": {},
   "source": [
    "Outliers are present in all the features, lets remove outliers."
   ]
  },
  {
   "cell_type": "code",
   "execution_count": 59,
   "id": "caa56cc9",
   "metadata": {},
   "outputs": [
    {
     "data": {
      "text/plain": [
       "(582, 13)"
      ]
     },
     "execution_count": 59,
     "metadata": {},
     "output_type": "execute_result"
    }
   ],
   "source": [
    "from scipy.stats import zscore\n",
    "cols=['ApplicantIncome','CoapplicantIncome','LoanAmount','Loan_Amount_Term']\n",
    "zscore=np.abs(zscore(df[cols]))\n",
    "df1=df[(zscore<3).all(axis=1)]\n",
    "df1.shape"
   ]
  },
  {
   "cell_type": "markdown",
   "id": "55af8001",
   "metadata": {},
   "source": [
    "Let's enode categorical columns present in the dataset with the help of encoding techniques."
   ]
  },
  {
   "cell_type": "code",
   "execution_count": 61,
   "id": "058764f8",
   "metadata": {},
   "outputs": [],
   "source": [
    "from sklearn.preprocessing import LabelEncoder"
   ]
  },
  {
   "cell_type": "code",
   "execution_count": 62,
   "id": "3f6ceee6",
   "metadata": {},
   "outputs": [
    {
     "data": {
      "text/plain": [
       "['Loan_ID',\n",
       " 'Gender',\n",
       " 'Married',\n",
       " 'Dependents',\n",
       " 'Education',\n",
       " 'Self_Employed',\n",
       " 'Property_Area',\n",
       " 'Loan_Status']"
      ]
     },
     "execution_count": 62,
     "metadata": {},
     "output_type": "execute_result"
    }
   ],
   "source": [
    "categorical_column"
   ]
  },
  {
   "cell_type": "code",
   "execution_count": 65,
   "id": "d11661a4",
   "metadata": {},
   "outputs": [
    {
     "name": "stdout",
     "output_type": "stream",
     "text": [
      "Male      478\n",
      "Female    104\n",
      "Name: Gender, dtype: int64\n",
      "---------------\n",
      "Yes    383\n",
      "No     199\n",
      "Name: Married, dtype: int64\n",
      "---------------\n",
      "0     340\n",
      "1      99\n",
      "2      97\n",
      "3+     46\n",
      "Name: Dependents, dtype: int64\n",
      "---------------\n",
      "Graduate        454\n",
      "Not Graduate    128\n",
      "Name: Education, dtype: int64\n",
      "---------------\n",
      "No     505\n",
      "Yes     77\n",
      "Name: Self_Employed, dtype: int64\n",
      "---------------\n",
      "Semiurban    219\n",
      "Urban        190\n",
      "Rural        173\n",
      "Name: Property_Area, dtype: int64\n",
      "---------------\n",
      "Y    405\n",
      "N    177\n",
      "Name: Loan_Status, dtype: int64\n",
      "---------------\n"
     ]
    }
   ],
   "source": [
    "for i in categorical_column[1:]:\n",
    "    print(df1[i].value_counts())\n",
    "    print('---------------')"
   ]
  },
  {
   "cell_type": "code",
   "execution_count": 66,
   "id": "75ea7ef7",
   "metadata": {},
   "outputs": [],
   "source": [
    "LE=LabelEncoder()\n",
    "for i in categorical_column[1:]:\n",
    "    df1[i]=LE.fit_transform(df1[i])"
   ]
  },
  {
   "cell_type": "code",
   "execution_count": 67,
   "id": "134bf959",
   "metadata": {},
   "outputs": [
    {
     "name": "stdout",
     "output_type": "stream",
     "text": [
      "1    478\n",
      "0    104\n",
      "Name: Gender, dtype: int64\n",
      "---------------\n",
      "1    383\n",
      "0    199\n",
      "Name: Married, dtype: int64\n",
      "---------------\n",
      "0    340\n",
      "1     99\n",
      "2     97\n",
      "3     46\n",
      "Name: Dependents, dtype: int64\n",
      "---------------\n",
      "0    454\n",
      "1    128\n",
      "Name: Education, dtype: int64\n",
      "---------------\n",
      "0    505\n",
      "1     77\n",
      "Name: Self_Employed, dtype: int64\n",
      "---------------\n",
      "1    219\n",
      "2    190\n",
      "0    173\n",
      "Name: Property_Area, dtype: int64\n",
      "---------------\n",
      "1    405\n",
      "0    177\n",
      "Name: Loan_Status, dtype: int64\n",
      "---------------\n"
     ]
    }
   ],
   "source": [
    "for i in categorical_column[1:]:\n",
    "    print(df1[i].value_counts())\n",
    "    print('---------------')"
   ]
  },
  {
   "cell_type": "code",
   "execution_count": 68,
   "id": "ab0b5d71",
   "metadata": {},
   "outputs": [
    {
     "data": {
      "text/plain": [
       "0    LP001002\n",
       "1    LP001003\n",
       "2    LP001005\n",
       "3    LP001006\n",
       "4    LP001008\n",
       "Name: Loan_ID, dtype: object"
      ]
     },
     "execution_count": 68,
     "metadata": {},
     "output_type": "execute_result"
    }
   ],
   "source": [
    "df1['Loan_ID'].head()"
   ]
  },
  {
   "cell_type": "code",
   "execution_count": 69,
   "id": "ddefc6e6",
   "metadata": {},
   "outputs": [
    {
     "data": {
      "text/plain": [
       "LP001002    1\n",
       "LP002239    1\n",
       "LP002308    1\n",
       "LP002314    1\n",
       "LP002315    1\n",
       "           ..\n",
       "LP001693    1\n",
       "LP001698    1\n",
       "LP001699    1\n",
       "LP001702    1\n",
       "LP002990    1\n",
       "Name: Loan_ID, Length: 582, dtype: int64"
      ]
     },
     "execution_count": 69,
     "metadata": {},
     "output_type": "execute_result"
    }
   ],
   "source": [
    "df1['Loan_ID'].value_counts()"
   ]
  },
  {
   "cell_type": "markdown",
   "id": "eff0ba96",
   "metadata": {},
   "source": [
    "As per my observation, 'Loan_ID' will not contribute for predicting  target. Let's drop this feature."
   ]
  },
  {
   "cell_type": "code",
   "execution_count": 70,
   "id": "35c040cc",
   "metadata": {},
   "outputs": [
    {
     "data": {
      "text/plain": [
       "(582, 12)"
      ]
     },
     "execution_count": 70,
     "metadata": {},
     "output_type": "execute_result"
    }
   ],
   "source": [
    "df1.drop('Loan_ID',axis=1,inplace=True)\n",
    "df1.shape"
   ]
  },
  {
   "cell_type": "markdown",
   "id": "cb81321e",
   "metadata": {},
   "source": [
    "Let's plot Heatmap and check for correlation among features and labels."
   ]
  },
  {
   "cell_type": "code",
   "execution_count": 71,
   "id": "db77b1ce",
   "metadata": {},
   "outputs": [
    {
     "data": {
      "image/png": "[encoded data removed]",
      "text/plain": [
       "<Figure size 1440x1440 with 2 Axes>"
      ]
     },
     "metadata": {
      "needs_background": "light"
     },
     "output_type": "display_data"
    }
   ],
   "source": [
    "plt.figure(figsize=(20,20))\n",
    "sns.heatmap(df1.corr(),annot=True,fmt='.2f')\n",
    "plt.show()"
   ]
  },
  {
   "cell_type": "markdown",
   "id": "22baffce",
   "metadata": {},
   "source": [
    "As per my obseration correlation values of all features are in range. Let's check for MultiCollinearity problem in the dataset."
   ]
  },
  {
   "cell_type": "code",
   "execution_count": 72,
   "id": "bedae378",
   "metadata": {},
   "outputs": [],
   "source": [
    "from sklearn. preprocessing import StandardScaler\n",
    "scaler=StandardScaler()\n",
    "x=df1.drop('Loan_Status',axis=1)\n",
    "y=df1['Loan_Status']\n",
    "x_scaled=scaler.fit_transform(x)"
   ]
  },
  {
   "cell_type": "code",
   "execution_count": 73,
   "id": "d6fed3f5",
   "metadata": {},
   "outputs": [
    {
     "data": {
      "text/html": [
       "<div>\n",
       "<style scoped>\n",
       "    .dataframe tbody tr th:only-of-type {\n",
       "        vertical-align: middle;\n",
       "    }\n",
       "\n",
       "    .dataframe tbody tr th {\n",
       "        vertical-align: top;\n",
       "    }\n",
       "\n",
       "    .dataframe thead th {\n",
       "        text-align: right;\n",
       "    }\n",
       "</style>\n",
       "<table border=\"1\" class=\"dataframe\">\n",
       "  <thead>\n",
       "    <tr style=\"text-align: right;\">\n",
       "      <th></th>\n",
       "      <th>Features</th>\n",
       "      <th>vif value</th>\n",
       "    </tr>\n",
       "  </thead>\n",
       "  <tbody>\n",
       "    <tr>\n",
       "      <th>0</th>\n",
       "      <td>Gender</td>\n",
       "      <td>6.821656</td>\n",
       "    </tr>\n",
       "    <tr>\n",
       "      <th>1</th>\n",
       "      <td>Married</td>\n",
       "      <td>4.011460</td>\n",
       "    </tr>\n",
       "    <tr>\n",
       "      <th>2</th>\n",
       "      <td>Dependents</td>\n",
       "      <td>1.817229</td>\n",
       "    </tr>\n",
       "    <tr>\n",
       "      <th>3</th>\n",
       "      <td>Education</td>\n",
       "      <td>1.292526</td>\n",
       "    </tr>\n",
       "    <tr>\n",
       "      <th>4</th>\n",
       "      <td>Self_Employed</td>\n",
       "      <td>1.178617</td>\n",
       "    </tr>\n",
       "    <tr>\n",
       "      <th>5</th>\n",
       "      <td>ApplicantIncome</td>\n",
       "      <td>649.851096</td>\n",
       "    </tr>\n",
       "    <tr>\n",
       "      <th>6</th>\n",
       "      <td>CoapplicantIncome</td>\n",
       "      <td>3.254816</td>\n",
       "    </tr>\n",
       "    <tr>\n",
       "      <th>7</th>\n",
       "      <td>LoanAmount</td>\n",
       "      <td>686.782369</td>\n",
       "    </tr>\n",
       "    <tr>\n",
       "      <th>8</th>\n",
       "      <td>Loan_Amount_Term</td>\n",
       "      <td>13.618097</td>\n",
       "    </tr>\n",
       "    <tr>\n",
       "      <th>9</th>\n",
       "      <td>Credit_History</td>\n",
       "      <td>7.082280</td>\n",
       "    </tr>\n",
       "    <tr>\n",
       "      <th>10</th>\n",
       "      <td>Property_Area</td>\n",
       "      <td>2.714809</td>\n",
       "    </tr>\n",
       "  </tbody>\n",
       "</table>\n",
       "</div>"
      ],
      "text/plain": [
       "             Features   vif value\n",
       "0              Gender    6.821656\n",
       "1             Married    4.011460\n",
       "2          Dependents    1.817229\n",
       "3           Education    1.292526\n",
       "4       Self_Employed    1.178617\n",
       "5     ApplicantIncome  649.851096\n",
       "6   CoapplicantIncome    3.254816\n",
       "7          LoanAmount  686.782369\n",
       "8    Loan_Amount_Term   13.618097\n",
       "9      Credit_History    7.082280\n",
       "10      Property_Area    2.714809"
      ]
     },
     "execution_count": 73,
     "metadata": {},
     "output_type": "execute_result"
    }
   ],
   "source": [
    "from statsmodels.stats.outliers_influence import variance_inflation_factor\n",
    "Vif=pd.DataFrame()\n",
    "Vif['Features']=x.columns\n",
    "Vif['vif value']=[variance_inflation_factor(x,i) for i in range(x.shape[1])]\n",
    "Vif"
   ]
  },
  {
   "cell_type": "markdown",
   "id": "c7726a7c",
   "metadata": {},
   "source": [
    "As per my observation from heatmap and VIF value, the correlation value for 'ApplicantIncome' and 'LoanAmount' are high. Let's drop 'ApplicantIncome' feature, because 'LoanAmount' feature  correlation value with target is more than 'ApplicantIncome' correlation value with target. "
   ]
  },
  {
   "cell_type": "code",
   "execution_count": 74,
   "id": "e429ff2f",
   "metadata": {},
   "outputs": [],
   "source": [
    "x.drop('ApplicantIncome',axis=1,inplace=True)\n",
    "x_scaled=scaler.fit_transform(x)"
   ]
  },
  {
   "cell_type": "code",
   "execution_count": 75,
   "id": "3b26c2e8",
   "metadata": {},
   "outputs": [
    {
     "data": {
      "text/html": [
       "<div>\n",
       "<style scoped>\n",
       "    .dataframe tbody tr th:only-of-type {\n",
       "        vertical-align: middle;\n",
       "    }\n",
       "\n",
       "    .dataframe tbody tr th {\n",
       "        vertical-align: top;\n",
       "    }\n",
       "\n",
       "    .dataframe thead th {\n",
       "        text-align: right;\n",
       "    }\n",
       "</style>\n",
       "<table border=\"1\" class=\"dataframe\">\n",
       "  <thead>\n",
       "    <tr style=\"text-align: right;\">\n",
       "      <th></th>\n",
       "      <th>Features</th>\n",
       "      <th>vif value</th>\n",
       "    </tr>\n",
       "  </thead>\n",
       "  <tbody>\n",
       "    <tr>\n",
       "      <th>0</th>\n",
       "      <td>Gender</td>\n",
       "      <td>6.792660</td>\n",
       "    </tr>\n",
       "    <tr>\n",
       "      <th>1</th>\n",
       "      <td>Married</td>\n",
       "      <td>4.009807</td>\n",
       "    </tr>\n",
       "    <tr>\n",
       "      <th>2</th>\n",
       "      <td>Dependents</td>\n",
       "      <td>1.814422</td>\n",
       "    </tr>\n",
       "    <tr>\n",
       "      <th>3</th>\n",
       "      <td>Education</td>\n",
       "      <td>1.292019</td>\n",
       "    </tr>\n",
       "    <tr>\n",
       "      <th>4</th>\n",
       "      <td>Self_Employed</td>\n",
       "      <td>1.176165</td>\n",
       "    </tr>\n",
       "    <tr>\n",
       "      <th>5</th>\n",
       "      <td>CoapplicantIncome</td>\n",
       "      <td>2.511457</td>\n",
       "    </tr>\n",
       "    <tr>\n",
       "      <th>6</th>\n",
       "      <td>LoanAmount</td>\n",
       "      <td>29.834065</td>\n",
       "    </tr>\n",
       "    <tr>\n",
       "      <th>7</th>\n",
       "      <td>Loan_Amount_Term</td>\n",
       "      <td>13.614193</td>\n",
       "    </tr>\n",
       "    <tr>\n",
       "      <th>8</th>\n",
       "      <td>Credit_History</td>\n",
       "      <td>6.965547</td>\n",
       "    </tr>\n",
       "    <tr>\n",
       "      <th>9</th>\n",
       "      <td>Property_Area</td>\n",
       "      <td>2.700171</td>\n",
       "    </tr>\n",
       "  </tbody>\n",
       "</table>\n",
       "</div>"
      ],
      "text/plain": [
       "            Features  vif value\n",
       "0             Gender   6.792660\n",
       "1            Married   4.009807\n",
       "2         Dependents   1.814422\n",
       "3          Education   1.292019\n",
       "4      Self_Employed   1.176165\n",
       "5  CoapplicantIncome   2.511457\n",
       "6         LoanAmount  29.834065\n",
       "7   Loan_Amount_Term  13.614193\n",
       "8     Credit_History   6.965547\n",
       "9      Property_Area   2.700171"
      ]
     },
     "execution_count": 75,
     "metadata": {},
     "output_type": "execute_result"
    }
   ],
   "source": [
    "Vif=pd.DataFrame()\n",
    "Vif['Features']=x.columns\n",
    "Vif['vif value']=[variance_inflation_factor(x,i) for i in range(x.shape[1])]\n",
    "Vif"
   ]
  },
  {
   "cell_type": "code",
   "execution_count": 76,
   "id": "476d8b99",
   "metadata": {},
   "outputs": [
    {
     "data": {
      "text/plain": [
       "1    405\n",
       "0    177\n",
       "Name: Loan_Status, dtype: int64"
      ]
     },
     "execution_count": 76,
     "metadata": {},
     "output_type": "execute_result"
    }
   ],
   "source": [
    "y.value_counts()"
   ]
  },
  {
   "cell_type": "markdown",
   "id": "5077a209",
   "metadata": {},
   "source": [
    "From the above we can observe class imbalance problem exists in the dataset. Let's balance the data."
   ]
  },
  {
   "cell_type": "code",
   "execution_count": 79,
   "id": "940d5d36",
   "metadata": {},
   "outputs": [],
   "source": [
    "from imblearn.over_sampling import SMOTE\n"
   ]
  },
  {
   "cell_type": "code",
   "execution_count": 81,
   "id": "4d82e353",
   "metadata": {},
   "outputs": [
    {
     "data": {
      "text/plain": [
       "1    405\n",
       "0    405\n",
       "Name: Loan_Status, dtype: int64"
      ]
     },
     "execution_count": 81,
     "metadata": {},
     "output_type": "execute_result"
    }
   ],
   "source": [
    "SM=SMOTE()\n",
    "x,y=SM.fit_resample(x,y)\n",
    "y.value_counts()"
   ]
  },
  {
   "cell_type": "code",
   "execution_count": 84,
   "id": "c9ec5d5b",
   "metadata": {},
   "outputs": [],
   "source": [
    "x_scaled=scaler.fit_transform(x)"
   ]
  },
  {
   "cell_type": "markdown",
   "id": "d772de6f",
   "metadata": {},
   "source": [
    "Let's findout the best RandomState value."
   ]
  },
  {
   "cell_type": "code",
   "execution_count": 82,
   "id": "113fcf94",
   "metadata": {},
   "outputs": [],
   "source": [
    "from sklearn.ensemble import RandomForestClassifier\n",
    "from sklearn.metrics import accuracy_score\n",
    "from sklearn.model_selection import train_test_split"
   ]
  },
  {
   "cell_type": "code",
   "execution_count": 85,
   "id": "050f05a4",
   "metadata": {},
   "outputs": [
    {
     "name": "stdout",
     "output_type": "stream",
     "text": [
      "Best Random State -  46  Accuracy score -  0.8683127572016461\n"
     ]
    }
   ],
   "source": [
    "max_acc=0\n",
    "max_rand_state=0\n",
    "for i in range(1,200):\n",
    "    x_train,x_test,y_train,y_test=train_test_split(x_scaled,y,test_size=0.30,random_state=i)\n",
    "    RFC=RandomForestClassifier()\n",
    "    RFC.fit(x_train,y_train)\n",
    "    y_predict=RFC.predict(x_test)\n",
    "    acc_score=accuracy_score(y_test,y_predict)\n",
    "    if(acc_score>max_acc):\n",
    "        max_acc=acc_score\n",
    "        max_rand_state=i\n",
    "        \n",
    "print(\"Best Random State - \",max_rand_state,\" Accuracy score - \",max_acc)        "
   ]
  },
  {
   "cell_type": "markdown",
   "id": "c4556e6a",
   "metadata": {},
   "source": [
    "Best Random state is 46."
   ]
  },
  {
   "cell_type": "code",
   "execution_count": 86,
   "id": "4d9256b2",
   "metadata": {},
   "outputs": [],
   "source": [
    "x_train,x_test,y_train,y_test=train_test_split(x_scaled,y,test_size=0.30,random_state=46)"
   ]
  },
  {
   "cell_type": "code",
   "execution_count": 87,
   "id": "488f65ca",
   "metadata": {},
   "outputs": [],
   "source": [
    "from sklearn.linear_model import LogisticRegression\n",
    "from sklearn.tree import DecisionTreeClassifier\n",
    "from sklearn.neighbors import KNeighborsClassifier\n",
    "from sklearn.ensemble import AdaBoostClassifier,GradientBoostingClassifier,BaggingClassifier,RandomForestClassifier,ExtraTreesClassifier"
   ]
  },
  {
   "cell_type": "code",
   "execution_count": 88,
   "id": "2a6067e2",
   "metadata": {},
   "outputs": [
    {
     "name": "stdout",
     "output_type": "stream",
     "text": [
      "Accuracy Score  0.7613168724279835\n"
     ]
    }
   ],
   "source": [
    "LR=LogisticRegression()\n",
    "LR.fit(x_train,y_train)\n",
    "y_predict_LR=LR.predict(x_test)\n",
    "acc_score_LR=accuracy_score(y_test,y_predict_LR)\n",
    "print(\"Accuracy Score \",acc_score_LR)"
   ]
  },
  {
   "cell_type": "code",
   "execution_count": 89,
   "id": "ba114126",
   "metadata": {},
   "outputs": [
    {
     "name": "stdout",
     "output_type": "stream",
     "text": [
      "Accuracy Score  0.7695473251028807\n"
     ]
    }
   ],
   "source": [
    "DTC=DecisionTreeClassifier()\n",
    "DTC.fit(x_train,y_train)\n",
    "y_predict_DTC=DTC.predict(x_test)\n",
    "acc_score_DTC=accuracy_score(y_test,y_predict_DTC)\n",
    "print(\"Accuracy Score \",acc_score_DTC)"
   ]
  },
  {
   "cell_type": "code",
   "execution_count": 90,
   "id": "7b0c521c",
   "metadata": {},
   "outputs": [
    {
     "name": "stdout",
     "output_type": "stream",
     "text": [
      "Accuracy Score  0.757201646090535\n"
     ]
    }
   ],
   "source": [
    "Knn=KNeighborsClassifier()\n",
    "Knn.fit(x_train,y_train)\n",
    "y_predict_Knn=Knn.predict(x_test)\n",
    "acc_score_Knn=accuracy_score(y_test,y_predict_Knn)\n",
    "print(\"Accuracy Score \",acc_score_Knn)"
   ]
  },
  {
   "cell_type": "code",
   "execution_count": 91,
   "id": "5adc0321",
   "metadata": {},
   "outputs": [
    {
     "name": "stdout",
     "output_type": "stream",
     "text": [
      "Accuracy Score  0.7489711934156379\n"
     ]
    }
   ],
   "source": [
    "ABC=AdaBoostClassifier()\n",
    "ABC.fit(x_train,y_train)\n",
    "y_predict_ABC=ABC.predict(x_test)\n",
    "acc_score_ABC=accuracy_score(y_test,y_predict_ABC)\n",
    "print(\"Accuracy Score \",acc_score_ABC)"
   ]
  },
  {
   "cell_type": "code",
   "execution_count": 92,
   "id": "e78c1446",
   "metadata": {},
   "outputs": [
    {
     "name": "stdout",
     "output_type": "stream",
     "text": [
      "Accuracy Score  0.7736625514403292\n"
     ]
    }
   ],
   "source": [
    "GDT=GradientBoostingClassifier()\n",
    "GDT.fit(x_train,y_train)\n",
    "y_predict_GDT=GDT.predict(x_test)\n",
    "acc_score_GDT=accuracy_score(y_test,y_predict_GDT)\n",
    "print(\"Accuracy Score \",acc_score_GDT)"
   ]
  },
  {
   "cell_type": "code",
   "execution_count": 93,
   "id": "206885ad",
   "metadata": {},
   "outputs": [
    {
     "name": "stdout",
     "output_type": "stream",
     "text": [
      "Accuracy Score  0.831275720164609\n"
     ]
    }
   ],
   "source": [
    "BC=BaggingClassifier()\n",
    "BC.fit(x_train,y_train)\n",
    "y_predict_BC=BC.predict(x_test)\n",
    "acc_score_BC=accuracy_score(y_test,y_predict_BC)\n",
    "print('Accuracy Score ',acc_score_BC)"
   ]
  },
  {
   "cell_type": "code",
   "execution_count": 94,
   "id": "ccdd200d",
   "metadata": {},
   "outputs": [
    {
     "name": "stdout",
     "output_type": "stream",
     "text": [
      "accuracy score : 0.8600823045267489\n"
     ]
    }
   ],
   "source": [
    "RFC=RandomForestClassifier()\n",
    "RFC.fit(x_train,y_train)\n",
    "y_predict_RFC=RFC.predict(x_test)\n",
    "acc_score_RFC=accuracy_score(y_test,y_predict_RFC)\n",
    "print(\"accuracy score :\",acc_score_RFC)"
   ]
  },
  {
   "cell_type": "code",
   "execution_count": 95,
   "id": "351f75df",
   "metadata": {},
   "outputs": [
    {
     "name": "stdout",
     "output_type": "stream",
     "text": [
      "Accuracy Score  0.8436213991769548\n"
     ]
    }
   ],
   "source": [
    "ETC=ExtraTreesClassifier()\n",
    "ETC.fit(x_train,y_train)\n",
    "y_predict_ETC=ETC.predict(x_test)\n",
    "acc_score_ETC=accuracy_score(y_test,y_predict_ETC)\n",
    "print(\"Accuracy Score \",acc_score_ETC)"
   ]
  },
  {
   "cell_type": "markdown",
   "id": "9f93159b",
   "metadata": {},
   "source": [
    "From the above we can observe RandomForestClassifier exhibits highest accuracy score of 86%. Let's check accuracy score provided by the model is due to overfitting of the model."
   ]
  },
  {
   "cell_type": "code",
   "execution_count": 96,
   "id": "70492218",
   "metadata": {},
   "outputs": [],
   "source": [
    "from sklearn.model_selection import cross_val_score\n",
    "from sklearn.metrics import confusion_matrix,classification_report"
   ]
  },
  {
   "cell_type": "code",
   "execution_count": 97,
   "id": "2ff485d0",
   "metadata": {},
   "outputs": [
    {
     "name": "stdout",
     "output_type": "stream",
     "text": [
      "Difference is  0.04156378600823041\n"
     ]
    }
   ],
   "source": [
    "score=cross_val_score(RFC,x,y)\n",
    "mean=score.mean()\n",
    "print(\"Difference is \",acc_score_RFC-mean)"
   ]
  },
  {
   "cell_type": "code",
   "execution_count": 98,
   "id": "547a0df4",
   "metadata": {},
   "outputs": [
    {
     "name": "stdout",
     "output_type": "stream",
     "text": [
      "Difference is  0.2613168724279835\n"
     ]
    }
   ],
   "source": [
    "score=cross_val_score(LR,x,y)\n",
    "mean=score.mean()\n",
    "print(\"Difference is \",acc_score_LR-mean)"
   ]
  },
  {
   "cell_type": "code",
   "execution_count": 99,
   "id": "53de2197",
   "metadata": {},
   "outputs": [
    {
     "name": "stdout",
     "output_type": "stream",
     "text": [
      "Difference is  0.034979423868312653\n"
     ]
    }
   ],
   "source": [
    "score=cross_val_score(Knn,x,y)\n",
    "mean=score.mean()\n",
    "print(\"Difference is \",acc_score_Knn-mean)"
   ]
  },
  {
   "cell_type": "code",
   "execution_count": 100,
   "id": "bc412af2",
   "metadata": {},
   "outputs": [
    {
     "name": "stdout",
     "output_type": "stream",
     "text": [
      "Difference is  0.04609053497942395\n"
     ]
    }
   ],
   "source": [
    "score=cross_val_score(DTC,x,y)\n",
    "mean=score.mean()\n",
    "print(\"Difference is \",acc_score_DTC-mean)"
   ]
  },
  {
   "cell_type": "code",
   "execution_count": 101,
   "id": "45e724aa",
   "metadata": {},
   "outputs": [
    {
     "name": "stdout",
     "output_type": "stream",
     "text": [
      "Difference is  0.036213991769547316\n"
     ]
    }
   ],
   "source": [
    "score=cross_val_score(ETC,x,y)\n",
    "mean=score.mean()\n",
    "print(\"Difference is \",acc_score_ETC-mean)"
   ]
  },
  {
   "cell_type": "code",
   "execution_count": 102,
   "id": "2d8e2dd4",
   "metadata": {},
   "outputs": [
    {
     "name": "stdout",
     "output_type": "stream",
     "text": [
      "Difference is  0.019341563786008265\n"
     ]
    }
   ],
   "source": [
    "score=cross_val_score(GDT,x,y)\n",
    "mean=score.mean()\n",
    "print(\"Difference is \",acc_score_GDT-mean)"
   ]
  },
  {
   "cell_type": "code",
   "execution_count": 103,
   "id": "5f27c491",
   "metadata": {},
   "outputs": [
    {
     "name": "stdout",
     "output_type": "stream",
     "text": [
      "Difference is  0.020576131687242927\n"
     ]
    }
   ],
   "source": [
    "score=cross_val_score(ABC,x,y)\n",
    "mean=score.mean()\n",
    "print(\"Difference is \",acc_score_ABC-mean)"
   ]
  },
  {
   "cell_type": "code",
   "execution_count": 104,
   "id": "b0463265",
   "metadata": {},
   "outputs": [
    {
     "name": "stdout",
     "output_type": "stream",
     "text": [
      "Difference is  0.06460905349794244\n"
     ]
    }
   ],
   "source": [
    "score=cross_val_score(BC,x,y)\n",
    "mean=score.mean()\n",
    "print(\"Difference is \",acc_score_BC-mean)"
   ]
  },
  {
   "cell_type": "markdown",
   "id": "01bc50f8",
   "metadata": {},
   "source": [
    "From the above we can observe GradientBoostingClassifier has least cross validation score. Let's consider this as best model for the dataset."
   ]
  },
  {
   "cell_type": "markdown",
   "id": "9b38619e",
   "metadata": {},
   "source": [
    "Let's generate classification report and confusion matrix"
   ]
  },
  {
   "cell_type": "code",
   "execution_count": 105,
   "id": "277c0f78",
   "metadata": {},
   "outputs": [],
   "source": [
    "from sklearn.metrics import confusion_matrix,classification_report"
   ]
  },
  {
   "cell_type": "code",
   "execution_count": 106,
   "id": "a833278e",
   "metadata": {},
   "outputs": [
    {
     "name": "stdout",
     "output_type": "stream",
     "text": [
      "confusion_matrix\n",
      " [[96 26]\n",
      " [30 91]]\n"
     ]
    }
   ],
   "source": [
    "print(\"confusion_matrix\\n\",confusion_matrix(y_test,y_predict_DTC))"
   ]
  },
  {
   "cell_type": "code",
   "execution_count": 107,
   "id": "094756f5",
   "metadata": {},
   "outputs": [
    {
     "name": "stdout",
     "output_type": "stream",
     "text": [
      "classification report \n",
      "               precision    recall  f1-score   support\n",
      "\n",
      "           0       0.76      0.79      0.77       122\n",
      "           1       0.78      0.75      0.76       121\n",
      "\n",
      "    accuracy                           0.77       243\n",
      "   macro avg       0.77      0.77      0.77       243\n",
      "weighted avg       0.77      0.77      0.77       243\n",
      "\n"
     ]
    }
   ],
   "source": [
    "print(\"classification report \\n\",classification_report(y_test,y_predict_DTC))"
   ]
  },
  {
   "cell_type": "markdown",
   "id": "7017bc3a",
   "metadata": {},
   "source": [
    "Let's tune parameters and try to increase performance of the model."
   ]
  },
  {
   "cell_type": "code",
   "execution_count": 108,
   "id": "e2e994e7",
   "metadata": {},
   "outputs": [],
   "source": [
    "from sklearn.model_selection import GridSearchCV"
   ]
  },
  {
   "cell_type": "code",
   "execution_count": 111,
   "id": "d048f7d4",
   "metadata": {},
   "outputs": [],
   "source": [
    "param={\n",
    "      'max_features':['auto', 'sqrt', 'log2'],\n",
    "      'min_samples_leaf':[2,3,4],\n",
    "      'min_samples_split':[5,6,7,8],\n",
    "      'max_depth':[3,4]}\n"
   ]
  },
  {
   "cell_type": "code",
   "execution_count": 112,
   "id": "d94ac260",
   "metadata": {},
   "outputs": [
    {
     "data": {
      "text/plain": [
       "GridSearchCV(estimator=GradientBoostingClassifier(), n_jobs=-1,\n",
       "             param_grid={'max_depth': [3, 4],\n",
       "                         'max_features': ['auto', 'sqrt', 'log2'],\n",
       "                         'min_samples_leaf': [2, 3, 4],\n",
       "                         'min_samples_split': [5, 6, 7, 8]})"
      ]
     },
     "execution_count": 112,
     "metadata": {},
     "output_type": "execute_result"
    }
   ],
   "source": [
    "GSV=GridSearchCV(GDT,param_grid=param,n_jobs=-1)\n",
    "GSV.fit(x_train,y_train)"
   ]
  },
  {
   "cell_type": "code",
   "execution_count": 113,
   "id": "508a48b7",
   "metadata": {},
   "outputs": [
    {
     "data": {
      "text/plain": [
       "{'max_depth': 4,\n",
       " 'max_features': 'sqrt',\n",
       " 'min_samples_leaf': 2,\n",
       " 'min_samples_split': 5}"
      ]
     },
     "execution_count": 113,
     "metadata": {},
     "output_type": "execute_result"
    }
   ],
   "source": [
    "GSV.best_params_"
   ]
  },
  {
   "cell_type": "code",
   "execution_count": 118,
   "id": "b22d010f",
   "metadata": {},
   "outputs": [
    {
     "name": "stdout",
     "output_type": "stream",
     "text": [
      "Accuracy score -  0.8148148148148148\n"
     ]
    }
   ],
   "source": [
    "Best_model=GradientBoostingClassifier(max_depth=5,max_features='sqrt',min_samples_leaf=2,min_samples_split=4)\n",
    "Best_model.fit(x_train,y_train)\n",
    "y_predict=Best_model.predict(x_test)\n",
    "acc=accuracy_score(y_test,y_predict)\n",
    "print(\"Accuracy score - \",acc)"
   ]
  },
  {
   "cell_type": "markdown",
   "id": "007ebe58",
   "metadata": {},
   "source": [
    "After tuning parameters accuracy score increased to 81%. Let's generate confusion matrix and classification report, "
   ]
  },
  {
   "cell_type": "code",
   "execution_count": 119,
   "id": "c9f5e161",
   "metadata": {},
   "outputs": [
    {
     "name": "stdout",
     "output_type": "stream",
     "text": [
      "confusion_matrix\n",
      " [[ 94  28]\n",
      " [ 17 104]]\n"
     ]
    }
   ],
   "source": [
    "print(\"confusion_matrix\\n\",confusion_matrix(y_test,y_predict))"
   ]
  },
  {
   "cell_type": "code",
   "execution_count": 120,
   "id": "09507ec2",
   "metadata": {},
   "outputs": [
    {
     "name": "stdout",
     "output_type": "stream",
     "text": [
      "classification report \n",
      "               precision    recall  f1-score   support\n",
      "\n",
      "           0       0.85      0.77      0.81       122\n",
      "           1       0.79      0.86      0.82       121\n",
      "\n",
      "    accuracy                           0.81       243\n",
      "   macro avg       0.82      0.81      0.81       243\n",
      "weighted avg       0.82      0.81      0.81       243\n",
      "\n"
     ]
    }
   ],
   "source": [
    "print(\"classification report \\n\",classification_report(y_test,y_predict))"
   ]
  },
  {
   "cell_type": "markdown",
   "id": "28b734d0",
   "metadata": {},
   "source": [
    "Let's save the model."
   ]
  },
  {
   "cell_type": "code",
   "execution_count": 121,
   "id": "f69d3fc6",
   "metadata": {},
   "outputs": [],
   "source": [
    "import pickle\n",
    "pickle.dump('Best_model',open('Loan_prediction','wb'))"
   ]
  },
  {
   "cell_type": "code",
   "execution_count": null,
   "id": "aca4a798",
   "metadata": {},
   "outputs": [],
   "source": []
  }
 ],
 "metadata": {
  "kernelspec": {
   "display_name": "Python 3 (ipykernel)",
   "language": "python",
   "name": "python3"
  },
  "language_info": {
   "codemirror_mode": {
    "name": "ipython",
    "version": 3
   },
   "file_extension": ".py",
   "mimetype": "text/x-python",
   "name": "python",
   "nbconvert_exporter": "python",
   "pygments_lexer": "ipython3",
   "version": "3.9.12"
  }
 },
 "nbformat": 4,
 "nbformat_minor": 5
}
