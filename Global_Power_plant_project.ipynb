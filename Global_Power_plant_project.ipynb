{
 "cells": [
  {
   "cell_type": "code",
   "execution_count": 1,
   "id": "9171912f",
   "metadata": {},
   "outputs": [],
   "source": [
    "import numpy as np\n",
    "import pandas as pd\n",
    "import matplotlib.pyplot as plt\n",
    "import seaborn as sns\n",
    "\n",
    "import warnings\n",
    "warnings.filterwarnings('ignore')"
   ]
  },
  {
   "cell_type": "code",
   "execution_count": 482,
   "id": "d8b12cd6",
   "metadata": {},
   "outputs": [
    {
     "data": {
      "text/html": [
       "<div>\n",
       "<style scoped>\n",
       "    .dataframe tbody tr th:only-of-type {\n",
       "        vertical-align: middle;\n",
       "    }\n",
       "\n",
       "    .dataframe tbody tr th {\n",
       "        vertical-align: top;\n",
       "    }\n",
       "\n",
       "    .dataframe thead th {\n",
       "        text-align: right;\n",
       "    }\n",
       "</style>\n",
       "<table border=\"1\" class=\"dataframe\">\n",
       "  <thead>\n",
       "    <tr style=\"text-align: right;\">\n",
       "      <th></th>\n",
       "      <th>country</th>\n",
       "      <th>country_long</th>\n",
       "      <th>name</th>\n",
       "      <th>gppd_idnr</th>\n",
       "      <th>capacity_mw</th>\n",
       "      <th>latitude</th>\n",
       "      <th>longitude</th>\n",
       "      <th>primary_fuel</th>\n",
       "      <th>other_fuel1</th>\n",
       "      <th>other_fuel2</th>\n",
       "      <th>...</th>\n",
       "      <th>year_of_capacity_data</th>\n",
       "      <th>generation_gwh_2013</th>\n",
       "      <th>generation_gwh_2014</th>\n",
       "      <th>generation_gwh_2015</th>\n",
       "      <th>generation_gwh_2016</th>\n",
       "      <th>generation_gwh_2017</th>\n",
       "      <th>generation_gwh_2018</th>\n",
       "      <th>generation_gwh_2019</th>\n",
       "      <th>generation_data_source</th>\n",
       "      <th>estimated_generation_gwh</th>\n",
       "    </tr>\n",
       "  </thead>\n",
       "  <tbody>\n",
       "    <tr>\n",
       "      <th>0</th>\n",
       "      <td>IND</td>\n",
       "      <td>India</td>\n",
       "      <td>ACME Solar Tower</td>\n",
       "      <td>WRI1020239</td>\n",
       "      <td>2.5</td>\n",
       "      <td>28.1839</td>\n",
       "      <td>73.2407</td>\n",
       "      <td>Solar</td>\n",
       "      <td>NaN</td>\n",
       "      <td>NaN</td>\n",
       "      <td>...</td>\n",
       "      <td>NaN</td>\n",
       "      <td>NaN</td>\n",
       "      <td>NaN</td>\n",
       "      <td>NaN</td>\n",
       "      <td>NaN</td>\n",
       "      <td>NaN</td>\n",
       "      <td>NaN</td>\n",
       "      <td>NaN</td>\n",
       "      <td>NaN</td>\n",
       "      <td>NaN</td>\n",
       "    </tr>\n",
       "    <tr>\n",
       "      <th>1</th>\n",
       "      <td>IND</td>\n",
       "      <td>India</td>\n",
       "      <td>ADITYA CEMENT WORKS</td>\n",
       "      <td>WRI1019881</td>\n",
       "      <td>98.0</td>\n",
       "      <td>24.7663</td>\n",
       "      <td>74.6090</td>\n",
       "      <td>Coal</td>\n",
       "      <td>NaN</td>\n",
       "      <td>NaN</td>\n",
       "      <td>...</td>\n",
       "      <td>NaN</td>\n",
       "      <td>NaN</td>\n",
       "      <td>NaN</td>\n",
       "      <td>NaN</td>\n",
       "      <td>NaN</td>\n",
       "      <td>NaN</td>\n",
       "      <td>NaN</td>\n",
       "      <td>NaN</td>\n",
       "      <td>NaN</td>\n",
       "      <td>NaN</td>\n",
       "    </tr>\n",
       "    <tr>\n",
       "      <th>2</th>\n",
       "      <td>IND</td>\n",
       "      <td>India</td>\n",
       "      <td>AES Saurashtra Windfarms</td>\n",
       "      <td>WRI1026669</td>\n",
       "      <td>39.2</td>\n",
       "      <td>21.9038</td>\n",
       "      <td>69.3732</td>\n",
       "      <td>Wind</td>\n",
       "      <td>NaN</td>\n",
       "      <td>NaN</td>\n",
       "      <td>...</td>\n",
       "      <td>NaN</td>\n",
       "      <td>NaN</td>\n",
       "      <td>NaN</td>\n",
       "      <td>NaN</td>\n",
       "      <td>NaN</td>\n",
       "      <td>NaN</td>\n",
       "      <td>NaN</td>\n",
       "      <td>NaN</td>\n",
       "      <td>NaN</td>\n",
       "      <td>NaN</td>\n",
       "    </tr>\n",
       "    <tr>\n",
       "      <th>3</th>\n",
       "      <td>IND</td>\n",
       "      <td>India</td>\n",
       "      <td>AGARTALA GT</td>\n",
       "      <td>IND0000001</td>\n",
       "      <td>135.0</td>\n",
       "      <td>23.8712</td>\n",
       "      <td>91.3602</td>\n",
       "      <td>Gas</td>\n",
       "      <td>NaN</td>\n",
       "      <td>NaN</td>\n",
       "      <td>...</td>\n",
       "      <td>2019.0</td>\n",
       "      <td>NaN</td>\n",
       "      <td>617.789264</td>\n",
       "      <td>843.747</td>\n",
       "      <td>886.004428</td>\n",
       "      <td>663.774500</td>\n",
       "      <td>626.239128</td>\n",
       "      <td>NaN</td>\n",
       "      <td>Central Electricity Authority</td>\n",
       "      <td>NaN</td>\n",
       "    </tr>\n",
       "    <tr>\n",
       "      <th>4</th>\n",
       "      <td>IND</td>\n",
       "      <td>India</td>\n",
       "      <td>AKALTARA TPP</td>\n",
       "      <td>IND0000002</td>\n",
       "      <td>1800.0</td>\n",
       "      <td>21.9603</td>\n",
       "      <td>82.4091</td>\n",
       "      <td>Coal</td>\n",
       "      <td>Oil</td>\n",
       "      <td>NaN</td>\n",
       "      <td>...</td>\n",
       "      <td>2019.0</td>\n",
       "      <td>NaN</td>\n",
       "      <td>3035.550000</td>\n",
       "      <td>5916.370</td>\n",
       "      <td>6243.000000</td>\n",
       "      <td>5385.579736</td>\n",
       "      <td>7279.000000</td>\n",
       "      <td>NaN</td>\n",
       "      <td>Central Electricity Authority</td>\n",
       "      <td>NaN</td>\n",
       "    </tr>\n",
       "  </tbody>\n",
       "</table>\n",
       "<p>5 rows × 27 columns</p>\n",
       "</div>"
      ],
      "text/plain": [
       "  country country_long                      name   gppd_idnr  capacity_mw  \\\n",
       "0     IND        India          ACME Solar Tower  WRI1020239          2.5   \n",
       "1     IND        India       ADITYA CEMENT WORKS  WRI1019881         98.0   \n",
       "2     IND        India  AES Saurashtra Windfarms  WRI1026669         39.2   \n",
       "3     IND        India               AGARTALA GT  IND0000001        135.0   \n",
       "4     IND        India              AKALTARA TPP  IND0000002       1800.0   \n",
       "\n",
       "   latitude  longitude primary_fuel other_fuel1 other_fuel2  ...  \\\n",
       "0   28.1839    73.2407        Solar         NaN         NaN  ...   \n",
       "1   24.7663    74.6090         Coal         NaN         NaN  ...   \n",
       "2   21.9038    69.3732         Wind         NaN         NaN  ...   \n",
       "3   23.8712    91.3602          Gas         NaN         NaN  ...   \n",
       "4   21.9603    82.4091         Coal         Oil         NaN  ...   \n",
       "\n",
       "   year_of_capacity_data  generation_gwh_2013 generation_gwh_2014  \\\n",
       "0                    NaN                  NaN                 NaN   \n",
       "1                    NaN                  NaN                 NaN   \n",
       "2                    NaN                  NaN                 NaN   \n",
       "3                 2019.0                  NaN          617.789264   \n",
       "4                 2019.0                  NaN         3035.550000   \n",
       "\n",
       "  generation_gwh_2015 generation_gwh_2016 generation_gwh_2017  \\\n",
       "0                 NaN                 NaN                 NaN   \n",
       "1                 NaN                 NaN                 NaN   \n",
       "2                 NaN                 NaN                 NaN   \n",
       "3             843.747          886.004428          663.774500   \n",
       "4            5916.370         6243.000000         5385.579736   \n",
       "\n",
       "   generation_gwh_2018  generation_gwh_2019         generation_data_source  \\\n",
       "0                  NaN                  NaN                            NaN   \n",
       "1                  NaN                  NaN                            NaN   \n",
       "2                  NaN                  NaN                            NaN   \n",
       "3           626.239128                  NaN  Central Electricity Authority   \n",
       "4          7279.000000                  NaN  Central Electricity Authority   \n",
       "\n",
       "   estimated_generation_gwh  \n",
       "0                       NaN  \n",
       "1                       NaN  \n",
       "2                       NaN  \n",
       "3                       NaN  \n",
       "4                       NaN  \n",
       "\n",
       "[5 rows x 27 columns]"
      ]
     },
     "execution_count": 482,
     "metadata": {},
     "output_type": "execute_result"
    }
   ],
   "source": [
    "df=pd.read_csv('https://raw.githubusercontent.com/wri/global-power-plant-database/master/source_databases_csv/database_IND.csv')\n",
    "df.head()"
   ]
  },
  {
   "cell_type": "code",
   "execution_count": 483,
   "id": "d494a3a4",
   "metadata": {},
   "outputs": [
    {
     "data": {
      "text/plain": [
       "(907, 27)"
      ]
     },
     "execution_count": 483,
     "metadata": {},
     "output_type": "execute_result"
    }
   ],
   "source": [
    "df.shape"
   ]
  },
  {
   "cell_type": "markdown",
   "id": "561cb600",
   "metadata": {},
   "source": [
    "This dataset contains 27 features and 907 records"
   ]
  },
  {
   "cell_type": "markdown",
   "id": "e20e2bbc",
   "metadata": {},
   "source": [
    "Let's check for nulls in the dataset."
   ]
  },
  {
   "cell_type": "code",
   "execution_count": 484,
   "id": "a9c8878e",
   "metadata": {},
   "outputs": [
    {
     "data": {
      "text/plain": [
       "country                       0\n",
       "country_long                  0\n",
       "name                          0\n",
       "gppd_idnr                     0\n",
       "capacity_mw                   0\n",
       "latitude                     46\n",
       "longitude                    46\n",
       "primary_fuel                  0\n",
       "other_fuel1                 709\n",
       "other_fuel2                 906\n",
       "other_fuel3                 907\n",
       "commissioning_year          380\n",
       "owner                       565\n",
       "source                        0\n",
       "url                           0\n",
       "geolocation_source           19\n",
       "wepp_id                     907\n",
       "year_of_capacity_data       388\n",
       "generation_gwh_2013         907\n",
       "generation_gwh_2014         509\n",
       "generation_gwh_2015         485\n",
       "generation_gwh_2016         473\n",
       "generation_gwh_2017         467\n",
       "generation_gwh_2018         459\n",
       "generation_gwh_2019         907\n",
       "generation_data_source      458\n",
       "estimated_generation_gwh    907\n",
       "dtype: int64"
      ]
     },
     "execution_count": 484,
     "metadata": {},
     "output_type": "execute_result"
    }
   ],
   "source": [
    "df.isnull().sum()"
   ]
  },
  {
   "cell_type": "markdown",
   "id": "0f399c8e",
   "metadata": {},
   "source": [
    "From the above we can observe null values are present in the dataset. Let's fill those values.\n",
    "\n",
    "From the above we can observe 'other_fuel3','generation_gwh_2013','estimated_generation_gwh','generation_gwh_2019' has only null values and does not contain data.\n",
    "Let's drop these features."
   ]
  },
  {
   "cell_type": "code",
   "execution_count": 485,
   "id": "72240a3b",
   "metadata": {},
   "outputs": [
    {
     "data": {
      "text/plain": [
       "Oil    1\n",
       "Name: other_fuel2, dtype: int64"
      ]
     },
     "execution_count": 485,
     "metadata": {},
     "output_type": "execute_result"
    }
   ],
   "source": [
    "df['other_fuel2'].value_counts()"
   ]
  },
  {
   "cell_type": "markdown",
   "id": "8a80bed3",
   "metadata": {},
   "source": [
    "From the above we can observe, other_fuel2 feature has data for only one record and remaining all records has null values. Let's drop this features also."
   ]
  },
  {
   "cell_type": "code",
   "execution_count": 486,
   "id": "251e127d",
   "metadata": {},
   "outputs": [],
   "source": [
    "df.drop(columns=['other_fuel2','other_fuel3','generation_gwh_2013','estimated_generation_gwh','generation_gwh_2019','wepp_id' ],axis=1,inplace=True)"
   ]
  },
  {
   "cell_type": "code",
   "execution_count": 487,
   "id": "af73745a",
   "metadata": {},
   "outputs": [
    {
     "data": {
      "text/plain": [
       "country                     0\n",
       "country_long                0\n",
       "name                        0\n",
       "gppd_idnr                   0\n",
       "capacity_mw                 0\n",
       "latitude                   46\n",
       "longitude                  46\n",
       "primary_fuel                0\n",
       "other_fuel1               709\n",
       "commissioning_year        380\n",
       "owner                     565\n",
       "source                      0\n",
       "url                         0\n",
       "geolocation_source         19\n",
       "year_of_capacity_data     388\n",
       "generation_gwh_2014       509\n",
       "generation_gwh_2015       485\n",
       "generation_gwh_2016       473\n",
       "generation_gwh_2017       467\n",
       "generation_gwh_2018       459\n",
       "generation_data_source    458\n",
       "dtype: int64"
      ]
     },
     "execution_count": 487,
     "metadata": {},
     "output_type": "execute_result"
    }
   ],
   "source": [
    "df.isnull().sum()"
   ]
  },
  {
   "cell_type": "code",
   "execution_count": 488,
   "id": "7a6a7cbe",
   "metadata": {},
   "outputs": [
    {
     "data": {
      "text/plain": [
       "19.0004    3\n",
       "24.1917    3\n",
       "24.8747    2\n",
       "13.2450    2\n",
       "11.5336    2\n",
       "          ..\n",
       "22.7554    1\n",
       "27.1598    1\n",
       "17.2970    1\n",
       "20.8772    1\n",
       "9.9344     1\n",
       "Name: latitude, Length: 836, dtype: int64"
      ]
     },
     "execution_count": 488,
     "metadata": {},
     "output_type": "execute_result"
    }
   ],
   "source": [
    "df['latitude'].value_counts()"
   ]
  },
  {
   "cell_type": "code",
   "execution_count": 489,
   "id": "1c287f69",
   "metadata": {},
   "outputs": [
    {
     "data": {
      "text/plain": [
       "0    19.0004\n",
       "1    24.1917\n",
       "Name: latitude, dtype: float64"
      ]
     },
     "execution_count": 489,
     "metadata": {},
     "output_type": "execute_result"
    }
   ],
   "source": [
    "df['latitude'].mode()"
   ]
  },
  {
   "cell_type": "code",
   "execution_count": 490,
   "id": "fb2508c3",
   "metadata": {},
   "outputs": [],
   "source": [
    "df['latitude']=df['latitude'].fillna(df['latitude'].mode()[0])"
   ]
  },
  {
   "cell_type": "code",
   "execution_count": 491,
   "id": "3c1de1dc",
   "metadata": {},
   "outputs": [
    {
     "data": {
      "text/plain": [
       "71.6917    4\n",
       "75.8988    3\n",
       "71.6918    3\n",
       "72.8983    3\n",
       "81.2875    3\n",
       "          ..\n",
       "70.3961    1\n",
       "74.2393    1\n",
       "77.0435    1\n",
       "73.8254    1\n",
       "77.4768    1\n",
       "Name: longitude, Length: 827, dtype: int64"
      ]
     },
     "execution_count": 491,
     "metadata": {},
     "output_type": "execute_result"
    }
   ],
   "source": [
    "df['longitude'].value_counts()"
   ]
  },
  {
   "cell_type": "code",
   "execution_count": 492,
   "id": "6810b392",
   "metadata": {},
   "outputs": [
    {
     "data": {
      "text/plain": [
       "0    71.6917\n",
       "Name: longitude, dtype: float64"
      ]
     },
     "execution_count": 492,
     "metadata": {},
     "output_type": "execute_result"
    }
   ],
   "source": [
    "df['longitude'].mode()"
   ]
  },
  {
   "cell_type": "code",
   "execution_count": 493,
   "id": "04908eeb",
   "metadata": {},
   "outputs": [],
   "source": [
    "df['longitude']=df['longitude'].fillna(df['longitude'].mode()[0])"
   ]
  },
  {
   "cell_type": "code",
   "execution_count": 494,
   "id": "7406d151",
   "metadata": {},
   "outputs": [
    {
     "data": {
      "text/plain": [
       "country                     0\n",
       "country_long                0\n",
       "name                        0\n",
       "gppd_idnr                   0\n",
       "capacity_mw                 0\n",
       "latitude                    0\n",
       "longitude                   0\n",
       "primary_fuel                0\n",
       "other_fuel1               709\n",
       "commissioning_year        380\n",
       "owner                     565\n",
       "source                      0\n",
       "url                         0\n",
       "geolocation_source         19\n",
       "year_of_capacity_data     388\n",
       "generation_gwh_2014       509\n",
       "generation_gwh_2015       485\n",
       "generation_gwh_2016       473\n",
       "generation_gwh_2017       467\n",
       "generation_gwh_2018       459\n",
       "generation_data_source    458\n",
       "dtype: int64"
      ]
     },
     "execution_count": 494,
     "metadata": {},
     "output_type": "execute_result"
    }
   ],
   "source": [
    "df.isnull().sum()"
   ]
  },
  {
   "cell_type": "code",
   "execution_count": 495,
   "id": "64495bc6",
   "metadata": {},
   "outputs": [
    {
     "data": {
      "text/plain": [
       "array([nan, 'Oil', 'Cogeneration', 'Gas'], dtype=object)"
      ]
     },
     "execution_count": 495,
     "metadata": {},
     "output_type": "execute_result"
    }
   ],
   "source": [
    "df['other_fuel1'].unique()"
   ]
  },
  {
   "cell_type": "code",
   "execution_count": 496,
   "id": "1cb5157b",
   "metadata": {},
   "outputs": [
    {
     "data": {
      "text/plain": [
       "0    Oil\n",
       "Name: other_fuel1, dtype: object"
      ]
     },
     "execution_count": 496,
     "metadata": {},
     "output_type": "execute_result"
    }
   ],
   "source": [
    "df['other_fuel1'].mode()"
   ]
  },
  {
   "cell_type": "code",
   "execution_count": 497,
   "id": "eeff2bf7",
   "metadata": {},
   "outputs": [],
   "source": [
    "df['other_fuel1']=df['other_fuel1'].fillna(df['other_fuel1'].mode()[0])"
   ]
  },
  {
   "cell_type": "code",
   "execution_count": 498,
   "id": "e09a86d3",
   "metadata": {},
   "outputs": [
    {
     "data": {
      "text/plain": [
       "2015.0    28\n",
       "2013.0    25\n",
       "2012.0    23\n",
       "2016.0    19\n",
       "2010.0    18\n",
       "          ..\n",
       "1946.0     1\n",
       "1956.0     1\n",
       "1937.0     1\n",
       "1949.0     1\n",
       "1953.0     1\n",
       "Name: commissioning_year, Length: 73, dtype: int64"
      ]
     },
     "execution_count": 498,
     "metadata": {},
     "output_type": "execute_result"
    }
   ],
   "source": [
    "df['commissioning_year'].value_counts()"
   ]
  },
  {
   "cell_type": "code",
   "execution_count": 499,
   "id": "eec32dd4",
   "metadata": {},
   "outputs": [
    {
     "data": {
      "text/plain": [
       "0    2015.0\n",
       "Name: commissioning_year, dtype: float64"
      ]
     },
     "execution_count": 499,
     "metadata": {},
     "output_type": "execute_result"
    }
   ],
   "source": [
    "df['commissioning_year'].mode()"
   ]
  },
  {
   "cell_type": "code",
   "execution_count": 500,
   "id": "bb8eaffa",
   "metadata": {},
   "outputs": [],
   "source": [
    "df['commissioning_year']=df['commissioning_year'].fillna(df['commissioning_year'].mode()[0])"
   ]
  },
  {
   "cell_type": "code",
   "execution_count": 501,
   "id": "d2c1e876",
   "metadata": {},
   "outputs": [
    {
     "data": {
      "text/plain": [
       "Acc Acc ltd                                                    4\n",
       "Sterling Agro Industries ltd.                                  4\n",
       "Jk Cement ltd                                                  4\n",
       "SWPPL                                                          3\n",
       "Jaypee Ltd jccl)                                               3\n",
       "                                                              ..\n",
       "Sunkon Energy Private Limited                                  1\n",
       "West Bengal Energy Development Corporation Limited (WBEDCL)    1\n",
       "Energy Infratech Private Limited                               1\n",
       "K. N. Ram                                                      1\n",
       "iEnergy Wind Farms                                             1\n",
       "Name: owner, Length: 280, dtype: int64"
      ]
     },
     "execution_count": 501,
     "metadata": {},
     "output_type": "execute_result"
    }
   ],
   "source": [
    "df['owner'].value_counts()"
   ]
  },
  {
   "cell_type": "code",
   "execution_count": 502,
   "id": "9b9b8c25",
   "metadata": {},
   "outputs": [],
   "source": [
    "df['owner']=df['owner'].fillna(df['owner'].mode()[0])"
   ]
  },
  {
   "cell_type": "code",
   "execution_count": 503,
   "id": "5e55f42a",
   "metadata": {},
   "outputs": [
    {
     "data": {
      "text/plain": [
       "WRI                                     765\n",
       "Industry About                          119\n",
       "National Renewable Energy Laboratory      4\n",
       "Name: geolocation_source, dtype: int64"
      ]
     },
     "execution_count": 503,
     "metadata": {},
     "output_type": "execute_result"
    }
   ],
   "source": [
    "df['geolocation_source'].value_counts()"
   ]
  },
  {
   "cell_type": "code",
   "execution_count": 504,
   "id": "72d71fa2",
   "metadata": {},
   "outputs": [],
   "source": [
    "df['geolocation_source']=df['geolocation_source'].fillna(df['geolocation_source'].mode()[0])"
   ]
  },
  {
   "cell_type": "code",
   "execution_count": 505,
   "id": "3a454238",
   "metadata": {},
   "outputs": [
    {
     "data": {
      "text/plain": [
       "array([  nan, 2019.])"
      ]
     },
     "execution_count": 505,
     "metadata": {},
     "output_type": "execute_result"
    }
   ],
   "source": [
    "df['year_of_capacity_data'].unique()"
   ]
  },
  {
   "cell_type": "code",
   "execution_count": 506,
   "id": "1e02bf3b",
   "metadata": {},
   "outputs": [],
   "source": [
    "df['year_of_capacity_data']=df['year_of_capacity_data'].fillna(df['year_of_capacity_data'].mode()[0])"
   ]
  },
  {
   "cell_type": "code",
   "execution_count": 507,
   "id": "98e38239",
   "metadata": {},
   "outputs": [
    {
     "data": {
      "text/plain": [
       "0.000000       28\n",
       "617.789264      1\n",
       "359.139800      1\n",
       "7368.390000     1\n",
       "9983.018000     1\n",
       "               ..\n",
       "4436.700000     1\n",
       "1154.342000     1\n",
       "451.053400      1\n",
       "3239.142900     1\n",
       "3194.359820     1\n",
       "Name: generation_gwh_2014, Length: 371, dtype: int64"
      ]
     },
     "execution_count": 507,
     "metadata": {},
     "output_type": "execute_result"
    }
   ],
   "source": [
    "df['generation_gwh_2014'].value_counts()"
   ]
  },
  {
   "cell_type": "code",
   "execution_count": 508,
   "id": "49016239",
   "metadata": {},
   "outputs": [
    {
     "data": {
      "text/plain": [
       "2431.823590196344"
      ]
     },
     "execution_count": 508,
     "metadata": {},
     "output_type": "execute_result"
    }
   ],
   "source": [
    "df['generation_gwh_2014'].mean()"
   ]
  },
  {
   "cell_type": "code",
   "execution_count": 509,
   "id": "fd2f9b71",
   "metadata": {},
   "outputs": [],
   "source": [
    "df['generation_gwh_2014']=df['generation_gwh_2014'].fillna(df['generation_gwh_2014'].mean())"
   ]
  },
  {
   "cell_type": "code",
   "execution_count": 510,
   "id": "7f6b4756",
   "metadata": {},
   "outputs": [
    {
     "data": {
      "text/plain": [
       "0.000000        27\n",
       "843.747000       1\n",
       "1497.798000      1\n",
       "10422.690000     1\n",
       "240.799900       1\n",
       "                ..\n",
       "6996.000000      1\n",
       "14192.000000     1\n",
       "219.377600       1\n",
       "288.460450       1\n",
       "0.994875         1\n",
       "Name: generation_gwh_2015, Length: 396, dtype: int64"
      ]
     },
     "execution_count": 510,
     "metadata": {},
     "output_type": "execute_result"
    }
   ],
   "source": [
    "df['generation_gwh_2015'].value_counts()"
   ]
  },
  {
   "cell_type": "code",
   "execution_count": 511,
   "id": "b5e6e04b",
   "metadata": {},
   "outputs": [],
   "source": [
    "df['generation_gwh_2015']=df['generation_gwh_2015'].fillna(df['generation_gwh_2015'].mean())\n",
    "df['generation_gwh_2016']=df['generation_gwh_2016'].fillna(df['generation_gwh_2016'].mean())\n",
    "df['generation_gwh_2017']=df['generation_gwh_2017'].fillna(df['generation_gwh_2017'].mean())\n",
    "df['generation_gwh_2018']=df['generation_gwh_2018'].fillna(df['generation_gwh_2018'].mean())"
   ]
  },
  {
   "cell_type": "code",
   "execution_count": 512,
   "id": "2c2328e7",
   "metadata": {},
   "outputs": [
    {
     "data": {
      "text/plain": [
       "array([nan, 'Central Electricity Authority'], dtype=object)"
      ]
     },
     "execution_count": 512,
     "metadata": {},
     "output_type": "execute_result"
    }
   ],
   "source": [
    "df['generation_data_source'].unique()"
   ]
  },
  {
   "cell_type": "code",
   "execution_count": 513,
   "id": "f2fbc396",
   "metadata": {},
   "outputs": [],
   "source": [
    "df['generation_data_source']=df['generation_data_source'].fillna(df['generation_data_source'].mode()[0])"
   ]
  },
  {
   "cell_type": "code",
   "execution_count": 514,
   "id": "f632d4d7",
   "metadata": {},
   "outputs": [
    {
     "data": {
      "text/plain": [
       "country                   0\n",
       "country_long              0\n",
       "name                      0\n",
       "gppd_idnr                 0\n",
       "capacity_mw               0\n",
       "latitude                  0\n",
       "longitude                 0\n",
       "primary_fuel              0\n",
       "other_fuel1               0\n",
       "commissioning_year        0\n",
       "owner                     0\n",
       "source                    0\n",
       "url                       0\n",
       "geolocation_source        0\n",
       "year_of_capacity_data     0\n",
       "generation_gwh_2014       0\n",
       "generation_gwh_2015       0\n",
       "generation_gwh_2016       0\n",
       "generation_gwh_2017       0\n",
       "generation_gwh_2018       0\n",
       "generation_data_source    0\n",
       "dtype: int64"
      ]
     },
     "execution_count": 514,
     "metadata": {},
     "output_type": "execute_result"
    }
   ],
   "source": [
    "df.isnull().sum()"
   ]
  },
  {
   "cell_type": "markdown",
   "id": "9907b43a",
   "metadata": {},
   "source": [
    "All the null values are filled with appropriate values.\n",
    "\n",
    "Let's check for dupliate records in the dataset."
   ]
  },
  {
   "cell_type": "code",
   "execution_count": 515,
   "id": "24144f96",
   "metadata": {},
   "outputs": [
    {
     "data": {
      "text/plain": [
       "0"
      ]
     },
     "execution_count": 515,
     "metadata": {},
     "output_type": "execute_result"
    }
   ],
   "source": [
    "df.duplicated().sum()"
   ]
  },
  {
   "cell_type": "markdown",
   "id": "618e3251",
   "metadata": {},
   "source": [
    "There are no duplicate records in the dataset.\n",
    "\n",
    "Let's check statistical information of the data."
   ]
  },
  {
   "cell_type": "code",
   "execution_count": 516,
   "id": "3318e037",
   "metadata": {},
   "outputs": [
    {
     "data": {
      "text/html": [
       "<div>\n",
       "<style scoped>\n",
       "    .dataframe tbody tr th:only-of-type {\n",
       "        vertical-align: middle;\n",
       "    }\n",
       "\n",
       "    .dataframe tbody tr th {\n",
       "        vertical-align: top;\n",
       "    }\n",
       "\n",
       "    .dataframe thead th {\n",
       "        text-align: right;\n",
       "    }\n",
       "</style>\n",
       "<table border=\"1\" class=\"dataframe\">\n",
       "  <thead>\n",
       "    <tr style=\"text-align: right;\">\n",
       "      <th></th>\n",
       "      <th>capacity_mw</th>\n",
       "      <th>latitude</th>\n",
       "      <th>longitude</th>\n",
       "      <th>commissioning_year</th>\n",
       "      <th>year_of_capacity_data</th>\n",
       "      <th>generation_gwh_2014</th>\n",
       "      <th>generation_gwh_2015</th>\n",
       "      <th>generation_gwh_2016</th>\n",
       "      <th>generation_gwh_2017</th>\n",
       "      <th>generation_gwh_2018</th>\n",
       "    </tr>\n",
       "  </thead>\n",
       "  <tbody>\n",
       "    <tr>\n",
       "      <th>count</th>\n",
       "      <td>907.000000</td>\n",
       "      <td>907.000000</td>\n",
       "      <td>907.000000</td>\n",
       "      <td>907.000000</td>\n",
       "      <td>907.0</td>\n",
       "      <td>907.000000</td>\n",
       "      <td>907.000000</td>\n",
       "      <td>907.000000</td>\n",
       "      <td>907.000000</td>\n",
       "      <td>907.000000</td>\n",
       "    </tr>\n",
       "    <tr>\n",
       "      <th>mean</th>\n",
       "      <td>326.223755</td>\n",
       "      <td>21.086467</td>\n",
       "      <td>77.172109</td>\n",
       "      <td>2004.594267</td>\n",
       "      <td>2019.0</td>\n",
       "      <td>2431.823590</td>\n",
       "      <td>2428.226946</td>\n",
       "      <td>2467.936859</td>\n",
       "      <td>2547.759305</td>\n",
       "      <td>2600.804099</td>\n",
       "    </tr>\n",
       "    <tr>\n",
       "      <th>std</th>\n",
       "      <td>590.085456</td>\n",
       "      <td>6.098262</td>\n",
       "      <td>4.976401</td>\n",
       "      <td>15.734928</td>\n",
       "      <td>0.0</td>\n",
       "      <td>2665.338608</td>\n",
       "      <td>2859.349132</td>\n",
       "      <td>2877.890004</td>\n",
       "      <td>2921.502193</td>\n",
       "      <td>3030.808041</td>\n",
       "    </tr>\n",
       "    <tr>\n",
       "      <th>min</th>\n",
       "      <td>0.000000</td>\n",
       "      <td>8.168900</td>\n",
       "      <td>68.644700</td>\n",
       "      <td>1927.000000</td>\n",
       "      <td>2019.0</td>\n",
       "      <td>0.000000</td>\n",
       "      <td>0.000000</td>\n",
       "      <td>0.000000</td>\n",
       "      <td>0.000000</td>\n",
       "      <td>0.000000</td>\n",
       "    </tr>\n",
       "    <tr>\n",
       "      <th>25%</th>\n",
       "      <td>16.725000</td>\n",
       "      <td>17.072000</td>\n",
       "      <td>73.811550</td>\n",
       "      <td>1998.000000</td>\n",
       "      <td>2019.0</td>\n",
       "      <td>1211.362750</td>\n",
       "      <td>916.000000</td>\n",
       "      <td>896.500214</td>\n",
       "      <td>882.594850</td>\n",
       "      <td>824.842340</td>\n",
       "    </tr>\n",
       "    <tr>\n",
       "      <th>50%</th>\n",
       "      <td>59.200000</td>\n",
       "      <td>21.281800</td>\n",
       "      <td>76.493800</td>\n",
       "      <td>2014.000000</td>\n",
       "      <td>2019.0</td>\n",
       "      <td>2431.823590</td>\n",
       "      <td>2428.226946</td>\n",
       "      <td>2467.936859</td>\n",
       "      <td>2547.759305</td>\n",
       "      <td>2600.804099</td>\n",
       "    </tr>\n",
       "    <tr>\n",
       "      <th>75%</th>\n",
       "      <td>385.250000</td>\n",
       "      <td>25.176450</td>\n",
       "      <td>79.206100</td>\n",
       "      <td>2015.000000</td>\n",
       "      <td>2019.0</td>\n",
       "      <td>2431.823590</td>\n",
       "      <td>2428.226946</td>\n",
       "      <td>2467.936859</td>\n",
       "      <td>2547.759305</td>\n",
       "      <td>2600.804099</td>\n",
       "    </tr>\n",
       "    <tr>\n",
       "      <th>max</th>\n",
       "      <td>4760.000000</td>\n",
       "      <td>34.649000</td>\n",
       "      <td>95.408000</td>\n",
       "      <td>2018.000000</td>\n",
       "      <td>2019.0</td>\n",
       "      <td>28127.000000</td>\n",
       "      <td>30539.000000</td>\n",
       "      <td>30015.000000</td>\n",
       "      <td>35116.000000</td>\n",
       "      <td>35136.000000</td>\n",
       "    </tr>\n",
       "  </tbody>\n",
       "</table>\n",
       "</div>"
      ],
      "text/plain": [
       "       capacity_mw    latitude   longitude  commissioning_year  \\\n",
       "count   907.000000  907.000000  907.000000          907.000000   \n",
       "mean    326.223755   21.086467   77.172109         2004.594267   \n",
       "std     590.085456    6.098262    4.976401           15.734928   \n",
       "min       0.000000    8.168900   68.644700         1927.000000   \n",
       "25%      16.725000   17.072000   73.811550         1998.000000   \n",
       "50%      59.200000   21.281800   76.493800         2014.000000   \n",
       "75%     385.250000   25.176450   79.206100         2015.000000   \n",
       "max    4760.000000   34.649000   95.408000         2018.000000   \n",
       "\n",
       "       year_of_capacity_data  generation_gwh_2014  generation_gwh_2015  \\\n",
       "count                  907.0           907.000000           907.000000   \n",
       "mean                  2019.0          2431.823590          2428.226946   \n",
       "std                      0.0          2665.338608          2859.349132   \n",
       "min                   2019.0             0.000000             0.000000   \n",
       "25%                   2019.0          1211.362750           916.000000   \n",
       "50%                   2019.0          2431.823590          2428.226946   \n",
       "75%                   2019.0          2431.823590          2428.226946   \n",
       "max                   2019.0         28127.000000         30539.000000   \n",
       "\n",
       "       generation_gwh_2016  generation_gwh_2017  generation_gwh_2018  \n",
       "count           907.000000           907.000000           907.000000  \n",
       "mean           2467.936859          2547.759305          2600.804099  \n",
       "std            2877.890004          2921.502193          3030.808041  \n",
       "min               0.000000             0.000000             0.000000  \n",
       "25%             896.500214           882.594850           824.842340  \n",
       "50%            2467.936859          2547.759305          2600.804099  \n",
       "75%            2467.936859          2547.759305          2600.804099  \n",
       "max           30015.000000         35116.000000         35136.000000  "
      ]
     },
     "execution_count": 516,
     "metadata": {},
     "output_type": "execute_result"
    }
   ],
   "source": [
    "df.describe()"
   ]
  },
  {
   "cell_type": "markdown",
   "id": "c37ab669",
   "metadata": {},
   "source": [
    "Below are the observations from the above information,\n",
    "\n",
    "For features 'capacity_mw','generation_gwh_2014','generation_gwh_2014','generation_gwh_2015','generation_gwh_2016','generation_gwh_2017','generation_gwh_2018' there is huge difference between 75% and max values. So, there can be outliers present in these features."
   ]
  },
  {
   "cell_type": "code",
   "execution_count": 517,
   "id": "cb14335f",
   "metadata": {},
   "outputs": [
    {
     "name": "stdout",
     "output_type": "stream",
     "text": [
      "<class 'pandas.core.frame.DataFrame'>\n",
      "RangeIndex: 907 entries, 0 to 906\n",
      "Data columns (total 21 columns):\n",
      " #   Column                  Non-Null Count  Dtype  \n",
      "---  ------                  --------------  -----  \n",
      " 0   country                 907 non-null    object \n",
      " 1   country_long            907 non-null    object \n",
      " 2   name                    907 non-null    object \n",
      " 3   gppd_idnr               907 non-null    object \n",
      " 4   capacity_mw             907 non-null    float64\n",
      " 5   latitude                907 non-null    float64\n",
      " 6   longitude               907 non-null    float64\n",
      " 7   primary_fuel            907 non-null    object \n",
      " 8   other_fuel1             907 non-null    object \n",
      " 9   commissioning_year      907 non-null    float64\n",
      " 10  owner                   907 non-null    object \n",
      " 11  source                  907 non-null    object \n",
      " 12  url                     907 non-null    object \n",
      " 13  geolocation_source      907 non-null    object \n",
      " 14  year_of_capacity_data   907 non-null    float64\n",
      " 15  generation_gwh_2014     907 non-null    float64\n",
      " 16  generation_gwh_2015     907 non-null    float64\n",
      " 17  generation_gwh_2016     907 non-null    float64\n",
      " 18  generation_gwh_2017     907 non-null    float64\n",
      " 19  generation_gwh_2018     907 non-null    float64\n",
      " 20  generation_data_source  907 non-null    object \n",
      "dtypes: float64(10), object(11)\n",
      "memory usage: 148.9+ KB\n"
     ]
    }
   ],
   "source": [
    "df.info()"
   ]
  },
  {
   "cell_type": "code",
   "execution_count": 518,
   "id": "1670fa71",
   "metadata": {},
   "outputs": [
    {
     "data": {
      "text/html": [
       "<div>\n",
       "<style scoped>\n",
       "    .dataframe tbody tr th:only-of-type {\n",
       "        vertical-align: middle;\n",
       "    }\n",
       "\n",
       "    .dataframe tbody tr th {\n",
       "        vertical-align: top;\n",
       "    }\n",
       "\n",
       "    .dataframe thead th {\n",
       "        text-align: right;\n",
       "    }\n",
       "</style>\n",
       "<table border=\"1\" class=\"dataframe\">\n",
       "  <thead>\n",
       "    <tr style=\"text-align: right;\">\n",
       "      <th></th>\n",
       "      <th>country</th>\n",
       "      <th>country_long</th>\n",
       "      <th>name</th>\n",
       "      <th>gppd_idnr</th>\n",
       "      <th>capacity_mw</th>\n",
       "      <th>latitude</th>\n",
       "      <th>longitude</th>\n",
       "      <th>primary_fuel</th>\n",
       "      <th>other_fuel1</th>\n",
       "      <th>commissioning_year</th>\n",
       "      <th>...</th>\n",
       "      <th>source</th>\n",
       "      <th>url</th>\n",
       "      <th>geolocation_source</th>\n",
       "      <th>year_of_capacity_data</th>\n",
       "      <th>generation_gwh_2014</th>\n",
       "      <th>generation_gwh_2015</th>\n",
       "      <th>generation_gwh_2016</th>\n",
       "      <th>generation_gwh_2017</th>\n",
       "      <th>generation_gwh_2018</th>\n",
       "      <th>generation_data_source</th>\n",
       "    </tr>\n",
       "  </thead>\n",
       "  <tbody>\n",
       "    <tr>\n",
       "      <th>0</th>\n",
       "      <td>IND</td>\n",
       "      <td>India</td>\n",
       "      <td>ACME Solar Tower</td>\n",
       "      <td>WRI1020239</td>\n",
       "      <td>2.5</td>\n",
       "      <td>28.1839</td>\n",
       "      <td>73.2407</td>\n",
       "      <td>Solar</td>\n",
       "      <td>Oil</td>\n",
       "      <td>2011.0</td>\n",
       "      <td>...</td>\n",
       "      <td>National Renewable Energy Laboratory</td>\n",
       "      <td>http://www.nrel.gov/csp/solarpaces/project_det...</td>\n",
       "      <td>National Renewable Energy Laboratory</td>\n",
       "      <td>2019.0</td>\n",
       "      <td>2431.823590</td>\n",
       "      <td>2428.226946</td>\n",
       "      <td>2467.936859</td>\n",
       "      <td>2547.759305</td>\n",
       "      <td>2600.804099</td>\n",
       "      <td>Central Electricity Authority</td>\n",
       "    </tr>\n",
       "    <tr>\n",
       "      <th>1</th>\n",
       "      <td>IND</td>\n",
       "      <td>India</td>\n",
       "      <td>ADITYA CEMENT WORKS</td>\n",
       "      <td>WRI1019881</td>\n",
       "      <td>98.0</td>\n",
       "      <td>24.7663</td>\n",
       "      <td>74.6090</td>\n",
       "      <td>Coal</td>\n",
       "      <td>Oil</td>\n",
       "      <td>2015.0</td>\n",
       "      <td>...</td>\n",
       "      <td>Ultratech Cement ltd</td>\n",
       "      <td>http://www.ultratechcement.com/</td>\n",
       "      <td>WRI</td>\n",
       "      <td>2019.0</td>\n",
       "      <td>2431.823590</td>\n",
       "      <td>2428.226946</td>\n",
       "      <td>2467.936859</td>\n",
       "      <td>2547.759305</td>\n",
       "      <td>2600.804099</td>\n",
       "      <td>Central Electricity Authority</td>\n",
       "    </tr>\n",
       "    <tr>\n",
       "      <th>2</th>\n",
       "      <td>IND</td>\n",
       "      <td>India</td>\n",
       "      <td>AES Saurashtra Windfarms</td>\n",
       "      <td>WRI1026669</td>\n",
       "      <td>39.2</td>\n",
       "      <td>21.9038</td>\n",
       "      <td>69.3732</td>\n",
       "      <td>Wind</td>\n",
       "      <td>Oil</td>\n",
       "      <td>2015.0</td>\n",
       "      <td>...</td>\n",
       "      <td>CDM</td>\n",
       "      <td>https://cdm.unfccc.int/Projects/DB/DNV-CUK1328...</td>\n",
       "      <td>WRI</td>\n",
       "      <td>2019.0</td>\n",
       "      <td>2431.823590</td>\n",
       "      <td>2428.226946</td>\n",
       "      <td>2467.936859</td>\n",
       "      <td>2547.759305</td>\n",
       "      <td>2600.804099</td>\n",
       "      <td>Central Electricity Authority</td>\n",
       "    </tr>\n",
       "    <tr>\n",
       "      <th>3</th>\n",
       "      <td>IND</td>\n",
       "      <td>India</td>\n",
       "      <td>AGARTALA GT</td>\n",
       "      <td>IND0000001</td>\n",
       "      <td>135.0</td>\n",
       "      <td>23.8712</td>\n",
       "      <td>91.3602</td>\n",
       "      <td>Gas</td>\n",
       "      <td>Oil</td>\n",
       "      <td>2004.0</td>\n",
       "      <td>...</td>\n",
       "      <td>Central Electricity Authority</td>\n",
       "      <td>http://www.cea.nic.in/</td>\n",
       "      <td>WRI</td>\n",
       "      <td>2019.0</td>\n",
       "      <td>617.789264</td>\n",
       "      <td>843.747000</td>\n",
       "      <td>886.004428</td>\n",
       "      <td>663.774500</td>\n",
       "      <td>626.239128</td>\n",
       "      <td>Central Electricity Authority</td>\n",
       "    </tr>\n",
       "    <tr>\n",
       "      <th>4</th>\n",
       "      <td>IND</td>\n",
       "      <td>India</td>\n",
       "      <td>AKALTARA TPP</td>\n",
       "      <td>IND0000002</td>\n",
       "      <td>1800.0</td>\n",
       "      <td>21.9603</td>\n",
       "      <td>82.4091</td>\n",
       "      <td>Coal</td>\n",
       "      <td>Oil</td>\n",
       "      <td>2015.0</td>\n",
       "      <td>...</td>\n",
       "      <td>Central Electricity Authority</td>\n",
       "      <td>http://www.cea.nic.in/</td>\n",
       "      <td>WRI</td>\n",
       "      <td>2019.0</td>\n",
       "      <td>3035.550000</td>\n",
       "      <td>5916.370000</td>\n",
       "      <td>6243.000000</td>\n",
       "      <td>5385.579736</td>\n",
       "      <td>7279.000000</td>\n",
       "      <td>Central Electricity Authority</td>\n",
       "    </tr>\n",
       "  </tbody>\n",
       "</table>\n",
       "<p>5 rows × 21 columns</p>\n",
       "</div>"
      ],
      "text/plain": [
       "  country country_long                      name   gppd_idnr  capacity_mw  \\\n",
       "0     IND        India          ACME Solar Tower  WRI1020239          2.5   \n",
       "1     IND        India       ADITYA CEMENT WORKS  WRI1019881         98.0   \n",
       "2     IND        India  AES Saurashtra Windfarms  WRI1026669         39.2   \n",
       "3     IND        India               AGARTALA GT  IND0000001        135.0   \n",
       "4     IND        India              AKALTARA TPP  IND0000002       1800.0   \n",
       "\n",
       "   latitude  longitude primary_fuel other_fuel1  commissioning_year  ...  \\\n",
       "0   28.1839    73.2407        Solar         Oil              2011.0  ...   \n",
       "1   24.7663    74.6090         Coal         Oil              2015.0  ...   \n",
       "2   21.9038    69.3732         Wind         Oil              2015.0  ...   \n",
       "3   23.8712    91.3602          Gas         Oil              2004.0  ...   \n",
       "4   21.9603    82.4091         Coal         Oil              2015.0  ...   \n",
       "\n",
       "                                 source  \\\n",
       "0  National Renewable Energy Laboratory   \n",
       "1                  Ultratech Cement ltd   \n",
       "2                                   CDM   \n",
       "3         Central Electricity Authority   \n",
       "4         Central Electricity Authority   \n",
       "\n",
       "                                                 url  \\\n",
       "0  http://www.nrel.gov/csp/solarpaces/project_det...   \n",
       "1                    http://www.ultratechcement.com/   \n",
       "2  https://cdm.unfccc.int/Projects/DB/DNV-CUK1328...   \n",
       "3                             http://www.cea.nic.in/   \n",
       "4                             http://www.cea.nic.in/   \n",
       "\n",
       "                     geolocation_source year_of_capacity_data  \\\n",
       "0  National Renewable Energy Laboratory                2019.0   \n",
       "1                                   WRI                2019.0   \n",
       "2                                   WRI                2019.0   \n",
       "3                                   WRI                2019.0   \n",
       "4                                   WRI                2019.0   \n",
       "\n",
       "   generation_gwh_2014  generation_gwh_2015  generation_gwh_2016  \\\n",
       "0          2431.823590          2428.226946          2467.936859   \n",
       "1          2431.823590          2428.226946          2467.936859   \n",
       "2          2431.823590          2428.226946          2467.936859   \n",
       "3           617.789264           843.747000           886.004428   \n",
       "4          3035.550000          5916.370000          6243.000000   \n",
       "\n",
       "   generation_gwh_2017  generation_gwh_2018         generation_data_source  \n",
       "0          2547.759305          2600.804099  Central Electricity Authority  \n",
       "1          2547.759305          2600.804099  Central Electricity Authority  \n",
       "2          2547.759305          2600.804099  Central Electricity Authority  \n",
       "3           663.774500           626.239128  Central Electricity Authority  \n",
       "4          5385.579736          7279.000000  Central Electricity Authority  \n",
       "\n",
       "[5 rows x 21 columns]"
      ]
     },
     "execution_count": 518,
     "metadata": {},
     "output_type": "execute_result"
    }
   ],
   "source": [
    "df.head()"
   ]
  },
  {
   "cell_type": "code",
   "execution_count": 519,
   "id": "ae801ef8",
   "metadata": {},
   "outputs": [
    {
     "data": {
      "image/png": "[encoded data removed]",
      "text/plain": [
       "<Figure size 432x288 with 1 Axes>"
      ]
     },
     "metadata": {
      "needs_background": "light"
     },
     "output_type": "display_data"
    }
   ],
   "source": [
    "sns.scatterplot(x='primary_fuel',y='capacity_mw',data=df)\n",
    "plt.show()"
   ]
  },
  {
   "cell_type": "code",
   "execution_count": 520,
   "id": "bf033147",
   "metadata": {},
   "outputs": [
    {
     "data": {
      "image/png": "[encoded data removed]",
      "text/plain": [
       "<Figure size 432x288 with 1 Axes>"
      ]
     },
     "metadata": {
      "needs_background": "light"
     },
     "output_type": "display_data"
    }
   ],
   "source": [
    "sns.scatterplot(x='other_fuel1',y='capacity_mw',data=df)\n",
    "plt.show()"
   ]
  },
  {
   "cell_type": "code",
   "execution_count": 521,
   "id": "fd96b314",
   "metadata": {},
   "outputs": [
    {
     "data": {
      "image/png": "[encoded data removed]",
      "text/plain": [
       "<Figure size 432x288 with 1 Axes>"
      ]
     },
     "metadata": {
      "needs_background": "light"
     },
     "output_type": "display_data"
    }
   ],
   "source": [
    "sns.countplot(x='primary_fuel',data=df)\n",
    "plt.show()"
   ]
  },
  {
   "cell_type": "code",
   "execution_count": 522,
   "id": "21656bf9",
   "metadata": {},
   "outputs": [
    {
     "data": {
      "image/png": "[encoded data removed]",
      "text/plain": [
       "<Figure size 432x288 with 1 Axes>"
      ]
     },
     "metadata": {
      "needs_background": "light"
     },
     "output_type": "display_data"
    }
   ],
   "source": [
    "sns.scatterplot(x='year_of_capacity_data',y='generation_gwh_2014',data=df)\n",
    "plt.xlim([2015,2020])\n",
    "plt.show()"
   ]
  },
  {
   "cell_type": "code",
   "execution_count": 523,
   "id": "59324497",
   "metadata": {},
   "outputs": [
    {
     "data": {
      "image/png": "[encoded data removed]",
      "text/plain": [
       "<Figure size 432x288 with 1 Axes>"
      ]
     },
     "metadata": {
      "needs_background": "light"
     },
     "output_type": "display_data"
    }
   ],
   "source": [
    "sns.scatterplot(x='year_of_capacity_data',y='generation_gwh_2015',data=df)\n",
    "plt.xlim([2015,2020])\n",
    "plt.show()"
   ]
  },
  {
   "cell_type": "code",
   "execution_count": 524,
   "id": "22062ab0",
   "metadata": {},
   "outputs": [
    {
     "data": {
      "image/png": "[encoded data removed]",
      "text/plain": [
       "<Figure size 432x288 with 1 Axes>"
      ]
     },
     "metadata": {
      "needs_background": "light"
     },
     "output_type": "display_data"
    }
   ],
   "source": [
    "sns.scatterplot(x='year_of_capacity_data',y='generation_gwh_2016',data=df)\n",
    "plt.xlim([2015,2020])\n",
    "plt.show()"
   ]
  },
  {
   "cell_type": "code",
   "execution_count": 525,
   "id": "ba7085f1",
   "metadata": {},
   "outputs": [
    {
     "data": {
      "image/png": "[encoded data removed]",
      "text/plain": [
       "<Figure size 432x288 with 1 Axes>"
      ]
     },
     "metadata": {
      "needs_background": "light"
     },
     "output_type": "display_data"
    }
   ],
   "source": [
    "sns.scatterplot(x='year_of_capacity_data',y='generation_gwh_2017',data=df)\n",
    "plt.xlim([2015,2020])\n",
    "plt.show()"
   ]
  },
  {
   "cell_type": "code",
   "execution_count": 526,
   "id": "31b6d1be",
   "metadata": {},
   "outputs": [
    {
     "name": "stdout",
     "output_type": "stream",
     "text": [
      "<class 'pandas.core.frame.DataFrame'>\n",
      "RangeIndex: 907 entries, 0 to 906\n",
      "Data columns (total 21 columns):\n",
      " #   Column                  Non-Null Count  Dtype  \n",
      "---  ------                  --------------  -----  \n",
      " 0   country                 907 non-null    object \n",
      " 1   country_long            907 non-null    object \n",
      " 2   name                    907 non-null    object \n",
      " 3   gppd_idnr               907 non-null    object \n",
      " 4   capacity_mw             907 non-null    float64\n",
      " 5   latitude                907 non-null    float64\n",
      " 6   longitude               907 non-null    float64\n",
      " 7   primary_fuel            907 non-null    object \n",
      " 8   other_fuel1             907 non-null    object \n",
      " 9   commissioning_year      907 non-null    float64\n",
      " 10  owner                   907 non-null    object \n",
      " 11  source                  907 non-null    object \n",
      " 12  url                     907 non-null    object \n",
      " 13  geolocation_source      907 non-null    object \n",
      " 14  year_of_capacity_data   907 non-null    float64\n",
      " 15  generation_gwh_2014     907 non-null    float64\n",
      " 16  generation_gwh_2015     907 non-null    float64\n",
      " 17  generation_gwh_2016     907 non-null    float64\n",
      " 18  generation_gwh_2017     907 non-null    float64\n",
      " 19  generation_gwh_2018     907 non-null    float64\n",
      " 20  generation_data_source  907 non-null    object \n",
      "dtypes: float64(10), object(11)\n",
      "memory usage: 148.9+ KB\n"
     ]
    }
   ],
   "source": [
    "df.info()"
   ]
  },
  {
   "cell_type": "code",
   "execution_count": 527,
   "id": "609c090b",
   "metadata": {},
   "outputs": [
    {
     "data": {
      "text/plain": [
       "['country',\n",
       " 'country_long',\n",
       " 'name',\n",
       " 'gppd_idnr',\n",
       " 'primary_fuel',\n",
       " 'other_fuel1',\n",
       " 'owner',\n",
       " 'source',\n",
       " 'url',\n",
       " 'geolocation_source',\n",
       " 'generation_data_source']"
      ]
     },
     "execution_count": 527,
     "metadata": {},
     "output_type": "execute_result"
    }
   ],
   "source": [
    "categorical_data=[]\n",
    "for i in df.columns:\n",
    "    if(df[i].dtypes=='object'):\n",
    "        categorical_data.append(i)\n",
    "        \n",
    "categorical_data        "
   ]
  },
  {
   "cell_type": "code",
   "execution_count": 528,
   "id": "75683cc0",
   "metadata": {},
   "outputs": [
    {
     "data": {
      "text/plain": [
       "array(['IND'], dtype=object)"
      ]
     },
     "execution_count": 528,
     "metadata": {},
     "output_type": "execute_result"
    }
   ],
   "source": [
    "df['country'].unique()"
   ]
  },
  {
   "cell_type": "code",
   "execution_count": 529,
   "id": "2ee03b96",
   "metadata": {},
   "outputs": [],
   "source": [
    "df['country_long'].unique()\n",
    "df.drop(columns='country',axis=1,inplace=True)"
   ]
  },
  {
   "cell_type": "markdown",
   "id": "2a84ad7f",
   "metadata": {},
   "source": [
    "From the above we can observe country and country_long feature contains same data. Let's drop one features among these."
   ]
  },
  {
   "cell_type": "code",
   "execution_count": 530,
   "id": "919ffab4",
   "metadata": {},
   "outputs": [
    {
     "data": {
      "text/plain": [
       "ACME Solar Tower           1\n",
       "RAICHUR                    1\n",
       "PRYAGRAJ (BARA) TPP        1\n",
       "PULICHINTALA               1\n",
       "PUNE MILL                  1\n",
       "                          ..\n",
       "KADANA                     1\n",
       "KADRA                      1\n",
       "KAHALGAON                  1\n",
       "KAIGA                      1\n",
       "iEnergy Theni Wind Farm    1\n",
       "Name: name, Length: 907, dtype: int64"
      ]
     },
     "execution_count": 530,
     "metadata": {},
     "output_type": "execute_result"
    }
   ],
   "source": [
    "df['name'].value_counts()"
   ]
  },
  {
   "cell_type": "code",
   "execution_count": 531,
   "id": "4f61187f",
   "metadata": {},
   "outputs": [
    {
     "data": {
      "text/plain": [
       "WRI1020239    1\n",
       "IND0000356    1\n",
       "IND0000346    1\n",
       "IND0000523    1\n",
       "WRI1019978    1\n",
       "             ..\n",
       "IND0000167    1\n",
       "IND0000168    1\n",
       "IND0000169    1\n",
       "IND0000170    1\n",
       "WRI1026761    1\n",
       "Name: gppd_idnr, Length: 907, dtype: int64"
      ]
     },
     "execution_count": 531,
     "metadata": {},
     "output_type": "execute_result"
    }
   ],
   "source": [
    "df['gppd_idnr'].value_counts()"
   ]
  },
  {
   "cell_type": "code",
   "execution_count": 532,
   "id": "f929dd7d",
   "metadata": {},
   "outputs": [
    {
     "data": {
      "text/plain": [
       "array(['Solar', 'Coal', 'Wind', 'Gas', 'Hydro', 'Biomass', 'Oil',\n",
       "       'Nuclear'], dtype=object)"
      ]
     },
     "execution_count": 532,
     "metadata": {},
     "output_type": "execute_result"
    }
   ],
   "source": [
    "df['primary_fuel'].unique()"
   ]
  },
  {
   "cell_type": "code",
   "execution_count": 533,
   "id": "e73953da",
   "metadata": {},
   "outputs": [
    {
     "data": {
      "text/plain": [
       "array(['Oil', 'Cogeneration', 'Gas'], dtype=object)"
      ]
     },
     "execution_count": 533,
     "metadata": {},
     "output_type": "execute_result"
    }
   ],
   "source": [
    "df['other_fuel1'].unique()"
   ]
  },
  {
   "cell_type": "code",
   "execution_count": 534,
   "id": "1d22e282",
   "metadata": {},
   "outputs": [
    {
     "data": {
      "text/plain": [
       "Acc Acc ltd                                                    569\n",
       "Sterling Agro Industries ltd.                                    4\n",
       "Jk Cement ltd                                                    4\n",
       "Maharashtra State Power Generation Co Ltd (MAHAGENCO)            3\n",
       "Karnataka Power Corporation Limited                              3\n",
       "                                                              ... \n",
       "Sunkon Energy Private Limited                                    1\n",
       "West Bengal Energy Development Corporation Limited (WBEDCL)      1\n",
       "Energy Infratech Private Limited                                 1\n",
       "K. N. Ram                                                        1\n",
       "iEnergy Wind Farms                                               1\n",
       "Name: owner, Length: 280, dtype: int64"
      ]
     },
     "execution_count": 534,
     "metadata": {},
     "output_type": "execute_result"
    }
   ],
   "source": [
    "df['owner'].value_counts()"
   ]
  },
  {
   "cell_type": "code",
   "execution_count": 535,
   "id": "4d3bbb2e",
   "metadata": {},
   "outputs": [
    {
     "data": {
      "text/plain": [
       "Central Electricity Authority                                  519\n",
       "CDM                                                            124\n",
       "Lancosola                                                       10\n",
       "National Renewable Energy Laboratory                             8\n",
       "National Thermal Power Corporation (NTPC)                        6\n",
       "                                                              ... \n",
       "Harsha Engineers Limited                                         1\n",
       "Godawari Energy ltd                                              1\n",
       "Sunkon Energy Private Limited                                    1\n",
       "West Bengal Energy Development Corporation Limited (WBEDCL)      1\n",
       "Yashwantrao Krishna ssk                                          1\n",
       "Name: source, Length: 191, dtype: int64"
      ]
     },
     "execution_count": 535,
     "metadata": {},
     "output_type": "execute_result"
    }
   ],
   "source": [
    "df['source'].value_counts()"
   ]
  },
  {
   "cell_type": "code",
   "execution_count": 536,
   "id": "3a643520",
   "metadata": {},
   "outputs": [
    {
     "data": {
      "text/plain": [
       "http://www.cea.nic.in/                                                              519\n",
       "http://www.lancosolar.com/pdfs/rajasthan-pv-project-details.pdf                       7\n",
       "http://www.ntpc.co.in                                                                 6\n",
       "http://viainfotech.biz/Biomass/theme5/document/green_market/REC-project-list.pdf      5\n",
       "http://www.mahaurja.com/PDF/PG2_GridConnSPPCommissioned.pdf                           4\n",
       "                                                                                   ... \n",
       "https://cdm.unfccc.int/Projects/DB/LRQA%20Ltd1346322352.66/view                       1\n",
       "https://cdm.unfccc.int/Projects/DB/DNV-CUK1351166669.28/view                          1\n",
       "http://harshaengineers.com                                                            1\n",
       "http://hiragroup.com/companies/godawari-green-energy-limited/                         1\n",
       "https://cdm.unfccc.int/Projects/DB/RWTUV1345031355.85/view                            1\n",
       "Name: url, Length: 304, dtype: int64"
      ]
     },
     "execution_count": 536,
     "metadata": {},
     "output_type": "execute_result"
    }
   ],
   "source": [
    "df['url'].value_counts()"
   ]
  },
  {
   "cell_type": "code",
   "execution_count": 537,
   "id": "b31ee011",
   "metadata": {},
   "outputs": [
    {
     "data": {
      "text/plain": [
       "array(['National Renewable Energy Laboratory', 'WRI', 'Industry About'],\n",
       "      dtype=object)"
      ]
     },
     "execution_count": 537,
     "metadata": {},
     "output_type": "execute_result"
    }
   ],
   "source": [
    "df['geolocation_source'].unique()"
   ]
  },
  {
   "cell_type": "code",
   "execution_count": 538,
   "id": "20e30a46",
   "metadata": {},
   "outputs": [
    {
     "data": {
      "text/plain": [
       "array(['Central Electricity Authority'], dtype=object)"
      ]
     },
     "execution_count": 538,
     "metadata": {},
     "output_type": "execute_result"
    }
   ],
   "source": [
    "df['generation_data_source'].unique()"
   ]
  },
  {
   "cell_type": "markdown",
   "id": "5399589c",
   "metadata": {},
   "source": [
    "Let's encode 'country_long','geolocation_source','generation_data_source','url','source','owner','other_fuel1','primary fuel' features with the help of encoding techniques."
   ]
  },
  {
   "cell_type": "code",
   "execution_count": 539,
   "id": "22ff728c",
   "metadata": {},
   "outputs": [],
   "source": [
    "from sklearn.preprocessing import LabelEncoder\n",
    "LE=LabelEncoder()"
   ]
  },
  {
   "cell_type": "code",
   "execution_count": 540,
   "id": "ba4f8f57",
   "metadata": {},
   "outputs": [],
   "source": [
    "cols=['country_long','geolocation_source','generation_data_source','url','source','owner','other_fuel1','primary_fuel']\n",
    "for i in cols:\n",
    "    df[i]=LE.fit_transform(df[i])\n",
    "    \n",
    "    "
   ]
  },
  {
   "cell_type": "code",
   "execution_count": 541,
   "id": "88146c53",
   "metadata": {},
   "outputs": [
    {
     "data": {
      "text/plain": [
       "array([0])"
      ]
     },
     "execution_count": 541,
     "metadata": {},
     "output_type": "execute_result"
    }
   ],
   "source": [
    "df['country_long'].unique()"
   ]
  },
  {
   "cell_type": "code",
   "execution_count": 542,
   "id": "a4d87ef5",
   "metadata": {},
   "outputs": [
    {
     "data": {
      "text/plain": [
       "array([1, 2, 0])"
      ]
     },
     "execution_count": 542,
     "metadata": {},
     "output_type": "execute_result"
    }
   ],
   "source": [
    "df['geolocation_source'].unique()"
   ]
  },
  {
   "cell_type": "code",
   "execution_count": 543,
   "id": "b4559209",
   "metadata": {},
   "outputs": [
    {
     "data": {
      "text/plain": [
       "array([0])"
      ]
     },
     "execution_count": 543,
     "metadata": {},
     "output_type": "execute_result"
    }
   ],
   "source": [
    "df['generation_data_source'].unique()"
   ]
  },
  {
   "cell_type": "code",
   "execution_count": 544,
   "id": "6ae628cf",
   "metadata": {},
   "outputs": [
    {
     "data": {
      "text/plain": [
       "array([128, 173, 205,  58,  80,  48, 109, 146, 125, 121, 199, 112, 224,\n",
       "       192, 100,  83,   1,  90,  85, 200, 234,  84, 172, 175,  17,  20,\n",
       "       118, 161,  56, 153,   4,   2, 279,  86,  49,  46, 278, 154, 272,\n",
       "       140,  81, 117,  34, 101, 267, 288, 198, 273, 292,  99, 284,  41,\n",
       "        44, 103, 150,  42,  55,  82,  13, 108,  62,  24, 295, 203, 137,\n",
       "       145,  21,  63,   3, 119,   9,  93, 170, 299, 133, 177, 193, 294,\n",
       "       280,  38,  69,  47, 131, 126, 152, 228, 261, 197, 202, 277, 191,\n",
       "       246,   6, 236, 102, 242,  76, 135, 183,  36, 138, 124,  26,  10,\n",
       "       283, 296, 129, 149, 113, 155, 141,  31, 181, 208, 210, 290, 182,\n",
       "       287,  68, 223, 207,  14,  22,  16,  92,  88,  89,  40, 244, 237,\n",
       "       185, 190,  60,  95,  94,  25,  75, 174,  59,  79, 171,  97,  53,\n",
       "       132, 169,  64, 254,  71, 127, 250, 240,  51, 105, 159,  43,  52,\n",
       "       176, 151, 275, 184, 165, 289, 282, 186, 297, 252, 214, 164,  23,\n",
       "       233, 139,  11, 225, 221,  98, 179, 303, 178, 106, 293, 107,  50,\n",
       "        32, 217, 271,  91,  78, 134, 166, 268, 130, 286, 281, 301,  77,\n",
       "       148,  29,  28, 168, 136, 142,  67, 114, 122, 243, 195, 235, 266,\n",
       "        66, 226, 229,  15, 265, 274, 270,  70, 147, 157,  73, 259, 241,\n",
       "       239, 144, 251, 216, 218, 215,  18, 162, 110,  27, 156, 180,   0,\n",
       "        37, 231, 298,  35,  19, 255, 201, 291, 238, 158, 160,  12, 262,\n",
       "        39,  54, 167,   7, 111,  65, 222, 189,  57,  30, 204, 263, 115,\n",
       "        87, 104,  96, 269, 116, 248, 219, 256, 213,  61, 276,   5,  33,\n",
       "       143, 123,   8, 187, 188, 211, 232, 264, 163, 249, 285, 258, 209,\n",
       "       230, 257, 247, 196, 302, 300, 120,  45, 253, 206, 194,  72,  74,\n",
       "       220, 227, 212, 260, 245])"
      ]
     },
     "execution_count": 544,
     "metadata": {},
     "output_type": "execute_result"
    }
   ],
   "source": [
    "df['url'].unique()"
   ]
  },
  {
   "cell_type": "code",
   "execution_count": 545,
   "id": "b9700b35",
   "metadata": {},
   "outputs": [
    {
     "data": {
      "text/plain": [
       "array([109, 174,  21,  22,  58,  36,  10, 148, 112,  97,  84,  67,  14,\n",
       "        75,  65,  64, 172, 184,  62,  72, 106, 163, 179, 142,  17,  18,\n",
       "        68,   6,   2, 144, 125,  61, 102,  85,  83,  26,   4,  88, 122,\n",
       "         3,  19,  59,  54,  95,  29,  89, 157, 119, 134,  20,  31,  32,\n",
       "       103, 151,  76, 146,  70, 110, 188, 173,  39,   9, 158,  23,  86,\n",
       "        47, 117, 162, 121,  98, 129, 155,   8,  73, 126, 135,  38,  56,\n",
       "        77,  46,  74, 164, 187,  24,  79, 190,  96,  43, 178, 160,  57,\n",
       "       152,  82,  15, 115,  55,  33,  42,  12, 132, 145,  53,  40, 156,\n",
       "         1, 175, 176,  69, 138,  63, 167,  87, 123,  25, 120,  90,  16,\n",
       "        91,  92,  93,  94,   7, 136,  50, 116, 170, 168,  49, 133,  44,\n",
       "       127, 171, 118, 131, 107, 113,  37,  60, 124,  41, 153,  52,  28,\n",
       "       143, 177, 165,  48, 159, 111, 147,  11, 186, 169,  66, 161, 139,\n",
       "       185, 140,  45,  81, 154, 181, 149, 141,  30, 150,  34, 105,   5,\n",
       "       128,  99,  71,  13, 137,  80, 100,  27,  35, 104, 130, 114, 166,\n",
       "       101, 180,  78, 108, 183,  51,   0, 182, 189])"
      ]
     },
     "execution_count": 545,
     "metadata": {},
     "output_type": "execute_result"
    }
   ],
   "source": [
    "df['source'].unique()"
   ]
  },
  {
   "cell_type": "code",
   "execution_count": 546,
   "id": "29a4201b",
   "metadata": {},
   "outputs": [
    {
     "data": {
      "text/plain": [
       "array([229, 258,   2,   5,  89,  49,  14, 219,  53, 160, 132, 135,  41,\n",
       "        52,  58, 117, 161, 209, 265, 100,  20, 108,  97,  24,  26,  96,\n",
       "       256, 268,  93, 105, 152, 238, 262, 211,  25,  28, 101,  48,   3,\n",
       "        54,  77, 170, 180,  92, 147,  66, 123, 126,   4,   6, 134, 191,\n",
       "        30,  91,  84, 142,  40, 136,  35,  98,   8, 196,  31,  43,  44,\n",
       "       149, 222, 110, 215, 103,  73, 275, 212, 257, 210,  13, 194, 125,\n",
       "       231,  51,  61,  83,  34,  62, 129,  21,  74, 173, 236, 175, 158,\n",
       "        72, 278, 218, 226,  32,  12, 228, 106, 181, 199,  90,  85,  57,\n",
       "        95,  60,  87, 114,  70, 107, 239, 274,  55, 111,  36, 118, 277,\n",
       "       143,  67, 260, 233,  88, 223, 122,  22, 167,  86,  45, 112,  65,\n",
       "       113,  29, 237, 115,  17,  37, 213,  82,  59, 165, 241,   1, 259,\n",
       "       273,  39, 183, 119, 249, 131, 124, 247, 130,  16,  56,  94, 214,\n",
       "       127, 128, 137,  23, 138, 139, 140, 141,  11, 201, 109, 133,  79,\n",
       "       172, 251, 144,  10, 162, 227,  76, 197,  68, 182, 252, 174, 189,\n",
       "       155, 163, 154, 169,  50, 244,  27,  71, 179,   9, 168,  63, 193,\n",
       "       224,  81, 254, 176, 269, 185, 195, 177, 102, 178,  18, 240,  75,\n",
       "       232, 159, 216, 186, 157,  15, 272, 250,  64, 188,  99, 166, 204,\n",
       "       271, 192, 200, 202, 206,  69, 121, 225, 264, 220, 207,  42, 221,\n",
       "        46, 151, 205,   7, 184, 208, 171, 145, 104,  19, 203, 120, 217,\n",
       "       146,  78, 230,  33, 234, 235,  38,  47, 150, 187, 164, 243, 242,\n",
       "       245, 246, 248, 190, 148, 253, 255, 263, 116, 156, 267, 261,  80,\n",
       "         0, 266, 270, 198, 153, 276, 279])"
      ]
     },
     "execution_count": 546,
     "metadata": {},
     "output_type": "execute_result"
    }
   ],
   "source": [
    "df['owner'].unique()"
   ]
  },
  {
   "cell_type": "code",
   "execution_count": 547,
   "id": "9707bea8",
   "metadata": {},
   "outputs": [
    {
     "data": {
      "text/plain": [
       "array([2, 0, 1])"
      ]
     },
     "execution_count": 547,
     "metadata": {},
     "output_type": "execute_result"
    }
   ],
   "source": [
    "df['other_fuel1'].unique()"
   ]
  },
  {
   "cell_type": "code",
   "execution_count": 548,
   "id": "a29e05e9",
   "metadata": {},
   "outputs": [
    {
     "data": {
      "text/plain": [
       "array([6, 1, 7, 2, 3, 0, 5, 4])"
      ]
     },
     "execution_count": 548,
     "metadata": {},
     "output_type": "execute_result"
    }
   ],
   "source": [
    "df['primary_fuel'].unique()"
   ]
  },
  {
   "cell_type": "code",
   "execution_count": 549,
   "id": "635c6f8c",
   "metadata": {},
   "outputs": [
    {
     "data": {
      "text/html": [
       "<div>\n",
       "<style scoped>\n",
       "    .dataframe tbody tr th:only-of-type {\n",
       "        vertical-align: middle;\n",
       "    }\n",
       "\n",
       "    .dataframe tbody tr th {\n",
       "        vertical-align: top;\n",
       "    }\n",
       "\n",
       "    .dataframe thead th {\n",
       "        text-align: right;\n",
       "    }\n",
       "</style>\n",
       "<table border=\"1\" class=\"dataframe\">\n",
       "  <thead>\n",
       "    <tr style=\"text-align: right;\">\n",
       "      <th></th>\n",
       "      <th>country_long</th>\n",
       "      <th>name</th>\n",
       "      <th>gppd_idnr</th>\n",
       "      <th>capacity_mw</th>\n",
       "      <th>latitude</th>\n",
       "      <th>longitude</th>\n",
       "      <th>primary_fuel</th>\n",
       "      <th>other_fuel1</th>\n",
       "      <th>commissioning_year</th>\n",
       "      <th>owner</th>\n",
       "      <th>source</th>\n",
       "      <th>url</th>\n",
       "      <th>geolocation_source</th>\n",
       "      <th>year_of_capacity_data</th>\n",
       "      <th>generation_gwh_2014</th>\n",
       "      <th>generation_gwh_2015</th>\n",
       "      <th>generation_gwh_2016</th>\n",
       "      <th>generation_gwh_2017</th>\n",
       "      <th>generation_gwh_2018</th>\n",
       "      <th>generation_data_source</th>\n",
       "    </tr>\n",
       "  </thead>\n",
       "  <tbody>\n",
       "    <tr>\n",
       "      <th>0</th>\n",
       "      <td>0</td>\n",
       "      <td>ACME Solar Tower</td>\n",
       "      <td>WRI1020239</td>\n",
       "      <td>2.5</td>\n",
       "      <td>28.1839</td>\n",
       "      <td>73.2407</td>\n",
       "      <td>6</td>\n",
       "      <td>2</td>\n",
       "      <td>2011.0</td>\n",
       "      <td>229</td>\n",
       "      <td>109</td>\n",
       "      <td>128</td>\n",
       "      <td>1</td>\n",
       "      <td>2019.0</td>\n",
       "      <td>2431.823590</td>\n",
       "      <td>2428.226946</td>\n",
       "      <td>2467.936859</td>\n",
       "      <td>2547.759305</td>\n",
       "      <td>2600.804099</td>\n",
       "      <td>0</td>\n",
       "    </tr>\n",
       "    <tr>\n",
       "      <th>1</th>\n",
       "      <td>0</td>\n",
       "      <td>ADITYA CEMENT WORKS</td>\n",
       "      <td>WRI1019881</td>\n",
       "      <td>98.0</td>\n",
       "      <td>24.7663</td>\n",
       "      <td>74.6090</td>\n",
       "      <td>1</td>\n",
       "      <td>2</td>\n",
       "      <td>2015.0</td>\n",
       "      <td>258</td>\n",
       "      <td>174</td>\n",
       "      <td>173</td>\n",
       "      <td>2</td>\n",
       "      <td>2019.0</td>\n",
       "      <td>2431.823590</td>\n",
       "      <td>2428.226946</td>\n",
       "      <td>2467.936859</td>\n",
       "      <td>2547.759305</td>\n",
       "      <td>2600.804099</td>\n",
       "      <td>0</td>\n",
       "    </tr>\n",
       "    <tr>\n",
       "      <th>2</th>\n",
       "      <td>0</td>\n",
       "      <td>AES Saurashtra Windfarms</td>\n",
       "      <td>WRI1026669</td>\n",
       "      <td>39.2</td>\n",
       "      <td>21.9038</td>\n",
       "      <td>69.3732</td>\n",
       "      <td>7</td>\n",
       "      <td>2</td>\n",
       "      <td>2015.0</td>\n",
       "      <td>2</td>\n",
       "      <td>21</td>\n",
       "      <td>205</td>\n",
       "      <td>2</td>\n",
       "      <td>2019.0</td>\n",
       "      <td>2431.823590</td>\n",
       "      <td>2428.226946</td>\n",
       "      <td>2467.936859</td>\n",
       "      <td>2547.759305</td>\n",
       "      <td>2600.804099</td>\n",
       "      <td>0</td>\n",
       "    </tr>\n",
       "    <tr>\n",
       "      <th>3</th>\n",
       "      <td>0</td>\n",
       "      <td>AGARTALA GT</td>\n",
       "      <td>IND0000001</td>\n",
       "      <td>135.0</td>\n",
       "      <td>23.8712</td>\n",
       "      <td>91.3602</td>\n",
       "      <td>2</td>\n",
       "      <td>2</td>\n",
       "      <td>2004.0</td>\n",
       "      <td>5</td>\n",
       "      <td>22</td>\n",
       "      <td>58</td>\n",
       "      <td>2</td>\n",
       "      <td>2019.0</td>\n",
       "      <td>617.789264</td>\n",
       "      <td>843.747000</td>\n",
       "      <td>886.004428</td>\n",
       "      <td>663.774500</td>\n",
       "      <td>626.239128</td>\n",
       "      <td>0</td>\n",
       "    </tr>\n",
       "    <tr>\n",
       "      <th>4</th>\n",
       "      <td>0</td>\n",
       "      <td>AKALTARA TPP</td>\n",
       "      <td>IND0000002</td>\n",
       "      <td>1800.0</td>\n",
       "      <td>21.9603</td>\n",
       "      <td>82.4091</td>\n",
       "      <td>1</td>\n",
       "      <td>2</td>\n",
       "      <td>2015.0</td>\n",
       "      <td>5</td>\n",
       "      <td>22</td>\n",
       "      <td>58</td>\n",
       "      <td>2</td>\n",
       "      <td>2019.0</td>\n",
       "      <td>3035.550000</td>\n",
       "      <td>5916.370000</td>\n",
       "      <td>6243.000000</td>\n",
       "      <td>5385.579736</td>\n",
       "      <td>7279.000000</td>\n",
       "      <td>0</td>\n",
       "    </tr>\n",
       "  </tbody>\n",
       "</table>\n",
       "</div>"
      ],
      "text/plain": [
       "   country_long                      name   gppd_idnr  capacity_mw  latitude  \\\n",
       "0             0          ACME Solar Tower  WRI1020239          2.5   28.1839   \n",
       "1             0       ADITYA CEMENT WORKS  WRI1019881         98.0   24.7663   \n",
       "2             0  AES Saurashtra Windfarms  WRI1026669         39.2   21.9038   \n",
       "3             0               AGARTALA GT  IND0000001        135.0   23.8712   \n",
       "4             0              AKALTARA TPP  IND0000002       1800.0   21.9603   \n",
       "\n",
       "   longitude  primary_fuel  other_fuel1  commissioning_year  owner  source  \\\n",
       "0    73.2407             6            2              2011.0    229     109   \n",
       "1    74.6090             1            2              2015.0    258     174   \n",
       "2    69.3732             7            2              2015.0      2      21   \n",
       "3    91.3602             2            2              2004.0      5      22   \n",
       "4    82.4091             1            2              2015.0      5      22   \n",
       "\n",
       "   url  geolocation_source  year_of_capacity_data  generation_gwh_2014  \\\n",
       "0  128                   1                 2019.0          2431.823590   \n",
       "1  173                   2                 2019.0          2431.823590   \n",
       "2  205                   2                 2019.0          2431.823590   \n",
       "3   58                   2                 2019.0           617.789264   \n",
       "4   58                   2                 2019.0          3035.550000   \n",
       "\n",
       "   generation_gwh_2015  generation_gwh_2016  generation_gwh_2017  \\\n",
       "0          2428.226946          2467.936859          2547.759305   \n",
       "1          2428.226946          2467.936859          2547.759305   \n",
       "2          2428.226946          2467.936859          2547.759305   \n",
       "3           843.747000           886.004428           663.774500   \n",
       "4          5916.370000          6243.000000          5385.579736   \n",
       "\n",
       "   generation_gwh_2018  generation_data_source  \n",
       "0          2600.804099                       0  \n",
       "1          2600.804099                       0  \n",
       "2          2600.804099                       0  \n",
       "3           626.239128                       0  \n",
       "4          7279.000000                       0  "
      ]
     },
     "execution_count": 549,
     "metadata": {},
     "output_type": "execute_result"
    }
   ],
   "source": [
    "df.head()"
   ]
  },
  {
   "cell_type": "code",
   "execution_count": 550,
   "id": "bc533e1d",
   "metadata": {},
   "outputs": [
    {
     "data": {
      "text/plain": [
       "Index(['country_long', 'name', 'gppd_idnr', 'capacity_mw', 'latitude',\n",
       "       'longitude', 'primary_fuel', 'other_fuel1', 'commissioning_year',\n",
       "       'owner', 'source', 'url', 'geolocation_source', 'year_of_capacity_data',\n",
       "       'generation_gwh_2014', 'generation_gwh_2015', 'generation_gwh_2016',\n",
       "       'generation_gwh_2017', 'generation_gwh_2018', 'generation_data_source'],\n",
       "      dtype='object')"
      ]
     },
     "execution_count": 550,
     "metadata": {},
     "output_type": "execute_result"
    }
   ],
   "source": [
    "df.columns"
   ]
  },
  {
   "cell_type": "markdown",
   "id": "701dfab0",
   "metadata": {},
   "source": [
    "Let's check data distribution"
   ]
  },
  {
   "cell_type": "code",
   "execution_count": 551,
   "id": "67dd928c",
   "metadata": {},
   "outputs": [
    {
     "data": {
      "image/png": "[encoded data removed]",
      "text/plain": [
       "<Figure size 1080x1080 with 8 Axes>"
      ]
     },
     "metadata": {
      "needs_background": "light"
     },
     "output_type": "display_data"
    }
   ],
   "source": [
    "plt.figure(figsize=(15,15))\n",
    "n=1\n",
    "numerical_cols=['capacity_mw','latitude','longitude','generation_gwh_2014', 'generation_gwh_2015', 'generation_gwh_2016',\n",
    "       'generation_gwh_2017', 'generation_gwh_2018']\n",
    "\n",
    "for i in numerical_cols:\n",
    "    ax=plt.subplot(4,2,n)\n",
    "    sns.distplot(x=df[i])\n",
    "    plt.xlabel(i)\n",
    "    n+=1\n",
    "    \n",
    "plt.show()    "
   ]
  },
  {
   "cell_type": "code",
   "execution_count": 552,
   "id": "4fa97c3a",
   "metadata": {},
   "outputs": [
    {
     "data": {
      "text/plain": [
       "capacity_mw            3.123576\n",
       "latitude              -0.095721\n",
       "longitude              1.130252\n",
       "generation_gwh_2014    5.035446\n",
       "generation_gwh_2015    5.364134\n",
       "generation_gwh_2016    5.068427\n",
       "generation_gwh_2017    5.110952\n",
       "generation_gwh_2018    4.937907\n",
       "dtype: float64"
      ]
     },
     "execution_count": 552,
     "metadata": {},
     "output_type": "execute_result"
    }
   ],
   "source": [
    "df[numerical_cols].skew()"
   ]
  },
  {
   "cell_type": "markdown",
   "id": "78e369c4",
   "metadata": {},
   "source": [
    "From the above we can observe, 'capacity_mw','longitude','generation_gwh_2014', 'generation_gwh_2015', 'generation_gwh_2016',\n",
    "       'generation_gwh_2017', 'generation_gwh_2018' has skewness values beyond normal range. Let's reduce skeweness using power transformation techniques."
   ]
  },
  {
   "cell_type": "code",
   "execution_count": 553,
   "id": "8a495a7e",
   "metadata": {},
   "outputs": [
    {
     "data": {
      "text/plain": [
       "capacity_mw            0.279151\n",
       "latitude              -0.095721\n",
       "longitude              0.892549\n",
       "generation_gwh_2014   -0.371187\n",
       "generation_gwh_2015   -0.269579\n",
       "generation_gwh_2016   -0.279323\n",
       "generation_gwh_2017   -0.331857\n",
       "generation_gwh_2018   -0.316915\n",
       "dtype: float64"
      ]
     },
     "execution_count": 553,
     "metadata": {},
     "output_type": "execute_result"
    }
   ],
   "source": [
    "\n",
    "df['capacity_mw']=np.cbrt(df['capacity_mw'])\n",
    "df['longitude']=np.log(df['longitude'])\n",
    "df['generation_gwh_2014']=np.cbrt(df['generation_gwh_2014'])\n",
    "df['generation_gwh_2015']=np.cbrt(df['generation_gwh_2015'])\n",
    "df['generation_gwh_2016']=np.cbrt(df['generation_gwh_2016'])\n",
    "df['generation_gwh_2017']=np.cbrt(df['generation_gwh_2017'])\n",
    "df['generation_gwh_2018']=np.cbrt(df['generation_gwh_2018'])\n",
    "df['capacity_mw']=np.cbrt(df['capacity_mw'])\n",
    "df['longitude']=np.log(df['longitude'])\n",
    "df[numerical_cols].skew()"
   ]
  },
  {
   "cell_type": "markdown",
   "id": "8853a944",
   "metadata": {},
   "source": [
    "Let's check for outliers present in the dataset."
   ]
  },
  {
   "cell_type": "code",
   "execution_count": 554,
   "id": "d9a3d51d",
   "metadata": {},
   "outputs": [
    {
     "data": {
      "image/png": "[encoded data removed]",
      "text/plain": [
       "<Figure size 1080x1080 with 8 Axes>"
      ]
     },
     "metadata": {
      "needs_background": "light"
     },
     "output_type": "display_data"
    }
   ],
   "source": [
    "plt.figure(figsize=(15,15))\n",
    "n=1\n",
    "numerical_cols=['capacity_mw','latitude','longitude','generation_gwh_2014', 'generation_gwh_2015', 'generation_gwh_2016',\n",
    "       'generation_gwh_2017', 'generation_gwh_2018']\n",
    "\n",
    "for i in numerical_cols:\n",
    "    ax=plt.subplot(4,2,n)\n",
    "    sns.boxplot(y=df[i])\n",
    "    plt.xlabel(i)\n",
    "    n+=1\n",
    "    \n",
    "plt.show()    "
   ]
  },
  {
   "cell_type": "markdown",
   "id": "5141351e",
   "metadata": {},
   "source": [
    "From the above we can observe outliers are present in all numerical features except latitude. Let's remove outliers with the help of zscore technique."
   ]
  },
  {
   "cell_type": "code",
   "execution_count": 555,
   "id": "d5f1f883",
   "metadata": {},
   "outputs": [
    {
     "data": {
      "text/plain": [
       "(889, 20)"
      ]
     },
     "execution_count": 555,
     "metadata": {},
     "output_type": "execute_result"
    }
   ],
   "source": [
    "from scipy.stats import zscore\n",
    "\n",
    "cols=['capacity_mw','longitude','generation_gwh_2014', 'generation_gwh_2015', 'generation_gwh_2016',\n",
    "       'generation_gwh_2017', 'generation_gwh_2018']\n",
    "\n",
    "zscore=np.abs(zscore(df[cols]))\n",
    "df1=df[(zscore<3).all(axis=1)]\n",
    "df1.shape"
   ]
  },
  {
   "cell_type": "markdown",
   "id": "bc0a148c",
   "metadata": {},
   "source": [
    "Let's check the correlation among features and labels."
   ]
  },
  {
   "cell_type": "code",
   "execution_count": 556,
   "id": "e04be8f3",
   "metadata": {},
   "outputs": [
    {
     "data": {
      "image/png": "[encoded data removed]",
      "text/plain": [
       "<Figure size 1440x1440 with 2 Axes>"
      ]
     },
     "metadata": {
      "needs_background": "light"
     },
     "output_type": "display_data"
    }
   ],
   "source": [
    "plt.figure(figsize=(20,20))\n",
    "sns.heatmap(df1.corr(),annot=True,fmt='.2f')\n",
    "plt.show()"
   ]
  },
  {
   "cell_type": "markdown",
   "id": "da4757f2",
   "metadata": {},
   "source": [
    "From the above we can observe 'year_of_capacity_data','generation_data_score','country_long' are highly correlated. Let's drop these features."
   ]
  },
  {
   "cell_type": "code",
   "execution_count": 557,
   "id": "fcf67e67",
   "metadata": {},
   "outputs": [],
   "source": [
    "df1.drop(columns=['country_long','year_of_capacity_data','generation_data_source'],axis=1,inplace=True)\n"
   ]
  },
  {
   "cell_type": "code",
   "execution_count": 558,
   "id": "4d5e1df2",
   "metadata": {},
   "outputs": [
    {
     "data": {
      "image/png": "[encoded data removed]",
      "text/plain": [
       "<Figure size 1440x1440 with 2 Axes>"
      ]
     },
     "metadata": {
      "needs_background": "light"
     },
     "output_type": "display_data"
    }
   ],
   "source": [
    "plt.figure(figsize=(20,20))\n",
    "sns.heatmap(df1.corr(),annot=True,fmt='.2f')\n",
    "plt.show()"
   ]
  },
  {
   "cell_type": "code",
   "execution_count": 559,
   "id": "23526f1c",
   "metadata": {},
   "outputs": [
    {
     "data": {
      "text/plain": [
       "Index(['name', 'gppd_idnr', 'capacity_mw', 'latitude', 'longitude',\n",
       "       'primary_fuel', 'other_fuel1', 'commissioning_year', 'owner', 'source',\n",
       "       'url', 'geolocation_source', 'generation_gwh_2014',\n",
       "       'generation_gwh_2015', 'generation_gwh_2016', 'generation_gwh_2017',\n",
       "       'generation_gwh_2018'],\n",
       "      dtype='object')"
      ]
     },
     "execution_count": 559,
     "metadata": {},
     "output_type": "execute_result"
    }
   ],
   "source": [
    "df1.columns"
   ]
  },
  {
   "cell_type": "code",
   "execution_count": 560,
   "id": "61bf5d16",
   "metadata": {},
   "outputs": [
    {
     "data": {
      "text/html": [
       "<div>\n",
       "<style scoped>\n",
       "    .dataframe tbody tr th:only-of-type {\n",
       "        vertical-align: middle;\n",
       "    }\n",
       "\n",
       "    .dataframe tbody tr th {\n",
       "        vertical-align: top;\n",
       "    }\n",
       "\n",
       "    .dataframe thead th {\n",
       "        text-align: right;\n",
       "    }\n",
       "</style>\n",
       "<table border=\"1\" class=\"dataframe\">\n",
       "  <thead>\n",
       "    <tr style=\"text-align: right;\">\n",
       "      <th></th>\n",
       "      <th>name</th>\n",
       "      <th>gppd_idnr</th>\n",
       "      <th>capacity_mw</th>\n",
       "      <th>latitude</th>\n",
       "      <th>longitude</th>\n",
       "      <th>primary_fuel</th>\n",
       "      <th>other_fuel1</th>\n",
       "      <th>commissioning_year</th>\n",
       "      <th>owner</th>\n",
       "      <th>source</th>\n",
       "      <th>url</th>\n",
       "      <th>geolocation_source</th>\n",
       "      <th>generation_gwh_2014</th>\n",
       "      <th>generation_gwh_2015</th>\n",
       "      <th>generation_gwh_2016</th>\n",
       "      <th>generation_gwh_2017</th>\n",
       "      <th>generation_gwh_2018</th>\n",
       "    </tr>\n",
       "  </thead>\n",
       "  <tbody>\n",
       "    <tr>\n",
       "      <th>0</th>\n",
       "      <td>ACME Solar Tower</td>\n",
       "      <td>WRI1020239</td>\n",
       "      <td>1.107173</td>\n",
       "      <td>28.1839</td>\n",
       "      <td>1.457161</td>\n",
       "      <td>6</td>\n",
       "      <td>2</td>\n",
       "      <td>2011.0</td>\n",
       "      <td>229</td>\n",
       "      <td>109</td>\n",
       "      <td>128</td>\n",
       "      <td>1</td>\n",
       "      <td>13.447576</td>\n",
       "      <td>13.440944</td>\n",
       "      <td>13.513816</td>\n",
       "      <td>13.657969</td>\n",
       "      <td>13.752106</td>\n",
       "    </tr>\n",
       "    <tr>\n",
       "      <th>1</th>\n",
       "      <td>ADITYA CEMENT WORKS</td>\n",
       "      <td>WRI1019881</td>\n",
       "      <td>1.664360</td>\n",
       "      <td>24.7663</td>\n",
       "      <td>1.461462</td>\n",
       "      <td>1</td>\n",
       "      <td>2</td>\n",
       "      <td>2015.0</td>\n",
       "      <td>258</td>\n",
       "      <td>174</td>\n",
       "      <td>173</td>\n",
       "      <td>2</td>\n",
       "      <td>13.447576</td>\n",
       "      <td>13.440944</td>\n",
       "      <td>13.513816</td>\n",
       "      <td>13.657969</td>\n",
       "      <td>13.752106</td>\n",
       "    </tr>\n",
       "    <tr>\n",
       "      <th>2</th>\n",
       "      <td>AES Saurashtra Windfarms</td>\n",
       "      <td>WRI1026669</td>\n",
       "      <td>1.503252</td>\n",
       "      <td>21.9038</td>\n",
       "      <td>1.444445</td>\n",
       "      <td>7</td>\n",
       "      <td>2</td>\n",
       "      <td>2015.0</td>\n",
       "      <td>2</td>\n",
       "      <td>21</td>\n",
       "      <td>205</td>\n",
       "      <td>2</td>\n",
       "      <td>13.447576</td>\n",
       "      <td>13.440944</td>\n",
       "      <td>13.513816</td>\n",
       "      <td>13.657969</td>\n",
       "      <td>13.752106</td>\n",
       "    </tr>\n",
       "    <tr>\n",
       "      <th>3</th>\n",
       "      <td>AGARTALA GT</td>\n",
       "      <td>IND0000001</td>\n",
       "      <td>1.724661</td>\n",
       "      <td>23.8712</td>\n",
       "      <td>1.507363</td>\n",
       "      <td>2</td>\n",
       "      <td>2</td>\n",
       "      <td>2004.0</td>\n",
       "      <td>5</td>\n",
       "      <td>22</td>\n",
       "      <td>58</td>\n",
       "      <td>2</td>\n",
       "      <td>8.516872</td>\n",
       "      <td>9.449397</td>\n",
       "      <td>9.604586</td>\n",
       "      <td>8.723154</td>\n",
       "      <td>8.555526</td>\n",
       "    </tr>\n",
       "    <tr>\n",
       "      <th>4</th>\n",
       "      <td>AKALTARA TPP</td>\n",
       "      <td>IND0000002</td>\n",
       "      <td>2.299836</td>\n",
       "      <td>21.9603</td>\n",
       "      <td>1.484259</td>\n",
       "      <td>1</td>\n",
       "      <td>2</td>\n",
       "      <td>2015.0</td>\n",
       "      <td>5</td>\n",
       "      <td>22</td>\n",
       "      <td>58</td>\n",
       "      <td>2</td>\n",
       "      <td>14.479241</td>\n",
       "      <td>18.086385</td>\n",
       "      <td>18.413278</td>\n",
       "      <td>17.528476</td>\n",
       "      <td>19.380155</td>\n",
       "    </tr>\n",
       "  </tbody>\n",
       "</table>\n",
       "</div>"
      ],
      "text/plain": [
       "                       name   gppd_idnr  capacity_mw  latitude  longitude  \\\n",
       "0          ACME Solar Tower  WRI1020239     1.107173   28.1839   1.457161   \n",
       "1       ADITYA CEMENT WORKS  WRI1019881     1.664360   24.7663   1.461462   \n",
       "2  AES Saurashtra Windfarms  WRI1026669     1.503252   21.9038   1.444445   \n",
       "3               AGARTALA GT  IND0000001     1.724661   23.8712   1.507363   \n",
       "4              AKALTARA TPP  IND0000002     2.299836   21.9603   1.484259   \n",
       "\n",
       "   primary_fuel  other_fuel1  commissioning_year  owner  source  url  \\\n",
       "0             6            2              2011.0    229     109  128   \n",
       "1             1            2              2015.0    258     174  173   \n",
       "2             7            2              2015.0      2      21  205   \n",
       "3             2            2              2004.0      5      22   58   \n",
       "4             1            2              2015.0      5      22   58   \n",
       "\n",
       "   geolocation_source  generation_gwh_2014  generation_gwh_2015  \\\n",
       "0                   1            13.447576            13.440944   \n",
       "1                   2            13.447576            13.440944   \n",
       "2                   2            13.447576            13.440944   \n",
       "3                   2             8.516872             9.449397   \n",
       "4                   2            14.479241            18.086385   \n",
       "\n",
       "   generation_gwh_2016  generation_gwh_2017  generation_gwh_2018  \n",
       "0            13.513816            13.657969            13.752106  \n",
       "1            13.513816            13.657969            13.752106  \n",
       "2            13.513816            13.657969            13.752106  \n",
       "3             9.604586             8.723154             8.555526  \n",
       "4            18.413278            17.528476            19.380155  "
      ]
     },
     "execution_count": 560,
     "metadata": {},
     "output_type": "execute_result"
    }
   ],
   "source": [
    "df1.head()"
   ]
  },
  {
   "cell_type": "markdown",
   "id": "b9097a75",
   "metadata": {},
   "source": [
    "As per my analysis, name,gppd_idnr features are not useful for predicting target let's drop these features."
   ]
  },
  {
   "cell_type": "code",
   "execution_count": 561,
   "id": "1a587946",
   "metadata": {},
   "outputs": [],
   "source": [
    "df1.drop(columns=['name','gppd_idnr'],axis=1,inplace=True)"
   ]
  },
  {
   "cell_type": "markdown",
   "id": "5573435d",
   "metadata": {},
   "source": [
    "Let's check for multi collinearity problem in the dataset."
   ]
  },
  {
   "cell_type": "markdown",
   "id": "968ba842",
   "metadata": {},
   "source": [
    "TASK-1 CLASSIFICATION(IDENTIFYING PRIMARY FUEL)"
   ]
  },
  {
   "cell_type": "code",
   "execution_count": 442,
   "id": "4910daa9",
   "metadata": {},
   "outputs": [],
   "source": [
    "from sklearn.preprocessing import StandardScaler\n",
    "x=df1.drop('primary_fuel',axis=1)\n",
    "y=df1['primary_fuel']\n",
    "scaler=StandardScaler()\n",
    "x_scaled=scaler.fit_transform(x)"
   ]
  },
  {
   "cell_type": "code",
   "execution_count": 443,
   "id": "556147b5",
   "metadata": {},
   "outputs": [],
   "source": [
    "from statsmodels.stats.outliers_influence import variance_inflation_factor"
   ]
  },
  {
   "cell_type": "code",
   "execution_count": 444,
   "id": "324b0adc",
   "metadata": {},
   "outputs": [
    {
     "data": {
      "text/html": [
       "<div>\n",
       "<style scoped>\n",
       "    .dataframe tbody tr th:only-of-type {\n",
       "        vertical-align: middle;\n",
       "    }\n",
       "\n",
       "    .dataframe tbody tr th {\n",
       "        vertical-align: top;\n",
       "    }\n",
       "\n",
       "    .dataframe thead th {\n",
       "        text-align: right;\n",
       "    }\n",
       "</style>\n",
       "<table border=\"1\" class=\"dataframe\">\n",
       "  <thead>\n",
       "    <tr style=\"text-align: right;\">\n",
       "      <th></th>\n",
       "      <th>features</th>\n",
       "      <th>value</th>\n",
       "    </tr>\n",
       "  </thead>\n",
       "  <tbody>\n",
       "    <tr>\n",
       "      <th>0</th>\n",
       "      <td>capacity_mw</td>\n",
       "      <td>1.756397</td>\n",
       "    </tr>\n",
       "    <tr>\n",
       "      <th>1</th>\n",
       "      <td>latitude</td>\n",
       "      <td>1.104916</td>\n",
       "    </tr>\n",
       "    <tr>\n",
       "      <th>2</th>\n",
       "      <td>longitude</td>\n",
       "      <td>1.244779</td>\n",
       "    </tr>\n",
       "    <tr>\n",
       "      <th>3</th>\n",
       "      <td>other_fuel1</td>\n",
       "      <td>1.028935</td>\n",
       "    </tr>\n",
       "    <tr>\n",
       "      <th>4</th>\n",
       "      <td>commissioning_year</td>\n",
       "      <td>1.404073</td>\n",
       "    </tr>\n",
       "    <tr>\n",
       "      <th>5</th>\n",
       "      <td>owner</td>\n",
       "      <td>3.467016</td>\n",
       "    </tr>\n",
       "    <tr>\n",
       "      <th>6</th>\n",
       "      <td>source</td>\n",
       "      <td>2.973196</td>\n",
       "    </tr>\n",
       "    <tr>\n",
       "      <th>7</th>\n",
       "      <td>url</td>\n",
       "      <td>1.614579</td>\n",
       "    </tr>\n",
       "    <tr>\n",
       "      <th>8</th>\n",
       "      <td>geolocation_source</td>\n",
       "      <td>1.715369</td>\n",
       "    </tr>\n",
       "    <tr>\n",
       "      <th>9</th>\n",
       "      <td>generation_gwh_2014</td>\n",
       "      <td>3.896120</td>\n",
       "    </tr>\n",
       "    <tr>\n",
       "      <th>10</th>\n",
       "      <td>generation_gwh_2015</td>\n",
       "      <td>7.038118</td>\n",
       "    </tr>\n",
       "    <tr>\n",
       "      <th>11</th>\n",
       "      <td>generation_gwh_2016</td>\n",
       "      <td>10.560007</td>\n",
       "    </tr>\n",
       "    <tr>\n",
       "      <th>12</th>\n",
       "      <td>generation_gwh_2017</td>\n",
       "      <td>9.075855</td>\n",
       "    </tr>\n",
       "    <tr>\n",
       "      <th>13</th>\n",
       "      <td>generation_gwh_2018</td>\n",
       "      <td>10.044384</td>\n",
       "    </tr>\n",
       "  </tbody>\n",
       "</table>\n",
       "</div>"
      ],
      "text/plain": [
       "               features      value\n",
       "0           capacity_mw   1.756397\n",
       "1              latitude   1.104916\n",
       "2             longitude   1.244779\n",
       "3           other_fuel1   1.028935\n",
       "4    commissioning_year   1.404073\n",
       "5                 owner   3.467016\n",
       "6                source   2.973196\n",
       "7                   url   1.614579\n",
       "8    geolocation_source   1.715369\n",
       "9   generation_gwh_2014   3.896120\n",
       "10  generation_gwh_2015   7.038118\n",
       "11  generation_gwh_2016  10.560007\n",
       "12  generation_gwh_2017   9.075855\n",
       "13  generation_gwh_2018  10.044384"
      ]
     },
     "execution_count": 444,
     "metadata": {},
     "output_type": "execute_result"
    }
   ],
   "source": [
    "VIF=pd.DataFrame()\n",
    "VIF['features']=x.columns\n",
    "VIF['value']=[variance_inflation_factor(x_scaled,i) for i in range(x.shape[1])]\n",
    "VIF"
   ]
  },
  {
   "cell_type": "markdown",
   "id": "349a3289",
   "metadata": {},
   "source": [
    "From the above we can observe  'generation_gwh_2018' has high vif value. Let's drop this feature.\t"
   ]
  },
  {
   "cell_type": "code",
   "execution_count": 445,
   "id": "80bbcb6f",
   "metadata": {},
   "outputs": [
    {
     "data": {
      "text/html": [
       "<div>\n",
       "<style scoped>\n",
       "    .dataframe tbody tr th:only-of-type {\n",
       "        vertical-align: middle;\n",
       "    }\n",
       "\n",
       "    .dataframe tbody tr th {\n",
       "        vertical-align: top;\n",
       "    }\n",
       "\n",
       "    .dataframe thead th {\n",
       "        text-align: right;\n",
       "    }\n",
       "</style>\n",
       "<table border=\"1\" class=\"dataframe\">\n",
       "  <thead>\n",
       "    <tr style=\"text-align: right;\">\n",
       "      <th></th>\n",
       "      <th>features</th>\n",
       "      <th>value</th>\n",
       "    </tr>\n",
       "  </thead>\n",
       "  <tbody>\n",
       "    <tr>\n",
       "      <th>0</th>\n",
       "      <td>capacity_mw</td>\n",
       "      <td>1.755454</td>\n",
       "    </tr>\n",
       "    <tr>\n",
       "      <th>1</th>\n",
       "      <td>latitude</td>\n",
       "      <td>1.104908</td>\n",
       "    </tr>\n",
       "    <tr>\n",
       "      <th>2</th>\n",
       "      <td>longitude</td>\n",
       "      <td>1.244399</td>\n",
       "    </tr>\n",
       "    <tr>\n",
       "      <th>3</th>\n",
       "      <td>other_fuel1</td>\n",
       "      <td>1.016915</td>\n",
       "    </tr>\n",
       "    <tr>\n",
       "      <th>4</th>\n",
       "      <td>commissioning_year</td>\n",
       "      <td>1.403030</td>\n",
       "    </tr>\n",
       "    <tr>\n",
       "      <th>5</th>\n",
       "      <td>owner</td>\n",
       "      <td>3.466041</td>\n",
       "    </tr>\n",
       "    <tr>\n",
       "      <th>6</th>\n",
       "      <td>source</td>\n",
       "      <td>2.973195</td>\n",
       "    </tr>\n",
       "    <tr>\n",
       "      <th>7</th>\n",
       "      <td>url</td>\n",
       "      <td>1.613484</td>\n",
       "    </tr>\n",
       "    <tr>\n",
       "      <th>8</th>\n",
       "      <td>geolocation_source</td>\n",
       "      <td>1.714645</td>\n",
       "    </tr>\n",
       "    <tr>\n",
       "      <th>9</th>\n",
       "      <td>generation_gwh_2014</td>\n",
       "      <td>3.865752</td>\n",
       "    </tr>\n",
       "    <tr>\n",
       "      <th>10</th>\n",
       "      <td>generation_gwh_2015</td>\n",
       "      <td>7.037235</td>\n",
       "    </tr>\n",
       "    <tr>\n",
       "      <th>11</th>\n",
       "      <td>generation_gwh_2016</td>\n",
       "      <td>9.810332</td>\n",
       "    </tr>\n",
       "    <tr>\n",
       "      <th>12</th>\n",
       "      <td>generation_gwh_2017</td>\n",
       "      <td>4.732730</td>\n",
       "    </tr>\n",
       "  </tbody>\n",
       "</table>\n",
       "</div>"
      ],
      "text/plain": [
       "               features     value\n",
       "0           capacity_mw  1.755454\n",
       "1              latitude  1.104908\n",
       "2             longitude  1.244399\n",
       "3           other_fuel1  1.016915\n",
       "4    commissioning_year  1.403030\n",
       "5                 owner  3.466041\n",
       "6                source  2.973195\n",
       "7                   url  1.613484\n",
       "8    geolocation_source  1.714645\n",
       "9   generation_gwh_2014  3.865752\n",
       "10  generation_gwh_2015  7.037235\n",
       "11  generation_gwh_2016  9.810332\n",
       "12  generation_gwh_2017  4.732730"
      ]
     },
     "execution_count": 445,
     "metadata": {},
     "output_type": "execute_result"
    }
   ],
   "source": [
    "df1.drop('generation_gwh_2018',axis=1,inplace=True)\n",
    "x.drop('generation_gwh_2018',axis=1,inplace=True)\n",
    "x_scaled=scaler.fit_transform(x)\n",
    "VIF=pd.DataFrame()\n",
    "VIF['features']=x.columns\n",
    "VIF['value']=[variance_inflation_factor(x_scaled,i) for i in range(x.shape[1])]\n",
    "VIF"
   ]
  },
  {
   "cell_type": "markdown",
   "id": "ceb02e59",
   "metadata": {},
   "source": [
    "Now, lets find the best random state and train the model."
   ]
  },
  {
   "cell_type": "code",
   "execution_count": 446,
   "id": "5440bab4",
   "metadata": {},
   "outputs": [],
   "source": [
    "from sklearn.ensemble import RandomForestClassifier\n",
    "from sklearn.metrics import accuracy_score\n",
    "from sklearn.model_selection import train_test_split"
   ]
  },
  {
   "cell_type": "code",
   "execution_count": 447,
   "id": "9ec77017",
   "metadata": {},
   "outputs": [
    {
     "name": "stdout",
     "output_type": "stream",
     "text": [
      "Best Random State -  175  Accuracy score -  0.8913857677902621\n"
     ]
    }
   ],
   "source": [
    "max_acc=0\n",
    "max_rand_state=0\n",
    "for i in range(1,200):\n",
    "    x_train,x_test,y_train,y_test=train_test_split(x_scaled,y,test_size=0.30,random_state=i)\n",
    "    RFC=RandomForestClassifier()\n",
    "    RFC.fit(x_train,y_train)\n",
    "    y_predict=RFC.predict(x_test)\n",
    "    acc_score=accuracy_score(y_test,y_predict)\n",
    "    if(acc_score>max_acc):\n",
    "        max_acc=acc_score\n",
    "        max_rand_state=i\n",
    "        \n",
    "print(\"Best Random State - \",max_rand_state,\" Accuracy score - \",max_acc)        "
   ]
  },
  {
   "cell_type": "markdown",
   "id": "e5b2c099",
   "metadata": {},
   "source": [
    "Best Random state is 175."
   ]
  },
  {
   "cell_type": "code",
   "execution_count": 448,
   "id": "08ed1b7e",
   "metadata": {},
   "outputs": [],
   "source": [
    "x_train,x_test,y_train,y_test=train_test_split(x_scaled,y,test_size=0.30,random_state=175)"
   ]
  },
  {
   "cell_type": "code",
   "execution_count": 449,
   "id": "83915e6d",
   "metadata": {},
   "outputs": [],
   "source": [
    "from sklearn.tree import DecisionTreeClassifier\n",
    "from sklearn.neighbors import KNeighborsClassifier\n",
    "from sklearn.ensemble import AdaBoostClassifier,GradientBoostingClassifier,BaggingClassifier,RandomForestClassifier,ExtraTreesClassifier\n",
    "from sklearn.svm import SVC\n",
    "from sklearn.linear_model import LogisticRegression"
   ]
  },
  {
   "cell_type": "code",
   "execution_count": 450,
   "id": "c68a56df",
   "metadata": {},
   "outputs": [
    {
     "name": "stdout",
     "output_type": "stream",
     "text": [
      "Accuracy score  0.8277153558052435\n"
     ]
    }
   ],
   "source": [
    "svc=SVC()\n",
    "svc.fit(x_train,y_train)\n",
    "y_predict_svc=svc.predict(x_test)\n",
    "acc_score_svc=accuracy_score(y_test,y_predict_svc)\n",
    "print(\"Accuracy score \",acc_score_svc)"
   ]
  },
  {
   "cell_type": "code",
   "execution_count": 451,
   "id": "7042b1f7",
   "metadata": {},
   "outputs": [
    {
     "name": "stdout",
     "output_type": "stream",
     "text": [
      "Accuracy Score  0.8352059925093633\n"
     ]
    }
   ],
   "source": [
    "DTC=DecisionTreeClassifier()\n",
    "DTC.fit(x_train,y_train)\n",
    "y_predict_DTC=DTC.predict(x_test)\n",
    "acc_score_DTC=accuracy_score(y_test,y_predict_DTC)\n",
    "print(\"Accuracy Score \",acc_score_DTC)"
   ]
  },
  {
   "cell_type": "code",
   "execution_count": 452,
   "id": "5d94d051",
   "metadata": {},
   "outputs": [
    {
     "name": "stdout",
     "output_type": "stream",
     "text": [
      "Accuracy Score  0.8127340823970037\n"
     ]
    }
   ],
   "source": [
    "Knn=KNeighborsClassifier()\n",
    "Knn.fit(x_train,y_train)\n",
    "y_predict_Knn=Knn.predict(x_test)\n",
    "acc_score_Knn=accuracy_score(y_test,y_predict_Knn)\n",
    "print(\"Accuracy Score \",acc_score_Knn)"
   ]
  },
  {
   "cell_type": "code",
   "execution_count": 453,
   "id": "54e37f98",
   "metadata": {},
   "outputs": [
    {
     "name": "stdout",
     "output_type": "stream",
     "text": [
      "Accuracy Score  0.5842696629213483\n"
     ]
    }
   ],
   "source": [
    "ABC=AdaBoostClassifier()\n",
    "ABC.fit(x_train,y_train)\n",
    "y_predict_ABC=ABC.predict(x_test)\n",
    "acc_score_ABC=accuracy_score(y_test,y_predict_ABC)\n",
    "print(\"Accuracy Score \",acc_score_ABC)"
   ]
  },
  {
   "cell_type": "code",
   "execution_count": 454,
   "id": "5860ed9b",
   "metadata": {},
   "outputs": [
    {
     "name": "stdout",
     "output_type": "stream",
     "text": [
      "Accuracy Score  0.8764044943820225\n"
     ]
    }
   ],
   "source": [
    "GDT=GradientBoostingClassifier()\n",
    "GDT.fit(x_train,y_train)\n",
    "y_predict_GDT=GDT.predict(x_test)\n",
    "acc_score_GDT=accuracy_score(y_test,y_predict_GDT)\n",
    "print(\"Accuracy Score \",acc_score_GDT)"
   ]
  },
  {
   "cell_type": "code",
   "execution_count": 455,
   "id": "c2ebacbc",
   "metadata": {},
   "outputs": [
    {
     "name": "stdout",
     "output_type": "stream",
     "text": [
      "Accuracy Score  0.8651685393258427\n"
     ]
    }
   ],
   "source": [
    "BC=BaggingClassifier()\n",
    "BC.fit(x_train,y_train)\n",
    "y_predict_BC=BC.predict(x_test)\n",
    "acc_score_BC=accuracy_score(y_test,y_predict_BC)\n",
    "print('Accuracy Score ',acc_score_BC)"
   ]
  },
  {
   "cell_type": "code",
   "execution_count": 456,
   "id": "c32dff1f",
   "metadata": {},
   "outputs": [
    {
     "name": "stdout",
     "output_type": "stream",
     "text": [
      "accuracy score : 0.8913857677902621\n"
     ]
    }
   ],
   "source": [
    "RFC=RandomForestClassifier()\n",
    "RFC.fit(x_train,y_train)\n",
    "y_predict_RFC=RFC.predict(x_test)\n",
    "acc_score_RFC=accuracy_score(y_test,y_predict_RFC)\n",
    "print(\"accuracy score :\",acc_score_RFC)"
   ]
  },
  {
   "cell_type": "code",
   "execution_count": 457,
   "id": "eb709e3d",
   "metadata": {},
   "outputs": [
    {
     "name": "stdout",
     "output_type": "stream",
     "text": [
      "Accuracy Score  0.8838951310861424\n"
     ]
    }
   ],
   "source": [
    "ETC=ExtraTreesClassifier()\n",
    "ETC.fit(x_train,y_train)\n",
    "y_predict_ETC=ETC.predict(x_test)\n",
    "acc_score_ETC=accuracy_score(y_test,y_predict_ETC)\n",
    "print(\"Accuracy Score \",acc_score_ETC)"
   ]
  },
  {
   "cell_type": "code",
   "execution_count": 458,
   "id": "268d5b83",
   "metadata": {},
   "outputs": [
    {
     "name": "stdout",
     "output_type": "stream",
     "text": [
      "Accuracy score -  0.8052434456928839\n"
     ]
    }
   ],
   "source": [
    "LR=LogisticRegression()\n",
    "LR.fit(x_train,y_train)\n",
    "y_predict_LR=LR.predict(x_test)\n",
    "acc_score_LR=accuracy_score(y_test,y_predict_LR)\n",
    "print(\"Accuracy score - \",acc_score_LR)"
   ]
  },
  {
   "cell_type": "markdown",
   "id": "75cd047c",
   "metadata": {},
   "source": [
    "From the above we can observe RandomForestClassifier exhibits highest accuracy score of 89%. \n",
    "\n",
    "Let's check whether accuracy score provided by the model is due to overfitting of the model. "
   ]
  },
  {
   "cell_type": "code",
   "execution_count": 459,
   "id": "93a7fe4b",
   "metadata": {},
   "outputs": [],
   "source": [
    "from sklearn.model_selection import cross_val_score\n",
    "from sklearn.metrics import confusion_matrix,classification_report"
   ]
  },
  {
   "cell_type": "code",
   "execution_count": 460,
   "id": "2a1d8876",
   "metadata": {},
   "outputs": [
    {
     "name": "stdout",
     "output_type": "stream",
     "text": [
      "Difference is  0.045470703992890216\n"
     ]
    }
   ],
   "source": [
    "score=cross_val_score(RFC,x,y)\n",
    "mean=score.mean()\n",
    "print(\"Difference is \",acc_score_RFC-mean)"
   ]
  },
  {
   "cell_type": "code",
   "execution_count": 461,
   "id": "a4be95d6",
   "metadata": {},
   "outputs": [
    {
     "name": "stdout",
     "output_type": "stream",
     "text": [
      "Difference is  0.3586427981971688\n"
     ]
    }
   ],
   "source": [
    "score=cross_val_score(svc,x,y)\n",
    "mean=score.mean()\n",
    "print(\"Difference is \",acc_score_svc-mean)"
   ]
  },
  {
   "cell_type": "code",
   "execution_count": 462,
   "id": "cb28a3a3",
   "metadata": {},
   "outputs": [
    {
     "name": "stdout",
     "output_type": "stream",
     "text": [
      "Difference is  0.1490509744175712\n"
     ]
    }
   ],
   "source": [
    "score=cross_val_score(Knn,x,y)\n",
    "mean=score.mean()\n",
    "print(\"Difference is \",acc_score_Knn-mean)"
   ]
  },
  {
   "cell_type": "code",
   "execution_count": 463,
   "id": "154b1474",
   "metadata": {},
   "outputs": [
    {
     "name": "stdout",
     "output_type": "stream",
     "text": [
      "Difference is  0.01631435282168492\n"
     ]
    }
   ],
   "source": [
    "score=cross_val_score(DTC,x,y)\n",
    "mean=score.mean()\n",
    "print(\"Difference is \",acc_score_DTC-mean)"
   ]
  },
  {
   "cell_type": "code",
   "execution_count": 464,
   "id": "c46a3c9a",
   "metadata": {},
   "outputs": [
    {
     "name": "stdout",
     "output_type": "stream",
     "text": [
      "Difference is  0.036888211769186774\n"
     ]
    }
   ],
   "source": [
    "score=cross_val_score(ETC,x,y)\n",
    "mean=score.mean()\n",
    "print(\"Difference is \",acc_score_ETC-mean)"
   ]
  },
  {
   "cell_type": "code",
   "execution_count": 465,
   "id": "6117a1c8",
   "metadata": {},
   "outputs": [
    {
     "name": "stdout",
     "output_type": "stream",
     "text": [
      "Difference is  0.03049577858185759\n"
     ]
    }
   ],
   "source": [
    "score=cross_val_score(GDT,x,y)\n",
    "mean=score.mean()\n",
    "print(\"Difference is \",acc_score_GDT-mean)"
   ]
  },
  {
   "cell_type": "code",
   "execution_count": 466,
   "id": "364386b0",
   "metadata": {},
   "outputs": [
    {
     "name": "stdout",
     "output_type": "stream",
     "text": [
      "Difference is  0.1321081698724052\n"
     ]
    }
   ],
   "source": [
    "score=cross_val_score(ABC,x,y)\n",
    "mean=score.mean()\n",
    "print(\"Difference is \",acc_score_ABC-mean)"
   ]
  },
  {
   "cell_type": "code",
   "execution_count": 467,
   "id": "084b8e59",
   "metadata": {},
   "outputs": [
    {
     "name": "stdout",
     "output_type": "stream",
     "text": [
      "Difference is  0.027144036056624188\n"
     ]
    }
   ],
   "source": [
    "score=cross_val_score(BC,x,y)\n",
    "mean=score.mean()\n",
    "print(\"Difference is \",acc_score_BC-mean)"
   ]
  },
  {
   "cell_type": "code",
   "execution_count": 468,
   "id": "0b6c3de7",
   "metadata": {},
   "outputs": [
    {
     "name": "stdout",
     "output_type": "stream",
     "text": [
      "Difference is  0.2428362851520346\n"
     ]
    }
   ],
   "source": [
    "score=cross_val_score(LR,x,y)\n",
    "print('Difference is ',acc_score_LR-score.mean())"
   ]
  },
  {
   "cell_type": "markdown",
   "id": "299677a0",
   "metadata": {},
   "source": [
    "From the above we can observe cross validation score provided by the DecisionTreeClassifier has less value. Let's consider this as the best model for the given dataset."
   ]
  },
  {
   "cell_type": "markdown",
   "id": "07f4617d",
   "metadata": {},
   "source": [
    "Let's generate classification report and confusion matrix."
   ]
  },
  {
   "cell_type": "code",
   "execution_count": 469,
   "id": "e6bd5807",
   "metadata": {},
   "outputs": [
    {
     "name": "stdout",
     "output_type": "stream",
     "text": [
      "confusion matrix \n",
      " [[12  1  0  0  0  0  0  0]\n",
      " [ 0 59  6  3  2  2  0  0]\n",
      " [ 0  5  5  7  0  2  0  0]\n",
      " [ 0  5  7 60  0  0  0  0]\n",
      " [ 0  3  0  0  0  0  0  0]\n",
      " [ 0  0  0  0  0  3  0  0]\n",
      " [ 0  0  0  1  0  0 41  0]\n",
      " [ 0  0  0  0  0  0  0 43]]\n",
      "classification report \n",
      "               precision    recall  f1-score   support\n",
      "\n",
      "           0       1.00      0.92      0.96        13\n",
      "           1       0.81      0.82      0.81        72\n",
      "           2       0.28      0.26      0.27        19\n",
      "           3       0.85      0.83      0.84        72\n",
      "           4       0.00      0.00      0.00         3\n",
      "           5       0.43      1.00      0.60         3\n",
      "           6       1.00      0.98      0.99        42\n",
      "           7       1.00      1.00      1.00        43\n",
      "\n",
      "    accuracy                           0.84       267\n",
      "   macro avg       0.67      0.73      0.68       267\n",
      "weighted avg       0.84      0.84      0.83       267\n",
      "\n"
     ]
    }
   ],
   "source": [
    "print(\"confusion matrix \\n\",confusion_matrix(y_test,y_predict_DTC))\n",
    "print(\"classification report \\n\",classification_report(y_test,y_predict_DTC))"
   ]
  },
  {
   "cell_type": "markdown",
   "id": "55aaedc0",
   "metadata": {},
   "source": [
    "Let's tune parameter and try to increase accuracy score of the model."
   ]
  },
  {
   "cell_type": "code",
   "execution_count": 470,
   "id": "41b7ab8f",
   "metadata": {},
   "outputs": [],
   "source": [
    "from sklearn.model_selection import GridSearchCV\n",
    "param_grid={'criterion':['gini','entropy'],\n",
    "           'min_samples_split':[5,6,7],\n",
    "           'min_samples_leaf':[2,3,4],\n",
    "           'max_depth':[14,15,16,17]}"
   ]
  },
  {
   "cell_type": "code",
   "execution_count": 471,
   "id": "c6d2e73c",
   "metadata": {},
   "outputs": [
    {
     "data": {
      "text/plain": [
       "{'criterion': 'gini',\n",
       " 'max_depth': 16,\n",
       " 'min_samples_leaf': 2,\n",
       " 'min_samples_split': 6}"
      ]
     },
     "execution_count": 471,
     "metadata": {},
     "output_type": "execute_result"
    }
   ],
   "source": [
    "GSV=GridSearchCV(DTC,param_grid=param_grid,n_jobs=-1)\n",
    "GSV.fit(x_train,y_train)\n",
    "GSV.best_params_"
   ]
  },
  {
   "cell_type": "code",
   "execution_count": 472,
   "id": "b1719a02",
   "metadata": {},
   "outputs": [
    {
     "name": "stdout",
     "output_type": "stream",
     "text": [
      "Accuracy score -  0.8576779026217228\n"
     ]
    }
   ],
   "source": [
    "Best_model=ExtraTreesClassifier(criterion='gini',max_depth=16,min_samples_leaf=2,min_samples_split=6)\n",
    "Best_model.fit(x_train,y_train)\n",
    "y_predict=Best_model.predict(x_test)\n",
    "acc=accuracy_score(y_test,y_predict)\n",
    "print(\"Accuracy score - \",acc)"
   ]
  },
  {
   "cell_type": "code",
   "execution_count": 473,
   "id": "043f5f92",
   "metadata": {},
   "outputs": [
    {
     "name": "stdout",
     "output_type": "stream",
     "text": [
      "confusion_matrix\n",
      " [[10  2  0  0  0  0  0  1]\n",
      " [ 2 64  3  3  0  0  0  0]\n",
      " [ 1  3  2 12  0  0  0  1]\n",
      " [ 0  5  0 67  0  0  0  0]\n",
      " [ 0  1  1  0  0  0  0  1]\n",
      " [ 0  1  0  1  0  1  0  0]\n",
      " [ 0  0  0  0  0  0 42  0]\n",
      " [ 0  0  0  0  0  0  0 43]]\n"
     ]
    }
   ],
   "source": [
    "print(\"confusion_matrix\\n\",confusion_matrix(y_test,y_predict))"
   ]
  },
  {
   "cell_type": "code",
   "execution_count": 474,
   "id": "66c29d21",
   "metadata": {},
   "outputs": [
    {
     "name": "stdout",
     "output_type": "stream",
     "text": [
      "classification report \n",
      "               precision    recall  f1-score   support\n",
      "\n",
      "           0       0.77      0.77      0.77        13\n",
      "           1       0.84      0.89      0.86        72\n",
      "           2       0.33      0.11      0.16        19\n",
      "           3       0.81      0.93      0.86        72\n",
      "           4       0.00      0.00      0.00         3\n",
      "           5       1.00      0.33      0.50         3\n",
      "           6       1.00      1.00      1.00        42\n",
      "           7       0.93      1.00      0.97        43\n",
      "\n",
      "    accuracy                           0.86       267\n",
      "   macro avg       0.71      0.63      0.64       267\n",
      "weighted avg       0.83      0.86      0.83       267\n",
      "\n"
     ]
    }
   ],
   "source": [
    "print(\"classification report \\n\",classification_report(y_test,y_predict))"
   ]
  },
  {
   "cell_type": "code",
   "execution_count": 475,
   "id": "660ceed0",
   "metadata": {},
   "outputs": [],
   "source": [
    "import pickle\n",
    "pickle.dump('Best_model',open(\"Poser_plant_classification\",\"wb\"))"
   ]
  },
  {
   "cell_type": "markdown",
   "id": "883705d2",
   "metadata": {},
   "source": [
    "TASK-2 REGRESSION (IDENTIFYING CAPACITY_MW) "
   ]
  },
  {
   "cell_type": "code",
   "execution_count": 477,
   "id": "b2e716c2",
   "metadata": {},
   "outputs": [
    {
     "data": {
      "text/plain": [
       "Index(['capacity_mw', 'latitude', 'longitude', 'primary_fuel', 'other_fuel1',\n",
       "       'commissioning_year', 'owner', 'source', 'url', 'geolocation_source',\n",
       "       'generation_gwh_2014', 'generation_gwh_2015', 'generation_gwh_2016',\n",
       "       'generation_gwh_2017'],\n",
       "      dtype='object')"
      ]
     },
     "execution_count": 477,
     "metadata": {},
     "output_type": "execute_result"
    }
   ],
   "source": [
    "df1.columns"
   ]
  },
  {
   "cell_type": "code",
   "execution_count": 565,
   "id": "c7b7101f",
   "metadata": {},
   "outputs": [
    {
     "data": {
      "image/png": "[encoded data removed]",
      "text/plain": [
       "<Figure size 1440x1440 with 2 Axes>"
      ]
     },
     "metadata": {
      "needs_background": "light"
     },
     "output_type": "display_data"
    }
   ],
   "source": [
    "plt.figure(figsize=(20,20))\n",
    "sns.heatmap(df1.corr(),annot=True,fmt='.2f')\n",
    "plt.show()"
   ]
  },
  {
   "cell_type": "code",
   "execution_count": 562,
   "id": "d28e5f49",
   "metadata": {},
   "outputs": [],
   "source": [
    "x=df1.drop('capacity_mw',axis=1)\n",
    "y=df1['capacity_mw']\n",
    "x_scaled=scaler.fit_transform(x)"
   ]
  },
  {
   "cell_type": "code",
   "execution_count": 564,
   "id": "2451c9ee",
   "metadata": {},
   "outputs": [
    {
     "data": {
      "text/html": [
       "<div>\n",
       "<style scoped>\n",
       "    .dataframe tbody tr th:only-of-type {\n",
       "        vertical-align: middle;\n",
       "    }\n",
       "\n",
       "    .dataframe tbody tr th {\n",
       "        vertical-align: top;\n",
       "    }\n",
       "\n",
       "    .dataframe thead th {\n",
       "        text-align: right;\n",
       "    }\n",
       "</style>\n",
       "<table border=\"1\" class=\"dataframe\">\n",
       "  <thead>\n",
       "    <tr style=\"text-align: right;\">\n",
       "      <th></th>\n",
       "      <th>features</th>\n",
       "      <th>value</th>\n",
       "    </tr>\n",
       "  </thead>\n",
       "  <tbody>\n",
       "    <tr>\n",
       "      <th>0</th>\n",
       "      <td>latitude</td>\n",
       "      <td>1.096504</td>\n",
       "    </tr>\n",
       "    <tr>\n",
       "      <th>1</th>\n",
       "      <td>longitude</td>\n",
       "      <td>1.267742</td>\n",
       "    </tr>\n",
       "    <tr>\n",
       "      <th>2</th>\n",
       "      <td>primary_fuel</td>\n",
       "      <td>3.674080</td>\n",
       "    </tr>\n",
       "    <tr>\n",
       "      <th>3</th>\n",
       "      <td>other_fuel1</td>\n",
       "      <td>1.026736</td>\n",
       "    </tr>\n",
       "    <tr>\n",
       "      <th>4</th>\n",
       "      <td>commissioning_year</td>\n",
       "      <td>1.422530</td>\n",
       "    </tr>\n",
       "    <tr>\n",
       "      <th>5</th>\n",
       "      <td>owner</td>\n",
       "      <td>3.423814</td>\n",
       "    </tr>\n",
       "    <tr>\n",
       "      <th>6</th>\n",
       "      <td>source</td>\n",
       "      <td>3.901038</td>\n",
       "    </tr>\n",
       "    <tr>\n",
       "      <th>7</th>\n",
       "      <td>url</td>\n",
       "      <td>2.821587</td>\n",
       "    </tr>\n",
       "    <tr>\n",
       "      <th>8</th>\n",
       "      <td>geolocation_source</td>\n",
       "      <td>3.115881</td>\n",
       "    </tr>\n",
       "    <tr>\n",
       "      <th>9</th>\n",
       "      <td>generation_gwh_2014</td>\n",
       "      <td>3.893316</td>\n",
       "    </tr>\n",
       "    <tr>\n",
       "      <th>10</th>\n",
       "      <td>generation_gwh_2015</td>\n",
       "      <td>7.039214</td>\n",
       "    </tr>\n",
       "    <tr>\n",
       "      <th>11</th>\n",
       "      <td>generation_gwh_2016</td>\n",
       "      <td>10.563585</td>\n",
       "    </tr>\n",
       "    <tr>\n",
       "      <th>12</th>\n",
       "      <td>generation_gwh_2017</td>\n",
       "      <td>9.056619</td>\n",
       "    </tr>\n",
       "    <tr>\n",
       "      <th>13</th>\n",
       "      <td>generation_gwh_2018</td>\n",
       "      <td>10.054081</td>\n",
       "    </tr>\n",
       "  </tbody>\n",
       "</table>\n",
       "</div>"
      ],
      "text/plain": [
       "               features      value\n",
       "0              latitude   1.096504\n",
       "1             longitude   1.267742\n",
       "2          primary_fuel   3.674080\n",
       "3           other_fuel1   1.026736\n",
       "4    commissioning_year   1.422530\n",
       "5                 owner   3.423814\n",
       "6                source   3.901038\n",
       "7                   url   2.821587\n",
       "8    geolocation_source   3.115881\n",
       "9   generation_gwh_2014   3.893316\n",
       "10  generation_gwh_2015   7.039214\n",
       "11  generation_gwh_2016  10.563585\n",
       "12  generation_gwh_2017   9.056619\n",
       "13  generation_gwh_2018  10.054081"
      ]
     },
     "execution_count": 564,
     "metadata": {},
     "output_type": "execute_result"
    }
   ],
   "source": [
    "VIF=pd.DataFrame()\n",
    "VIF['features']=x.columns\n",
    "VIF['value']=[variance_inflation_factor(x_scaled,i) for i in range(x.shape[1])]\n",
    "VIF"
   ]
  },
  {
   "cell_type": "markdown",
   "id": "745bab08",
   "metadata": {},
   "source": [
    "As, per my analysis from heatmap and Vif value let's drop generation_gwh_2018 feature."
   ]
  },
  {
   "cell_type": "code",
   "execution_count": 566,
   "id": "786ad554",
   "metadata": {},
   "outputs": [],
   "source": [
    "x.drop('generation_gwh_2018',axis=1,inplace=True)\n",
    "x_scaled=scaler.fit_transform(x)"
   ]
  },
  {
   "cell_type": "markdown",
   "id": "3a57f5f2",
   "metadata": {},
   "source": [
    "Let's find best Random State."
   ]
  },
  {
   "cell_type": "code",
   "execution_count": 569,
   "id": "54e091c4",
   "metadata": {},
   "outputs": [],
   "source": [
    "from sklearn.linear_model import LinearRegression\n",
    "from sklearn.metrics import r2_score\n",
    "from sklearn.model_selection import train_test_split"
   ]
  },
  {
   "cell_type": "code",
   "execution_count": 570,
   "id": "dfe61978",
   "metadata": {},
   "outputs": [
    {
     "name": "stdout",
     "output_type": "stream",
     "text": [
      "Best random state :  107\n",
      "r2 score : 0.5337635418421407\n"
     ]
    }
   ],
   "source": [
    "max_rvalue=0\n",
    "max_randstate=0\n",
    "for i in range(1,200):\n",
    "    x_train,x_test,y_train,y_test=train_test_split(x_scaled,y,test_size=0.25,random_state=i)\n",
    "    LR=LinearRegression()\n",
    "    LR.fit(x_train,y_train)\n",
    "    y_predict=LR.predict(x_test)\n",
    "    r_value=r2_score(y_test,y_predict)\n",
    "    if(r_value>max_rvalue):\n",
    "        max_rvalue=r_value\n",
    "        max_randstate=i\n",
    "        \n",
    "    \n",
    "print('Best random state : ',max_randstate) \n",
    "print('r2 score :',max_rvalue)"
   ]
  },
  {
   "cell_type": "markdown",
   "id": "8c0ed26e",
   "metadata": {},
   "source": [
    "Best Random state is 107."
   ]
  },
  {
   "cell_type": "code",
   "execution_count": 572,
   "id": "bbc6b478",
   "metadata": {},
   "outputs": [],
   "source": [
    "x_train,x_test,y_train,y_test=train_test_split(x_scaled,y,test_size=0.25,random_state=107)"
   ]
  },
  {
   "cell_type": "code",
   "execution_count": 573,
   "id": "c37e104b",
   "metadata": {},
   "outputs": [],
   "source": [
    "from sklearn.linear_model import LinearRegression\n",
    "from sklearn.tree import DecisionTreeRegressor\n",
    "from sklearn.neighbors import KNeighborsRegressor\n",
    "from sklearn.linear_model import Lasso,Ridge\n",
    "from sklearn.ensemble import RandomForestRegressor"
   ]
  },
  {
   "cell_type": "code",
   "execution_count": 574,
   "id": "4cdf4bae",
   "metadata": {},
   "outputs": [
    {
     "name": "stdout",
     "output_type": "stream",
     "text": [
      "R2 score -  0.5337635418421407\n"
     ]
    }
   ],
   "source": [
    "LR=LinearRegression()\n",
    "LR.fit(x_train,y_train)\n",
    "y_predict_LR=LR.predict(x_test)\n",
    "r_value_LR=r2_score(y_test,y_predict_LR)\n",
    "print(\"R2 score - \",r_value_LR)"
   ]
  },
  {
   "cell_type": "code",
   "execution_count": 575,
   "id": "cebcb682",
   "metadata": {},
   "outputs": [
    {
     "name": "stdout",
     "output_type": "stream",
     "text": [
      "R2 score -  0.7079070526091509\n"
     ]
    }
   ],
   "source": [
    "DTR=DecisionTreeRegressor()\n",
    "DTR.fit(x_train,y_train)\n",
    "y_predict_DTR=DTR.predict(x_test)\n",
    "r_value_DTR=r2_score(y_test,y_predict_DTR)\n",
    "print(\"R2 score - \",r_value_DTR)"
   ]
  },
  {
   "cell_type": "code",
   "execution_count": 576,
   "id": "79abd328",
   "metadata": {},
   "outputs": [
    {
     "name": "stdout",
     "output_type": "stream",
     "text": [
      "R2 score -  0.6532534364601907\n"
     ]
    }
   ],
   "source": [
    "KNR=KNeighborsRegressor()\n",
    "KNR.fit(x_train,y_train)\n",
    "y_predict_KNR=KNR.predict(x_test)\n",
    "r_value_KNR=r2_score(y_test,y_predict_KNR)\n",
    "print('R2 score - ',r_value_KNR)"
   ]
  },
  {
   "cell_type": "code",
   "execution_count": 577,
   "id": "dd6f14af",
   "metadata": {},
   "outputs": [
    {
     "name": "stdout",
     "output_type": "stream",
     "text": [
      "R2 score -  0.8277098218128454\n"
     ]
    }
   ],
   "source": [
    "RFR=RandomForestRegressor()\n",
    "RFR.fit(x_train,y_train)\n",
    "y_predict_RFR=RFR.predict(x_test)\n",
    "r_value_RFR=r2_score(y_test,y_predict_RFR)\n",
    "print('R2 score - ',r_value_RFR)"
   ]
  },
  {
   "cell_type": "code",
   "execution_count": 578,
   "id": "bf5b4977",
   "metadata": {},
   "outputs": [
    {
     "name": "stdout",
     "output_type": "stream",
     "text": [
      "R2 score -  -0.0018145207670874353\n"
     ]
    }
   ],
   "source": [
    "L=Lasso()\n",
    "L.fit(x_train,y_train)\n",
    "y_predict_L=L.predict(x_test)\n",
    "r_value_L=r2_score(y_test,y_predict_L)\n",
    "print('R2 score - ',r_value_L)"
   ]
  },
  {
   "cell_type": "code",
   "execution_count": 579,
   "id": "73c186aa",
   "metadata": {},
   "outputs": [
    {
     "name": "stdout",
     "output_type": "stream",
     "text": [
      "R2 score -  0.5338607771753318\n"
     ]
    }
   ],
   "source": [
    "R=Ridge()\n",
    "R.fit(x_train,y_train)\n",
    "y_predict_R=R.predict(x_test)\n",
    "r_value_R=r2_score(y_test,y_predict_R)\n",
    "print('R2 score - ',r_value_R)"
   ]
  },
  {
   "cell_type": "markdown",
   "id": "9a22ed3c",
   "metadata": {},
   "source": [
    "From the above we can observe, RandomForestRegressor has highest r2score. \n",
    "\n",
    "Let's check r2 score provided by the model is due to overfitting of the model."
   ]
  },
  {
   "cell_type": "code",
   "execution_count": 580,
   "id": "fbdceceb",
   "metadata": {},
   "outputs": [],
   "source": [
    "from sklearn.model_selection import cross_val_score"
   ]
  },
  {
   "cell_type": "code",
   "execution_count": 581,
   "id": "80b2b456",
   "metadata": {},
   "outputs": [
    {
     "name": "stdout",
     "output_type": "stream",
     "text": [
      "Difference is  0.09157652440517006\n"
     ]
    }
   ],
   "source": [
    "score=cross_val_score(LR,x,y)\n",
    "print(\"Difference is \",r_value_LR-score.mean())"
   ]
  },
  {
   "cell_type": "code",
   "execution_count": 582,
   "id": "d93998c9",
   "metadata": {},
   "outputs": [
    {
     "name": "stdout",
     "output_type": "stream",
     "text": [
      "Difference is  0.04577924055493576\n"
     ]
    }
   ],
   "source": [
    "score=cross_val_score(DTR,x,y)\n",
    "print(\"Difference is \",r_value_DTR-score.mean())"
   ]
  },
  {
   "cell_type": "code",
   "execution_count": 583,
   "id": "87631353",
   "metadata": {},
   "outputs": [
    {
     "name": "stdout",
     "output_type": "stream",
     "text": [
      "Difference is  0.035882841258723985\n"
     ]
    }
   ],
   "source": [
    "score=cross_val_score(KNR,x,y)\n",
    "print(\"Difference is \",r_value_KNR-score.mean())"
   ]
  },
  {
   "cell_type": "code",
   "execution_count": 584,
   "id": "1fb963eb",
   "metadata": {},
   "outputs": [
    {
     "name": "stdout",
     "output_type": "stream",
     "text": [
      "Difference is  -0.2474834539500163\n"
     ]
    }
   ],
   "source": [
    "score=cross_val_score(L,x,y)\n",
    "print(\"Difference is \",r_value_L-score.mean())"
   ]
  },
  {
   "cell_type": "code",
   "execution_count": 585,
   "id": "53458b00",
   "metadata": {},
   "outputs": [
    {
     "name": "stdout",
     "output_type": "stream",
     "text": [
      "Difference is  0.09538287271953655\n"
     ]
    }
   ],
   "source": [
    "score=cross_val_score(R,x,y)\n",
    "print(\"Difference is \",r_value_R-score.mean())"
   ]
  },
  {
   "cell_type": "code",
   "execution_count": 586,
   "id": "53fcc36e",
   "metadata": {},
   "outputs": [
    {
     "name": "stdout",
     "output_type": "stream",
     "text": [
      "Difference is  0.018673232006824247\n"
     ]
    }
   ],
   "source": [
    "score=cross_val_score(RFR,x,y)\n",
    "print(\"Difference is \",r_value_RFR-score.mean())"
   ]
  },
  {
   "cell_type": "markdown",
   "id": "bcb2ea52",
   "metadata": {},
   "source": [
    "From the above we can observe cross validation score provided by RandomForestReressor model is less. Let's consider this model as best model for this dataset.\n",
    "\n",
    "Let's generate MAE,MSE values."
   ]
  },
  {
   "cell_type": "code",
   "execution_count": 587,
   "id": "557b1584",
   "metadata": {},
   "outputs": [
    {
     "name": "stdout",
     "output_type": "stream",
     "text": [
      "Mean Absolute Error  0.10542102666714198\n",
      "Mean Squared Error  0.021880253321623022\n",
      "Root mean squared error  0.14791975297986074\n"
     ]
    }
   ],
   "source": [
    "from sklearn.metrics import mean_absolute_error,mean_squared_error\n",
    "print(\"Mean Absolute Error \",mean_absolute_error(y_test,y_predict_RFR))\n",
    "print(\"Mean Squared Error \",mean_squared_error(y_test,y_predict_RFR))\n",
    "print(\"Root mean squared error \",np.sqrt(mean_squared_error(y_test,y_predict_RFR)))"
   ]
  },
  {
   "cell_type": "markdown",
   "id": "6f7003b0",
   "metadata": {},
   "source": [
    "Let's tune the parameters."
   ]
  },
  {
   "cell_type": "code",
   "execution_count": 589,
   "id": "76c4242b",
   "metadata": {},
   "outputs": [],
   "source": [
    "from sklearn.model_selection import GridSearchCV"
   ]
  },
  {
   "cell_type": "code",
   "execution_count": 590,
   "id": "bb71c1e1",
   "metadata": {},
   "outputs": [],
   "source": [
    "param={'max_depth':[16,17,18,19],'min_samples_leaf':[2,3,4],'min_samples_split':[4,5,6,7]}"
   ]
  },
  {
   "cell_type": "code",
   "execution_count": 591,
   "id": "7b041e37",
   "metadata": {},
   "outputs": [
    {
     "data": {
      "text/plain": [
       "{'max_depth': 18, 'min_samples_leaf': 2, 'min_samples_split': 4}"
      ]
     },
     "execution_count": 591,
     "metadata": {},
     "output_type": "execute_result"
    }
   ],
   "source": [
    "GSCV=GridSearchCV(RFR,param_grid=param,n_jobs=-1)\n",
    "GSCV.fit(x_train,y_train)\n",
    "GSCV.best_params_"
   ]
  },
  {
   "cell_type": "code",
   "execution_count": 595,
   "id": "36b26559",
   "metadata": {},
   "outputs": [
    {
     "name": "stdout",
     "output_type": "stream",
     "text": [
      "R2 score -  0.8313908585647827\n"
     ]
    }
   ],
   "source": [
    "Best_model=RandomForestRegressor(max_depth=18,min_samples_leaf=2,min_samples_split=5)\n",
    "Best_model.fit(x_train,y_train)\n",
    "y_predict=Best_model.predict(x_test)\n",
    "r_value=r2_score(y_test,y_predict)\n",
    "print(\"R2 score - \",r_value)"
   ]
  },
  {
   "cell_type": "code",
   "execution_count": 596,
   "id": "1d297193",
   "metadata": {},
   "outputs": [
    {
     "name": "stdout",
     "output_type": "stream",
     "text": [
      "Mean Absolute Error  0.10627560818454077\n",
      "Mean Squared Error  0.02141277445854411\n",
      "Root mean squared error  0.1463310440697534\n"
     ]
    }
   ],
   "source": [
    "from sklearn.metrics import mean_absolute_error,mean_squared_error\n",
    "print(\"Mean Absolute Error \",mean_absolute_error(y_test,y_predict))\n",
    "print(\"Mean Squared Error \",mean_squared_error(y_test,y_predict))\n",
    "print(\"Root mean squared error \",np.sqrt(mean_squared_error(y_test,y_predict)))"
   ]
  },
  {
   "cell_type": "code",
   "execution_count": 597,
   "id": "d3d78676",
   "metadata": {},
   "outputs": [],
   "source": [
    "import pickle\n",
    "pickle.dump('Best_model',open('Power_plant_Regression','wb'))"
   ]
  },
  {
   "cell_type": "code",
   "execution_count": null,
   "id": "2647674e",
   "metadata": {},
   "outputs": [],
   "source": []
  }
 ],
 "metadata": {
  "kernelspec": {
   "display_name": "Python 3 (ipykernel)",
   "language": "python",
   "name": "python3"
  },
  "language_info": {
   "codemirror_mode": {
    "name": "ipython",
    "version": 3
   },
   "file_extension": ".py",
   "mimetype": "text/x-python",
   "name": "python",
   "nbconvert_exporter": "python",
   "pygments_lexer": "ipython3",
   "version": "3.9.12"
  }
 },
 "nbformat": 4,
 "nbformat_minor": 5
}
