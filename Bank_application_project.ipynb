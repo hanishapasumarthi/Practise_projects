{
 "cells": [
  {
   "cell_type": "code",
   "execution_count": 1,
   "id": "b0c63030",
   "metadata": {},
   "outputs": [],
   "source": [
    "import numpy as np\n",
    "import pandas as pd\n",
    "import matplotlib.pyplot as plt\n",
    "import seaborn as sns\n",
    "\n",
    "import warnings\n",
    "warnings.filterwarnings('ignore')"
   ]
  },
  {
   "cell_type": "code",
   "execution_count": 2,
   "id": "3109866b",
   "metadata": {},
   "outputs": [],
   "source": [
    "df=pd.read_csv('https://raw.githubusercontent.com/dsrscientist/dataset5/main/termdeposit_train.csv')"
   ]
  },
  {
   "cell_type": "code",
   "execution_count": 3,
   "id": "db4da7a9",
   "metadata": {},
   "outputs": [
    {
     "data": {
      "text/html": [
       "<div>\n",
       "<style scoped>\n",
       "    .dataframe tbody tr th:only-of-type {\n",
       "        vertical-align: middle;\n",
       "    }\n",
       "\n",
       "    .dataframe tbody tr th {\n",
       "        vertical-align: top;\n",
       "    }\n",
       "\n",
       "    .dataframe thead th {\n",
       "        text-align: right;\n",
       "    }\n",
       "</style>\n",
       "<table border=\"1\" class=\"dataframe\">\n",
       "  <thead>\n",
       "    <tr style=\"text-align: right;\">\n",
       "      <th></th>\n",
       "      <th>ID</th>\n",
       "      <th>age</th>\n",
       "      <th>job</th>\n",
       "      <th>marital</th>\n",
       "      <th>education</th>\n",
       "      <th>default</th>\n",
       "      <th>balance</th>\n",
       "      <th>housing</th>\n",
       "      <th>loan</th>\n",
       "      <th>contact</th>\n",
       "      <th>day</th>\n",
       "      <th>month</th>\n",
       "      <th>duration</th>\n",
       "      <th>campaign</th>\n",
       "      <th>pdays</th>\n",
       "      <th>previous</th>\n",
       "      <th>poutcome</th>\n",
       "      <th>subscribed</th>\n",
       "    </tr>\n",
       "  </thead>\n",
       "  <tbody>\n",
       "    <tr>\n",
       "      <th>0</th>\n",
       "      <td>26110</td>\n",
       "      <td>56</td>\n",
       "      <td>admin.</td>\n",
       "      <td>married</td>\n",
       "      <td>unknown</td>\n",
       "      <td>no</td>\n",
       "      <td>1933</td>\n",
       "      <td>no</td>\n",
       "      <td>no</td>\n",
       "      <td>telephone</td>\n",
       "      <td>19</td>\n",
       "      <td>nov</td>\n",
       "      <td>44</td>\n",
       "      <td>2</td>\n",
       "      <td>-1</td>\n",
       "      <td>0</td>\n",
       "      <td>unknown</td>\n",
       "      <td>no</td>\n",
       "    </tr>\n",
       "    <tr>\n",
       "      <th>1</th>\n",
       "      <td>40576</td>\n",
       "      <td>31</td>\n",
       "      <td>unknown</td>\n",
       "      <td>married</td>\n",
       "      <td>secondary</td>\n",
       "      <td>no</td>\n",
       "      <td>3</td>\n",
       "      <td>no</td>\n",
       "      <td>no</td>\n",
       "      <td>cellular</td>\n",
       "      <td>20</td>\n",
       "      <td>jul</td>\n",
       "      <td>91</td>\n",
       "      <td>2</td>\n",
       "      <td>-1</td>\n",
       "      <td>0</td>\n",
       "      <td>unknown</td>\n",
       "      <td>no</td>\n",
       "    </tr>\n",
       "    <tr>\n",
       "      <th>2</th>\n",
       "      <td>15320</td>\n",
       "      <td>27</td>\n",
       "      <td>services</td>\n",
       "      <td>married</td>\n",
       "      <td>secondary</td>\n",
       "      <td>no</td>\n",
       "      <td>891</td>\n",
       "      <td>yes</td>\n",
       "      <td>no</td>\n",
       "      <td>cellular</td>\n",
       "      <td>18</td>\n",
       "      <td>jul</td>\n",
       "      <td>240</td>\n",
       "      <td>1</td>\n",
       "      <td>-1</td>\n",
       "      <td>0</td>\n",
       "      <td>unknown</td>\n",
       "      <td>no</td>\n",
       "    </tr>\n",
       "    <tr>\n",
       "      <th>3</th>\n",
       "      <td>43962</td>\n",
       "      <td>57</td>\n",
       "      <td>management</td>\n",
       "      <td>divorced</td>\n",
       "      <td>tertiary</td>\n",
       "      <td>no</td>\n",
       "      <td>3287</td>\n",
       "      <td>no</td>\n",
       "      <td>no</td>\n",
       "      <td>cellular</td>\n",
       "      <td>22</td>\n",
       "      <td>jun</td>\n",
       "      <td>867</td>\n",
       "      <td>1</td>\n",
       "      <td>84</td>\n",
       "      <td>3</td>\n",
       "      <td>success</td>\n",
       "      <td>yes</td>\n",
       "    </tr>\n",
       "    <tr>\n",
       "      <th>4</th>\n",
       "      <td>29842</td>\n",
       "      <td>31</td>\n",
       "      <td>technician</td>\n",
       "      <td>married</td>\n",
       "      <td>secondary</td>\n",
       "      <td>no</td>\n",
       "      <td>119</td>\n",
       "      <td>yes</td>\n",
       "      <td>no</td>\n",
       "      <td>cellular</td>\n",
       "      <td>4</td>\n",
       "      <td>feb</td>\n",
       "      <td>380</td>\n",
       "      <td>1</td>\n",
       "      <td>-1</td>\n",
       "      <td>0</td>\n",
       "      <td>unknown</td>\n",
       "      <td>no</td>\n",
       "    </tr>\n",
       "  </tbody>\n",
       "</table>\n",
       "</div>"
      ],
      "text/plain": [
       "      ID  age         job   marital  education default  balance housing loan  \\\n",
       "0  26110   56      admin.   married    unknown      no     1933      no   no   \n",
       "1  40576   31     unknown   married  secondary      no        3      no   no   \n",
       "2  15320   27    services   married  secondary      no      891     yes   no   \n",
       "3  43962   57  management  divorced   tertiary      no     3287      no   no   \n",
       "4  29842   31  technician   married  secondary      no      119     yes   no   \n",
       "\n",
       "     contact  day month  duration  campaign  pdays  previous poutcome  \\\n",
       "0  telephone   19   nov        44         2     -1         0  unknown   \n",
       "1   cellular   20   jul        91         2     -1         0  unknown   \n",
       "2   cellular   18   jul       240         1     -1         0  unknown   \n",
       "3   cellular   22   jun       867         1     84         3  success   \n",
       "4   cellular    4   feb       380         1     -1         0  unknown   \n",
       "\n",
       "  subscribed  \n",
       "0         no  \n",
       "1         no  \n",
       "2         no  \n",
       "3        yes  \n",
       "4         no  "
      ]
     },
     "execution_count": 3,
     "metadata": {},
     "output_type": "execute_result"
    }
   ],
   "source": [
    "df.head()"
   ]
  },
  {
   "cell_type": "code",
   "execution_count": 4,
   "id": "ff18aaa6",
   "metadata": {},
   "outputs": [
    {
     "data": {
      "text/plain": [
       "(31647, 18)"
      ]
     },
     "execution_count": 4,
     "metadata": {},
     "output_type": "execute_result"
    }
   ],
   "source": [
    "df.shape"
   ]
  },
  {
   "cell_type": "markdown",
   "id": "57623745",
   "metadata": {},
   "source": [
    "This dataset contains 31647 rows and 18 columns"
   ]
  },
  {
   "cell_type": "markdown",
   "id": "afe52b18",
   "metadata": {},
   "source": [
    "Let's check for nulls in the dataset"
   ]
  },
  {
   "cell_type": "code",
   "execution_count": 5,
   "id": "57a406af",
   "metadata": {},
   "outputs": [
    {
     "data": {
      "text/plain": [
       "ID            0\n",
       "age           0\n",
       "job           0\n",
       "marital       0\n",
       "education     0\n",
       "default       0\n",
       "balance       0\n",
       "housing       0\n",
       "loan          0\n",
       "contact       0\n",
       "day           0\n",
       "month         0\n",
       "duration      0\n",
       "campaign      0\n",
       "pdays         0\n",
       "previous      0\n",
       "poutcome      0\n",
       "subscribed    0\n",
       "dtype: int64"
      ]
     },
     "execution_count": 5,
     "metadata": {},
     "output_type": "execute_result"
    }
   ],
   "source": [
    "df.isnull().sum()"
   ]
  },
  {
   "cell_type": "markdown",
   "id": "a5582856",
   "metadata": {},
   "source": [
    "This dataset doesnot contain Null values"
   ]
  },
  {
   "cell_type": "code",
   "execution_count": 6,
   "id": "5a85f3e4",
   "metadata": {},
   "outputs": [
    {
     "data": {
      "text/plain": [
       "0"
      ]
     },
     "execution_count": 6,
     "metadata": {},
     "output_type": "execute_result"
    }
   ],
   "source": [
    "df.duplicated().sum()"
   ]
  },
  {
   "cell_type": "markdown",
   "id": "374336db",
   "metadata": {},
   "source": [
    "This dataset doesnot contain duplicate values"
   ]
  },
  {
   "cell_type": "code",
   "execution_count": 7,
   "id": "86e06948",
   "metadata": {},
   "outputs": [
    {
     "name": "stdout",
     "output_type": "stream",
     "text": [
      "<class 'pandas.core.frame.DataFrame'>\n",
      "RangeIndex: 31647 entries, 0 to 31646\n",
      "Data columns (total 18 columns):\n",
      " #   Column      Non-Null Count  Dtype \n",
      "---  ------      --------------  ----- \n",
      " 0   ID          31647 non-null  int64 \n",
      " 1   age         31647 non-null  int64 \n",
      " 2   job         31647 non-null  object\n",
      " 3   marital     31647 non-null  object\n",
      " 4   education   31647 non-null  object\n",
      " 5   default     31647 non-null  object\n",
      " 6   balance     31647 non-null  int64 \n",
      " 7   housing     31647 non-null  object\n",
      " 8   loan        31647 non-null  object\n",
      " 9   contact     31647 non-null  object\n",
      " 10  day         31647 non-null  int64 \n",
      " 11  month       31647 non-null  object\n",
      " 12  duration    31647 non-null  int64 \n",
      " 13  campaign    31647 non-null  int64 \n",
      " 14  pdays       31647 non-null  int64 \n",
      " 15  previous    31647 non-null  int64 \n",
      " 16  poutcome    31647 non-null  object\n",
      " 17  subscribed  31647 non-null  object\n",
      "dtypes: int64(8), object(10)\n",
      "memory usage: 4.3+ MB\n"
     ]
    }
   ],
   "source": [
    "df.info()"
   ]
  },
  {
   "cell_type": "code",
   "execution_count": 8,
   "id": "d0c33f46",
   "metadata": {},
   "outputs": [
    {
     "data": {
      "text/html": [
       "<div>\n",
       "<style scoped>\n",
       "    .dataframe tbody tr th:only-of-type {\n",
       "        vertical-align: middle;\n",
       "    }\n",
       "\n",
       "    .dataframe tbody tr th {\n",
       "        vertical-align: top;\n",
       "    }\n",
       "\n",
       "    .dataframe thead th {\n",
       "        text-align: right;\n",
       "    }\n",
       "</style>\n",
       "<table border=\"1\" class=\"dataframe\">\n",
       "  <thead>\n",
       "    <tr style=\"text-align: right;\">\n",
       "      <th></th>\n",
       "      <th>ID</th>\n",
       "      <th>age</th>\n",
       "      <th>job</th>\n",
       "      <th>marital</th>\n",
       "      <th>education</th>\n",
       "      <th>default</th>\n",
       "      <th>balance</th>\n",
       "      <th>housing</th>\n",
       "      <th>loan</th>\n",
       "      <th>contact</th>\n",
       "      <th>day</th>\n",
       "      <th>month</th>\n",
       "      <th>duration</th>\n",
       "      <th>campaign</th>\n",
       "      <th>pdays</th>\n",
       "      <th>previous</th>\n",
       "      <th>poutcome</th>\n",
       "      <th>subscribed</th>\n",
       "    </tr>\n",
       "  </thead>\n",
       "  <tbody>\n",
       "    <tr>\n",
       "      <th>0</th>\n",
       "      <td>26110</td>\n",
       "      <td>56</td>\n",
       "      <td>admin.</td>\n",
       "      <td>married</td>\n",
       "      <td>unknown</td>\n",
       "      <td>no</td>\n",
       "      <td>1933</td>\n",
       "      <td>no</td>\n",
       "      <td>no</td>\n",
       "      <td>telephone</td>\n",
       "      <td>19</td>\n",
       "      <td>nov</td>\n",
       "      <td>44</td>\n",
       "      <td>2</td>\n",
       "      <td>-1</td>\n",
       "      <td>0</td>\n",
       "      <td>unknown</td>\n",
       "      <td>no</td>\n",
       "    </tr>\n",
       "    <tr>\n",
       "      <th>1</th>\n",
       "      <td>40576</td>\n",
       "      <td>31</td>\n",
       "      <td>unknown</td>\n",
       "      <td>married</td>\n",
       "      <td>secondary</td>\n",
       "      <td>no</td>\n",
       "      <td>3</td>\n",
       "      <td>no</td>\n",
       "      <td>no</td>\n",
       "      <td>cellular</td>\n",
       "      <td>20</td>\n",
       "      <td>jul</td>\n",
       "      <td>91</td>\n",
       "      <td>2</td>\n",
       "      <td>-1</td>\n",
       "      <td>0</td>\n",
       "      <td>unknown</td>\n",
       "      <td>no</td>\n",
       "    </tr>\n",
       "    <tr>\n",
       "      <th>2</th>\n",
       "      <td>15320</td>\n",
       "      <td>27</td>\n",
       "      <td>services</td>\n",
       "      <td>married</td>\n",
       "      <td>secondary</td>\n",
       "      <td>no</td>\n",
       "      <td>891</td>\n",
       "      <td>yes</td>\n",
       "      <td>no</td>\n",
       "      <td>cellular</td>\n",
       "      <td>18</td>\n",
       "      <td>jul</td>\n",
       "      <td>240</td>\n",
       "      <td>1</td>\n",
       "      <td>-1</td>\n",
       "      <td>0</td>\n",
       "      <td>unknown</td>\n",
       "      <td>no</td>\n",
       "    </tr>\n",
       "    <tr>\n",
       "      <th>3</th>\n",
       "      <td>43962</td>\n",
       "      <td>57</td>\n",
       "      <td>management</td>\n",
       "      <td>divorced</td>\n",
       "      <td>tertiary</td>\n",
       "      <td>no</td>\n",
       "      <td>3287</td>\n",
       "      <td>no</td>\n",
       "      <td>no</td>\n",
       "      <td>cellular</td>\n",
       "      <td>22</td>\n",
       "      <td>jun</td>\n",
       "      <td>867</td>\n",
       "      <td>1</td>\n",
       "      <td>84</td>\n",
       "      <td>3</td>\n",
       "      <td>success</td>\n",
       "      <td>yes</td>\n",
       "    </tr>\n",
       "    <tr>\n",
       "      <th>4</th>\n",
       "      <td>29842</td>\n",
       "      <td>31</td>\n",
       "      <td>technician</td>\n",
       "      <td>married</td>\n",
       "      <td>secondary</td>\n",
       "      <td>no</td>\n",
       "      <td>119</td>\n",
       "      <td>yes</td>\n",
       "      <td>no</td>\n",
       "      <td>cellular</td>\n",
       "      <td>4</td>\n",
       "      <td>feb</td>\n",
       "      <td>380</td>\n",
       "      <td>1</td>\n",
       "      <td>-1</td>\n",
       "      <td>0</td>\n",
       "      <td>unknown</td>\n",
       "      <td>no</td>\n",
       "    </tr>\n",
       "  </tbody>\n",
       "</table>\n",
       "</div>"
      ],
      "text/plain": [
       "      ID  age         job   marital  education default  balance housing loan  \\\n",
       "0  26110   56      admin.   married    unknown      no     1933      no   no   \n",
       "1  40576   31     unknown   married  secondary      no        3      no   no   \n",
       "2  15320   27    services   married  secondary      no      891     yes   no   \n",
       "3  43962   57  management  divorced   tertiary      no     3287      no   no   \n",
       "4  29842   31  technician   married  secondary      no      119     yes   no   \n",
       "\n",
       "     contact  day month  duration  campaign  pdays  previous poutcome  \\\n",
       "0  telephone   19   nov        44         2     -1         0  unknown   \n",
       "1   cellular   20   jul        91         2     -1         0  unknown   \n",
       "2   cellular   18   jul       240         1     -1         0  unknown   \n",
       "3   cellular   22   jun       867         1     84         3  success   \n",
       "4   cellular    4   feb       380         1     -1         0  unknown   \n",
       "\n",
       "  subscribed  \n",
       "0         no  \n",
       "1         no  \n",
       "2         no  \n",
       "3        yes  \n",
       "4         no  "
      ]
     },
     "execution_count": 8,
     "metadata": {},
     "output_type": "execute_result"
    }
   ],
   "source": [
    "df.head()"
   ]
  },
  {
   "cell_type": "markdown",
   "id": "cb7b552a",
   "metadata": {},
   "source": [
    "Let's check the statistical information of the data"
   ]
  },
  {
   "cell_type": "code",
   "execution_count": 9,
   "id": "30d64153",
   "metadata": {},
   "outputs": [
    {
     "data": {
      "text/html": [
       "<div>\n",
       "<style scoped>\n",
       "    .dataframe tbody tr th:only-of-type {\n",
       "        vertical-align: middle;\n",
       "    }\n",
       "\n",
       "    .dataframe tbody tr th {\n",
       "        vertical-align: top;\n",
       "    }\n",
       "\n",
       "    .dataframe thead th {\n",
       "        text-align: right;\n",
       "    }\n",
       "</style>\n",
       "<table border=\"1\" class=\"dataframe\">\n",
       "  <thead>\n",
       "    <tr style=\"text-align: right;\">\n",
       "      <th></th>\n",
       "      <th>ID</th>\n",
       "      <th>age</th>\n",
       "      <th>balance</th>\n",
       "      <th>day</th>\n",
       "      <th>duration</th>\n",
       "      <th>campaign</th>\n",
       "      <th>pdays</th>\n",
       "      <th>previous</th>\n",
       "    </tr>\n",
       "  </thead>\n",
       "  <tbody>\n",
       "    <tr>\n",
       "      <th>count</th>\n",
       "      <td>31647.000000</td>\n",
       "      <td>31647.000000</td>\n",
       "      <td>31647.000000</td>\n",
       "      <td>31647.000000</td>\n",
       "      <td>31647.000000</td>\n",
       "      <td>31647.000000</td>\n",
       "      <td>31647.000000</td>\n",
       "      <td>31647.000000</td>\n",
       "    </tr>\n",
       "    <tr>\n",
       "      <th>mean</th>\n",
       "      <td>22563.972162</td>\n",
       "      <td>40.957247</td>\n",
       "      <td>1363.890258</td>\n",
       "      <td>15.835466</td>\n",
       "      <td>258.113534</td>\n",
       "      <td>2.765697</td>\n",
       "      <td>39.576042</td>\n",
       "      <td>0.574272</td>\n",
       "    </tr>\n",
       "    <tr>\n",
       "      <th>std</th>\n",
       "      <td>13075.936990</td>\n",
       "      <td>10.625134</td>\n",
       "      <td>3028.304293</td>\n",
       "      <td>8.337097</td>\n",
       "      <td>257.118973</td>\n",
       "      <td>3.113830</td>\n",
       "      <td>99.317592</td>\n",
       "      <td>2.422529</td>\n",
       "    </tr>\n",
       "    <tr>\n",
       "      <th>min</th>\n",
       "      <td>2.000000</td>\n",
       "      <td>18.000000</td>\n",
       "      <td>-8019.000000</td>\n",
       "      <td>1.000000</td>\n",
       "      <td>0.000000</td>\n",
       "      <td>1.000000</td>\n",
       "      <td>-1.000000</td>\n",
       "      <td>0.000000</td>\n",
       "    </tr>\n",
       "    <tr>\n",
       "      <th>25%</th>\n",
       "      <td>11218.000000</td>\n",
       "      <td>33.000000</td>\n",
       "      <td>73.000000</td>\n",
       "      <td>8.000000</td>\n",
       "      <td>104.000000</td>\n",
       "      <td>1.000000</td>\n",
       "      <td>-1.000000</td>\n",
       "      <td>0.000000</td>\n",
       "    </tr>\n",
       "    <tr>\n",
       "      <th>50%</th>\n",
       "      <td>22519.000000</td>\n",
       "      <td>39.000000</td>\n",
       "      <td>450.000000</td>\n",
       "      <td>16.000000</td>\n",
       "      <td>180.000000</td>\n",
       "      <td>2.000000</td>\n",
       "      <td>-1.000000</td>\n",
       "      <td>0.000000</td>\n",
       "    </tr>\n",
       "    <tr>\n",
       "      <th>75%</th>\n",
       "      <td>33879.500000</td>\n",
       "      <td>48.000000</td>\n",
       "      <td>1431.000000</td>\n",
       "      <td>21.000000</td>\n",
       "      <td>318.500000</td>\n",
       "      <td>3.000000</td>\n",
       "      <td>-1.000000</td>\n",
       "      <td>0.000000</td>\n",
       "    </tr>\n",
       "    <tr>\n",
       "      <th>max</th>\n",
       "      <td>45211.000000</td>\n",
       "      <td>95.000000</td>\n",
       "      <td>102127.000000</td>\n",
       "      <td>31.000000</td>\n",
       "      <td>4918.000000</td>\n",
       "      <td>63.000000</td>\n",
       "      <td>871.000000</td>\n",
       "      <td>275.000000</td>\n",
       "    </tr>\n",
       "  </tbody>\n",
       "</table>\n",
       "</div>"
      ],
      "text/plain": [
       "                 ID           age        balance           day      duration  \\\n",
       "count  31647.000000  31647.000000   31647.000000  31647.000000  31647.000000   \n",
       "mean   22563.972162     40.957247    1363.890258     15.835466    258.113534   \n",
       "std    13075.936990     10.625134    3028.304293      8.337097    257.118973   \n",
       "min        2.000000     18.000000   -8019.000000      1.000000      0.000000   \n",
       "25%    11218.000000     33.000000      73.000000      8.000000    104.000000   \n",
       "50%    22519.000000     39.000000     450.000000     16.000000    180.000000   \n",
       "75%    33879.500000     48.000000    1431.000000     21.000000    318.500000   \n",
       "max    45211.000000     95.000000  102127.000000     31.000000   4918.000000   \n",
       "\n",
       "           campaign         pdays      previous  \n",
       "count  31647.000000  31647.000000  31647.000000  \n",
       "mean       2.765697     39.576042      0.574272  \n",
       "std        3.113830     99.317592      2.422529  \n",
       "min        1.000000     -1.000000      0.000000  \n",
       "25%        1.000000     -1.000000      0.000000  \n",
       "50%        2.000000     -1.000000      0.000000  \n",
       "75%        3.000000     -1.000000      0.000000  \n",
       "max       63.000000    871.000000    275.000000  "
      ]
     },
     "execution_count": 9,
     "metadata": {},
     "output_type": "execute_result"
    }
   ],
   "source": [
    "df.describe()"
   ]
  },
  {
   "cell_type": "markdown",
   "id": "1ddb3365",
   "metadata": {},
   "source": [
    "In Age feature there is huge difference between 75% and max vales, there can be outliers\n",
    "\n",
    "In Balance feature, mean is higer than 50% data. So, data can be right skewed and huge difference between 75% and max data. So, there can be outliers present.\n",
    "\n",
    "In Duration feature, mean is greater than 50% data. So, data is right skewed and huge difference between 75% and max data.So, outliers can be present.\n"
   ]
  },
  {
   "cell_type": "code",
   "execution_count": 10,
   "id": "811dd696",
   "metadata": {},
   "outputs": [
    {
     "data": {
      "text/plain": [
       "array(['admin.', 'unknown', 'services', 'management', 'technician',\n",
       "       'retired', 'blue-collar', 'housemaid', 'self-employed', 'student',\n",
       "       'entrepreneur', 'unemployed'], dtype=object)"
      ]
     },
     "execution_count": 10,
     "metadata": {},
     "output_type": "execute_result"
    }
   ],
   "source": [
    "df.job.unique()"
   ]
  },
  {
   "cell_type": "code",
   "execution_count": 11,
   "id": "9cd4ac21",
   "metadata": {},
   "outputs": [
    {
     "data": {
      "text/plain": [
       "array(['married', 'divorced', 'single'], dtype=object)"
      ]
     },
     "execution_count": 11,
     "metadata": {},
     "output_type": "execute_result"
    }
   ],
   "source": [
    "df['marital'].unique()"
   ]
  },
  {
   "cell_type": "code",
   "execution_count": 12,
   "id": "8ef37150",
   "metadata": {},
   "outputs": [
    {
     "data": {
      "text/plain": [
       "array(['unknown', 'secondary', 'tertiary', 'primary'], dtype=object)"
      ]
     },
     "execution_count": 12,
     "metadata": {},
     "output_type": "execute_result"
    }
   ],
   "source": [
    "df['education'].unique()"
   ]
  },
  {
   "cell_type": "code",
   "execution_count": 13,
   "id": "598c6916",
   "metadata": {},
   "outputs": [
    {
     "data": {
      "text/plain": [
       "array(['no', 'yes'], dtype=object)"
      ]
     },
     "execution_count": 13,
     "metadata": {},
     "output_type": "execute_result"
    }
   ],
   "source": [
    "df['default'].unique()"
   ]
  },
  {
   "cell_type": "code",
   "execution_count": 14,
   "id": "11673e31",
   "metadata": {},
   "outputs": [
    {
     "data": {
      "text/plain": [
       "array(['no', 'yes'], dtype=object)"
      ]
     },
     "execution_count": 14,
     "metadata": {},
     "output_type": "execute_result"
    }
   ],
   "source": [
    "df['housing'].unique()"
   ]
  },
  {
   "cell_type": "code",
   "execution_count": 15,
   "id": "d5c15abe",
   "metadata": {},
   "outputs": [
    {
     "data": {
      "text/plain": [
       "array(['no', 'yes'], dtype=object)"
      ]
     },
     "execution_count": 15,
     "metadata": {},
     "output_type": "execute_result"
    }
   ],
   "source": [
    "df['loan'].unique()"
   ]
  },
  {
   "cell_type": "code",
   "execution_count": 16,
   "id": "47c8f739",
   "metadata": {},
   "outputs": [
    {
     "data": {
      "text/plain": [
       "array(['telephone', 'cellular', 'unknown'], dtype=object)"
      ]
     },
     "execution_count": 16,
     "metadata": {},
     "output_type": "execute_result"
    }
   ],
   "source": [
    "df['contact'].unique()"
   ]
  },
  {
   "cell_type": "code",
   "execution_count": 17,
   "id": "4fbfe4b8",
   "metadata": {},
   "outputs": [
    {
     "data": {
      "text/plain": [
       "array(['nov', 'jul', 'jun', 'feb', 'sep', 'jan', 'may', 'aug', 'apr',\n",
       "       'oct', 'mar', 'dec'], dtype=object)"
      ]
     },
     "execution_count": 17,
     "metadata": {},
     "output_type": "execute_result"
    }
   ],
   "source": [
    "df['month'].unique()"
   ]
  },
  {
   "cell_type": "code",
   "execution_count": 18,
   "id": "9ad505c8",
   "metadata": {},
   "outputs": [
    {
     "data": {
      "text/plain": [
       "array(['unknown', 'success', 'failure', 'other'], dtype=object)"
      ]
     },
     "execution_count": 18,
     "metadata": {},
     "output_type": "execute_result"
    }
   ],
   "source": [
    "df['poutcome'].unique()"
   ]
  },
  {
   "cell_type": "code",
   "execution_count": 19,
   "id": "ab563b60",
   "metadata": {},
   "outputs": [
    {
     "data": {
      "text/plain": [
       "array(['no', 'yes'], dtype=object)"
      ]
     },
     "execution_count": 19,
     "metadata": {},
     "output_type": "execute_result"
    }
   ],
   "source": [
    "df['subscribed'].unique()"
   ]
  },
  {
   "cell_type": "markdown",
   "id": "f931eb05",
   "metadata": {},
   "source": [
    "Job,Admin,Education,default,contact,poutcome features are categorical columns. Let's encode them using encoding techniques."
   ]
  },
  {
   "cell_type": "code",
   "execution_count": null,
   "id": "c747dc48",
   "metadata": {},
   "outputs": [],
   "source": []
  },
  {
   "cell_type": "code",
   "execution_count": 20,
   "id": "52b6f07a",
   "metadata": {},
   "outputs": [],
   "source": [
    "from sklearn.preprocessing import LabelEncoder\n",
    "LE=LabelEncoder()"
   ]
  },
  {
   "cell_type": "code",
   "execution_count": 21,
   "id": "93348da6",
   "metadata": {},
   "outputs": [],
   "source": [
    "cat_columns=['job','marital','education','default','poutcome','subscribed','housing','loan','month','contact']\n",
    "\n",
    "for i in cat_columns:\n",
    "    df[i]=LE.fit_transform(df[i])\n",
    "    \n",
    "    "
   ]
  },
  {
   "cell_type": "code",
   "execution_count": 22,
   "id": "d3477ec8",
   "metadata": {},
   "outputs": [
    {
     "data": {
      "text/html": [
       "<div>\n",
       "<style scoped>\n",
       "    .dataframe tbody tr th:only-of-type {\n",
       "        vertical-align: middle;\n",
       "    }\n",
       "\n",
       "    .dataframe tbody tr th {\n",
       "        vertical-align: top;\n",
       "    }\n",
       "\n",
       "    .dataframe thead th {\n",
       "        text-align: right;\n",
       "    }\n",
       "</style>\n",
       "<table border=\"1\" class=\"dataframe\">\n",
       "  <thead>\n",
       "    <tr style=\"text-align: right;\">\n",
       "      <th></th>\n",
       "      <th>ID</th>\n",
       "      <th>age</th>\n",
       "      <th>job</th>\n",
       "      <th>marital</th>\n",
       "      <th>education</th>\n",
       "      <th>default</th>\n",
       "      <th>balance</th>\n",
       "      <th>housing</th>\n",
       "      <th>loan</th>\n",
       "      <th>contact</th>\n",
       "      <th>day</th>\n",
       "      <th>month</th>\n",
       "      <th>duration</th>\n",
       "      <th>campaign</th>\n",
       "      <th>pdays</th>\n",
       "      <th>previous</th>\n",
       "      <th>poutcome</th>\n",
       "      <th>subscribed</th>\n",
       "    </tr>\n",
       "  </thead>\n",
       "  <tbody>\n",
       "    <tr>\n",
       "      <th>0</th>\n",
       "      <td>26110</td>\n",
       "      <td>56</td>\n",
       "      <td>0</td>\n",
       "      <td>1</td>\n",
       "      <td>3</td>\n",
       "      <td>0</td>\n",
       "      <td>1933</td>\n",
       "      <td>0</td>\n",
       "      <td>0</td>\n",
       "      <td>1</td>\n",
       "      <td>19</td>\n",
       "      <td>9</td>\n",
       "      <td>44</td>\n",
       "      <td>2</td>\n",
       "      <td>-1</td>\n",
       "      <td>0</td>\n",
       "      <td>3</td>\n",
       "      <td>0</td>\n",
       "    </tr>\n",
       "    <tr>\n",
       "      <th>1</th>\n",
       "      <td>40576</td>\n",
       "      <td>31</td>\n",
       "      <td>11</td>\n",
       "      <td>1</td>\n",
       "      <td>1</td>\n",
       "      <td>0</td>\n",
       "      <td>3</td>\n",
       "      <td>0</td>\n",
       "      <td>0</td>\n",
       "      <td>0</td>\n",
       "      <td>20</td>\n",
       "      <td>5</td>\n",
       "      <td>91</td>\n",
       "      <td>2</td>\n",
       "      <td>-1</td>\n",
       "      <td>0</td>\n",
       "      <td>3</td>\n",
       "      <td>0</td>\n",
       "    </tr>\n",
       "    <tr>\n",
       "      <th>2</th>\n",
       "      <td>15320</td>\n",
       "      <td>27</td>\n",
       "      <td>7</td>\n",
       "      <td>1</td>\n",
       "      <td>1</td>\n",
       "      <td>0</td>\n",
       "      <td>891</td>\n",
       "      <td>1</td>\n",
       "      <td>0</td>\n",
       "      <td>0</td>\n",
       "      <td>18</td>\n",
       "      <td>5</td>\n",
       "      <td>240</td>\n",
       "      <td>1</td>\n",
       "      <td>-1</td>\n",
       "      <td>0</td>\n",
       "      <td>3</td>\n",
       "      <td>0</td>\n",
       "    </tr>\n",
       "    <tr>\n",
       "      <th>3</th>\n",
       "      <td>43962</td>\n",
       "      <td>57</td>\n",
       "      <td>4</td>\n",
       "      <td>0</td>\n",
       "      <td>2</td>\n",
       "      <td>0</td>\n",
       "      <td>3287</td>\n",
       "      <td>0</td>\n",
       "      <td>0</td>\n",
       "      <td>0</td>\n",
       "      <td>22</td>\n",
       "      <td>6</td>\n",
       "      <td>867</td>\n",
       "      <td>1</td>\n",
       "      <td>84</td>\n",
       "      <td>3</td>\n",
       "      <td>2</td>\n",
       "      <td>1</td>\n",
       "    </tr>\n",
       "    <tr>\n",
       "      <th>4</th>\n",
       "      <td>29842</td>\n",
       "      <td>31</td>\n",
       "      <td>9</td>\n",
       "      <td>1</td>\n",
       "      <td>1</td>\n",
       "      <td>0</td>\n",
       "      <td>119</td>\n",
       "      <td>1</td>\n",
       "      <td>0</td>\n",
       "      <td>0</td>\n",
       "      <td>4</td>\n",
       "      <td>3</td>\n",
       "      <td>380</td>\n",
       "      <td>1</td>\n",
       "      <td>-1</td>\n",
       "      <td>0</td>\n",
       "      <td>3</td>\n",
       "      <td>0</td>\n",
       "    </tr>\n",
       "  </tbody>\n",
       "</table>\n",
       "</div>"
      ],
      "text/plain": [
       "      ID  age  job  marital  education  default  balance  housing  loan  \\\n",
       "0  26110   56    0        1          3        0     1933        0     0   \n",
       "1  40576   31   11        1          1        0        3        0     0   \n",
       "2  15320   27    7        1          1        0      891        1     0   \n",
       "3  43962   57    4        0          2        0     3287        0     0   \n",
       "4  29842   31    9        1          1        0      119        1     0   \n",
       "\n",
       "   contact  day  month  duration  campaign  pdays  previous  poutcome  \\\n",
       "0        1   19      9        44         2     -1         0         3   \n",
       "1        0   20      5        91         2     -1         0         3   \n",
       "2        0   18      5       240         1     -1         0         3   \n",
       "3        0   22      6       867         1     84         3         2   \n",
       "4        0    4      3       380         1     -1         0         3   \n",
       "\n",
       "   subscribed  \n",
       "0           0  \n",
       "1           0  \n",
       "2           0  \n",
       "3           1  \n",
       "4           0  "
      ]
     },
     "execution_count": 22,
     "metadata": {},
     "output_type": "execute_result"
    }
   ],
   "source": [
    "df.head()"
   ]
  },
  {
   "cell_type": "markdown",
   "id": "1d6673ab",
   "metadata": {},
   "source": [
    "With the help of LabelEncoder, we have encoded all categorical columns"
   ]
  },
  {
   "cell_type": "markdown",
   "id": "1d26b383",
   "metadata": {},
   "source": [
    "Let's check how the data is distributed"
   ]
  },
  {
   "cell_type": "code",
   "execution_count": 23,
   "id": "b895bf86",
   "metadata": {},
   "outputs": [
    {
     "data": {
      "image/png": "[encoded data removed]",
      "text/plain": [
       "<Figure size 1080x1368 with 7 Axes>"
      ]
     },
     "metadata": {
      "needs_background": "light"
     },
     "output_type": "display_data"
    }
   ],
   "source": [
    "cols=['age','balance','day','duration','campaign','pdays','previous']\n",
    "plt.figure(figsize=(15,19))\n",
    "n=1\n",
    "for i in cols:\n",
    "    ax=plt.subplot(5,4,n)\n",
    "    sns.distplot(x=df[i])\n",
    "    plt.xlabel(i)\n",
    "    n+=1\n",
    "    \n",
    "    \n",
    "plt.show()    "
   ]
  },
  {
   "cell_type": "markdown",
   "id": "4f1c57d1",
   "metadata": {},
   "source": [
    "From the above we can observe skeweness in Balance, duration,campaign,pdays,previous"
   ]
  },
  {
   "cell_type": "code",
   "execution_count": 24,
   "id": "43b0c4a8",
   "metadata": {},
   "outputs": [
    {
     "data": {
      "text/plain": [
       "ID             0.005851\n",
       "age            0.681607\n",
       "job            0.264817\n",
       "marital       -0.100071\n",
       "education      0.199441\n",
       "default        7.149903\n",
       "balance        7.995696\n",
       "housing       -0.223918\n",
       "loan           1.833474\n",
       "contact        0.758602\n",
       "day            0.087185\n",
       "month         -0.486498\n",
       "duration       3.199766\n",
       "campaign       4.873935\n",
       "pdays          2.642374\n",
       "previous      49.302348\n",
       "poutcome      -1.996421\n",
       "subscribed     2.377445\n",
       "dtype: float64"
      ]
     },
     "execution_count": 24,
     "metadata": {},
     "output_type": "execute_result"
    }
   ],
   "source": [
    "df.skew()"
   ]
  },
  {
   "cell_type": "markdown",
   "id": "b280d3bb",
   "metadata": {},
   "source": [
    "Let's use transformation techniques to reduce skeweness."
   ]
  },
  {
   "cell_type": "code",
   "execution_count": 25,
   "id": "169e39e2",
   "metadata": {},
   "outputs": [],
   "source": [
    "df['balance']=np.cbrt(df['balance'])\n",
    "df['duration']=np.cbrt(df['duration'])\n",
    "df['campaign']=np.cbrt(df['campaign'])\n",
    "df['pdays']=np.cbrt(df['pdays'])\n",
    "df['previous']=np.cbrt(df['previous'])\n",
    "df['age']=np.cbrt(df['age'])"
   ]
  },
  {
   "cell_type": "code",
   "execution_count": 26,
   "id": "7eb207b5",
   "metadata": {},
   "outputs": [
    {
     "data": {
      "text/plain": [
       "age         0.286363\n",
       "balance    -0.086014\n",
       "day         0.087185\n",
       "duration    0.647275\n",
       "campaign    1.667938\n",
       "pdays       1.779036\n",
       "previous    2.079738\n",
       "dtype: float64"
      ]
     },
     "execution_count": 26,
     "metadata": {},
     "output_type": "execute_result"
    }
   ],
   "source": [
    "df[['age','balance','day','duration','campaign','pdays','previous']].skew()"
   ]
  },
  {
   "cell_type": "markdown",
   "id": "6885c9a9",
   "metadata": {},
   "source": [
    "From the above we observe campaign,pdays,previous features having value not in acceptable range.\n",
    "So, let's again perform techniques to remove skeweness"
   ]
  },
  {
   "cell_type": "code",
   "execution_count": 27,
   "id": "23f90dcb",
   "metadata": {},
   "outputs": [],
   "source": [
    "from scipy.stats import boxcox\n",
    "\n",
    "a=boxcox(df['campaign'])[0]\n",
    "df['campaign']=a\n",
    "df['campaign'].skew()\n",
    "df['pdays']=np.cbrt(df['pdays'])\n",
    "df['previous']=np.cbrt(df['previous'])"
   ]
  },
  {
   "cell_type": "code",
   "execution_count": 28,
   "id": "1905f11c",
   "metadata": {},
   "outputs": [
    {
     "data": {
      "text/plain": [
       "campaign    0.165947\n",
       "pdays       1.669181\n",
       "previous    1.695184\n",
       "dtype: float64"
      ]
     },
     "execution_count": 28,
     "metadata": {},
     "output_type": "execute_result"
    }
   ],
   "source": [
    "df[['campaign','pdays','previous']].skew()"
   ]
  },
  {
   "cell_type": "markdown",
   "id": "b5b95aa5",
   "metadata": {},
   "source": [
    "After performing power transformation technique value in campaign feature is reduced. But there is no much change in pdays and previou.\n",
    "Let's continue further with this data only."
   ]
  },
  {
   "cell_type": "markdown",
   "id": "945d0140",
   "metadata": {},
   "source": [
    "Let's check for outliers present in the dataset"
   ]
  },
  {
   "cell_type": "code",
   "execution_count": 29,
   "id": "648f4eb9",
   "metadata": {},
   "outputs": [
    {
     "data": {
      "image/png": "[encoded data removed]",
      "text/plain": [
       "<Figure size 1080x1368 with 7 Axes>"
      ]
     },
     "metadata": {
      "needs_background": "light"
     },
     "output_type": "display_data"
    }
   ],
   "source": [
    "cols=['age','balance','day','duration','campaign','pdays','previous']\n",
    "plt.figure(figsize=(15,19))\n",
    "n=1\n",
    "for i in cols:\n",
    "    ax=plt.subplot(4,4,n)\n",
    "    sns.boxplot(y=df[i])\n",
    "    plt.xlabel(i)\n",
    "    n+=1\n",
    "    \n",
    "    \n",
    "plt.show()    "
   ]
  },
  {
   "cell_type": "markdown",
   "id": "111470b8",
   "metadata": {},
   "source": [
    "Outliers are present in almost all features except data. Let's remove outliers with the help of zscore technique"
   ]
  },
  {
   "cell_type": "code",
   "execution_count": 30,
   "id": "65ad37bb",
   "metadata": {},
   "outputs": [
    {
     "data": {
      "text/html": [
       "<div>\n",
       "<style scoped>\n",
       "    .dataframe tbody tr th:only-of-type {\n",
       "        vertical-align: middle;\n",
       "    }\n",
       "\n",
       "    .dataframe tbody tr th {\n",
       "        vertical-align: top;\n",
       "    }\n",
       "\n",
       "    .dataframe thead th {\n",
       "        text-align: right;\n",
       "    }\n",
       "</style>\n",
       "<table border=\"1\" class=\"dataframe\">\n",
       "  <thead>\n",
       "    <tr style=\"text-align: right;\">\n",
       "      <th></th>\n",
       "      <th>age</th>\n",
       "      <th>balance</th>\n",
       "      <th>duration</th>\n",
       "      <th>pdays</th>\n",
       "      <th>previous</th>\n",
       "    </tr>\n",
       "  </thead>\n",
       "  <tbody>\n",
       "    <tr>\n",
       "      <th>0</th>\n",
       "      <td>False</td>\n",
       "      <td>False</td>\n",
       "      <td>False</td>\n",
       "      <td>False</td>\n",
       "      <td>False</td>\n",
       "    </tr>\n",
       "    <tr>\n",
       "      <th>1</th>\n",
       "      <td>False</td>\n",
       "      <td>False</td>\n",
       "      <td>False</td>\n",
       "      <td>False</td>\n",
       "      <td>False</td>\n",
       "    </tr>\n",
       "    <tr>\n",
       "      <th>2</th>\n",
       "      <td>False</td>\n",
       "      <td>False</td>\n",
       "      <td>False</td>\n",
       "      <td>False</td>\n",
       "      <td>False</td>\n",
       "    </tr>\n",
       "    <tr>\n",
       "      <th>3</th>\n",
       "      <td>False</td>\n",
       "      <td>False</td>\n",
       "      <td>False</td>\n",
       "      <td>False</td>\n",
       "      <td>False</td>\n",
       "    </tr>\n",
       "    <tr>\n",
       "      <th>4</th>\n",
       "      <td>False</td>\n",
       "      <td>False</td>\n",
       "      <td>False</td>\n",
       "      <td>False</td>\n",
       "      <td>False</td>\n",
       "    </tr>\n",
       "    <tr>\n",
       "      <th>...</th>\n",
       "      <td>...</td>\n",
       "      <td>...</td>\n",
       "      <td>...</td>\n",
       "      <td>...</td>\n",
       "      <td>...</td>\n",
       "    </tr>\n",
       "    <tr>\n",
       "      <th>31642</th>\n",
       "      <td>False</td>\n",
       "      <td>False</td>\n",
       "      <td>False</td>\n",
       "      <td>False</td>\n",
       "      <td>False</td>\n",
       "    </tr>\n",
       "    <tr>\n",
       "      <th>31643</th>\n",
       "      <td>False</td>\n",
       "      <td>False</td>\n",
       "      <td>False</td>\n",
       "      <td>False</td>\n",
       "      <td>False</td>\n",
       "    </tr>\n",
       "    <tr>\n",
       "      <th>31644</th>\n",
       "      <td>False</td>\n",
       "      <td>False</td>\n",
       "      <td>False</td>\n",
       "      <td>False</td>\n",
       "      <td>False</td>\n",
       "    </tr>\n",
       "    <tr>\n",
       "      <th>31645</th>\n",
       "      <td>False</td>\n",
       "      <td>False</td>\n",
       "      <td>False</td>\n",
       "      <td>False</td>\n",
       "      <td>False</td>\n",
       "    </tr>\n",
       "    <tr>\n",
       "      <th>31646</th>\n",
       "      <td>False</td>\n",
       "      <td>False</td>\n",
       "      <td>True</td>\n",
       "      <td>False</td>\n",
       "      <td>False</td>\n",
       "    </tr>\n",
       "  </tbody>\n",
       "</table>\n",
       "<p>31647 rows × 5 columns</p>\n",
       "</div>"
      ],
      "text/plain": [
       "         age  balance  duration  pdays  previous\n",
       "0      False    False     False  False     False\n",
       "1      False    False     False  False     False\n",
       "2      False    False     False  False     False\n",
       "3      False    False     False  False     False\n",
       "4      False    False     False  False     False\n",
       "...      ...      ...       ...    ...       ...\n",
       "31642  False    False     False  False     False\n",
       "31643  False    False     False  False     False\n",
       "31644  False    False     False  False     False\n",
       "31645  False    False     False  False     False\n",
       "31646  False    False      True  False     False\n",
       "\n",
       "[31647 rows x 5 columns]"
      ]
     },
     "execution_count": 30,
     "metadata": {},
     "output_type": "execute_result"
    }
   ],
   "source": [
    "from scipy.stats import zscore\n",
    "z_value=np.abs(zscore(df[['age','balance','duration','pdays','previous']]))\n",
    "z_value>3"
   ]
  },
  {
   "cell_type": "code",
   "execution_count": 31,
   "id": "2d00eca4",
   "metadata": {},
   "outputs": [],
   "source": [
    "df1=df[(z_value<3).all(axis=1)]"
   ]
  },
  {
   "cell_type": "code",
   "execution_count": 32,
   "id": "f346b174",
   "metadata": {},
   "outputs": [
    {
     "data": {
      "text/plain": [
       "(31174, 18)"
      ]
     },
     "execution_count": 32,
     "metadata": {},
     "output_type": "execute_result"
    }
   ],
   "source": [
    "df1.shape"
   ]
  },
  {
   "cell_type": "markdown",
   "id": "821f9c21",
   "metadata": {},
   "source": [
    "We have removed outliers from the dataset. Let's check the correlation of the features."
   ]
  },
  {
   "cell_type": "markdown",
   "id": "6e8f003c",
   "metadata": {},
   "source": [
    "As per my observation ID feature does not contribute for predicting target variable. Let's drop that feature"
   ]
  },
  {
   "cell_type": "code",
   "execution_count": 33,
   "id": "dc998270",
   "metadata": {},
   "outputs": [],
   "source": [
    "df1.drop('ID',axis=1,inplace=True)"
   ]
  },
  {
   "cell_type": "code",
   "execution_count": 34,
   "id": "5df2a4aa",
   "metadata": {},
   "outputs": [
    {
     "data": {
      "image/png": "[encoded data removed]",
      "text/plain": [
       "<Figure size 864x1080 with 2 Axes>"
      ]
     },
     "metadata": {
      "needs_background": "light"
     },
     "output_type": "display_data"
    }
   ],
   "source": [
    "plt.figure(figsize=(12,15))\n",
    "sns.heatmap(df1.corr(),annot=True,fmt='.2f')\n",
    "plt.show()"
   ]
  },
  {
   "cell_type": "markdown",
   "id": "b960bee8",
   "metadata": {},
   "source": [
    "From the above we can observe all features are positivle and negatively correlated with target variable.\n",
    "\n",
    "pdays and previous are highly correlated with each other.\n",
    "\n",
    "pdays and previous are highly negatively correlated with poutcome.\n",
    "\n",
    "As, per my observation there is multi colliniearity problem. Let's confirm this by calculating vif value."
   ]
  },
  {
   "cell_type": "code",
   "execution_count": 35,
   "id": "20b73108",
   "metadata": {},
   "outputs": [],
   "source": [
    "x=df1.drop('subscribed',axis=1)\n",
    "y=df1['subscribed']"
   ]
  },
  {
   "cell_type": "code",
   "execution_count": 36,
   "id": "308d14a6",
   "metadata": {},
   "outputs": [
    {
     "data": {
      "text/plain": [
       "0    27649\n",
       "1     3525\n",
       "Name: subscribed, dtype: int64"
      ]
     },
     "execution_count": 36,
     "metadata": {},
     "output_type": "execute_result"
    }
   ],
   "source": [
    "y.value_counts()"
   ]
  },
  {
   "cell_type": "markdown",
   "id": "c71a9918",
   "metadata": {},
   "source": [
    "From the above we can observe there is class imbalance problem. Let's balance the data in the data set with the help of sampling techniques"
   ]
  },
  {
   "cell_type": "code",
   "execution_count": 37,
   "id": "4c74a6c7",
   "metadata": {},
   "outputs": [],
   "source": [
    "from statsmodels.stats.outliers_influence import variance_inflation_factor"
   ]
  },
  {
   "cell_type": "code",
   "execution_count": 38,
   "id": "ff0ab3a0",
   "metadata": {},
   "outputs": [
    {
     "data": {
      "text/html": [
       "<div>\n",
       "<style scoped>\n",
       "    .dataframe tbody tr th:only-of-type {\n",
       "        vertical-align: middle;\n",
       "    }\n",
       "\n",
       "    .dataframe tbody tr th {\n",
       "        vertical-align: top;\n",
       "    }\n",
       "\n",
       "    .dataframe thead th {\n",
       "        text-align: right;\n",
       "    }\n",
       "</style>\n",
       "<table border=\"1\" class=\"dataframe\">\n",
       "  <thead>\n",
       "    <tr style=\"text-align: right;\">\n",
       "      <th></th>\n",
       "      <th>Features</th>\n",
       "      <th>vif value</th>\n",
       "    </tr>\n",
       "  </thead>\n",
       "  <tbody>\n",
       "    <tr>\n",
       "      <th>0</th>\n",
       "      <td>age</td>\n",
       "      <td>71.227104</td>\n",
       "    </tr>\n",
       "    <tr>\n",
       "      <th>1</th>\n",
       "      <td>job</td>\n",
       "      <td>2.864876</td>\n",
       "    </tr>\n",
       "    <tr>\n",
       "      <th>2</th>\n",
       "      <td>marital</td>\n",
       "      <td>4.865509</td>\n",
       "    </tr>\n",
       "    <tr>\n",
       "      <th>3</th>\n",
       "      <td>education</td>\n",
       "      <td>3.870093</td>\n",
       "    </tr>\n",
       "    <tr>\n",
       "      <th>4</th>\n",
       "      <td>default</td>\n",
       "      <td>1.065136</td>\n",
       "    </tr>\n",
       "    <tr>\n",
       "      <th>5</th>\n",
       "      <td>balance</td>\n",
       "      <td>2.516360</td>\n",
       "    </tr>\n",
       "    <tr>\n",
       "      <th>6</th>\n",
       "      <td>housing</td>\n",
       "      <td>2.503136</td>\n",
       "    </tr>\n",
       "    <tr>\n",
       "      <th>7</th>\n",
       "      <td>loan</td>\n",
       "      <td>1.228377</td>\n",
       "    </tr>\n",
       "    <tr>\n",
       "      <th>8</th>\n",
       "      <td>contact</td>\n",
       "      <td>2.015741</td>\n",
       "    </tr>\n",
       "    <tr>\n",
       "      <th>9</th>\n",
       "      <td>day</td>\n",
       "      <td>4.700798</td>\n",
       "    </tr>\n",
       "    <tr>\n",
       "      <th>10</th>\n",
       "      <td>month</td>\n",
       "      <td>5.517203</td>\n",
       "    </tr>\n",
       "    <tr>\n",
       "      <th>11</th>\n",
       "      <td>duration</td>\n",
       "      <td>12.806354</td>\n",
       "    </tr>\n",
       "    <tr>\n",
       "      <th>12</th>\n",
       "      <td>campaign</td>\n",
       "      <td>2.414595</td>\n",
       "    </tr>\n",
       "    <tr>\n",
       "      <th>13</th>\n",
       "      <td>pdays</td>\n",
       "      <td>106.667498</td>\n",
       "    </tr>\n",
       "    <tr>\n",
       "      <th>14</th>\n",
       "      <td>previous</td>\n",
       "      <td>84.947171</td>\n",
       "    </tr>\n",
       "    <tr>\n",
       "      <th>15</th>\n",
       "      <td>poutcome</td>\n",
       "      <td>65.384168</td>\n",
       "    </tr>\n",
       "  </tbody>\n",
       "</table>\n",
       "</div>"
      ],
      "text/plain": [
       "     Features   vif value\n",
       "0         age   71.227104\n",
       "1         job    2.864876\n",
       "2     marital    4.865509\n",
       "3   education    3.870093\n",
       "4     default    1.065136\n",
       "5     balance    2.516360\n",
       "6     housing    2.503136\n",
       "7        loan    1.228377\n",
       "8     contact    2.015741\n",
       "9         day    4.700798\n",
       "10      month    5.517203\n",
       "11   duration   12.806354\n",
       "12   campaign    2.414595\n",
       "13      pdays  106.667498\n",
       "14   previous   84.947171\n",
       "15   poutcome   65.384168"
      ]
     },
     "execution_count": 38,
     "metadata": {},
     "output_type": "execute_result"
    }
   ],
   "source": [
    "Vif=pd.DataFrame()\n",
    "Vif['Features']=x.columns\n",
    "Vif['vif value']=[variance_inflation_factor(x,i) for i in range(x.shape[1])]\n",
    "Vif"
   ]
  },
  {
   "cell_type": "markdown",
   "id": "01a79a4d",
   "metadata": {},
   "source": [
    "From the above we can observe previous,pdays,poutcome,age  are having high value.\n",
    "Let's drop pdays feature and again check the values."
   ]
  },
  {
   "cell_type": "code",
   "execution_count": 39,
   "id": "ef7e7432",
   "metadata": {},
   "outputs": [],
   "source": [
    "x.drop('pdays',axis=1,inplace=True)"
   ]
  },
  {
   "cell_type": "code",
   "execution_count": 40,
   "id": "40c527af",
   "metadata": {},
   "outputs": [
    {
     "data": {
      "text/html": [
       "<div>\n",
       "<style scoped>\n",
       "    .dataframe tbody tr th:only-of-type {\n",
       "        vertical-align: middle;\n",
       "    }\n",
       "\n",
       "    .dataframe tbody tr th {\n",
       "        vertical-align: top;\n",
       "    }\n",
       "\n",
       "    .dataframe thead th {\n",
       "        text-align: right;\n",
       "    }\n",
       "</style>\n",
       "<table border=\"1\" class=\"dataframe\">\n",
       "  <thead>\n",
       "    <tr style=\"text-align: right;\">\n",
       "      <th></th>\n",
       "      <th>Features</th>\n",
       "      <th>vif value</th>\n",
       "    </tr>\n",
       "  </thead>\n",
       "  <tbody>\n",
       "    <tr>\n",
       "      <th>0</th>\n",
       "      <td>age</td>\n",
       "      <td>59.678858</td>\n",
       "    </tr>\n",
       "    <tr>\n",
       "      <th>1</th>\n",
       "      <td>job</td>\n",
       "      <td>2.861735</td>\n",
       "    </tr>\n",
       "    <tr>\n",
       "      <th>2</th>\n",
       "      <td>marital</td>\n",
       "      <td>4.773300</td>\n",
       "    </tr>\n",
       "    <tr>\n",
       "      <th>3</th>\n",
       "      <td>education</td>\n",
       "      <td>3.862501</td>\n",
       "    </tr>\n",
       "    <tr>\n",
       "      <th>4</th>\n",
       "      <td>default</td>\n",
       "      <td>1.065083</td>\n",
       "    </tr>\n",
       "    <tr>\n",
       "      <th>5</th>\n",
       "      <td>balance</td>\n",
       "      <td>2.516357</td>\n",
       "    </tr>\n",
       "    <tr>\n",
       "      <th>6</th>\n",
       "      <td>housing</td>\n",
       "      <td>2.498779</td>\n",
       "    </tr>\n",
       "    <tr>\n",
       "      <th>7</th>\n",
       "      <td>loan</td>\n",
       "      <td>1.226965</td>\n",
       "    </tr>\n",
       "    <tr>\n",
       "      <th>8</th>\n",
       "      <td>contact</td>\n",
       "      <td>2.015286</td>\n",
       "    </tr>\n",
       "    <tr>\n",
       "      <th>9</th>\n",
       "      <td>day</td>\n",
       "      <td>4.694448</td>\n",
       "    </tr>\n",
       "    <tr>\n",
       "      <th>10</th>\n",
       "      <td>month</td>\n",
       "      <td>5.506719</td>\n",
       "    </tr>\n",
       "    <tr>\n",
       "      <th>11</th>\n",
       "      <td>duration</td>\n",
       "      <td>12.788044</td>\n",
       "    </tr>\n",
       "    <tr>\n",
       "      <th>12</th>\n",
       "      <td>campaign</td>\n",
       "      <td>2.403868</td>\n",
       "    </tr>\n",
       "    <tr>\n",
       "      <th>13</th>\n",
       "      <td>previous</td>\n",
       "      <td>7.936732</td>\n",
       "    </tr>\n",
       "    <tr>\n",
       "      <th>14</th>\n",
       "      <td>poutcome</td>\n",
       "      <td>48.828136</td>\n",
       "    </tr>\n",
       "  </tbody>\n",
       "</table>\n",
       "</div>"
      ],
      "text/plain": [
       "     Features  vif value\n",
       "0         age  59.678858\n",
       "1         job   2.861735\n",
       "2     marital   4.773300\n",
       "3   education   3.862501\n",
       "4     default   1.065083\n",
       "5     balance   2.516357\n",
       "6     housing   2.498779\n",
       "7        loan   1.226965\n",
       "8     contact   2.015286\n",
       "9         day   4.694448\n",
       "10      month   5.506719\n",
       "11   duration  12.788044\n",
       "12   campaign   2.403868\n",
       "13   previous   7.936732\n",
       "14   poutcome  48.828136"
      ]
     },
     "execution_count": 40,
     "metadata": {},
     "output_type": "execute_result"
    }
   ],
   "source": [
    "Vif=pd.DataFrame()\n",
    "Vif['Features']=x.columns\n",
    "Vif['vif value']=[variance_inflation_factor(x,i) for i in range(x.shape[1])]\n",
    "Vif"
   ]
  },
  {
   "cell_type": "markdown",
   "id": "2064451b",
   "metadata": {},
   "source": [
    "Now, Vif values are reduced.\n",
    "age,poutcome features are high vif values.\n",
    "As per my observation from heatmap age and poutcome correlation values are in normal range. Let's continue further process for model building."
   ]
  },
  {
   "cell_type": "code",
   "execution_count": 41,
   "id": "335cc7d6",
   "metadata": {},
   "outputs": [
    {
     "data": {
      "text/plain": [
       "0    27649\n",
       "1    27649\n",
       "Name: subscribed, dtype: int64"
      ]
     },
     "execution_count": 41,
     "metadata": {},
     "output_type": "execute_result"
    }
   ],
   "source": [
    "from imblearn.over_sampling import SMOTE\n",
    "SM=SMOTE()\n",
    "x,y=SM.fit_resample(x,y)\n",
    "y.value_counts()"
   ]
  },
  {
   "cell_type": "markdown",
   "id": "7d2a8139",
   "metadata": {},
   "source": [
    "Let's standardize the data"
   ]
  },
  {
   "cell_type": "code",
   "execution_count": 42,
   "id": "d88c37e3",
   "metadata": {},
   "outputs": [],
   "source": [
    "from sklearn.preprocessing import StandardScaler"
   ]
  },
  {
   "cell_type": "code",
   "execution_count": 43,
   "id": "b757b40f",
   "metadata": {},
   "outputs": [],
   "source": [
    "scaler=StandardScaler()"
   ]
  },
  {
   "cell_type": "code",
   "execution_count": 44,
   "id": "e499af80",
   "metadata": {},
   "outputs": [],
   "source": [
    "x_scaled=scaler.fit_transform(x)"
   ]
  },
  {
   "cell_type": "markdown",
   "id": "5f7f9de2",
   "metadata": {},
   "source": [
    "Let's find out the best random state for the dataset"
   ]
  },
  {
   "cell_type": "code",
   "execution_count": 45,
   "id": "69fe5b9e",
   "metadata": {},
   "outputs": [],
   "source": [
    "from sklearn.ensemble import RandomForestClassifier\n",
    "from sklearn.metrics import accuracy_score\n",
    "from sklearn.model_selection import train_test_split"
   ]
  },
  {
   "cell_type": "code",
   "execution_count": 46,
   "id": "a4ed6727",
   "metadata": {},
   "outputs": [
    {
     "name": "stdout",
     "output_type": "stream",
     "text": [
      "Best Random State -  25  Accuracy score -  0.9447257383966244\n"
     ]
    }
   ],
   "source": [
    "max_acc=0\n",
    "max_rand_state=0\n",
    "for i in range(1,50):\n",
    "    x_train,x_test,y_train,y_test=train_test_split(x_scaled,y,test_size=0.30,random_state=i)\n",
    "    RFC=RandomForestClassifier()\n",
    "    RFC.fit(x_train,y_train)\n",
    "    y_predict=RFC.predict(x_test)\n",
    "    acc_score=accuracy_score(y_test,y_predict)\n",
    "    if(acc_score>max_acc):\n",
    "        max_acc=acc_score\n",
    "        max_rand_state=i\n",
    "        \n",
    "print(\"Best Random State - \",max_rand_state,\" Accuracy score - \",max_acc)        "
   ]
  },
  {
   "cell_type": "markdown",
   "id": "c12834f9",
   "metadata": {},
   "source": [
    "Best Random State is 42 and Accuracy score is 94.3%"
   ]
  },
  {
   "cell_type": "code",
   "execution_count": 47,
   "id": "42ef51da",
   "metadata": {},
   "outputs": [],
   "source": [
    "x_train,x_test,y_train,y_test=train_test_split(x_scaled,y,test_size=0.30,random_state=42)"
   ]
  },
  {
   "cell_type": "code",
   "execution_count": 48,
   "id": "9b4961b4",
   "metadata": {},
   "outputs": [],
   "source": [
    "from sklearn.linear_model import LogisticRegression\n",
    "from sklearn.tree import DecisionTreeClassifier\n",
    "from sklearn.neighbors import KNeighborsClassifier\n",
    "from sklearn.ensemble import AdaBoostClassifier,GradientBoostingClassifier,BaggingClassifier,RandomForestClassifier,ExtraTreesClassifier"
   ]
  },
  {
   "cell_type": "code",
   "execution_count": 49,
   "id": "c1ca6f7a",
   "metadata": {},
   "outputs": [
    {
     "name": "stdout",
     "output_type": "stream",
     "text": [
      "Accuracy Score  0.8501506931886679\n"
     ]
    }
   ],
   "source": [
    "LR=LogisticRegression()\n",
    "LR.fit(x_train,y_train)\n",
    "y_predict_LR=LR.predict(x_test)\n",
    "acc_score_LR=accuracy_score(y_test,y_predict_LR)\n",
    "print(\"Accuracy Score \",acc_score_LR)"
   ]
  },
  {
   "cell_type": "code",
   "execution_count": 50,
   "id": "fcae21ef",
   "metadata": {},
   "outputs": [
    {
     "name": "stdout",
     "output_type": "stream",
     "text": [
      "Accuracy Score  0.9029535864978903\n"
     ]
    }
   ],
   "source": [
    "DTC=DecisionTreeClassifier()\n",
    "DTC.fit(x_train,y_train)\n",
    "y_predict_DTC=DTC.predict(x_test)\n",
    "acc_score_DTC=accuracy_score(y_test,y_predict_DTC)\n",
    "print(\"Accuracy Score \",acc_score_DTC)"
   ]
  },
  {
   "cell_type": "code",
   "execution_count": 51,
   "id": "d0558491",
   "metadata": {},
   "outputs": [
    {
     "name": "stdout",
     "output_type": "stream",
     "text": [
      "Accuracy Score  0.8989752863170585\n"
     ]
    }
   ],
   "source": [
    "Knn=KNeighborsClassifier()\n",
    "Knn.fit(x_train,y_train)\n",
    "y_predict_Knn=Knn.predict(x_test)\n",
    "acc_score_Knn=accuracy_score(y_test,y_predict_Knn)\n",
    "print(\"Accuracy Score \",acc_score_Knn)"
   ]
  },
  {
   "cell_type": "code",
   "execution_count": 52,
   "id": "6a2f06f5",
   "metadata": {},
   "outputs": [
    {
     "name": "stdout",
     "output_type": "stream",
     "text": [
      "Accuracy Score  0.8989752863170585\n"
     ]
    }
   ],
   "source": [
    "ABC=AdaBoostClassifier()\n",
    "ABC.fit(x_train,y_train)\n",
    "y_predict_ABC=ABC.predict(x_test)\n",
    "acc_score_ABC=accuracy_score(y_test,y_predict_ABC)\n",
    "print(\"Accuracy Score \",acc_score_ABC)"
   ]
  },
  {
   "cell_type": "code",
   "execution_count": 53,
   "id": "edf10a9d",
   "metadata": {},
   "outputs": [
    {
     "name": "stdout",
     "output_type": "stream",
     "text": [
      "Accuracy Score  0.9142254370102472\n"
     ]
    }
   ],
   "source": [
    "GDT=GradientBoostingClassifier()\n",
    "GDT.fit(x_train,y_train)\n",
    "y_predict_GDT=GDT.predict(x_test)\n",
    "acc_score_GDT=accuracy_score(y_test,y_predict_GDT)\n",
    "print(\"Accuracy Score \",acc_score_GDT)"
   ]
  },
  {
   "cell_type": "code",
   "execution_count": 54,
   "id": "6b511794",
   "metadata": {},
   "outputs": [
    {
     "name": "stdout",
     "output_type": "stream",
     "text": [
      "Accuracy Score  0.9277878239903556\n"
     ]
    }
   ],
   "source": [
    "BC=BaggingClassifier()\n",
    "BC.fit(x_train,y_train)\n",
    "y_predict_BC=BC.predict(x_test)\n",
    "acc_score_BC=accuracy_score(y_test,y_predict_BC)\n",
    "print('Accuracy Score ',acc_score_BC)"
   ]
  },
  {
   "cell_type": "code",
   "execution_count": 55,
   "id": "98331635",
   "metadata": {},
   "outputs": [
    {
     "name": "stdout",
     "output_type": "stream",
     "text": [
      "accuracy score : 0.9403857745629898\n"
     ]
    }
   ],
   "source": [
    "RFC=RandomForestClassifier()\n",
    "RFC.fit(x_train,y_train)\n",
    "y_predict_RFC=RFC.predict(x_test)\n",
    "acc_score_RFC=accuracy_score(y_test,y_predict_RFC)\n",
    "print(\"accuracy score :\",acc_score_RFC)"
   ]
  },
  {
   "cell_type": "code",
   "execution_count": 56,
   "id": "3a56f77e",
   "metadata": {},
   "outputs": [
    {
     "name": "stdout",
     "output_type": "stream",
     "text": [
      "Accuracy Score  0.9431585292344786\n"
     ]
    }
   ],
   "source": [
    "ETC=ExtraTreesClassifier()\n",
    "ETC.fit(x_train,y_train)\n",
    "y_predict_ETC=ETC.predict(x_test)\n",
    "acc_score_ETC=accuracy_score(y_test,y_predict_ETC)\n",
    "print(\"Accuracy Score \",acc_score_ETC)"
   ]
  },
  {
   "cell_type": "markdown",
   "id": "5559be6a",
   "metadata": {},
   "source": [
    "From the above we can observe, ExtraTreesClassifier is exhibiting highest accuracy score of 94.3%. Let's check accuracy score provided by the model is due to overfitting of the model."
   ]
  },
  {
   "cell_type": "code",
   "execution_count": 57,
   "id": "5385067e",
   "metadata": {},
   "outputs": [],
   "source": [
    "from sklearn.model_selection import cross_val_score\n",
    "from sklearn.metrics import confusion_matrix,classification_report"
   ]
  },
  {
   "cell_type": "code",
   "execution_count": 58,
   "id": "3d28ccf3",
   "metadata": {},
   "outputs": [
    {
     "name": "stdout",
     "output_type": "stream",
     "text": [
      "score  [0.85705244 0.95895118 0.95352622 0.95786237 0.9530699 ]\n",
      "Mean  0.9360924219217424\n",
      "Difference is  0.0042933526412474166\n"
     ]
    }
   ],
   "source": [
    "score=cross_val_score(RFC,x,y)\n",
    "mean=score.mean()\n",
    "print(\"score \",score)\n",
    "print(\"Mean \",score.mean())\n",
    "print(\"Difference is \",acc_score_RFC-mean)"
   ]
  },
  {
   "cell_type": "code",
   "execution_count": 59,
   "id": "32860a47",
   "metadata": {},
   "outputs": [
    {
     "name": "stdout",
     "output_type": "stream",
     "text": [
      "Difference is  0.006268043053203498\n"
     ]
    }
   ],
   "source": [
    "score=cross_val_score(LR,x,y)\n",
    "mean=score.mean()\n",
    "print(\"Difference is \",acc_score_LR-mean)"
   ]
  },
  {
   "cell_type": "code",
   "execution_count": 60,
   "id": "bf2d02f8",
   "metadata": {},
   "outputs": [
    {
     "name": "stdout",
     "output_type": "stream",
     "text": [
      "Difference is  -0.020497462756748575\n"
     ]
    }
   ],
   "source": [
    "score=cross_val_score(Knn,x,y)\n",
    "mean=score.mean()\n",
    "print(\"Difference is \",acc_score_Knn-mean)"
   ]
  },
  {
   "cell_type": "code",
   "execution_count": 61,
   "id": "ea98b11f",
   "metadata": {},
   "outputs": [
    {
     "name": "stdout",
     "output_type": "stream",
     "text": [
      "Difference is  0.002829749645184898\n"
     ]
    }
   ],
   "source": [
    "score=cross_val_score(DTC,x,y)\n",
    "mean=score.mean()\n",
    "print(\"Difference is \",acc_score_DTC-mean)"
   ]
  },
  {
   "cell_type": "code",
   "execution_count": 62,
   "id": "14e6082a",
   "metadata": {},
   "outputs": [
    {
     "name": "stdout",
     "output_type": "stream",
     "text": [
      "Difference is  0.003123963686252784\n"
     ]
    }
   ],
   "source": [
    "score=cross_val_score(ETC,x,y)\n",
    "mean=score.mean()\n",
    "print(\"Difference is \",acc_score_ETC-mean)"
   ]
  },
  {
   "cell_type": "code",
   "execution_count": 63,
   "id": "35377977",
   "metadata": {},
   "outputs": [
    {
     "name": "stdout",
     "output_type": "stream",
     "text": [
      "Difference is  0.01120822879921668\n"
     ]
    }
   ],
   "source": [
    "score=cross_val_score(GDT,x,y)\n",
    "mean=score.mean()\n",
    "print(\"Difference is \",acc_score_GDT-mean)"
   ]
  },
  {
   "cell_type": "code",
   "execution_count": 64,
   "id": "e6f67fe8",
   "metadata": {},
   "outputs": [
    {
     "name": "stdout",
     "output_type": "stream",
     "text": [
      "Difference is  0.00792959468151555\n"
     ]
    }
   ],
   "source": [
    "score=cross_val_score(ABC,x,y)\n",
    "mean=score.mean()\n",
    "print(\"Difference is \",acc_score_ABC-mean)"
   ]
  },
  {
   "cell_type": "code",
   "execution_count": 65,
   "id": "78d0f1c1",
   "metadata": {},
   "outputs": [
    {
     "name": "stdout",
     "output_type": "stream",
     "text": [
      "Difference is  0.005565539995599167\n"
     ]
    }
   ],
   "source": [
    "score=cross_val_score(BC,x,y)\n",
    "mean=score.mean()\n",
    "print(\"Difference is \",acc_score_BC-mean)"
   ]
  },
  {
   "cell_type": "markdown",
   "id": "ee81690a",
   "metadata": {},
   "source": [
    "From the above we can observe DecisionTree Classifier is having less score compared to other models. Let's consider this model as best fit model for the given dataset.\n"
   ]
  },
  {
   "cell_type": "markdown",
   "id": "c30c062b",
   "metadata": {},
   "source": [
    "Let's tune the paramters and increase the accuracy score of the model"
   ]
  },
  {
   "cell_type": "code",
   "execution_count": 67,
   "id": "4cdc3500",
   "metadata": {},
   "outputs": [],
   "source": [
    "from sklearn.model_selection import GridSearchCV"
   ]
  },
  {
   "cell_type": "code",
   "execution_count": 68,
   "id": "71eb3201",
   "metadata": {},
   "outputs": [
    {
     "data": {
      "text/plain": [
       "GridSearchCV(estimator=DecisionTreeClassifier(), n_jobs=-1,\n",
       "             param_grid={'criterion': ['gini', 'entropy'],\n",
       "                         'max_depth': [15, 16, 17, 18, 19],\n",
       "                         'min_samples_leaf': [2, 3, 4],\n",
       "                         'min_samples_split': [6, 7, 8]})"
      ]
     },
     "execution_count": 68,
     "metadata": {},
     "output_type": "execute_result"
    }
   ],
   "source": [
    "param={'criterion':['gini','entropy'],\n",
    "      'max_depth':[15,16,17,18,19],\n",
    "      'min_samples_leaf':[2,3,4],\n",
    "      'min_samples_split':[6,7,8]}\n",
    "GSV=GridSearchCV(DTC,param_grid=param,n_jobs=-1)\n",
    "GSV.fit(x_train,y_train)"
   ]
  },
  {
   "cell_type": "code",
   "execution_count": 69,
   "id": "c99fc47a",
   "metadata": {},
   "outputs": [
    {
     "data": {
      "text/plain": [
       "{'criterion': 'gini',\n",
       " 'max_depth': 15,\n",
       " 'min_samples_leaf': 2,\n",
       " 'min_samples_split': 8}"
      ]
     },
     "execution_count": 69,
     "metadata": {},
     "output_type": "execute_result"
    }
   ],
   "source": [
    "GSV.best_params_"
   ]
  },
  {
   "cell_type": "code",
   "execution_count": 84,
   "id": "3668d3b5",
   "metadata": {},
   "outputs": [
    {
     "name": "stdout",
     "output_type": "stream",
     "text": [
      "Accuracy score -  0.9015672091621458\n"
     ]
    }
   ],
   "source": [
    "Best_model=DecisionTreeClassifier(criterion='gini',max_depth=20,min_samples_leaf=2,min_samples_split=7)\n",
    "Best_model.fit(x_train,y_train)\n",
    "y_predict=Best_model.predict(x_test)\n",
    "acc=accuracy_score(y_test,y_predict)\n",
    "print(\"Accuracy score - \",acc)"
   ]
  },
  {
   "cell_type": "markdown",
   "id": "1809849b",
   "metadata": {},
   "source": [
    "After trying multpile values for parameters of DecisionClassifier, model is unable to provide accuracy score higher than default parameters. Let's consider default parameters only.\n",
    "Let's generate confusion matrix and accuracy score."
   ]
  },
  {
   "cell_type": "code",
   "execution_count": 85,
   "id": "762593a8",
   "metadata": {},
   "outputs": [
    {
     "name": "stdout",
     "output_type": "stream",
     "text": [
      "confusion_matrix\n",
      " [[7436  850]\n",
      " [ 760 7544]]\n"
     ]
    }
   ],
   "source": [
    "print(\"confusion_matrix\\n\",confusion_matrix(y_test,y_predict_DTC))"
   ]
  },
  {
   "cell_type": "code",
   "execution_count": 86,
   "id": "e4983c3f",
   "metadata": {},
   "outputs": [
    {
     "name": "stdout",
     "output_type": "stream",
     "text": [
      "classification report \n",
      "               precision    recall  f1-score   support\n",
      "\n",
      "           0       0.91      0.90      0.90      8286\n",
      "           1       0.90      0.91      0.90      8304\n",
      "\n",
      "    accuracy                           0.90     16590\n",
      "   macro avg       0.90      0.90      0.90     16590\n",
      "weighted avg       0.90      0.90      0.90     16590\n",
      "\n"
     ]
    }
   ],
   "source": [
    "print(\"classification report \\n\",classification_report(y_test,y_predict_DTC))"
   ]
  },
  {
   "cell_type": "markdown",
   "id": "52912bc2",
   "metadata": {},
   "source": [
    "Let's generate ROC curve "
   ]
  },
  {
   "cell_type": "code",
   "execution_count": 88,
   "id": "3cbbacd4",
   "metadata": {},
   "outputs": [],
   "source": [
    "from sklearn.metrics import roc_curve,roc_auc_score\n"
   ]
  },
  {
   "cell_type": "code",
   "execution_count": 89,
   "id": "87d5eeee",
   "metadata": {},
   "outputs": [
    {
     "name": "stdout",
     "output_type": "stream",
     "text": [
      "fpr  [0.         0.10258267 1.        ] \n",
      " tpr  [0.         0.90847784 1.        ] \n",
      " treshold  [2 1 0] \n",
      "\n"
     ]
    }
   ],
   "source": [
    "fpr,tpr,treshold=roc_curve(y_test,y_predict_DTC)\n",
    "print(\"fpr \",fpr,\"\\n\",\"tpr \",tpr,\"\\n\",\"treshold \",treshold,\"\\n\")"
   ]
  },
  {
   "cell_type": "code",
   "execution_count": 90,
   "id": "e66f0a87",
   "metadata": {},
   "outputs": [
    {
     "data": {
      "image/png": "[encoded data removed]",
      "text/plain": [
       "<Figure size 432x288 with 1 Axes>"
      ]
     },
     "metadata": {
      "needs_background": "light"
     },
     "output_type": "display_data"
    }
   ],
   "source": [
    "plt.plot(fpr,tpr,color='darkblue')\n",
    "plt.plot([0,1],[0,1],color='red',linestyle='--')\n",
    "plt.xlabel('fpr')\n",
    "plt.ylabel('tpr')\n",
    "plt.title('ROC Curve')\n",
    "plt.show()"
   ]
  },
  {
   "cell_type": "code",
   "execution_count": 91,
   "id": "2709db18",
   "metadata": {},
   "outputs": [
    {
     "name": "stdout",
     "output_type": "stream",
     "text": [
      "Area under the curve is  0.9029475862203676\n"
     ]
    }
   ],
   "source": [
    "roc_auc=roc_auc_score(y_test,y_predict_DTC)\n",
    "print('Area under the curve is ',roc_auc)"
   ]
  },
  {
   "cell_type": "code",
   "execution_count": 92,
   "id": "a2b18b51",
   "metadata": {},
   "outputs": [],
   "source": [
    "import pickle\n",
    "file_name='Bank_application'\n",
    "pickle.dump(DTC,open(file_name,'wb'))"
   ]
  },
  {
   "cell_type": "code",
   "execution_count": null,
   "id": "8b21d9f4",
   "metadata": {},
   "outputs": [],
   "source": []
  }
 ],
 "metadata": {
  "kernelspec": {
   "display_name": "Python 3 (ipykernel)",
   "language": "python",
   "name": "python3"
  },
  "language_info": {
   "codemirror_mode": {
    "name": "ipython",
    "version": 3
   },
   "file_extension": ".py",
   "mimetype": "text/x-python",
   "name": "python",
   "nbconvert_exporter": "python",
   "pygments_lexer": "ipython3",
   "version": "3.9.12"
  }
 },
 "nbformat": 4,
 "nbformat_minor": 5
}
